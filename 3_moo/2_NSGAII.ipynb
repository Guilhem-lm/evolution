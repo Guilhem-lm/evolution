{
 "cells": [
  {
   "cell_type": "markdown",
   "metadata": {
    "slideshow": {
     "slide_type": "slide"
    }
   },
   "source": [
    "<img src=\"../imgs/logo.png\" width=\"20%\" align=\"right\" style=\"margin:0px 20px\">\n",
    "\n",
    "\n",
    "# Evolutionary Computation\n",
    "\n",
    "## 3.2 NSGA-II\n",
    "\n",
    "<a rel=\"license\" href=\"http://creativecommons.org/licenses/by-sa/4.0/\"><img alt=\"Creative Commons License\" align=\"left\" src=\"https://i.creativecommons.org/l/by-sa/4.0/80x15.png\" /></a>&nbsp;| Dennis G. Wilson | <a href=\"https://d9w.github.io/evolution/\">https://d9w.github.io/evolution/</a>"
   ]
  },
  {
   "cell_type": "markdown",
   "metadata": {
    "slideshow": {
     "slide_type": "slide"
    }
   },
   "source": [
    "## Outline\n",
    "\n",
    "1. [The Knapsack Problem](#knapsack)\n",
    "2. [Evolution](#evolution)\n",
    "3. [Visualization](#visualization)"
   ]
  },
  {
   "cell_type": "code",
   "execution_count": 2,
   "metadata": {
    "slideshow": {
     "slide_type": "slide"
    }
   },
   "outputs": [],
   "source": [
    "using NSGAII\n",
    "using JuMP, Cbc\n",
    "using Plots\n",
    "default(show=:ijulia)"
   ]
  },
  {
   "cell_type": "markdown",
   "metadata": {
    "slideshow": {
     "slide_type": "fragment"
    }
   },
   "source": [
    "To experiment with NSGAII we'll be using a rather new implementation of it from Github: https://github.com/gsoleilhac/NSGAII.jl/.\n",
    "\n",
    "This implementation isn't so complicated and if we look at the code, we can see that much of it resembles our [notebook code](https://github.com/d9w/evolution/blob/master/2_ga/1_GAs.ipynb) on Genetic Algorithms. Let's look at the [functions](https://github.com/gsoleilhac/NSGAII.jl/blob/master/src/functions.jl) code which contains the main Genetic Algorithm loop, as well as the [NSGA-II](http://repository.ias.ac.in/83498/1/2-a.pdf) Fast Non-Dominated Sort and Crowding Distance Algorithm."
   ]
  },
  {
   "cell_type": "markdown",
   "metadata": {
    "slideshow": {
     "slide_type": "slide"
    }
   },
   "source": [
    "## <a id=\"knapsack\"></a>The Knapsack Problem"
   ]
  },
  {
   "cell_type": "markdown",
   "metadata": {
    "slideshow": {
     "slide_type": "fragment"
    }
   },
   "source": [
    "<img src=\"https://imgs.xkcd.com/comics/np_complete.png\">\n",
    "<div style=\"text-align:center\"><a href=\"https://xkcd.com/287/\">XKCD on the Knapsack Problem</a></div>\n"
   ]
  },
  {
   "cell_type": "markdown",
   "metadata": {
    "slideshow": {
     "slide_type": "slide"
    }
   },
   "source": [
    "Imagine we're travelling and our bag has a maximum weight limit. We want to fill this bag with items of different value and maximize the total value in our bag, as long as it stays in the weight limit. This is known as the \"knapsack problem\".\n",
    "<img src=\"../imgs/knapsack.png\" width=\"30%\" height=\"auto\">\n",
    "Instead of a bag with items, you could imagine a scenario like the comic. You want to order different appetizers, but you only want to spend a fixed maximum amount. How can you get the best appetizers?"
   ]
  },
  {
   "cell_type": "markdown",
   "metadata": {
    "slideshow": {
     "slide_type": "slide"
    }
   },
   "source": [
    "Let's look at an example, specifically using the version of the Knapsack problem known as the \"0-1 knapsack problem\" where we can have at most 1 copy of each item. We'll use 5 items and randomly geneate values for them."
   ]
  },
  {
   "cell_type": "code",
   "execution_count": 3,
   "metadata": {
    "slideshow": {
     "slide_type": "fragment"
    }
   },
   "outputs": [
    {
     "name": "stdout",
     "output_type": "stream",
     "text": [
      "[49, 67, 7, 99, 36] total value: 258\n"
     ]
    }
   ],
   "source": [
    "n = 5\n",
    "values = rand(0:100, n)\n",
    "println(values, \" total value: \", sum(values))"
   ]
  },
  {
   "cell_type": "code",
   "execution_count": 4,
   "metadata": {
    "slideshow": {
     "slide_type": "fragment"
    }
   },
   "outputs": [
    {
     "name": "stdout",
     "output_type": "stream",
     "text": [
      "[17, 18, 20, 17, 10] total weight: 82\n"
     ]
    }
   ],
   "source": [
    "weights = rand(10:20, n)\n",
    "max_weight = 55\n",
    "println(weights, \" total weight: \", sum(weights))"
   ]
  },
  {
   "cell_type": "markdown",
   "metadata": {
    "slideshow": {
     "slide_type": "fragment"
    }
   },
   "source": [
    "We won't be able to take all items because of the maximum weight of 55. We'll express our choice of items using a binary string, 1 if we take the item and 0 otherwise."
   ]
  },
  {
   "cell_type": "code",
   "execution_count": 5,
   "metadata": {
    "slideshow": {
     "slide_type": "fragment"
    }
   },
   "outputs": [
    {
     "name": "stdout",
     "output_type": "stream",
     "text": [
      "Bool[0, 0, 1, 0, 0]\n"
     ]
    }
   ],
   "source": [
    "using Random: bitrand\n",
    "choices = bitrand(n)\n",
    "println(choices)"
   ]
  },
  {
   "cell_type": "markdown",
   "metadata": {
    "slideshow": {
     "slide_type": "slide"
    }
   },
   "source": [
    "The total value of our knapsack is therefore the sum of the element-wise multiplication of our choices and the individual item values."
   ]
  },
  {
   "cell_type": "code",
   "execution_count": 6,
   "metadata": {
    "slideshow": {
     "slide_type": "fragment"
    }
   },
   "outputs": [
    {
     "data": {
      "text/plain": [
       "7"
      ]
     },
     "execution_count": 6,
     "metadata": {},
     "output_type": "execute_result"
    }
   ],
   "source": [
    "sum(choices .* values)"
   ]
  },
  {
   "cell_type": "markdown",
   "metadata": {
    "slideshow": {
     "slide_type": "fragment"
    }
   },
   "source": [
    "In other words, the dot product of the two vectors."
   ]
  },
  {
   "cell_type": "code",
   "execution_count": 7,
   "metadata": {
    "slideshow": {
     "slide_type": "fragment"
    }
   },
   "outputs": [
    {
     "data": {
      "text/plain": [
       "7"
      ]
     },
     "execution_count": 7,
     "metadata": {},
     "output_type": "execute_result"
    }
   ],
   "source": [
    "using LinearAlgebra: dot\n",
    "dot(choices, values)"
   ]
  },
  {
   "cell_type": "markdown",
   "metadata": {
    "slideshow": {
     "slide_type": "fragment"
    }
   },
   "source": [
    "We can also use the dot product to check if our choices fall under the weight limit"
   ]
  },
  {
   "cell_type": "code",
   "execution_count": 8,
   "metadata": {
    "slideshow": {
     "slide_type": "fragment"
    }
   },
   "outputs": [
    {
     "data": {
      "text/plain": [
       "(20, 55)"
      ]
     },
     "execution_count": 8,
     "metadata": {},
     "output_type": "execute_result"
    }
   ],
   "source": [
    "dot(choices, weights), max_weight"
   ]
  },
  {
   "cell_type": "markdown",
   "metadata": {
    "slideshow": {
     "slide_type": "slide"
    }
   },
   "source": [
    "Let's say you and a friend are travelling together and to make it cheaper, you're sharing a bag. You and your friend assign different values to each item based on what you want to bring on the trip. Your preferences are in `values` and your friends preferences are:"
   ]
  },
  {
   "cell_type": "code",
   "execution_count": 9,
   "metadata": {
    "slideshow": {
     "slide_type": "fragment"
    }
   },
   "outputs": [
    {
     "name": "stdout",
     "output_type": "stream",
     "text": [
      "You:\t[49, 67, 7, 99, 36] total value: 258\n",
      "Friend:\t[67, 36, 47, 29, 16] total value: 195\n"
     ]
    }
   ],
   "source": [
    "values2 = rand(0:100, n)\n",
    "println(\"You:\\t\", values, \" total value: \", sum(values))\n",
    "println(\"Friend:\\t\", values2, \" total value: \", sum(values2))"
   ]
  },
  {
   "cell_type": "markdown",
   "metadata": {
    "slideshow": {
     "slide_type": "fragment"
    }
   },
   "source": [
    "Let's see who is happier with the choices we made"
   ]
  },
  {
   "cell_type": "code",
   "execution_count": 10,
   "metadata": {
    "slideshow": {
     "slide_type": "fragment"
    }
   },
   "outputs": [
    {
     "name": "stdout",
     "output_type": "stream",
     "text": [
      "Bool[0, 1, 1, 1, 0]\n",
      "weight: 55\n",
      "You: 173 Friend: 112\n"
     ]
    }
   ],
   "source": [
    "choices = bitrand(n)\n",
    "println(choices)\n",
    "println(\"weight: \", dot(choices, weights))\n",
    "println(\"You: \", dot(choices, values), \" Friend: \", dot(choices, values2))"
   ]
  },
  {
   "cell_type": "markdown",
   "metadata": {
    "slideshow": {
     "slide_type": "fragment"
    }
   },
   "source": [
    "This is the multi-objective version of the Knapsack problem where we use $K$ different value vectors for $K$ objectives."
   ]
  },
  {
   "cell_type": "markdown",
   "metadata": {
    "slideshow": {
     "slide_type": "slide"
    }
   },
   "source": [
    "[The Knapsack problem](https://en.wikipedia.org/wiki/Knapsack_problem) has been thoroughly studied in theoretical computer science and evolutionary computation is not the only choice for solving it; dynamic programming and mixed integer programming are what [JuMP](https://github.com/JuliaOpt/JuMP.jl), an optimization library, uses."
   ]
  },
  {
   "cell_type": "code",
   "execution_count": 11,
   "metadata": {
    "slideshow": {
     "slide_type": "fragment"
    }
   },
   "outputs": [
    {
     "ename": "LoadError",
     "evalue": "`CbcSolver` is no longer supported. If you are using JuMP, upgrade to the\nlatest version and use `Cbc.Optimizer` instead. If you are using\nMathProgBase (e.g., via `lingprog`), you will need to upgrade to\nMathOptInterface (https://github.com/jump-dev/MathOptInterface.jl).\n",
     "output_type": "error",
     "traceback": [
      "`CbcSolver` is no longer supported. If you are using JuMP, upgrade to the\nlatest version and use `Cbc.Optimizer` instead. If you are using\nMathProgBase (e.g., via `lingprog`), you will need to upgrade to\nMathOptInterface (https://github.com/jump-dev/MathOptInterface.jl).\n",
      "",
      "Stacktrace:",
      " [1] error(s::String)",
      "   @ Base ./error.jl:33",
      " [2] CbcSolver(; kwargs::Base.Iterators.Pairs{Union{}, Union{}, Tuple{}, NamedTuple{(), Tuple{}}})",
      "   @ Cbc ~/.julia/packages/Cbc/JdG60/src/Cbc.jl:60",
      " [3] CbcSolver()",
      "   @ Cbc ~/.julia/packages/Cbc/JdG60/src/Cbc.jl:60",
      " [4] top-level scope",
      "   @ In[11]:2",
      " [5] eval",
      "   @ ./boot.jl:360 [inlined]",
      " [6] include_string(mapexpr::typeof(REPL.softscope), mod::Module, code::String, filename::String)",
      "   @ Base ./loading.jl:1094"
     ]
    }
   ],
   "source": [
    "# Note that this uses JuMP 0.18.6 format, different in JuMP 0.19\n",
    "m = Model(solver=CbcSolver())\n",
    "@variable(m, x[1:n], Bin)\n",
    "# Objective: maximize profit\n",
    "@objective(m, Max, dot(values, x))\n",
    "@objective(m, Max, dot(values2, x))\n",
    "# Constraint: can carry all\n",
    "@constraint(m, dot(weights, x) <= max_weight)\n",
    "# Solve problem using MIP solver\n",
    "status = solve(m);"
   ]
  },
  {
   "cell_type": "code",
   "execution_count": 12,
   "metadata": {
    "slideshow": {
     "slide_type": "fragment"
    }
   },
   "outputs": [
    {
     "ename": "LoadError",
     "evalue": "UndefVarError: m not defined",
     "output_type": "error",
     "traceback": [
      "UndefVarError: m not defined",
      "",
      "Stacktrace:",
      " [1] top-level scope",
      "   @ In[12]:1",
      " [2] eval",
      "   @ ./boot.jl:360 [inlined]",
      " [3] include_string(mapexpr::typeof(REPL.softscope), mod::Module, code::String, filename::String)",
      "   @ Base ./loading.jl:1094"
     ]
    }
   ],
   "source": [
    "println(\"Objective is: \", getobjectivevalue(m))\n",
    "println(\"Solution is:\")\n",
    "for i = 1:5\n",
    "    print(\"x[$i] = \", getvalue(x[i]))\n",
    "    print(\", p[$i]/w[$i] = \", values[i]/weights[i])\n",
    "    println(\", p[$i]/w[$i] = \", values2[i]/weights[i])\n",
    "end"
   ]
  },
  {
   "cell_type": "markdown",
   "metadata": {
    "slideshow": {
     "slide_type": "slide"
    }
   },
   "source": [
    "## <a id=\"evolution\"></a>Evolution"
   ]
  },
  {
   "cell_type": "markdown",
   "metadata": {
    "slideshow": {
     "slide_type": "fragment"
    }
   },
   "source": [
    "To apply NSGA-II to this problem, let's scale up the number of items to 100. "
   ]
  },
  {
   "cell_type": "code",
   "execution_count": 13,
   "metadata": {
    "slideshow": {
     "slide_type": "fragment"
    }
   },
   "outputs": [
    {
     "data": {
      "text/plain": [
       "100×2 Matrix{Float64}:\n",
       " 0.523931   0.339684\n",
       " 0.440581   0.0730435\n",
       " 0.331449   0.146312\n",
       " 0.486167   0.58817\n",
       " 0.247404   0.533091\n",
       " 0.483172   0.800114\n",
       " 0.72487    0.640356\n",
       " 0.918122   0.455497\n",
       " 0.332288   0.158141\n",
       " 0.86056    0.418409\n",
       " 0.322187   0.13511\n",
       " 0.361955   0.131789\n",
       " 0.614639   0.352199\n",
       " ⋮          \n",
       " 0.72296    0.941088\n",
       " 0.871349   0.147584\n",
       " 0.30176    0.405502\n",
       " 0.725276   0.626375\n",
       " 0.434234   0.313953\n",
       " 0.368029   0.328423\n",
       " 0.0806044  0.177472\n",
       " 0.20952    0.769398\n",
       " 0.743412   0.852163\n",
       " 0.464327   0.871119\n",
       " 0.0342135  0.0511063\n",
       " 0.0558351  0.486794"
      ]
     },
     "execution_count": 13,
     "metadata": {},
     "output_type": "execute_result"
    }
   ],
   "source": [
    "n = 100\n",
    "n_objectives = 2\n",
    "values = rand(n, n_objectives)"
   ]
  },
  {
   "cell_type": "markdown",
   "metadata": {
    "slideshow": {
     "slide_type": "slide"
    }
   },
   "source": [
    "Let's normalize our fitness values by their sum, so that the total maximum value is 1.0 which will help with plotting later."
   ]
  },
  {
   "cell_type": "code",
   "execution_count": 14,
   "metadata": {
    "slideshow": {
     "slide_type": "fragment"
    }
   },
   "outputs": [
    {
     "data": {
      "text/plain": [
       "1×2 Matrix{Float64}:\n",
       " 1.0  1.0"
      ]
     },
     "execution_count": 14,
     "metadata": {},
     "output_type": "execute_result"
    }
   ],
   "source": [
    "values = values ./ sum(values, dims=1);\n",
    "sum(values, dims=1)"
   ]
  },
  {
   "cell_type": "markdown",
   "metadata": {
    "slideshow": {
     "slide_type": "slide"
    }
   },
   "source": [
    "Similarly, let's normalize the weights to sum to 1 and set a maximum weight of 0.5, meaning we can keep only half the items on average. This will let us change the number of items more easily later on but doesn't impact the problem in any way."
   ]
  },
  {
   "cell_type": "code",
   "execution_count": 15,
   "metadata": {
    "slideshow": {
     "slide_type": "fragment"
    }
   },
   "outputs": [
    {
     "data": {
      "text/plain": [
       "0.5"
      ]
     },
     "execution_count": 15,
     "metadata": {},
     "output_type": "execute_result"
    }
   ],
   "source": [
    "weights = rand(n)\n",
    "weights = weights ./ sum(weights)\n",
    "max_weight = 0.5"
   ]
  },
  {
   "cell_type": "markdown",
   "metadata": {
    "slideshow": {
     "slide_type": "slide"
    }
   },
   "source": [
    "Let's write our objective function which will compute the value of our knapsack using each different column of profit values."
   ]
  },
  {
   "cell_type": "code",
   "execution_count": 16,
   "metadata": {
    "slideshow": {
     "slide_type": "fragment"
    }
   },
   "outputs": [
    {
     "data": {
      "text/plain": [
       "objective (generic function with 1 method)"
      ]
     },
     "execution_count": 16,
     "metadata": {},
     "output_type": "execute_result"
    }
   ],
   "source": [
    "function objective(genes::AbstractArray)\n",
    "    fits = zeros(n_objectives)\n",
    "    for i in 1:n_objectives\n",
    "        fits[i] = dot(genes, values[:, i])\n",
    "    end\n",
    "    tuple(fits...)\n",
    "end"
   ]
  },
  {
   "cell_type": "markdown",
   "metadata": {
    "slideshow": {
     "slide_type": "slide"
    }
   },
   "source": [
    "We'll add in our weight constraint separately. This is used in the evaluation of individuals and is considered a part of our objective function, but is handled separately. Our lecture on evolution with constraints will go into more detail on that. For this NSGA-II implementation, we return 0 if the condition passes and the distance from meeting the condition otherwise."
   ]
  },
  {
   "cell_type": "code",
   "execution_count": 17,
   "metadata": {
    "slideshow": {
     "slide_type": "fragment"
    }
   },
   "outputs": [
    {
     "data": {
      "text/plain": [
       "constraint (generic function with 1 method)"
      ]
     },
     "execution_count": 17,
     "metadata": {},
     "output_type": "execute_result"
    }
   ],
   "source": [
    "function constraint(genes::AbstractArray)\n",
    "    sum_weights = dot(genes, weights)\n",
    "    return sum_weights <= max_weight ? 0 : sum_weights - max_weight\n",
    "end"
   ]
  },
  {
   "cell_type": "markdown",
   "metadata": {
    "slideshow": {
     "slide_type": "slide"
    }
   },
   "source": [
    "That's all, so now we're ready to run NSGA-II. Let's run it for 100 generations on a population of 100. The function returns the set of non-dominated individuals at the end"
   ]
  },
  {
   "cell_type": "code",
   "execution_count": 18,
   "metadata": {
    "slideshow": {
     "slide_type": "fragment"
    }
   },
   "outputs": [
    {
     "data": {
      "text/plain": [
       "indiv([010101111100011...111111111001100] : (0.7433163161088701, 0.7368518177551369) | rank : 1)"
      ]
     },
     "execution_count": 18,
     "metadata": {},
     "output_type": "execute_result"
    }
   ],
   "source": [
    "popsize = 100\n",
    "nbgen = 100\n",
    "init() = bitrand(n)\n",
    "non_dominated =  nsga_max(popsize, nbgen, objective, init, fCV=constraint)\n",
    "non_dominated[1]"
   ]
  },
  {
   "cell_type": "markdown",
   "metadata": {
    "slideshow": {
     "slide_type": "slide"
    }
   },
   "source": [
    "Let's see what type of total profit values we have from our two objectives."
   ]
  },
  {
   "cell_type": "code",
   "execution_count": 22,
   "metadata": {
    "slideshow": {
     "slide_type": "fragment"
    }
   },
   "outputs": [
    {
     "data": {
      "text/plain": [
       "11-element Array{Array{Float64,1},1}:\n",
       " [0.7070360461751031, 0.7623669176804566]\n",
       " [0.7645615909501036, 0.7236632142695956]\n",
       " [0.7534426559414977, 0.7356248830288905]\n",
       " [0.7370830324997149, 0.7482505272204969]\n",
       " [0.7462262520849618, 0.7427813211767351]\n",
       " [0.7304502671412842, 0.7574808758956437]\n",
       " [0.7187745960830789, 0.7603366500923863]\n",
       " [0.7331778574555969, 0.7522816880446332]\n",
       " [0.748785606006426, 0.7383627689885042]\n",
       " [0.7522629689950433, 0.7381398492974101]\n",
       " [0.7337769099123841, 0.7484472583085675]"
      ]
     },
     "execution_count": 22,
     "metadata": {},
     "output_type": "execute_result"
    }
   ],
   "source": [
    "unique([collect(i.y) for i in non_dominated])"
   ]
  },
  {
   "cell_type": "markdown",
   "metadata": {
    "slideshow": {
     "slide_type": "slide"
    }
   },
   "source": [
    "Finally, we can compare this value to a value obtained by JuMP"
   ]
  },
  {
   "cell_type": "code",
   "execution_count": 23,
   "metadata": {
    "slideshow": {
     "slide_type": "fragment"
    }
   },
   "outputs": [
    {
     "name": "stdout",
     "output_type": "stream",
     "text": [
      "JuMP: 0.6137428401634349 0.8500114471023089\n"
     ]
    }
   ],
   "source": [
    "m = Model(solver=CbcSolver())\n",
    "@variable(m, x[1:n], Bin)\n",
    "@objective(m, Max, dot(values[:, 1], x))\n",
    "@objective(m, Max, dot(values[:, 2], x))\n",
    "@constraint(m, dot(weights, x) <= max_weight)\n",
    "status = solve(m)\n",
    "best_solution = [getvalue(x[i]) for i in 1:n]\n",
    "println(\"JuMP: \", dot(values[:, 1], best_solution), \" \", dot(values[:, 2], best_solution))"
   ]
  },
  {
   "cell_type": "markdown",
   "metadata": {
    "slideshow": {
     "slide_type": "slide"
    }
   },
   "source": [
    "<div class=\"alert alert-success\">\n",
    "    <b>Exercise 2</b>\n",
    "    <br/>\n",
    "    Increase the problem difficulty by increasing the number of items and reducing the weight limit. How does NSGA-II do?\n",
    "    <br/>\n",
    "</div>"
   ]
  },
  {
   "cell_type": "markdown",
   "metadata": {
    "slideshow": {
     "slide_type": "slide"
    }
   },
   "source": [
    "## <a id=\"visualization\"></a>Visualization"
   ]
  },
  {
   "cell_type": "markdown",
   "metadata": {
    "slideshow": {
     "slide_type": "fragment"
    }
   },
   "source": [
    "To better understand NSGA-II's evolution, let's observe the population over time."
   ]
  },
  {
   "cell_type": "code",
   "execution_count": 19,
   "metadata": {
    "slideshow": {
     "slide_type": "slide"
    }
   },
   "outputs": [
    {
     "data": {
      "image/svg+xml": [
       "<?xml version=\"1.0\" encoding=\"utf-8\"?>\n",
       "<svg xmlns=\"http://www.w3.org/2000/svg\" xmlns:xlink=\"http://www.w3.org/1999/xlink\" width=\"600\" height=\"400\" viewBox=\"0 0 2400 1600\">\n",
       "<defs>\n",
       "  <clipPath id=\"clip5500\">\n",
       "    <rect x=\"0\" y=\"0\" width=\"2400\" height=\"1600\"/>\n",
       "  </clipPath>\n",
       "</defs>\n",
       "<path clip-path=\"url(#clip5500)\" d=\"\n",
       "M0 1600 L2400 1600 L2400 0 L0 0  Z\n",
       "  \" fill=\"#ffffff\" fill-rule=\"evenodd\" fill-opacity=\"1\"/>\n",
       "<defs>\n",
       "  <clipPath id=\"clip5501\">\n",
       "    <rect x=\"480\" y=\"0\" width=\"1681\" height=\"1600\"/>\n",
       "  </clipPath>\n",
       "</defs>\n",
       "<path clip-path=\"url(#clip5500)\" d=\"\n",
       "M148.334 1486.45 L2352.76 1486.45 L2352.76 47.2441 L148.334 47.2441  Z\n",
       "  \" fill=\"#ffffff\" fill-rule=\"evenodd\" fill-opacity=\"1\"/>\n",
       "<defs>\n",
       "  <clipPath id=\"clip5502\">\n",
       "    <rect x=\"148\" y=\"47\" width=\"2205\" height=\"1440\"/>\n",
       "  </clipPath>\n",
       "</defs>\n",
       "<polyline clip-path=\"url(#clip5502)\" style=\"stroke:#000000; stroke-width:2; stroke-opacity:0.1; fill:none\" points=\"\n",
       "  148.334,1486.45 148.334,47.2441 \n",
       "  \"/>\n",
       "<polyline clip-path=\"url(#clip5502)\" style=\"stroke:#000000; stroke-width:2; stroke-opacity:0.1; fill:none\" points=\"\n",
       "  589.219,1486.45 589.219,47.2441 \n",
       "  \"/>\n",
       "<polyline clip-path=\"url(#clip5502)\" style=\"stroke:#000000; stroke-width:2; stroke-opacity:0.1; fill:none\" points=\"\n",
       "  1030.1,1486.45 1030.1,47.2441 \n",
       "  \"/>\n",
       "<polyline clip-path=\"url(#clip5502)\" style=\"stroke:#000000; stroke-width:2; stroke-opacity:0.1; fill:none\" points=\"\n",
       "  1470.99,1486.45 1470.99,47.2441 \n",
       "  \"/>\n",
       "<polyline clip-path=\"url(#clip5502)\" style=\"stroke:#000000; stroke-width:2; stroke-opacity:0.1; fill:none\" points=\"\n",
       "  1911.87,1486.45 1911.87,47.2441 \n",
       "  \"/>\n",
       "<polyline clip-path=\"url(#clip5502)\" style=\"stroke:#000000; stroke-width:2; stroke-opacity:0.1; fill:none\" points=\"\n",
       "  2352.76,1486.45 2352.76,47.2441 \n",
       "  \"/>\n",
       "<polyline clip-path=\"url(#clip5502)\" style=\"stroke:#000000; stroke-width:2; stroke-opacity:0.1; fill:none\" points=\"\n",
       "  148.334,1486.45 2352.76,1486.45 \n",
       "  \"/>\n",
       "<polyline clip-path=\"url(#clip5502)\" style=\"stroke:#000000; stroke-width:2; stroke-opacity:0.1; fill:none\" points=\"\n",
       "  148.334,1198.61 2352.76,1198.61 \n",
       "  \"/>\n",
       "<polyline clip-path=\"url(#clip5502)\" style=\"stroke:#000000; stroke-width:2; stroke-opacity:0.1; fill:none\" points=\"\n",
       "  148.334,910.766 2352.76,910.766 \n",
       "  \"/>\n",
       "<polyline clip-path=\"url(#clip5502)\" style=\"stroke:#000000; stroke-width:2; stroke-opacity:0.1; fill:none\" points=\"\n",
       "  148.334,622.926 2352.76,622.926 \n",
       "  \"/>\n",
       "<polyline clip-path=\"url(#clip5502)\" style=\"stroke:#000000; stroke-width:2; stroke-opacity:0.1; fill:none\" points=\"\n",
       "  148.334,335.085 2352.76,335.085 \n",
       "  \"/>\n",
       "<polyline clip-path=\"url(#clip5502)\" style=\"stroke:#000000; stroke-width:2; stroke-opacity:0.1; fill:none\" points=\"\n",
       "  148.334,47.2441 2352.76,47.2441 \n",
       "  \"/>\n",
       "<polyline clip-path=\"url(#clip5500)\" style=\"stroke:#000000; stroke-width:4; stroke-opacity:1; fill:none\" points=\"\n",
       "  148.334,1486.45 2352.76,1486.45 \n",
       "  \"/>\n",
       "<polyline clip-path=\"url(#clip5500)\" style=\"stroke:#000000; stroke-width:4; stroke-opacity:1; fill:none\" points=\"\n",
       "  148.334,1486.45 148.334,47.2441 \n",
       "  \"/>\n",
       "<polyline clip-path=\"url(#clip5500)\" style=\"stroke:#000000; stroke-width:4; stroke-opacity:1; fill:none\" points=\"\n",
       "  148.334,1486.45 148.334,1469.18 \n",
       "  \"/>\n",
       "<polyline clip-path=\"url(#clip5500)\" style=\"stroke:#000000; stroke-width:4; stroke-opacity:1; fill:none\" points=\"\n",
       "  589.219,1486.45 589.219,1469.18 \n",
       "  \"/>\n",
       "<polyline clip-path=\"url(#clip5500)\" style=\"stroke:#000000; stroke-width:4; stroke-opacity:1; fill:none\" points=\"\n",
       "  1030.1,1486.45 1030.1,1469.18 \n",
       "  \"/>\n",
       "<polyline clip-path=\"url(#clip5500)\" style=\"stroke:#000000; stroke-width:4; stroke-opacity:1; fill:none\" points=\"\n",
       "  1470.99,1486.45 1470.99,1469.18 \n",
       "  \"/>\n",
       "<polyline clip-path=\"url(#clip5500)\" style=\"stroke:#000000; stroke-width:4; stroke-opacity:1; fill:none\" points=\"\n",
       "  1911.87,1486.45 1911.87,1469.18 \n",
       "  \"/>\n",
       "<polyline clip-path=\"url(#clip5500)\" style=\"stroke:#000000; stroke-width:4; stroke-opacity:1; fill:none\" points=\"\n",
       "  2352.76,1486.45 2352.76,1469.18 \n",
       "  \"/>\n",
       "<polyline clip-path=\"url(#clip5500)\" style=\"stroke:#000000; stroke-width:4; stroke-opacity:1; fill:none\" points=\"\n",
       "  148.334,1486.45 174.787,1486.45 \n",
       "  \"/>\n",
       "<polyline clip-path=\"url(#clip5500)\" style=\"stroke:#000000; stroke-width:4; stroke-opacity:1; fill:none\" points=\"\n",
       "  148.334,1198.61 174.787,1198.61 \n",
       "  \"/>\n",
       "<polyline clip-path=\"url(#clip5500)\" style=\"stroke:#000000; stroke-width:4; stroke-opacity:1; fill:none\" points=\"\n",
       "  148.334,910.766 174.787,910.766 \n",
       "  \"/>\n",
       "<polyline clip-path=\"url(#clip5500)\" style=\"stroke:#000000; stroke-width:4; stroke-opacity:1; fill:none\" points=\"\n",
       "  148.334,622.926 174.787,622.926 \n",
       "  \"/>\n",
       "<polyline clip-path=\"url(#clip5500)\" style=\"stroke:#000000; stroke-width:4; stroke-opacity:1; fill:none\" points=\"\n",
       "  148.334,335.085 174.787,335.085 \n",
       "  \"/>\n",
       "<polyline clip-path=\"url(#clip5500)\" style=\"stroke:#000000; stroke-width:4; stroke-opacity:1; fill:none\" points=\"\n",
       "  148.334,47.2441 174.787,47.2441 \n",
       "  \"/>\n",
       "<path clip-path=\"url(#clip5500)\" d=\"M 0 0 M129.851 1508.44 Q126.24 1508.44 124.411 1512 Q122.605 1515.55 122.605 1522.67 Q122.605 1529.78 124.411 1533.35 Q126.24 1536.89 129.851 1536.89 Q133.485 1536.89 135.29 1533.35 Q137.119 1529.78 137.119 1522.67 Q137.119 1515.55 135.29 1512 Q133.485 1508.44 129.851 1508.44 M129.851 1504.73 Q135.661 1504.73 138.716 1509.34 Q141.795 1513.92 141.795 1522.67 Q141.795 1531.4 138.716 1536.01 Q135.661 1540.59 129.851 1540.59 Q124.041 1540.59 120.962 1536.01 Q117.906 1531.4 117.906 1522.67 Q117.906 1513.92 120.962 1509.34 Q124.041 1504.73 129.851 1504.73 Z\" fill=\"#000000\" fill-rule=\"evenodd\" fill-opacity=\"1\" /><path clip-path=\"url(#clip5500)\" d=\"M 0 0 M146.864 1534.04 L151.749 1534.04 L151.749 1539.92 L146.864 1539.92 L146.864 1534.04 Z\" fill=\"#000000\" fill-rule=\"evenodd\" fill-opacity=\"1\" /><path clip-path=\"url(#clip5500)\" d=\"M 0 0 M166.818 1508.44 Q163.207 1508.44 161.378 1512 Q159.573 1515.55 159.573 1522.67 Q159.573 1529.78 161.378 1533.35 Q163.207 1536.89 166.818 1536.89 Q170.452 1536.89 172.258 1533.35 Q174.087 1529.78 174.087 1522.67 Q174.087 1515.55 172.258 1512 Q170.452 1508.44 166.818 1508.44 M166.818 1504.73 Q172.628 1504.73 175.684 1509.34 Q178.762 1513.92 178.762 1522.67 Q178.762 1531.4 175.684 1536.01 Q172.628 1540.59 166.818 1540.59 Q161.008 1540.59 157.929 1536.01 Q154.874 1531.4 154.874 1522.67 Q154.874 1513.92 157.929 1509.34 Q161.008 1504.73 166.818 1504.73 Z\" fill=\"#000000\" fill-rule=\"evenodd\" fill-opacity=\"1\" /><path clip-path=\"url(#clip5500)\" d=\"M 0 0 M571.534 1508.44 Q567.923 1508.44 566.094 1512 Q564.288 1515.55 564.288 1522.67 Q564.288 1529.78 566.094 1533.35 Q567.923 1536.89 571.534 1536.89 Q575.168 1536.89 576.973 1533.35 Q578.802 1529.78 578.802 1522.67 Q578.802 1515.55 576.973 1512 Q575.168 1508.44 571.534 1508.44 M571.534 1504.73 Q577.344 1504.73 580.399 1509.34 Q583.478 1513.92 583.478 1522.67 Q583.478 1531.4 580.399 1536.01 Q577.344 1540.59 571.534 1540.59 Q565.723 1540.59 562.645 1536.01 Q559.589 1531.4 559.589 1522.67 Q559.589 1513.92 562.645 1509.34 Q565.723 1504.73 571.534 1504.73 Z\" fill=\"#000000\" fill-rule=\"evenodd\" fill-opacity=\"1\" /><path clip-path=\"url(#clip5500)\" d=\"M 0 0 M588.547 1534.04 L593.432 1534.04 L593.432 1539.92 L588.547 1539.92 L588.547 1534.04 Z\" fill=\"#000000\" fill-rule=\"evenodd\" fill-opacity=\"1\" /><path clip-path=\"url(#clip5500)\" d=\"M 0 0 M602.529 1535.98 L618.848 1535.98 L618.848 1539.92 L596.904 1539.92 L596.904 1535.98 Q599.566 1533.23 604.149 1528.6 Q608.756 1523.95 609.936 1522.61 Q612.182 1520.08 613.061 1518.35 Q613.964 1516.59 613.964 1514.9 Q613.964 1512.14 612.019 1510.41 Q610.098 1508.67 606.996 1508.67 Q604.797 1508.67 602.344 1509.43 Q599.913 1510.2 597.135 1511.75 L597.135 1507.03 Q599.959 1505.89 602.413 1505.31 Q604.867 1504.73 606.904 1504.73 Q612.274 1504.73 615.469 1507.42 Q618.663 1510.11 618.663 1514.6 Q618.663 1516.73 617.853 1518.65 Q617.066 1520.54 614.959 1523.14 Q614.381 1523.81 611.279 1527.03 Q608.177 1530.22 602.529 1535.98 Z\" fill=\"#000000\" fill-rule=\"evenodd\" fill-opacity=\"1\" /><path clip-path=\"url(#clip5500)\" d=\"M 0 0 M1011.38 1508.44 Q1007.77 1508.44 1005.94 1512 Q1004.13 1515.55 1004.13 1522.67 Q1004.13 1529.78 1005.94 1533.35 Q1007.77 1536.89 1011.38 1536.89 Q1015.01 1536.89 1016.82 1533.35 Q1018.64 1529.78 1018.64 1522.67 Q1018.64 1515.55 1016.82 1512 Q1015.01 1508.44 1011.38 1508.44 M1011.38 1504.73 Q1017.19 1504.73 1020.24 1509.34 Q1023.32 1513.92 1023.32 1522.67 Q1023.32 1531.4 1020.24 1536.01 Q1017.19 1540.59 1011.38 1540.59 Q1005.57 1540.59 1002.49 1536.01 Q999.432 1531.4 999.432 1522.67 Q999.432 1513.92 1002.49 1509.34 Q1005.57 1504.73 1011.38 1504.73 Z\" fill=\"#000000\" fill-rule=\"evenodd\" fill-opacity=\"1\" /><path clip-path=\"url(#clip5500)\" d=\"M 0 0 M1028.39 1534.04 L1033.27 1534.04 L1033.27 1539.92 L1028.39 1539.92 L1028.39 1534.04 Z\" fill=\"#000000\" fill-rule=\"evenodd\" fill-opacity=\"1\" /><path clip-path=\"url(#clip5500)\" d=\"M 0 0 M1051.19 1509.43 L1039.39 1527.88 L1051.19 1527.88 L1051.19 1509.43 M1049.96 1505.36 L1055.84 1505.36 L1055.84 1527.88 L1060.77 1527.88 L1060.77 1531.77 L1055.84 1531.77 L1055.84 1539.92 L1051.19 1539.92 L1051.19 1531.77 L1035.59 1531.77 L1035.59 1527.26 L1049.96 1505.36 Z\" fill=\"#000000\" fill-rule=\"evenodd\" fill-opacity=\"1\" /><path clip-path=\"url(#clip5500)\" d=\"M 0 0 M1452.42 1508.44 Q1448.81 1508.44 1446.98 1512 Q1445.18 1515.55 1445.18 1522.67 Q1445.18 1529.78 1446.98 1533.35 Q1448.81 1536.89 1452.42 1536.89 Q1456.06 1536.89 1457.86 1533.35 Q1459.69 1529.78 1459.69 1522.67 Q1459.69 1515.55 1457.86 1512 Q1456.06 1508.44 1452.42 1508.44 M1452.42 1504.73 Q1458.23 1504.73 1461.29 1509.34 Q1464.37 1513.92 1464.37 1522.67 Q1464.37 1531.4 1461.29 1536.01 Q1458.23 1540.59 1452.42 1540.59 Q1446.61 1540.59 1443.53 1536.01 Q1440.48 1531.4 1440.48 1522.67 Q1440.48 1513.92 1443.53 1509.34 Q1446.61 1504.73 1452.42 1504.73 Z\" fill=\"#000000\" fill-rule=\"evenodd\" fill-opacity=\"1\" /><path clip-path=\"url(#clip5500)\" d=\"M 0 0 M1469.44 1534.04 L1474.32 1534.04 L1474.32 1539.92 L1469.44 1539.92 L1469.44 1534.04 Z\" fill=\"#000000\" fill-rule=\"evenodd\" fill-opacity=\"1\" /><path clip-path=\"url(#clip5500)\" d=\"M 0 0 M1489.97 1520.78 Q1486.82 1520.78 1484.97 1522.93 Q1483.14 1525.08 1483.14 1528.83 Q1483.14 1532.56 1484.97 1534.73 Q1486.82 1536.89 1489.97 1536.89 Q1493.12 1536.89 1494.95 1534.73 Q1496.8 1532.56 1496.8 1528.83 Q1496.8 1525.08 1494.95 1522.93 Q1493.12 1520.78 1489.97 1520.78 M1499.25 1506.12 L1499.25 1510.38 Q1497.49 1509.55 1495.69 1509.11 Q1493.9 1508.67 1492.14 1508.67 Q1487.51 1508.67 1485.06 1511.8 Q1482.63 1514.92 1482.28 1521.24 Q1483.65 1519.23 1485.71 1518.16 Q1487.77 1517.07 1490.25 1517.07 Q1495.45 1517.07 1498.46 1520.24 Q1501.5 1523.39 1501.5 1528.83 Q1501.5 1534.16 1498.35 1537.37 Q1495.2 1540.59 1489.97 1540.59 Q1483.97 1540.59 1480.8 1536.01 Q1477.63 1531.4 1477.63 1522.67 Q1477.63 1514.48 1481.52 1509.62 Q1485.41 1504.73 1491.96 1504.73 Q1493.72 1504.73 1495.5 1505.08 Q1497.31 1505.43 1499.25 1506.12 Z\" fill=\"#000000\" fill-rule=\"evenodd\" fill-opacity=\"1\" /><path clip-path=\"url(#clip5500)\" d=\"M 0 0 M1893.43 1508.44 Q1889.82 1508.44 1887.99 1512 Q1886.19 1515.55 1886.19 1522.67 Q1886.19 1529.78 1887.99 1533.35 Q1889.82 1536.89 1893.43 1536.89 Q1897.07 1536.89 1898.87 1533.35 Q1900.7 1529.78 1900.7 1522.67 Q1900.7 1515.55 1898.87 1512 Q1897.07 1508.44 1893.43 1508.44 M1893.43 1504.73 Q1899.24 1504.73 1902.3 1509.34 Q1905.38 1513.92 1905.38 1522.67 Q1905.38 1531.4 1902.3 1536.01 Q1899.24 1540.59 1893.43 1540.59 Q1887.62 1540.59 1884.55 1536.01 Q1881.49 1531.4 1881.49 1522.67 Q1881.49 1513.92 1884.55 1509.34 Q1887.62 1504.73 1893.43 1504.73 Z\" fill=\"#000000\" fill-rule=\"evenodd\" fill-opacity=\"1\" /><path clip-path=\"url(#clip5500)\" d=\"M 0 0 M1910.45 1534.04 L1915.33 1534.04 L1915.33 1539.92 L1910.45 1539.92 L1910.45 1534.04 Z\" fill=\"#000000\" fill-rule=\"evenodd\" fill-opacity=\"1\" /><path clip-path=\"url(#clip5500)\" d=\"M 0 0 M1930.4 1523.51 Q1927.07 1523.51 1925.15 1525.29 Q1923.25 1527.07 1923.25 1530.2 Q1923.25 1533.32 1925.15 1535.11 Q1927.07 1536.89 1930.4 1536.89 Q1933.73 1536.89 1935.66 1535.11 Q1937.58 1533.3 1937.58 1530.2 Q1937.58 1527.07 1935.66 1525.29 Q1933.76 1523.51 1930.4 1523.51 M1925.73 1521.52 Q1922.72 1520.78 1921.03 1518.72 Q1919.36 1516.66 1919.36 1513.69 Q1919.36 1509.55 1922.3 1507.14 Q1925.26 1504.73 1930.4 1504.73 Q1935.56 1504.73 1938.5 1507.14 Q1941.44 1509.55 1941.44 1513.69 Q1941.44 1516.66 1939.75 1518.72 Q1938.09 1520.78 1935.1 1521.52 Q1938.48 1522.3 1940.36 1524.6 Q1942.25 1526.89 1942.25 1530.2 Q1942.25 1535.22 1939.17 1537.91 Q1936.12 1540.59 1930.4 1540.59 Q1924.68 1540.59 1921.61 1537.91 Q1918.55 1535.22 1918.55 1530.2 Q1918.55 1526.89 1920.45 1524.6 Q1922.35 1522.3 1925.73 1521.52 M1924.01 1514.13 Q1924.01 1516.82 1925.68 1518.32 Q1927.37 1519.83 1930.4 1519.83 Q1933.41 1519.83 1935.1 1518.32 Q1936.81 1516.82 1936.81 1514.13 Q1936.81 1511.45 1935.1 1509.94 Q1933.41 1508.44 1930.4 1508.44 Q1927.37 1508.44 1925.68 1509.94 Q1924.01 1511.45 1924.01 1514.13 Z\" fill=\"#000000\" fill-rule=\"evenodd\" fill-opacity=\"1\" /><path clip-path=\"url(#clip5500)\" d=\"M 0 0 M2324.65 1535.98 L2332.29 1535.98 L2332.29 1509.62 L2323.98 1511.29 L2323.98 1507.03 L2332.25 1505.36 L2336.92 1505.36 L2336.92 1535.98 L2344.56 1535.98 L2344.56 1539.92 L2324.65 1539.92 L2324.65 1535.98 Z\" fill=\"#000000\" fill-rule=\"evenodd\" fill-opacity=\"1\" /><path clip-path=\"url(#clip5500)\" d=\"M 0 0 M2349.63 1534.04 L2354.52 1534.04 L2354.52 1539.92 L2349.63 1539.92 L2349.63 1534.04 Z\" fill=\"#000000\" fill-rule=\"evenodd\" fill-opacity=\"1\" /><path clip-path=\"url(#clip5500)\" d=\"M 0 0 M2369.58 1508.44 Q2365.97 1508.44 2364.14 1512 Q2362.34 1515.55 2362.34 1522.67 Q2362.34 1529.78 2364.14 1533.35 Q2365.97 1536.89 2369.58 1536.89 Q2373.22 1536.89 2375.02 1533.35 Q2376.85 1529.78 2376.85 1522.67 Q2376.85 1515.55 2375.02 1512 Q2373.22 1508.44 2369.58 1508.44 M2369.58 1504.73 Q2375.39 1504.73 2378.45 1509.34 Q2381.53 1513.92 2381.53 1522.67 Q2381.53 1531.4 2378.45 1536.01 Q2375.39 1540.59 2369.58 1540.59 Q2363.77 1540.59 2360.7 1536.01 Q2357.64 1531.4 2357.64 1522.67 Q2357.64 1513.92 2360.7 1509.34 Q2363.77 1504.73 2369.58 1504.73 Z\" fill=\"#000000\" fill-rule=\"evenodd\" fill-opacity=\"1\" /><path clip-path=\"url(#clip5500)\" d=\"M 0 0 M75.4226 1472.25 Q71.8115 1472.25 69.9828 1475.81 Q68.1773 1479.35 68.1773 1486.48 Q68.1773 1493.59 69.9828 1497.15 Q71.8115 1500.7 75.4226 1500.7 Q79.0569 1500.7 80.8624 1497.15 Q82.6911 1493.59 82.6911 1486.48 Q82.6911 1479.35 80.8624 1475.81 Q79.0569 1472.25 75.4226 1472.25 M75.4226 1468.54 Q81.2328 1468.54 84.2883 1473.15 Q87.367 1477.73 87.367 1486.48 Q87.367 1495.21 84.2883 1499.82 Q81.2328 1504.4 75.4226 1504.4 Q69.6125 1504.4 66.5338 1499.82 Q63.4782 1495.21 63.4782 1486.48 Q63.4782 1477.73 66.5338 1473.15 Q69.6125 1468.54 75.4226 1468.54 Z\" fill=\"#000000\" fill-rule=\"evenodd\" fill-opacity=\"1\" /><path clip-path=\"url(#clip5500)\" d=\"M 0 0 M92.4364 1497.85 L97.3206 1497.85 L97.3206 1503.73 L92.4364 1503.73 L92.4364 1497.85 Z\" fill=\"#000000\" fill-rule=\"evenodd\" fill-opacity=\"1\" /><path clip-path=\"url(#clip5500)\" d=\"M 0 0 M112.39 1472.25 Q108.779 1472.25 106.95 1475.81 Q105.145 1479.35 105.145 1486.48 Q105.145 1493.59 106.95 1497.15 Q108.779 1500.7 112.39 1500.7 Q116.024 1500.7 117.83 1497.15 Q119.658 1493.59 119.658 1486.48 Q119.658 1479.35 117.83 1475.81 Q116.024 1472.25 112.39 1472.25 M112.39 1468.54 Q118.2 1468.54 121.256 1473.15 Q124.334 1477.73 124.334 1486.48 Q124.334 1495.21 121.256 1499.82 Q118.2 1504.4 112.39 1504.4 Q106.58 1504.4 103.501 1499.82 Q100.446 1495.21 100.446 1486.48 Q100.446 1477.73 103.501 1473.15 Q106.58 1468.54 112.39 1468.54 Z\" fill=\"#000000\" fill-rule=\"evenodd\" fill-opacity=\"1\" /><path clip-path=\"url(#clip5500)\" d=\"M 0 0 M77.0198 1184.41 Q73.4087 1184.41 71.58 1187.97 Q69.7745 1191.51 69.7745 1198.64 Q69.7745 1205.75 71.58 1209.31 Q73.4087 1212.85 77.0198 1212.85 Q80.6541 1212.85 82.4596 1209.31 Q84.2883 1205.75 84.2883 1198.64 Q84.2883 1191.51 82.4596 1187.97 Q80.6541 1184.41 77.0198 1184.41 M77.0198 1180.7 Q82.83 1180.7 85.8855 1185.31 Q88.9642 1189.89 88.9642 1198.64 Q88.9642 1207.37 85.8855 1211.98 Q82.83 1216.56 77.0198 1216.56 Q71.2097 1216.56 68.131 1211.98 Q65.0754 1207.37 65.0754 1198.64 Q65.0754 1189.89 68.131 1185.31 Q71.2097 1180.7 77.0198 1180.7 Z\" fill=\"#000000\" fill-rule=\"evenodd\" fill-opacity=\"1\" /><path clip-path=\"url(#clip5500)\" d=\"M 0 0 M94.0336 1210.01 L98.9179 1210.01 L98.9179 1215.89 L94.0336 1215.89 L94.0336 1210.01 Z\" fill=\"#000000\" fill-rule=\"evenodd\" fill-opacity=\"1\" /><path clip-path=\"url(#clip5500)\" d=\"M 0 0 M108.015 1211.95 L124.334 1211.95 L124.334 1215.89 L102.39 1215.89 L102.39 1211.95 Q105.052 1209.2 109.635 1204.57 Q114.242 1199.91 115.422 1198.57 Q117.668 1196.05 118.547 1194.31 Q119.45 1192.55 119.45 1190.86 Q119.45 1188.11 117.506 1186.37 Q115.584 1184.64 112.483 1184.64 Q110.284 1184.64 107.83 1185.4 Q105.399 1186.17 102.622 1187.72 L102.622 1182.99 Q105.446 1181.86 107.899 1181.28 Q110.353 1180.7 112.39 1180.7 Q117.76 1180.7 120.955 1183.39 Q124.149 1186.07 124.149 1190.56 Q124.149 1192.69 123.339 1194.61 Q122.552 1196.51 120.446 1199.1 Q119.867 1199.78 116.765 1202.99 Q113.663 1206.19 108.015 1211.95 Z\" fill=\"#000000\" fill-rule=\"evenodd\" fill-opacity=\"1\" /><path clip-path=\"url(#clip5500)\" d=\"M 0 0 M74.9365 896.565 Q71.3254 896.565 69.4967 900.13 Q67.6912 903.671 67.6912 910.801 Q67.6912 917.908 69.4967 921.472 Q71.3254 925.014 74.9365 925.014 Q78.5707 925.014 80.3763 921.472 Q82.205 917.908 82.205 910.801 Q82.205 903.671 80.3763 900.13 Q78.5707 896.565 74.9365 896.565 M74.9365 892.861 Q80.7467 892.861 83.8022 897.468 Q86.8809 902.051 86.8809 910.801 Q86.8809 919.528 83.8022 924.134 Q80.7467 928.718 74.9365 928.718 Q69.1264 928.718 66.0477 924.134 Q62.9921 919.528 62.9921 910.801 Q62.9921 902.051 66.0477 897.468 Q69.1264 892.861 74.9365 892.861 Z\" fill=\"#000000\" fill-rule=\"evenodd\" fill-opacity=\"1\" /><path clip-path=\"url(#clip5500)\" d=\"M 0 0 M91.9503 922.167 L96.8345 922.167 L96.8345 928.046 L91.9503 928.046 L91.9503 922.167 Z\" fill=\"#000000\" fill-rule=\"evenodd\" fill-opacity=\"1\" /><path clip-path=\"url(#clip5500)\" d=\"M 0 0 M114.751 897.56 L102.946 916.009 L114.751 916.009 L114.751 897.56 M113.524 893.486 L119.404 893.486 L119.404 916.009 L124.334 916.009 L124.334 919.898 L119.404 919.898 L119.404 928.046 L114.751 928.046 L114.751 919.898 L99.1493 919.898 L99.1493 915.384 L113.524 893.486 Z\" fill=\"#000000\" fill-rule=\"evenodd\" fill-opacity=\"1\" /><path clip-path=\"url(#clip5500)\" d=\"M 0 0 M75.2606 608.724 Q71.6495 608.724 69.8208 612.289 Q68.0152 615.831 68.0152 622.96 Q68.0152 630.067 69.8208 633.632 Q71.6495 637.173 75.2606 637.173 Q78.8948 637.173 80.7004 633.632 Q82.5291 630.067 82.5291 622.96 Q82.5291 615.831 80.7004 612.289 Q78.8948 608.724 75.2606 608.724 M75.2606 605.021 Q81.0707 605.021 84.1263 609.627 Q87.205 614.21 87.205 622.96 Q87.205 631.687 84.1263 636.294 Q81.0707 640.877 75.2606 640.877 Q69.4504 640.877 66.3717 636.294 Q63.3162 631.687 63.3162 622.96 Q63.3162 614.21 66.3717 609.627 Q69.4504 605.021 75.2606 605.021 Z\" fill=\"#000000\" fill-rule=\"evenodd\" fill-opacity=\"1\" /><path clip-path=\"url(#clip5500)\" d=\"M 0 0 M92.2744 634.326 L97.1586 634.326 L97.1586 640.206 L92.2744 640.206 L92.2744 634.326 Z\" fill=\"#000000\" fill-rule=\"evenodd\" fill-opacity=\"1\" /><path clip-path=\"url(#clip5500)\" d=\"M 0 0 M112.807 621.062 Q109.659 621.062 107.807 623.215 Q105.978 625.368 105.978 629.118 Q105.978 632.845 107.807 635.02 Q109.659 637.173 112.807 637.173 Q115.955 637.173 117.783 635.02 Q119.635 632.845 119.635 629.118 Q119.635 625.368 117.783 623.215 Q115.955 621.062 112.807 621.062 M122.089 606.409 L122.089 610.669 Q120.33 609.835 118.524 609.396 Q116.742 608.956 114.983 608.956 Q110.353 608.956 107.899 612.081 Q105.469 615.206 105.122 621.525 Q106.487 619.511 108.547 618.446 Q110.608 617.359 113.084 617.359 Q118.293 617.359 121.302 620.53 Q124.334 623.678 124.334 629.118 Q124.334 634.442 121.186 637.659 Q118.038 640.877 112.807 640.877 Q106.811 640.877 103.64 636.294 Q100.469 631.687 100.469 622.96 Q100.469 614.766 104.358 609.905 Q108.247 605.021 114.797 605.021 Q116.557 605.021 118.339 605.368 Q120.145 605.715 122.089 606.409 Z\" fill=\"#000000\" fill-rule=\"evenodd\" fill-opacity=\"1\" /><path clip-path=\"url(#clip5500)\" d=\"M 0 0 M75.5152 320.884 Q71.9041 320.884 70.0754 324.448 Q68.2699 327.99 68.2699 335.12 Q68.2699 342.226 70.0754 345.791 Q71.9041 349.332 75.5152 349.332 Q79.1494 349.332 80.955 345.791 Q82.7837 342.226 82.7837 335.12 Q82.7837 327.99 80.955 324.448 Q79.1494 320.884 75.5152 320.884 M75.5152 317.18 Q81.3254 317.18 84.3809 321.786 Q87.4596 326.37 87.4596 335.12 Q87.4596 343.846 84.3809 348.453 Q81.3254 353.036 75.5152 353.036 Q69.7051 353.036 66.6264 348.453 Q63.5708 343.846 63.5708 335.12 Q63.5708 326.37 66.6264 321.786 Q69.7051 317.18 75.5152 317.18 Z\" fill=\"#000000\" fill-rule=\"evenodd\" fill-opacity=\"1\" /><path clip-path=\"url(#clip5500)\" d=\"M 0 0 M92.529 346.485 L97.4132 346.485 L97.4132 352.365 L92.529 352.365 L92.529 346.485 Z\" fill=\"#000000\" fill-rule=\"evenodd\" fill-opacity=\"1\" /><path clip-path=\"url(#clip5500)\" d=\"M 0 0 M112.483 335.953 Q109.149 335.953 107.228 337.735 Q105.33 339.518 105.33 342.643 Q105.33 345.768 107.228 347.55 Q109.149 349.332 112.483 349.332 Q115.816 349.332 117.737 347.55 Q119.658 345.745 119.658 342.643 Q119.658 339.518 117.737 337.735 Q115.839 335.953 112.483 335.953 M107.807 333.962 Q104.797 333.221 103.108 331.161 Q101.441 329.101 101.441 326.138 Q101.441 321.995 104.381 319.587 Q107.344 317.18 112.483 317.18 Q117.645 317.18 120.584 319.587 Q123.524 321.995 123.524 326.138 Q123.524 329.101 121.834 331.161 Q120.168 333.221 117.182 333.962 Q120.561 334.749 122.436 337.041 Q124.334 339.333 124.334 342.643 Q124.334 347.666 121.256 350.351 Q118.2 353.036 112.483 353.036 Q106.765 353.036 103.686 350.351 Q100.631 347.666 100.631 342.643 Q100.631 339.333 102.529 337.041 Q104.427 334.749 107.807 333.962 M106.094 326.578 Q106.094 329.263 107.76 330.768 Q109.45 332.272 112.483 332.272 Q115.492 332.272 117.182 330.768 Q118.895 329.263 118.895 326.578 Q118.895 323.893 117.182 322.388 Q115.492 320.884 112.483 320.884 Q109.45 320.884 107.76 322.388 Q106.094 323.893 106.094 326.578 Z\" fill=\"#000000\" fill-rule=\"evenodd\" fill-opacity=\"1\" /><path clip-path=\"url(#clip5500)\" d=\"M 0 0 M67.4597 60.5889 L75.0985 60.5889 L75.0985 34.2233 L66.7884 35.89 L66.7884 31.6308 L75.0522 29.9641 L79.7281 29.9641 L79.7281 60.5889 L87.367 60.5889 L87.367 64.5241 L67.4597 64.5241 L67.4597 60.5889 Z\" fill=\"#000000\" fill-rule=\"evenodd\" fill-opacity=\"1\" /><path clip-path=\"url(#clip5500)\" d=\"M 0 0 M92.4364 58.6445 L97.3206 58.6445 L97.3206 64.5241 L92.4364 64.5241 L92.4364 58.6445 Z\" fill=\"#000000\" fill-rule=\"evenodd\" fill-opacity=\"1\" /><path clip-path=\"url(#clip5500)\" d=\"M 0 0 M112.39 33.0428 Q108.779 33.0428 106.95 36.6076 Q105.145 40.1492 105.145 47.2788 Q105.145 54.3853 106.95 57.9501 Q108.779 61.4917 112.39 61.4917 Q116.024 61.4917 117.83 57.9501 Q119.658 54.3853 119.658 47.2788 Q119.658 40.1492 117.83 36.6076 Q116.024 33.0428 112.39 33.0428 M112.39 29.3391 Q118.2 29.3391 121.256 33.9456 Q124.334 38.5289 124.334 47.2788 Q124.334 56.0056 121.256 60.6121 Q118.2 65.1954 112.39 65.1954 Q106.58 65.1954 103.501 60.6121 Q100.446 56.0056 100.446 47.2788 Q100.446 38.5289 103.501 33.9456 Q106.58 29.3391 112.39 29.3391 Z\" fill=\"#000000\" fill-rule=\"evenodd\" fill-opacity=\"1\" /><circle clip-path=\"url(#clip5502)\" cx=\"1735.05\" cy=\"402.847\" r=\"14\" fill=\"#009af9\" fill-rule=\"evenodd\" fill-opacity=\"1\" stroke=\"#000000\" stroke-opacity=\"1\" stroke-width=\"3.2\"/>\n",
       "<circle clip-path=\"url(#clip5502)\" cx=\"1866.49\" cy=\"464.253\" r=\"14\" fill=\"#009af9\" fill-rule=\"evenodd\" fill-opacity=\"1\" stroke=\"#000000\" stroke-opacity=\"1\" stroke-width=\"3.2\"/>\n",
       "<circle clip-path=\"url(#clip5502)\" cx=\"1866.49\" cy=\"464.253\" r=\"14\" fill=\"#009af9\" fill-rule=\"evenodd\" fill-opacity=\"1\" stroke=\"#000000\" stroke-opacity=\"1\" stroke-width=\"3.2\"/>\n",
       "<circle clip-path=\"url(#clip5502)\" cx=\"1735.05\" cy=\"402.847\" r=\"14\" fill=\"#009af9\" fill-rule=\"evenodd\" fill-opacity=\"1\" stroke=\"#000000\" stroke-opacity=\"1\" stroke-width=\"3.2\"/>\n",
       "<circle clip-path=\"url(#clip5502)\" cx=\"1832.21\" cy=\"406.924\" r=\"14\" fill=\"#009af9\" fill-rule=\"evenodd\" fill-opacity=\"1\" stroke=\"#000000\" stroke-opacity=\"1\" stroke-width=\"3.2\"/>\n",
       "<circle clip-path=\"url(#clip5502)\" cx=\"1866.49\" cy=\"464.253\" r=\"14\" fill=\"#009af9\" fill-rule=\"evenodd\" fill-opacity=\"1\" stroke=\"#000000\" stroke-opacity=\"1\" stroke-width=\"3.2\"/>\n",
       "<circle clip-path=\"url(#clip5502)\" cx=\"1866.49\" cy=\"464.253\" r=\"14\" fill=\"#009af9\" fill-rule=\"evenodd\" fill-opacity=\"1\" stroke=\"#000000\" stroke-opacity=\"1\" stroke-width=\"3.2\"/>\n",
       "<circle clip-path=\"url(#clip5502)\" cx=\"1866.49\" cy=\"464.253\" r=\"14\" fill=\"#009af9\" fill-rule=\"evenodd\" fill-opacity=\"1\" stroke=\"#000000\" stroke-opacity=\"1\" stroke-width=\"3.2\"/>\n",
       "<circle clip-path=\"url(#clip5502)\" cx=\"1832.21\" cy=\"406.924\" r=\"14\" fill=\"#009af9\" fill-rule=\"evenodd\" fill-opacity=\"1\" stroke=\"#000000\" stroke-opacity=\"1\" stroke-width=\"3.2\"/>\n",
       "<circle clip-path=\"url(#clip5502)\" cx=\"1834.75\" cy=\"426.383\" r=\"14\" fill=\"#009af9\" fill-rule=\"evenodd\" fill-opacity=\"1\" stroke=\"#000000\" stroke-opacity=\"1\" stroke-width=\"3.2\"/>\n",
       "<circle clip-path=\"url(#clip5502)\" cx=\"1866.49\" cy=\"464.253\" r=\"14\" fill=\"#009af9\" fill-rule=\"evenodd\" fill-opacity=\"1\" stroke=\"#000000\" stroke-opacity=\"1\" stroke-width=\"3.2\"/>\n",
       "<circle clip-path=\"url(#clip5502)\" cx=\"1866.49\" cy=\"464.253\" r=\"14\" fill=\"#009af9\" fill-rule=\"evenodd\" fill-opacity=\"1\" stroke=\"#000000\" stroke-opacity=\"1\" stroke-width=\"3.2\"/>\n",
       "<circle clip-path=\"url(#clip5502)\" cx=\"1866.49\" cy=\"464.253\" r=\"14\" fill=\"#009af9\" fill-rule=\"evenodd\" fill-opacity=\"1\" stroke=\"#000000\" stroke-opacity=\"1\" stroke-width=\"3.2\"/>\n",
       "<circle clip-path=\"url(#clip5502)\" cx=\"1834.75\" cy=\"426.383\" r=\"14\" fill=\"#009af9\" fill-rule=\"evenodd\" fill-opacity=\"1\" stroke=\"#000000\" stroke-opacity=\"1\" stroke-width=\"3.2\"/>\n",
       "<circle clip-path=\"url(#clip5502)\" cx=\"1849.43\" cy=\"428.863\" r=\"14\" fill=\"#009af9\" fill-rule=\"evenodd\" fill-opacity=\"1\" stroke=\"#000000\" stroke-opacity=\"1\" stroke-width=\"3.2\"/>\n",
       "<circle clip-path=\"url(#clip5502)\" cx=\"1866.49\" cy=\"464.253\" r=\"14\" fill=\"#009af9\" fill-rule=\"evenodd\" fill-opacity=\"1\" stroke=\"#000000\" stroke-opacity=\"1\" stroke-width=\"3.2\"/>\n",
       "<circle clip-path=\"url(#clip5502)\" cx=\"1866.49\" cy=\"464.253\" r=\"14\" fill=\"#009af9\" fill-rule=\"evenodd\" fill-opacity=\"1\" stroke=\"#000000\" stroke-opacity=\"1\" stroke-width=\"3.2\"/>\n",
       "<circle clip-path=\"url(#clip5502)\" cx=\"1849.43\" cy=\"428.863\" r=\"14\" fill=\"#009af9\" fill-rule=\"evenodd\" fill-opacity=\"1\" stroke=\"#000000\" stroke-opacity=\"1\" stroke-width=\"3.2\"/>\n",
       "<circle clip-path=\"url(#clip5502)\" cx=\"1861.16\" cy=\"442\" r=\"14\" fill=\"#009af9\" fill-rule=\"evenodd\" fill-opacity=\"1\" stroke=\"#000000\" stroke-opacity=\"1\" stroke-width=\"3.2\"/>\n",
       "<circle clip-path=\"url(#clip5502)\" cx=\"1866.49\" cy=\"464.253\" r=\"14\" fill=\"#009af9\" fill-rule=\"evenodd\" fill-opacity=\"1\" stroke=\"#000000\" stroke-opacity=\"1\" stroke-width=\"3.2\"/>\n",
       "<circle clip-path=\"url(#clip5502)\" cx=\"1866.49\" cy=\"464.253\" r=\"14\" fill=\"#009af9\" fill-rule=\"evenodd\" fill-opacity=\"1\" stroke=\"#000000\" stroke-opacity=\"1\" stroke-width=\"3.2\"/>\n",
       "<circle clip-path=\"url(#clip5502)\" cx=\"1861.16\" cy=\"442\" r=\"14\" fill=\"#009af9\" fill-rule=\"evenodd\" fill-opacity=\"1\" stroke=\"#000000\" stroke-opacity=\"1\" stroke-width=\"3.2\"/>\n",
       "<circle clip-path=\"url(#clip5502)\" cx=\"1866.49\" cy=\"464.253\" r=\"14\" fill=\"#009af9\" fill-rule=\"evenodd\" fill-opacity=\"1\" stroke=\"#000000\" stroke-opacity=\"1\" stroke-width=\"3.2\"/>\n",
       "<circle clip-path=\"url(#clip5502)\" cx=\"1866.49\" cy=\"464.253\" r=\"14\" fill=\"#009af9\" fill-rule=\"evenodd\" fill-opacity=\"1\" stroke=\"#000000\" stroke-opacity=\"1\" stroke-width=\"3.2\"/>\n",
       "<circle clip-path=\"url(#clip5502)\" cx=\"1866.49\" cy=\"464.253\" r=\"14\" fill=\"#009af9\" fill-rule=\"evenodd\" fill-opacity=\"1\" stroke=\"#000000\" stroke-opacity=\"1\" stroke-width=\"3.2\"/>\n",
       "<circle clip-path=\"url(#clip5502)\" cx=\"1866.49\" cy=\"464.253\" r=\"14\" fill=\"#009af9\" fill-rule=\"evenodd\" fill-opacity=\"1\" stroke=\"#000000\" stroke-opacity=\"1\" stroke-width=\"3.2\"/>\n",
       "<circle clip-path=\"url(#clip5502)\" cx=\"1866.49\" cy=\"464.253\" r=\"14\" fill=\"#009af9\" fill-rule=\"evenodd\" fill-opacity=\"1\" stroke=\"#000000\" stroke-opacity=\"1\" stroke-width=\"3.2\"/>\n",
       "<circle clip-path=\"url(#clip5502)\" cx=\"1866.49\" cy=\"464.253\" r=\"14\" fill=\"#009af9\" fill-rule=\"evenodd\" fill-opacity=\"1\" stroke=\"#000000\" stroke-opacity=\"1\" stroke-width=\"3.2\"/>\n",
       "<circle clip-path=\"url(#clip5502)\" cx=\"1866.49\" cy=\"464.253\" r=\"14\" fill=\"#009af9\" fill-rule=\"evenodd\" fill-opacity=\"1\" stroke=\"#000000\" stroke-opacity=\"1\" stroke-width=\"3.2\"/>\n",
       "<circle clip-path=\"url(#clip5502)\" cx=\"1866.49\" cy=\"464.253\" r=\"14\" fill=\"#009af9\" fill-rule=\"evenodd\" fill-opacity=\"1\" stroke=\"#000000\" stroke-opacity=\"1\" stroke-width=\"3.2\"/>\n",
       "<circle clip-path=\"url(#clip5502)\" cx=\"1866.49\" cy=\"464.253\" r=\"14\" fill=\"#009af9\" fill-rule=\"evenodd\" fill-opacity=\"1\" stroke=\"#000000\" stroke-opacity=\"1\" stroke-width=\"3.2\"/>\n",
       "<circle clip-path=\"url(#clip5502)\" cx=\"1866.49\" cy=\"464.253\" r=\"14\" fill=\"#009af9\" fill-rule=\"evenodd\" fill-opacity=\"1\" stroke=\"#000000\" stroke-opacity=\"1\" stroke-width=\"3.2\"/>\n",
       "<circle clip-path=\"url(#clip5502)\" cx=\"1866.49\" cy=\"464.253\" r=\"14\" fill=\"#009af9\" fill-rule=\"evenodd\" fill-opacity=\"1\" stroke=\"#000000\" stroke-opacity=\"1\" stroke-width=\"3.2\"/>\n",
       "<circle clip-path=\"url(#clip5502)\" cx=\"1866.49\" cy=\"464.253\" r=\"14\" fill=\"#009af9\" fill-rule=\"evenodd\" fill-opacity=\"1\" stroke=\"#000000\" stroke-opacity=\"1\" stroke-width=\"3.2\"/>\n",
       "<circle clip-path=\"url(#clip5502)\" cx=\"1866.49\" cy=\"464.253\" r=\"14\" fill=\"#009af9\" fill-rule=\"evenodd\" fill-opacity=\"1\" stroke=\"#000000\" stroke-opacity=\"1\" stroke-width=\"3.2\"/>\n",
       "<circle clip-path=\"url(#clip5502)\" cx=\"1866.49\" cy=\"464.253\" r=\"14\" fill=\"#009af9\" fill-rule=\"evenodd\" fill-opacity=\"1\" stroke=\"#000000\" stroke-opacity=\"1\" stroke-width=\"3.2\"/>\n",
       "<circle clip-path=\"url(#clip5502)\" cx=\"1866.49\" cy=\"464.253\" r=\"14\" fill=\"#009af9\" fill-rule=\"evenodd\" fill-opacity=\"1\" stroke=\"#000000\" stroke-opacity=\"1\" stroke-width=\"3.2\"/>\n",
       "<circle clip-path=\"url(#clip5502)\" cx=\"1866.49\" cy=\"464.253\" r=\"14\" fill=\"#009af9\" fill-rule=\"evenodd\" fill-opacity=\"1\" stroke=\"#000000\" stroke-opacity=\"1\" stroke-width=\"3.2\"/>\n",
       "<circle clip-path=\"url(#clip5502)\" cx=\"1866.49\" cy=\"464.253\" r=\"14\" fill=\"#009af9\" fill-rule=\"evenodd\" fill-opacity=\"1\" stroke=\"#000000\" stroke-opacity=\"1\" stroke-width=\"3.2\"/>\n",
       "<circle clip-path=\"url(#clip5502)\" cx=\"1866.49\" cy=\"464.253\" r=\"14\" fill=\"#009af9\" fill-rule=\"evenodd\" fill-opacity=\"1\" stroke=\"#000000\" stroke-opacity=\"1\" stroke-width=\"3.2\"/>\n",
       "<circle clip-path=\"url(#clip5502)\" cx=\"1866.49\" cy=\"464.253\" r=\"14\" fill=\"#009af9\" fill-rule=\"evenodd\" fill-opacity=\"1\" stroke=\"#000000\" stroke-opacity=\"1\" stroke-width=\"3.2\"/>\n",
       "<circle clip-path=\"url(#clip5502)\" cx=\"1866.49\" cy=\"464.253\" r=\"14\" fill=\"#009af9\" fill-rule=\"evenodd\" fill-opacity=\"1\" stroke=\"#000000\" stroke-opacity=\"1\" stroke-width=\"3.2\"/>\n",
       "<circle clip-path=\"url(#clip5502)\" cx=\"1866.49\" cy=\"464.253\" r=\"14\" fill=\"#009af9\" fill-rule=\"evenodd\" fill-opacity=\"1\" stroke=\"#000000\" stroke-opacity=\"1\" stroke-width=\"3.2\"/>\n",
       "<circle clip-path=\"url(#clip5502)\" cx=\"1866.49\" cy=\"464.253\" r=\"14\" fill=\"#009af9\" fill-rule=\"evenodd\" fill-opacity=\"1\" stroke=\"#000000\" stroke-opacity=\"1\" stroke-width=\"3.2\"/>\n",
       "<circle clip-path=\"url(#clip5502)\" cx=\"1866.49\" cy=\"464.253\" r=\"14\" fill=\"#009af9\" fill-rule=\"evenodd\" fill-opacity=\"1\" stroke=\"#000000\" stroke-opacity=\"1\" stroke-width=\"3.2\"/>\n",
       "<circle clip-path=\"url(#clip5502)\" cx=\"1866.49\" cy=\"464.253\" r=\"14\" fill=\"#009af9\" fill-rule=\"evenodd\" fill-opacity=\"1\" stroke=\"#000000\" stroke-opacity=\"1\" stroke-width=\"3.2\"/>\n",
       "<circle clip-path=\"url(#clip5502)\" cx=\"1866.49\" cy=\"464.253\" r=\"14\" fill=\"#009af9\" fill-rule=\"evenodd\" fill-opacity=\"1\" stroke=\"#000000\" stroke-opacity=\"1\" stroke-width=\"3.2\"/>\n",
       "<circle clip-path=\"url(#clip5502)\" cx=\"1866.49\" cy=\"464.253\" r=\"14\" fill=\"#009af9\" fill-rule=\"evenodd\" fill-opacity=\"1\" stroke=\"#000000\" stroke-opacity=\"1\" stroke-width=\"3.2\"/>\n",
       "<circle clip-path=\"url(#clip5502)\" cx=\"1866.49\" cy=\"464.253\" r=\"14\" fill=\"#009af9\" fill-rule=\"evenodd\" fill-opacity=\"1\" stroke=\"#000000\" stroke-opacity=\"1\" stroke-width=\"3.2\"/>\n",
       "<circle clip-path=\"url(#clip5502)\" cx=\"1866.49\" cy=\"464.253\" r=\"14\" fill=\"#009af9\" fill-rule=\"evenodd\" fill-opacity=\"1\" stroke=\"#000000\" stroke-opacity=\"1\" stroke-width=\"3.2\"/>\n",
       "<circle clip-path=\"url(#clip5502)\" cx=\"1866.49\" cy=\"464.253\" r=\"14\" fill=\"#009af9\" fill-rule=\"evenodd\" fill-opacity=\"1\" stroke=\"#000000\" stroke-opacity=\"1\" stroke-width=\"3.2\"/>\n",
       "<circle clip-path=\"url(#clip5502)\" cx=\"1866.49\" cy=\"464.253\" r=\"14\" fill=\"#009af9\" fill-rule=\"evenodd\" fill-opacity=\"1\" stroke=\"#000000\" stroke-opacity=\"1\" stroke-width=\"3.2\"/>\n",
       "<circle clip-path=\"url(#clip5502)\" cx=\"1866.49\" cy=\"464.253\" r=\"14\" fill=\"#009af9\" fill-rule=\"evenodd\" fill-opacity=\"1\" stroke=\"#000000\" stroke-opacity=\"1\" stroke-width=\"3.2\"/>\n",
       "<circle clip-path=\"url(#clip5502)\" cx=\"1866.49\" cy=\"464.253\" r=\"14\" fill=\"#009af9\" fill-rule=\"evenodd\" fill-opacity=\"1\" stroke=\"#000000\" stroke-opacity=\"1\" stroke-width=\"3.2\"/>\n",
       "<circle clip-path=\"url(#clip5502)\" cx=\"1866.49\" cy=\"464.253\" r=\"14\" fill=\"#009af9\" fill-rule=\"evenodd\" fill-opacity=\"1\" stroke=\"#000000\" stroke-opacity=\"1\" stroke-width=\"3.2\"/>\n",
       "<circle clip-path=\"url(#clip5502)\" cx=\"1866.49\" cy=\"464.253\" r=\"14\" fill=\"#009af9\" fill-rule=\"evenodd\" fill-opacity=\"1\" stroke=\"#000000\" stroke-opacity=\"1\" stroke-width=\"3.2\"/>\n",
       "<circle clip-path=\"url(#clip5502)\" cx=\"1866.49\" cy=\"464.253\" r=\"14\" fill=\"#009af9\" fill-rule=\"evenodd\" fill-opacity=\"1\" stroke=\"#000000\" stroke-opacity=\"1\" stroke-width=\"3.2\"/>\n",
       "<circle clip-path=\"url(#clip5502)\" cx=\"1866.49\" cy=\"464.253\" r=\"14\" fill=\"#009af9\" fill-rule=\"evenodd\" fill-opacity=\"1\" stroke=\"#000000\" stroke-opacity=\"1\" stroke-width=\"3.2\"/>\n",
       "<circle clip-path=\"url(#clip5502)\" cx=\"1866.49\" cy=\"464.253\" r=\"14\" fill=\"#009af9\" fill-rule=\"evenodd\" fill-opacity=\"1\" stroke=\"#000000\" stroke-opacity=\"1\" stroke-width=\"3.2\"/>\n",
       "<circle clip-path=\"url(#clip5502)\" cx=\"1866.49\" cy=\"464.253\" r=\"14\" fill=\"#009af9\" fill-rule=\"evenodd\" fill-opacity=\"1\" stroke=\"#000000\" stroke-opacity=\"1\" stroke-width=\"3.2\"/>\n",
       "<circle clip-path=\"url(#clip5502)\" cx=\"1866.49\" cy=\"464.253\" r=\"14\" fill=\"#009af9\" fill-rule=\"evenodd\" fill-opacity=\"1\" stroke=\"#000000\" stroke-opacity=\"1\" stroke-width=\"3.2\"/>\n",
       "<circle clip-path=\"url(#clip5502)\" cx=\"1866.49\" cy=\"464.253\" r=\"14\" fill=\"#009af9\" fill-rule=\"evenodd\" fill-opacity=\"1\" stroke=\"#000000\" stroke-opacity=\"1\" stroke-width=\"3.2\"/>\n",
       "<circle clip-path=\"url(#clip5502)\" cx=\"1866.49\" cy=\"464.253\" r=\"14\" fill=\"#009af9\" fill-rule=\"evenodd\" fill-opacity=\"1\" stroke=\"#000000\" stroke-opacity=\"1\" stroke-width=\"3.2\"/>\n",
       "<circle clip-path=\"url(#clip5502)\" cx=\"1866.49\" cy=\"464.253\" r=\"14\" fill=\"#009af9\" fill-rule=\"evenodd\" fill-opacity=\"1\" stroke=\"#000000\" stroke-opacity=\"1\" stroke-width=\"3.2\"/>\n",
       "<circle clip-path=\"url(#clip5502)\" cx=\"1866.49\" cy=\"464.253\" r=\"14\" fill=\"#009af9\" fill-rule=\"evenodd\" fill-opacity=\"1\" stroke=\"#000000\" stroke-opacity=\"1\" stroke-width=\"3.2\"/>\n",
       "<circle clip-path=\"url(#clip5502)\" cx=\"1866.49\" cy=\"464.253\" r=\"14\" fill=\"#009af9\" fill-rule=\"evenodd\" fill-opacity=\"1\" stroke=\"#000000\" stroke-opacity=\"1\" stroke-width=\"3.2\"/>\n",
       "<circle clip-path=\"url(#clip5502)\" cx=\"1866.49\" cy=\"464.253\" r=\"14\" fill=\"#009af9\" fill-rule=\"evenodd\" fill-opacity=\"1\" stroke=\"#000000\" stroke-opacity=\"1\" stroke-width=\"3.2\"/>\n",
       "<circle clip-path=\"url(#clip5502)\" cx=\"1866.49\" cy=\"464.253\" r=\"14\" fill=\"#009af9\" fill-rule=\"evenodd\" fill-opacity=\"1\" stroke=\"#000000\" stroke-opacity=\"1\" stroke-width=\"3.2\"/>\n",
       "<circle clip-path=\"url(#clip5502)\" cx=\"1866.49\" cy=\"464.253\" r=\"14\" fill=\"#009af9\" fill-rule=\"evenodd\" fill-opacity=\"1\" stroke=\"#000000\" stroke-opacity=\"1\" stroke-width=\"3.2\"/>\n",
       "<circle clip-path=\"url(#clip5502)\" cx=\"1866.49\" cy=\"464.253\" r=\"14\" fill=\"#009af9\" fill-rule=\"evenodd\" fill-opacity=\"1\" stroke=\"#000000\" stroke-opacity=\"1\" stroke-width=\"3.2\"/>\n",
       "<circle clip-path=\"url(#clip5502)\" cx=\"1866.49\" cy=\"464.253\" r=\"14\" fill=\"#009af9\" fill-rule=\"evenodd\" fill-opacity=\"1\" stroke=\"#000000\" stroke-opacity=\"1\" stroke-width=\"3.2\"/>\n",
       "<circle clip-path=\"url(#clip5502)\" cx=\"1866.49\" cy=\"464.253\" r=\"14\" fill=\"#009af9\" fill-rule=\"evenodd\" fill-opacity=\"1\" stroke=\"#000000\" stroke-opacity=\"1\" stroke-width=\"3.2\"/>\n",
       "<circle clip-path=\"url(#clip5502)\" cx=\"1866.49\" cy=\"464.253\" r=\"14\" fill=\"#009af9\" fill-rule=\"evenodd\" fill-opacity=\"1\" stroke=\"#000000\" stroke-opacity=\"1\" stroke-width=\"3.2\"/>\n",
       "<circle clip-path=\"url(#clip5502)\" cx=\"1866.49\" cy=\"464.253\" r=\"14\" fill=\"#009af9\" fill-rule=\"evenodd\" fill-opacity=\"1\" stroke=\"#000000\" stroke-opacity=\"1\" stroke-width=\"3.2\"/>\n",
       "<circle clip-path=\"url(#clip5502)\" cx=\"1866.49\" cy=\"464.253\" r=\"14\" fill=\"#009af9\" fill-rule=\"evenodd\" fill-opacity=\"1\" stroke=\"#000000\" stroke-opacity=\"1\" stroke-width=\"3.2\"/>\n",
       "<circle clip-path=\"url(#clip5502)\" cx=\"1866.49\" cy=\"464.253\" r=\"14\" fill=\"#009af9\" fill-rule=\"evenodd\" fill-opacity=\"1\" stroke=\"#000000\" stroke-opacity=\"1\" stroke-width=\"3.2\"/>\n",
       "<circle clip-path=\"url(#clip5502)\" cx=\"1866.49\" cy=\"464.253\" r=\"14\" fill=\"#009af9\" fill-rule=\"evenodd\" fill-opacity=\"1\" stroke=\"#000000\" stroke-opacity=\"1\" stroke-width=\"3.2\"/>\n",
       "<circle clip-path=\"url(#clip5502)\" cx=\"1866.49\" cy=\"464.253\" r=\"14\" fill=\"#009af9\" fill-rule=\"evenodd\" fill-opacity=\"1\" stroke=\"#000000\" stroke-opacity=\"1\" stroke-width=\"3.2\"/>\n",
       "<circle clip-path=\"url(#clip5502)\" cx=\"1866.49\" cy=\"464.253\" r=\"14\" fill=\"#009af9\" fill-rule=\"evenodd\" fill-opacity=\"1\" stroke=\"#000000\" stroke-opacity=\"1\" stroke-width=\"3.2\"/>\n",
       "<circle clip-path=\"url(#clip5502)\" cx=\"1866.49\" cy=\"464.253\" r=\"14\" fill=\"#009af9\" fill-rule=\"evenodd\" fill-opacity=\"1\" stroke=\"#000000\" stroke-opacity=\"1\" stroke-width=\"3.2\"/>\n",
       "<circle clip-path=\"url(#clip5502)\" cx=\"1866.49\" cy=\"464.253\" r=\"14\" fill=\"#009af9\" fill-rule=\"evenodd\" fill-opacity=\"1\" stroke=\"#000000\" stroke-opacity=\"1\" stroke-width=\"3.2\"/>\n",
       "<circle clip-path=\"url(#clip5502)\" cx=\"1866.49\" cy=\"464.253\" r=\"14\" fill=\"#009af9\" fill-rule=\"evenodd\" fill-opacity=\"1\" stroke=\"#000000\" stroke-opacity=\"1\" stroke-width=\"3.2\"/>\n",
       "<circle clip-path=\"url(#clip5502)\" cx=\"1866.49\" cy=\"464.253\" r=\"14\" fill=\"#009af9\" fill-rule=\"evenodd\" fill-opacity=\"1\" stroke=\"#000000\" stroke-opacity=\"1\" stroke-width=\"3.2\"/>\n",
       "<circle clip-path=\"url(#clip5502)\" cx=\"1866.49\" cy=\"464.253\" r=\"14\" fill=\"#009af9\" fill-rule=\"evenodd\" fill-opacity=\"1\" stroke=\"#000000\" stroke-opacity=\"1\" stroke-width=\"3.2\"/>\n",
       "<circle clip-path=\"url(#clip5502)\" cx=\"1866.49\" cy=\"464.253\" r=\"14\" fill=\"#009af9\" fill-rule=\"evenodd\" fill-opacity=\"1\" stroke=\"#000000\" stroke-opacity=\"1\" stroke-width=\"3.2\"/>\n",
       "<circle clip-path=\"url(#clip5502)\" cx=\"1866.49\" cy=\"464.253\" r=\"14\" fill=\"#009af9\" fill-rule=\"evenodd\" fill-opacity=\"1\" stroke=\"#000000\" stroke-opacity=\"1\" stroke-width=\"3.2\"/>\n",
       "<circle clip-path=\"url(#clip5502)\" cx=\"1866.49\" cy=\"464.253\" r=\"14\" fill=\"#009af9\" fill-rule=\"evenodd\" fill-opacity=\"1\" stroke=\"#000000\" stroke-opacity=\"1\" stroke-width=\"3.2\"/>\n",
       "<circle clip-path=\"url(#clip5502)\" cx=\"1866.49\" cy=\"464.253\" r=\"14\" fill=\"#009af9\" fill-rule=\"evenodd\" fill-opacity=\"1\" stroke=\"#000000\" stroke-opacity=\"1\" stroke-width=\"3.2\"/>\n",
       "<circle clip-path=\"url(#clip5502)\" cx=\"1866.49\" cy=\"464.253\" r=\"14\" fill=\"#009af9\" fill-rule=\"evenodd\" fill-opacity=\"1\" stroke=\"#000000\" stroke-opacity=\"1\" stroke-width=\"3.2\"/>\n",
       "<circle clip-path=\"url(#clip5502)\" cx=\"1866.49\" cy=\"464.253\" r=\"14\" fill=\"#009af9\" fill-rule=\"evenodd\" fill-opacity=\"1\" stroke=\"#000000\" stroke-opacity=\"1\" stroke-width=\"3.2\"/>\n",
       "<circle clip-path=\"url(#clip5502)\" cx=\"1866.49\" cy=\"464.253\" r=\"14\" fill=\"#009af9\" fill-rule=\"evenodd\" fill-opacity=\"1\" stroke=\"#000000\" stroke-opacity=\"1\" stroke-width=\"3.2\"/>\n",
       "<circle clip-path=\"url(#clip5502)\" cx=\"1866.49\" cy=\"464.253\" r=\"14\" fill=\"#009af9\" fill-rule=\"evenodd\" fill-opacity=\"1\" stroke=\"#000000\" stroke-opacity=\"1\" stroke-width=\"3.2\"/>\n",
       "<circle clip-path=\"url(#clip5502)\" cx=\"1866.49\" cy=\"464.253\" r=\"14\" fill=\"#009af9\" fill-rule=\"evenodd\" fill-opacity=\"1\" stroke=\"#000000\" stroke-opacity=\"1\" stroke-width=\"3.2\"/>\n",
       "<circle clip-path=\"url(#clip5502)\" cx=\"1866.49\" cy=\"464.253\" r=\"14\" fill=\"#009af9\" fill-rule=\"evenodd\" fill-opacity=\"1\" stroke=\"#000000\" stroke-opacity=\"1\" stroke-width=\"3.2\"/>\n",
       "<circle clip-path=\"url(#clip5502)\" cx=\"1866.49\" cy=\"464.253\" r=\"14\" fill=\"#009af9\" fill-rule=\"evenodd\" fill-opacity=\"1\" stroke=\"#000000\" stroke-opacity=\"1\" stroke-width=\"3.2\"/>\n",
       "<circle clip-path=\"url(#clip5502)\" cx=\"1866.49\" cy=\"464.253\" r=\"14\" fill=\"#009af9\" fill-rule=\"evenodd\" fill-opacity=\"1\" stroke=\"#000000\" stroke-opacity=\"1\" stroke-width=\"3.2\"/>\n",
       "<circle clip-path=\"url(#clip5502)\" cx=\"1735.05\" cy=\"402.847\" r=\"14\" fill=\"#009af9\" fill-rule=\"evenodd\" fill-opacity=\"1\" stroke=\"#000000\" stroke-opacity=\"1\" stroke-width=\"3.2\"/>\n",
       "<circle clip-path=\"url(#clip5502)\" cx=\"1866.49\" cy=\"464.253\" r=\"14\" fill=\"#009af9\" fill-rule=\"evenodd\" fill-opacity=\"1\" stroke=\"#000000\" stroke-opacity=\"1\" stroke-width=\"3.2\"/>\n",
       "<circle clip-path=\"url(#clip5502)\" cx=\"1866.49\" cy=\"464.253\" r=\"14\" fill=\"#009af9\" fill-rule=\"evenodd\" fill-opacity=\"1\" stroke=\"#000000\" stroke-opacity=\"1\" stroke-width=\"3.2\"/>\n",
       "<circle clip-path=\"url(#clip5502)\" cx=\"1866.49\" cy=\"464.253\" r=\"14\" fill=\"#009af9\" fill-rule=\"evenodd\" fill-opacity=\"1\" stroke=\"#000000\" stroke-opacity=\"1\" stroke-width=\"3.2\"/>\n",
       "<circle clip-path=\"url(#clip5502)\" cx=\"1866.49\" cy=\"464.253\" r=\"14\" fill=\"#009af9\" fill-rule=\"evenodd\" fill-opacity=\"1\" stroke=\"#000000\" stroke-opacity=\"1\" stroke-width=\"3.2\"/>\n",
       "<circle clip-path=\"url(#clip5502)\" cx=\"1866.49\" cy=\"464.253\" r=\"14\" fill=\"#009af9\" fill-rule=\"evenodd\" fill-opacity=\"1\" stroke=\"#000000\" stroke-opacity=\"1\" stroke-width=\"3.2\"/>\n",
       "<circle clip-path=\"url(#clip5502)\" cx=\"1866.49\" cy=\"464.253\" r=\"14\" fill=\"#009af9\" fill-rule=\"evenodd\" fill-opacity=\"1\" stroke=\"#000000\" stroke-opacity=\"1\" stroke-width=\"3.2\"/>\n",
       "<circle clip-path=\"url(#clip5502)\" cx=\"1866.49\" cy=\"464.253\" r=\"14\" fill=\"#009af9\" fill-rule=\"evenodd\" fill-opacity=\"1\" stroke=\"#000000\" stroke-opacity=\"1\" stroke-width=\"3.2\"/>\n",
       "<circle clip-path=\"url(#clip5502)\" cx=\"1866.49\" cy=\"464.253\" r=\"14\" fill=\"#009af9\" fill-rule=\"evenodd\" fill-opacity=\"1\" stroke=\"#000000\" stroke-opacity=\"1\" stroke-width=\"3.2\"/>\n",
       "<circle clip-path=\"url(#clip5502)\" cx=\"1866.49\" cy=\"464.253\" r=\"14\" fill=\"#009af9\" fill-rule=\"evenodd\" fill-opacity=\"1\" stroke=\"#000000\" stroke-opacity=\"1\" stroke-width=\"3.2\"/>\n",
       "<circle clip-path=\"url(#clip5502)\" cx=\"1866.49\" cy=\"464.253\" r=\"14\" fill=\"#009af9\" fill-rule=\"evenodd\" fill-opacity=\"1\" stroke=\"#000000\" stroke-opacity=\"1\" stroke-width=\"3.2\"/>\n",
       "<circle clip-path=\"url(#clip5502)\" cx=\"1866.49\" cy=\"464.253\" r=\"14\" fill=\"#009af9\" fill-rule=\"evenodd\" fill-opacity=\"1\" stroke=\"#000000\" stroke-opacity=\"1\" stroke-width=\"3.2\"/>\n",
       "<circle clip-path=\"url(#clip5502)\" cx=\"1866.49\" cy=\"464.253\" r=\"14\" fill=\"#009af9\" fill-rule=\"evenodd\" fill-opacity=\"1\" stroke=\"#000000\" stroke-opacity=\"1\" stroke-width=\"3.2\"/>\n",
       "<circle clip-path=\"url(#clip5502)\" cx=\"1866.49\" cy=\"464.253\" r=\"14\" fill=\"#009af9\" fill-rule=\"evenodd\" fill-opacity=\"1\" stroke=\"#000000\" stroke-opacity=\"1\" stroke-width=\"3.2\"/>\n",
       "<circle clip-path=\"url(#clip5502)\" cx=\"1866.49\" cy=\"464.253\" r=\"14\" fill=\"#009af9\" fill-rule=\"evenodd\" fill-opacity=\"1\" stroke=\"#000000\" stroke-opacity=\"1\" stroke-width=\"3.2\"/>\n",
       "<circle clip-path=\"url(#clip5502)\" cx=\"1866.49\" cy=\"464.253\" r=\"14\" fill=\"#009af9\" fill-rule=\"evenodd\" fill-opacity=\"1\" stroke=\"#000000\" stroke-opacity=\"1\" stroke-width=\"3.2\"/>\n",
       "<circle clip-path=\"url(#clip5502)\" cx=\"1866.49\" cy=\"464.253\" r=\"14\" fill=\"#009af9\" fill-rule=\"evenodd\" fill-opacity=\"1\" stroke=\"#000000\" stroke-opacity=\"1\" stroke-width=\"3.2\"/>\n",
       "<circle clip-path=\"url(#clip5502)\" cx=\"1866.49\" cy=\"464.253\" r=\"14\" fill=\"#009af9\" fill-rule=\"evenodd\" fill-opacity=\"1\" stroke=\"#000000\" stroke-opacity=\"1\" stroke-width=\"3.2\"/>\n",
       "<circle clip-path=\"url(#clip5502)\" cx=\"1866.49\" cy=\"464.253\" r=\"14\" fill=\"#009af9\" fill-rule=\"evenodd\" fill-opacity=\"1\" stroke=\"#000000\" stroke-opacity=\"1\" stroke-width=\"3.2\"/>\n",
       "<circle clip-path=\"url(#clip5502)\" cx=\"1866.49\" cy=\"464.253\" r=\"14\" fill=\"#009af9\" fill-rule=\"evenodd\" fill-opacity=\"1\" stroke=\"#000000\" stroke-opacity=\"1\" stroke-width=\"3.2\"/>\n",
       "<circle clip-path=\"url(#clip5502)\" cx=\"1866.49\" cy=\"464.253\" r=\"14\" fill=\"#009af9\" fill-rule=\"evenodd\" fill-opacity=\"1\" stroke=\"#000000\" stroke-opacity=\"1\" stroke-width=\"3.2\"/>\n",
       "<circle clip-path=\"url(#clip5502)\" cx=\"1866.49\" cy=\"464.253\" r=\"14\" fill=\"#009af9\" fill-rule=\"evenodd\" fill-opacity=\"1\" stroke=\"#000000\" stroke-opacity=\"1\" stroke-width=\"3.2\"/>\n",
       "<circle clip-path=\"url(#clip5502)\" cx=\"1866.49\" cy=\"464.253\" r=\"14\" fill=\"#009af9\" fill-rule=\"evenodd\" fill-opacity=\"1\" stroke=\"#000000\" stroke-opacity=\"1\" stroke-width=\"3.2\"/>\n",
       "<circle clip-path=\"url(#clip5502)\" cx=\"1866.49\" cy=\"464.253\" r=\"14\" fill=\"#009af9\" fill-rule=\"evenodd\" fill-opacity=\"1\" stroke=\"#000000\" stroke-opacity=\"1\" stroke-width=\"3.2\"/>\n",
       "<circle clip-path=\"url(#clip5502)\" cx=\"1866.49\" cy=\"464.253\" r=\"14\" fill=\"#009af9\" fill-rule=\"evenodd\" fill-opacity=\"1\" stroke=\"#000000\" stroke-opacity=\"1\" stroke-width=\"3.2\"/>\n",
       "<circle clip-path=\"url(#clip5502)\" cx=\"1866.49\" cy=\"464.253\" r=\"14\" fill=\"#009af9\" fill-rule=\"evenodd\" fill-opacity=\"1\" stroke=\"#000000\" stroke-opacity=\"1\" stroke-width=\"3.2\"/>\n",
       "<circle clip-path=\"url(#clip5502)\" cx=\"1866.49\" cy=\"464.253\" r=\"14\" fill=\"#009af9\" fill-rule=\"evenodd\" fill-opacity=\"1\" stroke=\"#000000\" stroke-opacity=\"1\" stroke-width=\"3.2\"/>\n",
       "<circle clip-path=\"url(#clip5502)\" cx=\"1866.49\" cy=\"464.253\" r=\"14\" fill=\"#009af9\" fill-rule=\"evenodd\" fill-opacity=\"1\" stroke=\"#000000\" stroke-opacity=\"1\" stroke-width=\"3.2\"/>\n",
       "<circle clip-path=\"url(#clip5502)\" cx=\"1866.49\" cy=\"464.253\" r=\"14\" fill=\"#009af9\" fill-rule=\"evenodd\" fill-opacity=\"1\" stroke=\"#000000\" stroke-opacity=\"1\" stroke-width=\"3.2\"/>\n",
       "<circle clip-path=\"url(#clip5502)\" cx=\"1866.49\" cy=\"464.253\" r=\"14\" fill=\"#009af9\" fill-rule=\"evenodd\" fill-opacity=\"1\" stroke=\"#000000\" stroke-opacity=\"1\" stroke-width=\"3.2\"/>\n",
       "<circle clip-path=\"url(#clip5502)\" cx=\"1866.49\" cy=\"464.253\" r=\"14\" fill=\"#009af9\" fill-rule=\"evenodd\" fill-opacity=\"1\" stroke=\"#000000\" stroke-opacity=\"1\" stroke-width=\"3.2\"/>\n",
       "<circle clip-path=\"url(#clip5502)\" cx=\"1866.49\" cy=\"464.253\" r=\"14\" fill=\"#009af9\" fill-rule=\"evenodd\" fill-opacity=\"1\" stroke=\"#000000\" stroke-opacity=\"1\" stroke-width=\"3.2\"/>\n",
       "<circle clip-path=\"url(#clip5502)\" cx=\"1861.16\" cy=\"442\" r=\"14\" fill=\"#009af9\" fill-rule=\"evenodd\" fill-opacity=\"1\" stroke=\"#000000\" stroke-opacity=\"1\" stroke-width=\"3.2\"/>\n",
       "<circle clip-path=\"url(#clip5502)\" cx=\"1861.16\" cy=\"442\" r=\"14\" fill=\"#009af9\" fill-rule=\"evenodd\" fill-opacity=\"1\" stroke=\"#000000\" stroke-opacity=\"1\" stroke-width=\"3.2\"/>\n",
       "<circle clip-path=\"url(#clip5502)\" cx=\"1849.43\" cy=\"428.863\" r=\"14\" fill=\"#009af9\" fill-rule=\"evenodd\" fill-opacity=\"1\" stroke=\"#000000\" stroke-opacity=\"1\" stroke-width=\"3.2\"/>\n",
       "<circle clip-path=\"url(#clip5502)\" cx=\"1849.43\" cy=\"428.863\" r=\"14\" fill=\"#009af9\" fill-rule=\"evenodd\" fill-opacity=\"1\" stroke=\"#000000\" stroke-opacity=\"1\" stroke-width=\"3.2\"/>\n",
       "<circle clip-path=\"url(#clip5502)\" cx=\"1834.75\" cy=\"426.383\" r=\"14\" fill=\"#009af9\" fill-rule=\"evenodd\" fill-opacity=\"1\" stroke=\"#000000\" stroke-opacity=\"1\" stroke-width=\"3.2\"/>\n",
       "<circle clip-path=\"url(#clip5502)\" cx=\"1834.75\" cy=\"426.383\" r=\"14\" fill=\"#009af9\" fill-rule=\"evenodd\" fill-opacity=\"1\" stroke=\"#000000\" stroke-opacity=\"1\" stroke-width=\"3.2\"/>\n",
       "<circle clip-path=\"url(#clip5502)\" cx=\"1834.75\" cy=\"426.383\" r=\"14\" fill=\"#009af9\" fill-rule=\"evenodd\" fill-opacity=\"1\" stroke=\"#000000\" stroke-opacity=\"1\" stroke-width=\"3.2\"/>\n",
       "<circle clip-path=\"url(#clip5502)\" cx=\"1832.21\" cy=\"406.924\" r=\"14\" fill=\"#009af9\" fill-rule=\"evenodd\" fill-opacity=\"1\" stroke=\"#000000\" stroke-opacity=\"1\" stroke-width=\"3.2\"/>\n",
       "<circle clip-path=\"url(#clip5502)\" cx=\"1832.21\" cy=\"406.924\" r=\"14\" fill=\"#009af9\" fill-rule=\"evenodd\" fill-opacity=\"1\" stroke=\"#000000\" stroke-opacity=\"1\" stroke-width=\"3.2\"/>\n",
       "<circle clip-path=\"url(#clip5502)\" cx=\"1832.21\" cy=\"406.924\" r=\"14\" fill=\"#009af9\" fill-rule=\"evenodd\" fill-opacity=\"1\" stroke=\"#000000\" stroke-opacity=\"1\" stroke-width=\"3.2\"/>\n",
       "<circle clip-path=\"url(#clip5502)\" cx=\"1866.49\" cy=\"464.253\" r=\"14\" fill=\"#009af9\" fill-rule=\"evenodd\" fill-opacity=\"1\" stroke=\"#000000\" stroke-opacity=\"1\" stroke-width=\"3.2\"/>\n",
       "<circle clip-path=\"url(#clip5502)\" cx=\"1866.49\" cy=\"464.253\" r=\"14\" fill=\"#009af9\" fill-rule=\"evenodd\" fill-opacity=\"1\" stroke=\"#000000\" stroke-opacity=\"1\" stroke-width=\"3.2\"/>\n",
       "<circle clip-path=\"url(#clip5502)\" cx=\"1866.49\" cy=\"464.253\" r=\"14\" fill=\"#009af9\" fill-rule=\"evenodd\" fill-opacity=\"1\" stroke=\"#000000\" stroke-opacity=\"1\" stroke-width=\"3.2\"/>\n",
       "<circle clip-path=\"url(#clip5502)\" cx=\"1866.49\" cy=\"464.253\" r=\"14\" fill=\"#009af9\" fill-rule=\"evenodd\" fill-opacity=\"1\" stroke=\"#000000\" stroke-opacity=\"1\" stroke-width=\"3.2\"/>\n",
       "<circle clip-path=\"url(#clip5502)\" cx=\"1866.49\" cy=\"464.253\" r=\"14\" fill=\"#009af9\" fill-rule=\"evenodd\" fill-opacity=\"1\" stroke=\"#000000\" stroke-opacity=\"1\" stroke-width=\"3.2\"/>\n",
       "<circle clip-path=\"url(#clip5502)\" cx=\"1866.49\" cy=\"464.253\" r=\"14\" fill=\"#009af9\" fill-rule=\"evenodd\" fill-opacity=\"1\" stroke=\"#000000\" stroke-opacity=\"1\" stroke-width=\"3.2\"/>\n",
       "<circle clip-path=\"url(#clip5502)\" cx=\"1866.49\" cy=\"464.253\" r=\"14\" fill=\"#009af9\" fill-rule=\"evenodd\" fill-opacity=\"1\" stroke=\"#000000\" stroke-opacity=\"1\" stroke-width=\"3.2\"/>\n",
       "<circle clip-path=\"url(#clip5502)\" cx=\"1866.49\" cy=\"464.253\" r=\"14\" fill=\"#009af9\" fill-rule=\"evenodd\" fill-opacity=\"1\" stroke=\"#000000\" stroke-opacity=\"1\" stroke-width=\"3.2\"/>\n",
       "<circle clip-path=\"url(#clip5502)\" cx=\"1866.49\" cy=\"464.253\" r=\"14\" fill=\"#009af9\" fill-rule=\"evenodd\" fill-opacity=\"1\" stroke=\"#000000\" stroke-opacity=\"1\" stroke-width=\"3.2\"/>\n",
       "<circle clip-path=\"url(#clip5502)\" cx=\"1866.49\" cy=\"464.253\" r=\"14\" fill=\"#009af9\" fill-rule=\"evenodd\" fill-opacity=\"1\" stroke=\"#000000\" stroke-opacity=\"1\" stroke-width=\"3.2\"/>\n",
       "<circle clip-path=\"url(#clip5502)\" cx=\"1866.49\" cy=\"464.253\" r=\"14\" fill=\"#009af9\" fill-rule=\"evenodd\" fill-opacity=\"1\" stroke=\"#000000\" stroke-opacity=\"1\" stroke-width=\"3.2\"/>\n",
       "<circle clip-path=\"url(#clip5502)\" cx=\"1866.49\" cy=\"464.253\" r=\"14\" fill=\"#009af9\" fill-rule=\"evenodd\" fill-opacity=\"1\" stroke=\"#000000\" stroke-opacity=\"1\" stroke-width=\"3.2\"/>\n",
       "<circle clip-path=\"url(#clip5502)\" cx=\"1866.49\" cy=\"464.253\" r=\"14\" fill=\"#009af9\" fill-rule=\"evenodd\" fill-opacity=\"1\" stroke=\"#000000\" stroke-opacity=\"1\" stroke-width=\"3.2\"/>\n",
       "<circle clip-path=\"url(#clip5502)\" cx=\"1866.49\" cy=\"464.253\" r=\"14\" fill=\"#009af9\" fill-rule=\"evenodd\" fill-opacity=\"1\" stroke=\"#000000\" stroke-opacity=\"1\" stroke-width=\"3.2\"/>\n",
       "<circle clip-path=\"url(#clip5502)\" cx=\"1866.49\" cy=\"464.253\" r=\"14\" fill=\"#009af9\" fill-rule=\"evenodd\" fill-opacity=\"1\" stroke=\"#000000\" stroke-opacity=\"1\" stroke-width=\"3.2\"/>\n",
       "<circle clip-path=\"url(#clip5502)\" cx=\"1866.49\" cy=\"464.253\" r=\"14\" fill=\"#009af9\" fill-rule=\"evenodd\" fill-opacity=\"1\" stroke=\"#000000\" stroke-opacity=\"1\" stroke-width=\"3.2\"/>\n",
       "<circle clip-path=\"url(#clip5502)\" cx=\"1866.49\" cy=\"464.253\" r=\"14\" fill=\"#009af9\" fill-rule=\"evenodd\" fill-opacity=\"1\" stroke=\"#000000\" stroke-opacity=\"1\" stroke-width=\"3.2\"/>\n",
       "<circle clip-path=\"url(#clip5502)\" cx=\"1866.49\" cy=\"464.253\" r=\"14\" fill=\"#009af9\" fill-rule=\"evenodd\" fill-opacity=\"1\" stroke=\"#000000\" stroke-opacity=\"1\" stroke-width=\"3.2\"/>\n",
       "<circle clip-path=\"url(#clip5502)\" cx=\"1866.49\" cy=\"464.253\" r=\"14\" fill=\"#009af9\" fill-rule=\"evenodd\" fill-opacity=\"1\" stroke=\"#000000\" stroke-opacity=\"1\" stroke-width=\"3.2\"/>\n",
       "<circle clip-path=\"url(#clip5502)\" cx=\"1866.49\" cy=\"464.253\" r=\"14\" fill=\"#009af9\" fill-rule=\"evenodd\" fill-opacity=\"1\" stroke=\"#000000\" stroke-opacity=\"1\" stroke-width=\"3.2\"/>\n",
       "<circle clip-path=\"url(#clip5502)\" cx=\"1866.49\" cy=\"464.253\" r=\"14\" fill=\"#009af9\" fill-rule=\"evenodd\" fill-opacity=\"1\" stroke=\"#000000\" stroke-opacity=\"1\" stroke-width=\"3.2\"/>\n",
       "<circle clip-path=\"url(#clip5502)\" cx=\"1866.49\" cy=\"464.253\" r=\"14\" fill=\"#009af9\" fill-rule=\"evenodd\" fill-opacity=\"1\" stroke=\"#000000\" stroke-opacity=\"1\" stroke-width=\"3.2\"/>\n",
       "<circle clip-path=\"url(#clip5502)\" cx=\"1866.49\" cy=\"464.253\" r=\"14\" fill=\"#009af9\" fill-rule=\"evenodd\" fill-opacity=\"1\" stroke=\"#000000\" stroke-opacity=\"1\" stroke-width=\"3.2\"/>\n",
       "<circle clip-path=\"url(#clip5502)\" cx=\"1866.49\" cy=\"464.253\" r=\"14\" fill=\"#009af9\" fill-rule=\"evenodd\" fill-opacity=\"1\" stroke=\"#000000\" stroke-opacity=\"1\" stroke-width=\"3.2\"/>\n",
       "<circle clip-path=\"url(#clip5502)\" cx=\"1866.49\" cy=\"464.253\" r=\"14\" fill=\"#009af9\" fill-rule=\"evenodd\" fill-opacity=\"1\" stroke=\"#000000\" stroke-opacity=\"1\" stroke-width=\"3.2\"/>\n",
       "<circle clip-path=\"url(#clip5502)\" cx=\"1866.49\" cy=\"464.253\" r=\"14\" fill=\"#009af9\" fill-rule=\"evenodd\" fill-opacity=\"1\" stroke=\"#000000\" stroke-opacity=\"1\" stroke-width=\"3.2\"/>\n",
       "<circle clip-path=\"url(#clip5502)\" cx=\"1866.49\" cy=\"464.253\" r=\"14\" fill=\"#009af9\" fill-rule=\"evenodd\" fill-opacity=\"1\" stroke=\"#000000\" stroke-opacity=\"1\" stroke-width=\"3.2\"/>\n",
       "<circle clip-path=\"url(#clip5502)\" cx=\"1866.49\" cy=\"464.253\" r=\"14\" fill=\"#009af9\" fill-rule=\"evenodd\" fill-opacity=\"1\" stroke=\"#000000\" stroke-opacity=\"1\" stroke-width=\"3.2\"/>\n",
       "<circle clip-path=\"url(#clip5502)\" cx=\"1866.49\" cy=\"464.253\" r=\"14\" fill=\"#009af9\" fill-rule=\"evenodd\" fill-opacity=\"1\" stroke=\"#000000\" stroke-opacity=\"1\" stroke-width=\"3.2\"/>\n",
       "<circle clip-path=\"url(#clip5502)\" cx=\"1866.49\" cy=\"464.253\" r=\"14\" fill=\"#009af9\" fill-rule=\"evenodd\" fill-opacity=\"1\" stroke=\"#000000\" stroke-opacity=\"1\" stroke-width=\"3.2\"/>\n",
       "<circle clip-path=\"url(#clip5502)\" cx=\"1866.49\" cy=\"464.253\" r=\"14\" fill=\"#009af9\" fill-rule=\"evenodd\" fill-opacity=\"1\" stroke=\"#000000\" stroke-opacity=\"1\" stroke-width=\"3.2\"/>\n",
       "<circle clip-path=\"url(#clip5502)\" cx=\"1866.49\" cy=\"464.253\" r=\"14\" fill=\"#009af9\" fill-rule=\"evenodd\" fill-opacity=\"1\" stroke=\"#000000\" stroke-opacity=\"1\" stroke-width=\"3.2\"/>\n",
       "<circle clip-path=\"url(#clip5502)\" cx=\"1866.49\" cy=\"464.253\" r=\"14\" fill=\"#009af9\" fill-rule=\"evenodd\" fill-opacity=\"1\" stroke=\"#000000\" stroke-opacity=\"1\" stroke-width=\"3.2\"/>\n",
       "<circle clip-path=\"url(#clip5502)\" cx=\"1866.49\" cy=\"464.253\" r=\"14\" fill=\"#009af9\" fill-rule=\"evenodd\" fill-opacity=\"1\" stroke=\"#000000\" stroke-opacity=\"1\" stroke-width=\"3.2\"/>\n",
       "<circle clip-path=\"url(#clip5502)\" cx=\"1866.49\" cy=\"464.253\" r=\"14\" fill=\"#009af9\" fill-rule=\"evenodd\" fill-opacity=\"1\" stroke=\"#000000\" stroke-opacity=\"1\" stroke-width=\"3.2\"/>\n",
       "<circle clip-path=\"url(#clip5502)\" cx=\"1866.49\" cy=\"464.253\" r=\"14\" fill=\"#009af9\" fill-rule=\"evenodd\" fill-opacity=\"1\" stroke=\"#000000\" stroke-opacity=\"1\" stroke-width=\"3.2\"/>\n",
       "<circle clip-path=\"url(#clip5502)\" cx=\"1866.49\" cy=\"464.253\" r=\"14\" fill=\"#009af9\" fill-rule=\"evenodd\" fill-opacity=\"1\" stroke=\"#000000\" stroke-opacity=\"1\" stroke-width=\"3.2\"/>\n",
       "<circle clip-path=\"url(#clip5502)\" cx=\"1735.05\" cy=\"402.847\" r=\"14\" fill=\"#009af9\" fill-rule=\"evenodd\" fill-opacity=\"1\" stroke=\"#000000\" stroke-opacity=\"1\" stroke-width=\"3.2\"/>\n",
       "<circle clip-path=\"url(#clip5502)\" cx=\"1866.49\" cy=\"464.253\" r=\"14\" fill=\"#009af9\" fill-rule=\"evenodd\" fill-opacity=\"1\" stroke=\"#000000\" stroke-opacity=\"1\" stroke-width=\"3.2\"/>\n",
       "<circle clip-path=\"url(#clip5502)\" cx=\"1866.49\" cy=\"464.253\" r=\"14\" fill=\"#009af9\" fill-rule=\"evenodd\" fill-opacity=\"1\" stroke=\"#000000\" stroke-opacity=\"1\" stroke-width=\"3.2\"/>\n",
       "<circle clip-path=\"url(#clip5502)\" cx=\"1866.49\" cy=\"464.253\" r=\"14\" fill=\"#009af9\" fill-rule=\"evenodd\" fill-opacity=\"1\" stroke=\"#000000\" stroke-opacity=\"1\" stroke-width=\"3.2\"/>\n",
       "<circle clip-path=\"url(#clip5502)\" cx=\"1866.49\" cy=\"464.253\" r=\"14\" fill=\"#009af9\" fill-rule=\"evenodd\" fill-opacity=\"1\" stroke=\"#000000\" stroke-opacity=\"1\" stroke-width=\"3.2\"/>\n",
       "<circle clip-path=\"url(#clip5502)\" cx=\"1866.49\" cy=\"464.253\" r=\"14\" fill=\"#009af9\" fill-rule=\"evenodd\" fill-opacity=\"1\" stroke=\"#000000\" stroke-opacity=\"1\" stroke-width=\"3.2\"/>\n",
       "<circle clip-path=\"url(#clip5502)\" cx=\"1866.49\" cy=\"464.253\" r=\"14\" fill=\"#009af9\" fill-rule=\"evenodd\" fill-opacity=\"1\" stroke=\"#000000\" stroke-opacity=\"1\" stroke-width=\"3.2\"/>\n",
       "<circle clip-path=\"url(#clip5502)\" cx=\"1818.75\" cy=\"409.058\" r=\"14\" fill=\"#009af9\" fill-rule=\"evenodd\" fill-opacity=\"1\" stroke=\"#000000\" stroke-opacity=\"1\" stroke-width=\"3.2\"/>\n",
       "<circle clip-path=\"url(#clip5502)\" cx=\"1831.94\" cy=\"465.288\" r=\"14\" fill=\"#009af9\" fill-rule=\"evenodd\" fill-opacity=\"1\" stroke=\"#000000\" stroke-opacity=\"1\" stroke-width=\"3.2\"/>\n",
       "<circle clip-path=\"url(#clip5502)\" cx=\"1831.94\" cy=\"465.288\" r=\"14\" fill=\"#009af9\" fill-rule=\"evenodd\" fill-opacity=\"1\" stroke=\"#000000\" stroke-opacity=\"1\" stroke-width=\"3.2\"/>\n",
       "<circle clip-path=\"url(#clip5502)\" cx=\"1858.05\" cy=\"483.888\" r=\"14\" fill=\"#009af9\" fill-rule=\"evenodd\" fill-opacity=\"1\" stroke=\"#000000\" stroke-opacity=\"1\" stroke-width=\"3.2\"/>\n",
       "<circle clip-path=\"url(#clip5502)\" cx=\"1844.78\" cy=\"480.391\" r=\"14\" fill=\"#009af9\" fill-rule=\"evenodd\" fill-opacity=\"1\" stroke=\"#000000\" stroke-opacity=\"1\" stroke-width=\"3.2\"/>\n",
       "<circle clip-path=\"url(#clip5502)\" cx=\"1793.74\" cy=\"438.881\" r=\"14\" fill=\"#009af9\" fill-rule=\"evenodd\" fill-opacity=\"1\" stroke=\"#000000\" stroke-opacity=\"1\" stroke-width=\"3.2\"/>\n",
       "<circle clip-path=\"url(#clip5502)\" cx=\"1827.57\" cy=\"468.303\" r=\"14\" fill=\"#009af9\" fill-rule=\"evenodd\" fill-opacity=\"1\" stroke=\"#000000\" stroke-opacity=\"1\" stroke-width=\"3.2\"/>\n",
       "<circle clip-path=\"url(#clip5502)\" cx=\"1843.57\" cy=\"485.628\" r=\"14\" fill=\"#009af9\" fill-rule=\"evenodd\" fill-opacity=\"1\" stroke=\"#000000\" stroke-opacity=\"1\" stroke-width=\"3.2\"/>\n",
       "<circle clip-path=\"url(#clip5502)\" cx=\"1832.31\" cy=\"491.385\" r=\"14\" fill=\"#009af9\" fill-rule=\"evenodd\" fill-opacity=\"1\" stroke=\"#000000\" stroke-opacity=\"1\" stroke-width=\"3.2\"/>\n",
       "<circle clip-path=\"url(#clip5502)\" cx=\"1729.42\" cy=\"452.666\" r=\"14\" fill=\"#009af9\" fill-rule=\"evenodd\" fill-opacity=\"1\" stroke=\"#000000\" stroke-opacity=\"1\" stroke-width=\"3.2\"/>\n",
       "<circle clip-path=\"url(#clip5502)\" cx=\"1823.98\" cy=\"490.637\" r=\"14\" fill=\"#009af9\" fill-rule=\"evenodd\" fill-opacity=\"1\" stroke=\"#000000\" stroke-opacity=\"1\" stroke-width=\"3.2\"/>\n",
       "<circle clip-path=\"url(#clip5502)\" cx=\"1779.94\" cy=\"535.631\" r=\"14\" fill=\"#009af9\" fill-rule=\"evenodd\" fill-opacity=\"1\" stroke=\"#000000\" stroke-opacity=\"1\" stroke-width=\"3.2\"/>\n",
       "<circle clip-path=\"url(#clip5502)\" cx=\"1866.49\" cy=\"464.253\" r=\"14\" fill=\"#009af9\" fill-rule=\"evenodd\" fill-opacity=\"1\" stroke=\"#000000\" stroke-opacity=\"1\" stroke-width=\"3.2\"/>\n",
       "<circle clip-path=\"url(#clip5502)\" cx=\"1800.6\" cy=\"485.397\" r=\"14\" fill=\"#009af9\" fill-rule=\"evenodd\" fill-opacity=\"1\" stroke=\"#000000\" stroke-opacity=\"1\" stroke-width=\"3.2\"/>\n",
       "<circle clip-path=\"url(#clip5502)\" cx=\"1832.21\" cy=\"406.924\" r=\"14\" fill=\"#009af9\" fill-rule=\"evenodd\" fill-opacity=\"1\" stroke=\"#000000\" stroke-opacity=\"1\" stroke-width=\"3.2\"/>\n",
       "<circle clip-path=\"url(#clip5502)\" cx=\"1866.49\" cy=\"464.253\" r=\"14\" fill=\"#009af9\" fill-rule=\"evenodd\" fill-opacity=\"1\" stroke=\"#000000\" stroke-opacity=\"1\" stroke-width=\"3.2\"/>\n",
       "<circle clip-path=\"url(#clip5502)\" cx=\"1866.49\" cy=\"464.253\" r=\"14\" fill=\"#009af9\" fill-rule=\"evenodd\" fill-opacity=\"1\" stroke=\"#000000\" stroke-opacity=\"1\" stroke-width=\"3.2\"/>\n",
       "<circle clip-path=\"url(#clip5502)\" cx=\"1766.05\" cy=\"486.432\" r=\"14\" fill=\"#009af9\" fill-rule=\"evenodd\" fill-opacity=\"1\" stroke=\"#000000\" stroke-opacity=\"1\" stroke-width=\"3.2\"/>\n",
       "<circle clip-path=\"url(#clip5502)\" cx=\"1735.05\" cy=\"402.847\" r=\"14\" fill=\"#e26f46\" fill-rule=\"evenodd\" fill-opacity=\"1\" stroke=\"#000000\" stroke-opacity=\"1\" stroke-width=\"3.2\"/>\n",
       "<circle clip-path=\"url(#clip5502)\" cx=\"1866.49\" cy=\"464.253\" r=\"14\" fill=\"#e26f46\" fill-rule=\"evenodd\" fill-opacity=\"1\" stroke=\"#000000\" stroke-opacity=\"1\" stroke-width=\"3.2\"/>\n",
       "<circle clip-path=\"url(#clip5502)\" cx=\"1866.49\" cy=\"464.253\" r=\"14\" fill=\"#e26f46\" fill-rule=\"evenodd\" fill-opacity=\"1\" stroke=\"#000000\" stroke-opacity=\"1\" stroke-width=\"3.2\"/>\n",
       "<circle clip-path=\"url(#clip5502)\" cx=\"1735.05\" cy=\"402.847\" r=\"14\" fill=\"#e26f46\" fill-rule=\"evenodd\" fill-opacity=\"1\" stroke=\"#000000\" stroke-opacity=\"1\" stroke-width=\"3.2\"/>\n",
       "<circle clip-path=\"url(#clip5502)\" cx=\"1832.21\" cy=\"406.924\" r=\"14\" fill=\"#e26f46\" fill-rule=\"evenodd\" fill-opacity=\"1\" stroke=\"#000000\" stroke-opacity=\"1\" stroke-width=\"3.2\"/>\n",
       "<circle clip-path=\"url(#clip5502)\" cx=\"1866.49\" cy=\"464.253\" r=\"14\" fill=\"#e26f46\" fill-rule=\"evenodd\" fill-opacity=\"1\" stroke=\"#000000\" stroke-opacity=\"1\" stroke-width=\"3.2\"/>\n",
       "<circle clip-path=\"url(#clip5502)\" cx=\"1866.49\" cy=\"464.253\" r=\"14\" fill=\"#e26f46\" fill-rule=\"evenodd\" fill-opacity=\"1\" stroke=\"#000000\" stroke-opacity=\"1\" stroke-width=\"3.2\"/>\n",
       "<circle clip-path=\"url(#clip5502)\" cx=\"1866.49\" cy=\"464.253\" r=\"14\" fill=\"#e26f46\" fill-rule=\"evenodd\" fill-opacity=\"1\" stroke=\"#000000\" stroke-opacity=\"1\" stroke-width=\"3.2\"/>\n",
       "<circle clip-path=\"url(#clip5502)\" cx=\"1832.21\" cy=\"406.924\" r=\"14\" fill=\"#e26f46\" fill-rule=\"evenodd\" fill-opacity=\"1\" stroke=\"#000000\" stroke-opacity=\"1\" stroke-width=\"3.2\"/>\n",
       "<circle clip-path=\"url(#clip5502)\" cx=\"1834.75\" cy=\"426.383\" r=\"14\" fill=\"#e26f46\" fill-rule=\"evenodd\" fill-opacity=\"1\" stroke=\"#000000\" stroke-opacity=\"1\" stroke-width=\"3.2\"/>\n",
       "<circle clip-path=\"url(#clip5502)\" cx=\"1866.49\" cy=\"464.253\" r=\"14\" fill=\"#e26f46\" fill-rule=\"evenodd\" fill-opacity=\"1\" stroke=\"#000000\" stroke-opacity=\"1\" stroke-width=\"3.2\"/>\n",
       "<circle clip-path=\"url(#clip5502)\" cx=\"1866.49\" cy=\"464.253\" r=\"14\" fill=\"#e26f46\" fill-rule=\"evenodd\" fill-opacity=\"1\" stroke=\"#000000\" stroke-opacity=\"1\" stroke-width=\"3.2\"/>\n",
       "<circle clip-path=\"url(#clip5502)\" cx=\"1866.49\" cy=\"464.253\" r=\"14\" fill=\"#e26f46\" fill-rule=\"evenodd\" fill-opacity=\"1\" stroke=\"#000000\" stroke-opacity=\"1\" stroke-width=\"3.2\"/>\n",
       "<circle clip-path=\"url(#clip5502)\" cx=\"1834.75\" cy=\"426.383\" r=\"14\" fill=\"#e26f46\" fill-rule=\"evenodd\" fill-opacity=\"1\" stroke=\"#000000\" stroke-opacity=\"1\" stroke-width=\"3.2\"/>\n",
       "<circle clip-path=\"url(#clip5502)\" cx=\"1849.43\" cy=\"428.863\" r=\"14\" fill=\"#e26f46\" fill-rule=\"evenodd\" fill-opacity=\"1\" stroke=\"#000000\" stroke-opacity=\"1\" stroke-width=\"3.2\"/>\n",
       "<circle clip-path=\"url(#clip5502)\" cx=\"1866.49\" cy=\"464.253\" r=\"14\" fill=\"#e26f46\" fill-rule=\"evenodd\" fill-opacity=\"1\" stroke=\"#000000\" stroke-opacity=\"1\" stroke-width=\"3.2\"/>\n",
       "<circle clip-path=\"url(#clip5502)\" cx=\"1866.49\" cy=\"464.253\" r=\"14\" fill=\"#e26f46\" fill-rule=\"evenodd\" fill-opacity=\"1\" stroke=\"#000000\" stroke-opacity=\"1\" stroke-width=\"3.2\"/>\n",
       "<circle clip-path=\"url(#clip5502)\" cx=\"1849.43\" cy=\"428.863\" r=\"14\" fill=\"#e26f46\" fill-rule=\"evenodd\" fill-opacity=\"1\" stroke=\"#000000\" stroke-opacity=\"1\" stroke-width=\"3.2\"/>\n",
       "<circle clip-path=\"url(#clip5502)\" cx=\"1861.16\" cy=\"442\" r=\"14\" fill=\"#e26f46\" fill-rule=\"evenodd\" fill-opacity=\"1\" stroke=\"#000000\" stroke-opacity=\"1\" stroke-width=\"3.2\"/>\n",
       "<circle clip-path=\"url(#clip5502)\" cx=\"1866.49\" cy=\"464.253\" r=\"14\" fill=\"#e26f46\" fill-rule=\"evenodd\" fill-opacity=\"1\" stroke=\"#000000\" stroke-opacity=\"1\" stroke-width=\"3.2\"/>\n",
       "<circle clip-path=\"url(#clip5502)\" cx=\"1866.49\" cy=\"464.253\" r=\"14\" fill=\"#e26f46\" fill-rule=\"evenodd\" fill-opacity=\"1\" stroke=\"#000000\" stroke-opacity=\"1\" stroke-width=\"3.2\"/>\n",
       "<circle clip-path=\"url(#clip5502)\" cx=\"1861.16\" cy=\"442\" r=\"14\" fill=\"#e26f46\" fill-rule=\"evenodd\" fill-opacity=\"1\" stroke=\"#000000\" stroke-opacity=\"1\" stroke-width=\"3.2\"/>\n",
       "<circle clip-path=\"url(#clip5502)\" cx=\"1866.49\" cy=\"464.253\" r=\"14\" fill=\"#e26f46\" fill-rule=\"evenodd\" fill-opacity=\"1\" stroke=\"#000000\" stroke-opacity=\"1\" stroke-width=\"3.2\"/>\n",
       "<circle clip-path=\"url(#clip5502)\" cx=\"1866.49\" cy=\"464.253\" r=\"14\" fill=\"#e26f46\" fill-rule=\"evenodd\" fill-opacity=\"1\" stroke=\"#000000\" stroke-opacity=\"1\" stroke-width=\"3.2\"/>\n",
       "<circle clip-path=\"url(#clip5502)\" cx=\"1866.49\" cy=\"464.253\" r=\"14\" fill=\"#e26f46\" fill-rule=\"evenodd\" fill-opacity=\"1\" stroke=\"#000000\" stroke-opacity=\"1\" stroke-width=\"3.2\"/>\n",
       "<circle clip-path=\"url(#clip5502)\" cx=\"1866.49\" cy=\"464.253\" r=\"14\" fill=\"#e26f46\" fill-rule=\"evenodd\" fill-opacity=\"1\" stroke=\"#000000\" stroke-opacity=\"1\" stroke-width=\"3.2\"/>\n",
       "<circle clip-path=\"url(#clip5502)\" cx=\"1866.49\" cy=\"464.253\" r=\"14\" fill=\"#e26f46\" fill-rule=\"evenodd\" fill-opacity=\"1\" stroke=\"#000000\" stroke-opacity=\"1\" stroke-width=\"3.2\"/>\n",
       "<circle clip-path=\"url(#clip5502)\" cx=\"1866.49\" cy=\"464.253\" r=\"14\" fill=\"#e26f46\" fill-rule=\"evenodd\" fill-opacity=\"1\" stroke=\"#000000\" stroke-opacity=\"1\" stroke-width=\"3.2\"/>\n",
       "<circle clip-path=\"url(#clip5502)\" cx=\"1866.49\" cy=\"464.253\" r=\"14\" fill=\"#e26f46\" fill-rule=\"evenodd\" fill-opacity=\"1\" stroke=\"#000000\" stroke-opacity=\"1\" stroke-width=\"3.2\"/>\n",
       "<circle clip-path=\"url(#clip5502)\" cx=\"1866.49\" cy=\"464.253\" r=\"14\" fill=\"#e26f46\" fill-rule=\"evenodd\" fill-opacity=\"1\" stroke=\"#000000\" stroke-opacity=\"1\" stroke-width=\"3.2\"/>\n",
       "<circle clip-path=\"url(#clip5502)\" cx=\"1866.49\" cy=\"464.253\" r=\"14\" fill=\"#e26f46\" fill-rule=\"evenodd\" fill-opacity=\"1\" stroke=\"#000000\" stroke-opacity=\"1\" stroke-width=\"3.2\"/>\n",
       "<circle clip-path=\"url(#clip5502)\" cx=\"1866.49\" cy=\"464.253\" r=\"14\" fill=\"#e26f46\" fill-rule=\"evenodd\" fill-opacity=\"1\" stroke=\"#000000\" stroke-opacity=\"1\" stroke-width=\"3.2\"/>\n",
       "<circle clip-path=\"url(#clip5502)\" cx=\"1866.49\" cy=\"464.253\" r=\"14\" fill=\"#e26f46\" fill-rule=\"evenodd\" fill-opacity=\"1\" stroke=\"#000000\" stroke-opacity=\"1\" stroke-width=\"3.2\"/>\n",
       "<circle clip-path=\"url(#clip5502)\" cx=\"1866.49\" cy=\"464.253\" r=\"14\" fill=\"#e26f46\" fill-rule=\"evenodd\" fill-opacity=\"1\" stroke=\"#000000\" stroke-opacity=\"1\" stroke-width=\"3.2\"/>\n",
       "<circle clip-path=\"url(#clip5502)\" cx=\"1866.49\" cy=\"464.253\" r=\"14\" fill=\"#e26f46\" fill-rule=\"evenodd\" fill-opacity=\"1\" stroke=\"#000000\" stroke-opacity=\"1\" stroke-width=\"3.2\"/>\n",
       "<circle clip-path=\"url(#clip5502)\" cx=\"1866.49\" cy=\"464.253\" r=\"14\" fill=\"#e26f46\" fill-rule=\"evenodd\" fill-opacity=\"1\" stroke=\"#000000\" stroke-opacity=\"1\" stroke-width=\"3.2\"/>\n",
       "<circle clip-path=\"url(#clip5502)\" cx=\"1866.49\" cy=\"464.253\" r=\"14\" fill=\"#e26f46\" fill-rule=\"evenodd\" fill-opacity=\"1\" stroke=\"#000000\" stroke-opacity=\"1\" stroke-width=\"3.2\"/>\n",
       "<circle clip-path=\"url(#clip5502)\" cx=\"1866.49\" cy=\"464.253\" r=\"14\" fill=\"#e26f46\" fill-rule=\"evenodd\" fill-opacity=\"1\" stroke=\"#000000\" stroke-opacity=\"1\" stroke-width=\"3.2\"/>\n",
       "<circle clip-path=\"url(#clip5502)\" cx=\"1866.49\" cy=\"464.253\" r=\"14\" fill=\"#e26f46\" fill-rule=\"evenodd\" fill-opacity=\"1\" stroke=\"#000000\" stroke-opacity=\"1\" stroke-width=\"3.2\"/>\n",
       "<circle clip-path=\"url(#clip5502)\" cx=\"1866.49\" cy=\"464.253\" r=\"14\" fill=\"#e26f46\" fill-rule=\"evenodd\" fill-opacity=\"1\" stroke=\"#000000\" stroke-opacity=\"1\" stroke-width=\"3.2\"/>\n",
       "<circle clip-path=\"url(#clip5502)\" cx=\"1866.49\" cy=\"464.253\" r=\"14\" fill=\"#e26f46\" fill-rule=\"evenodd\" fill-opacity=\"1\" stroke=\"#000000\" stroke-opacity=\"1\" stroke-width=\"3.2\"/>\n",
       "<circle clip-path=\"url(#clip5502)\" cx=\"1866.49\" cy=\"464.253\" r=\"14\" fill=\"#e26f46\" fill-rule=\"evenodd\" fill-opacity=\"1\" stroke=\"#000000\" stroke-opacity=\"1\" stroke-width=\"3.2\"/>\n",
       "<circle clip-path=\"url(#clip5502)\" cx=\"1866.49\" cy=\"464.253\" r=\"14\" fill=\"#e26f46\" fill-rule=\"evenodd\" fill-opacity=\"1\" stroke=\"#000000\" stroke-opacity=\"1\" stroke-width=\"3.2\"/>\n",
       "<circle clip-path=\"url(#clip5502)\" cx=\"1866.49\" cy=\"464.253\" r=\"14\" fill=\"#e26f46\" fill-rule=\"evenodd\" fill-opacity=\"1\" stroke=\"#000000\" stroke-opacity=\"1\" stroke-width=\"3.2\"/>\n",
       "<circle clip-path=\"url(#clip5502)\" cx=\"1866.49\" cy=\"464.253\" r=\"14\" fill=\"#e26f46\" fill-rule=\"evenodd\" fill-opacity=\"1\" stroke=\"#000000\" stroke-opacity=\"1\" stroke-width=\"3.2\"/>\n",
       "<circle clip-path=\"url(#clip5502)\" cx=\"1866.49\" cy=\"464.253\" r=\"14\" fill=\"#e26f46\" fill-rule=\"evenodd\" fill-opacity=\"1\" stroke=\"#000000\" stroke-opacity=\"1\" stroke-width=\"3.2\"/>\n",
       "<circle clip-path=\"url(#clip5502)\" cx=\"1866.49\" cy=\"464.253\" r=\"14\" fill=\"#e26f46\" fill-rule=\"evenodd\" fill-opacity=\"1\" stroke=\"#000000\" stroke-opacity=\"1\" stroke-width=\"3.2\"/>\n",
       "<circle clip-path=\"url(#clip5502)\" cx=\"1866.49\" cy=\"464.253\" r=\"14\" fill=\"#e26f46\" fill-rule=\"evenodd\" fill-opacity=\"1\" stroke=\"#000000\" stroke-opacity=\"1\" stroke-width=\"3.2\"/>\n",
       "<circle clip-path=\"url(#clip5502)\" cx=\"1866.49\" cy=\"464.253\" r=\"14\" fill=\"#e26f46\" fill-rule=\"evenodd\" fill-opacity=\"1\" stroke=\"#000000\" stroke-opacity=\"1\" stroke-width=\"3.2\"/>\n",
       "<circle clip-path=\"url(#clip5502)\" cx=\"1866.49\" cy=\"464.253\" r=\"14\" fill=\"#e26f46\" fill-rule=\"evenodd\" fill-opacity=\"1\" stroke=\"#000000\" stroke-opacity=\"1\" stroke-width=\"3.2\"/>\n",
       "<circle clip-path=\"url(#clip5502)\" cx=\"1866.49\" cy=\"464.253\" r=\"14\" fill=\"#e26f46\" fill-rule=\"evenodd\" fill-opacity=\"1\" stroke=\"#000000\" stroke-opacity=\"1\" stroke-width=\"3.2\"/>\n",
       "<circle clip-path=\"url(#clip5502)\" cx=\"1866.49\" cy=\"464.253\" r=\"14\" fill=\"#e26f46\" fill-rule=\"evenodd\" fill-opacity=\"1\" stroke=\"#000000\" stroke-opacity=\"1\" stroke-width=\"3.2\"/>\n",
       "<circle clip-path=\"url(#clip5502)\" cx=\"1866.49\" cy=\"464.253\" r=\"14\" fill=\"#e26f46\" fill-rule=\"evenodd\" fill-opacity=\"1\" stroke=\"#000000\" stroke-opacity=\"1\" stroke-width=\"3.2\"/>\n",
       "<circle clip-path=\"url(#clip5502)\" cx=\"1866.49\" cy=\"464.253\" r=\"14\" fill=\"#e26f46\" fill-rule=\"evenodd\" fill-opacity=\"1\" stroke=\"#000000\" stroke-opacity=\"1\" stroke-width=\"3.2\"/>\n",
       "<circle clip-path=\"url(#clip5502)\" cx=\"1866.49\" cy=\"464.253\" r=\"14\" fill=\"#e26f46\" fill-rule=\"evenodd\" fill-opacity=\"1\" stroke=\"#000000\" stroke-opacity=\"1\" stroke-width=\"3.2\"/>\n",
       "<circle clip-path=\"url(#clip5502)\" cx=\"1866.49\" cy=\"464.253\" r=\"14\" fill=\"#e26f46\" fill-rule=\"evenodd\" fill-opacity=\"1\" stroke=\"#000000\" stroke-opacity=\"1\" stroke-width=\"3.2\"/>\n",
       "<circle clip-path=\"url(#clip5502)\" cx=\"1866.49\" cy=\"464.253\" r=\"14\" fill=\"#e26f46\" fill-rule=\"evenodd\" fill-opacity=\"1\" stroke=\"#000000\" stroke-opacity=\"1\" stroke-width=\"3.2\"/>\n",
       "<circle clip-path=\"url(#clip5502)\" cx=\"1866.49\" cy=\"464.253\" r=\"14\" fill=\"#e26f46\" fill-rule=\"evenodd\" fill-opacity=\"1\" stroke=\"#000000\" stroke-opacity=\"1\" stroke-width=\"3.2\"/>\n",
       "<circle clip-path=\"url(#clip5502)\" cx=\"1866.49\" cy=\"464.253\" r=\"14\" fill=\"#e26f46\" fill-rule=\"evenodd\" fill-opacity=\"1\" stroke=\"#000000\" stroke-opacity=\"1\" stroke-width=\"3.2\"/>\n",
       "<circle clip-path=\"url(#clip5502)\" cx=\"1866.49\" cy=\"464.253\" r=\"14\" fill=\"#e26f46\" fill-rule=\"evenodd\" fill-opacity=\"1\" stroke=\"#000000\" stroke-opacity=\"1\" stroke-width=\"3.2\"/>\n",
       "<circle clip-path=\"url(#clip5502)\" cx=\"1866.49\" cy=\"464.253\" r=\"14\" fill=\"#e26f46\" fill-rule=\"evenodd\" fill-opacity=\"1\" stroke=\"#000000\" stroke-opacity=\"1\" stroke-width=\"3.2\"/>\n",
       "<circle clip-path=\"url(#clip5502)\" cx=\"1866.49\" cy=\"464.253\" r=\"14\" fill=\"#e26f46\" fill-rule=\"evenodd\" fill-opacity=\"1\" stroke=\"#000000\" stroke-opacity=\"1\" stroke-width=\"3.2\"/>\n",
       "<circle clip-path=\"url(#clip5502)\" cx=\"1866.49\" cy=\"464.253\" r=\"14\" fill=\"#e26f46\" fill-rule=\"evenodd\" fill-opacity=\"1\" stroke=\"#000000\" stroke-opacity=\"1\" stroke-width=\"3.2\"/>\n",
       "<circle clip-path=\"url(#clip5502)\" cx=\"1866.49\" cy=\"464.253\" r=\"14\" fill=\"#e26f46\" fill-rule=\"evenodd\" fill-opacity=\"1\" stroke=\"#000000\" stroke-opacity=\"1\" stroke-width=\"3.2\"/>\n",
       "<circle clip-path=\"url(#clip5502)\" cx=\"1866.49\" cy=\"464.253\" r=\"14\" fill=\"#e26f46\" fill-rule=\"evenodd\" fill-opacity=\"1\" stroke=\"#000000\" stroke-opacity=\"1\" stroke-width=\"3.2\"/>\n",
       "<circle clip-path=\"url(#clip5502)\" cx=\"1866.49\" cy=\"464.253\" r=\"14\" fill=\"#e26f46\" fill-rule=\"evenodd\" fill-opacity=\"1\" stroke=\"#000000\" stroke-opacity=\"1\" stroke-width=\"3.2\"/>\n",
       "<circle clip-path=\"url(#clip5502)\" cx=\"1866.49\" cy=\"464.253\" r=\"14\" fill=\"#e26f46\" fill-rule=\"evenodd\" fill-opacity=\"1\" stroke=\"#000000\" stroke-opacity=\"1\" stroke-width=\"3.2\"/>\n",
       "<circle clip-path=\"url(#clip5502)\" cx=\"1866.49\" cy=\"464.253\" r=\"14\" fill=\"#e26f46\" fill-rule=\"evenodd\" fill-opacity=\"1\" stroke=\"#000000\" stroke-opacity=\"1\" stroke-width=\"3.2\"/>\n",
       "<circle clip-path=\"url(#clip5502)\" cx=\"1866.49\" cy=\"464.253\" r=\"14\" fill=\"#e26f46\" fill-rule=\"evenodd\" fill-opacity=\"1\" stroke=\"#000000\" stroke-opacity=\"1\" stroke-width=\"3.2\"/>\n",
       "<circle clip-path=\"url(#clip5502)\" cx=\"1866.49\" cy=\"464.253\" r=\"14\" fill=\"#e26f46\" fill-rule=\"evenodd\" fill-opacity=\"1\" stroke=\"#000000\" stroke-opacity=\"1\" stroke-width=\"3.2\"/>\n",
       "<circle clip-path=\"url(#clip5502)\" cx=\"1866.49\" cy=\"464.253\" r=\"14\" fill=\"#e26f46\" fill-rule=\"evenodd\" fill-opacity=\"1\" stroke=\"#000000\" stroke-opacity=\"1\" stroke-width=\"3.2\"/>\n",
       "<circle clip-path=\"url(#clip5502)\" cx=\"1866.49\" cy=\"464.253\" r=\"14\" fill=\"#e26f46\" fill-rule=\"evenodd\" fill-opacity=\"1\" stroke=\"#000000\" stroke-opacity=\"1\" stroke-width=\"3.2\"/>\n",
       "<circle clip-path=\"url(#clip5502)\" cx=\"1866.49\" cy=\"464.253\" r=\"14\" fill=\"#e26f46\" fill-rule=\"evenodd\" fill-opacity=\"1\" stroke=\"#000000\" stroke-opacity=\"1\" stroke-width=\"3.2\"/>\n",
       "<circle clip-path=\"url(#clip5502)\" cx=\"1866.49\" cy=\"464.253\" r=\"14\" fill=\"#e26f46\" fill-rule=\"evenodd\" fill-opacity=\"1\" stroke=\"#000000\" stroke-opacity=\"1\" stroke-width=\"3.2\"/>\n",
       "<circle clip-path=\"url(#clip5502)\" cx=\"1866.49\" cy=\"464.253\" r=\"14\" fill=\"#e26f46\" fill-rule=\"evenodd\" fill-opacity=\"1\" stroke=\"#000000\" stroke-opacity=\"1\" stroke-width=\"3.2\"/>\n",
       "<circle clip-path=\"url(#clip5502)\" cx=\"1866.49\" cy=\"464.253\" r=\"14\" fill=\"#e26f46\" fill-rule=\"evenodd\" fill-opacity=\"1\" stroke=\"#000000\" stroke-opacity=\"1\" stroke-width=\"3.2\"/>\n",
       "<circle clip-path=\"url(#clip5502)\" cx=\"1866.49\" cy=\"464.253\" r=\"14\" fill=\"#e26f46\" fill-rule=\"evenodd\" fill-opacity=\"1\" stroke=\"#000000\" stroke-opacity=\"1\" stroke-width=\"3.2\"/>\n",
       "<circle clip-path=\"url(#clip5502)\" cx=\"1866.49\" cy=\"464.253\" r=\"14\" fill=\"#e26f46\" fill-rule=\"evenodd\" fill-opacity=\"1\" stroke=\"#000000\" stroke-opacity=\"1\" stroke-width=\"3.2\"/>\n",
       "<circle clip-path=\"url(#clip5502)\" cx=\"1866.49\" cy=\"464.253\" r=\"14\" fill=\"#e26f46\" fill-rule=\"evenodd\" fill-opacity=\"1\" stroke=\"#000000\" stroke-opacity=\"1\" stroke-width=\"3.2\"/>\n",
       "<circle clip-path=\"url(#clip5502)\" cx=\"1866.49\" cy=\"464.253\" r=\"14\" fill=\"#e26f46\" fill-rule=\"evenodd\" fill-opacity=\"1\" stroke=\"#000000\" stroke-opacity=\"1\" stroke-width=\"3.2\"/>\n",
       "<circle clip-path=\"url(#clip5502)\" cx=\"1866.49\" cy=\"464.253\" r=\"14\" fill=\"#e26f46\" fill-rule=\"evenodd\" fill-opacity=\"1\" stroke=\"#000000\" stroke-opacity=\"1\" stroke-width=\"3.2\"/>\n",
       "<circle clip-path=\"url(#clip5502)\" cx=\"1866.49\" cy=\"464.253\" r=\"14\" fill=\"#e26f46\" fill-rule=\"evenodd\" fill-opacity=\"1\" stroke=\"#000000\" stroke-opacity=\"1\" stroke-width=\"3.2\"/>\n",
       "<circle clip-path=\"url(#clip5502)\" cx=\"1866.49\" cy=\"464.253\" r=\"14\" fill=\"#e26f46\" fill-rule=\"evenodd\" fill-opacity=\"1\" stroke=\"#000000\" stroke-opacity=\"1\" stroke-width=\"3.2\"/>\n",
       "<circle clip-path=\"url(#clip5502)\" cx=\"1866.49\" cy=\"464.253\" r=\"14\" fill=\"#e26f46\" fill-rule=\"evenodd\" fill-opacity=\"1\" stroke=\"#000000\" stroke-opacity=\"1\" stroke-width=\"3.2\"/>\n",
       "<circle clip-path=\"url(#clip5502)\" cx=\"1866.49\" cy=\"464.253\" r=\"14\" fill=\"#e26f46\" fill-rule=\"evenodd\" fill-opacity=\"1\" stroke=\"#000000\" stroke-opacity=\"1\" stroke-width=\"3.2\"/>\n",
       "<circle clip-path=\"url(#clip5502)\" cx=\"1866.49\" cy=\"464.253\" r=\"14\" fill=\"#e26f46\" fill-rule=\"evenodd\" fill-opacity=\"1\" stroke=\"#000000\" stroke-opacity=\"1\" stroke-width=\"3.2\"/>\n",
       "<circle clip-path=\"url(#clip5502)\" cx=\"1866.49\" cy=\"464.253\" r=\"14\" fill=\"#e26f46\" fill-rule=\"evenodd\" fill-opacity=\"1\" stroke=\"#000000\" stroke-opacity=\"1\" stroke-width=\"3.2\"/>\n",
       "<circle clip-path=\"url(#clip5502)\" cx=\"1866.49\" cy=\"464.253\" r=\"14\" fill=\"#e26f46\" fill-rule=\"evenodd\" fill-opacity=\"1\" stroke=\"#000000\" stroke-opacity=\"1\" stroke-width=\"3.2\"/>\n",
       "<circle clip-path=\"url(#clip5502)\" cx=\"1866.49\" cy=\"464.253\" r=\"14\" fill=\"#e26f46\" fill-rule=\"evenodd\" fill-opacity=\"1\" stroke=\"#000000\" stroke-opacity=\"1\" stroke-width=\"3.2\"/>\n",
       "<circle clip-path=\"url(#clip5502)\" cx=\"1866.49\" cy=\"464.253\" r=\"14\" fill=\"#e26f46\" fill-rule=\"evenodd\" fill-opacity=\"1\" stroke=\"#000000\" stroke-opacity=\"1\" stroke-width=\"3.2\"/>\n",
       "<circle clip-path=\"url(#clip5502)\" cx=\"1866.49\" cy=\"464.253\" r=\"14\" fill=\"#e26f46\" fill-rule=\"evenodd\" fill-opacity=\"1\" stroke=\"#000000\" stroke-opacity=\"1\" stroke-width=\"3.2\"/>\n",
       "<circle clip-path=\"url(#clip5502)\" cx=\"1866.49\" cy=\"464.253\" r=\"14\" fill=\"#e26f46\" fill-rule=\"evenodd\" fill-opacity=\"1\" stroke=\"#000000\" stroke-opacity=\"1\" stroke-width=\"3.2\"/>\n",
       "<circle clip-path=\"url(#clip5502)\" cx=\"1866.49\" cy=\"464.253\" r=\"14\" fill=\"#e26f46\" fill-rule=\"evenodd\" fill-opacity=\"1\" stroke=\"#000000\" stroke-opacity=\"1\" stroke-width=\"3.2\"/>\n",
       "<circle clip-path=\"url(#clip5502)\" cx=\"1866.49\" cy=\"464.253\" r=\"14\" fill=\"#e26f46\" fill-rule=\"evenodd\" fill-opacity=\"1\" stroke=\"#000000\" stroke-opacity=\"1\" stroke-width=\"3.2\"/>\n",
       "<circle clip-path=\"url(#clip5502)\" cx=\"1866.49\" cy=\"464.253\" r=\"14\" fill=\"#e26f46\" fill-rule=\"evenodd\" fill-opacity=\"1\" stroke=\"#000000\" stroke-opacity=\"1\" stroke-width=\"3.2\"/>\n",
       "<circle clip-path=\"url(#clip5502)\" cx=\"1866.49\" cy=\"464.253\" r=\"14\" fill=\"#e26f46\" fill-rule=\"evenodd\" fill-opacity=\"1\" stroke=\"#000000\" stroke-opacity=\"1\" stroke-width=\"3.2\"/>\n",
       "<circle clip-path=\"url(#clip5502)\" cx=\"1735.05\" cy=\"402.847\" r=\"14\" fill=\"#e26f46\" fill-rule=\"evenodd\" fill-opacity=\"1\" stroke=\"#000000\" stroke-opacity=\"1\" stroke-width=\"3.2\"/>\n",
       "<circle clip-path=\"url(#clip5502)\" cx=\"1866.49\" cy=\"464.253\" r=\"14\" fill=\"#e26f46\" fill-rule=\"evenodd\" fill-opacity=\"1\" stroke=\"#000000\" stroke-opacity=\"1\" stroke-width=\"3.2\"/>\n",
       "<circle clip-path=\"url(#clip5502)\" cx=\"1866.49\" cy=\"464.253\" r=\"14\" fill=\"#e26f46\" fill-rule=\"evenodd\" fill-opacity=\"1\" stroke=\"#000000\" stroke-opacity=\"1\" stroke-width=\"3.2\"/>\n",
       "<circle clip-path=\"url(#clip5502)\" cx=\"1866.49\" cy=\"464.253\" r=\"14\" fill=\"#e26f46\" fill-rule=\"evenodd\" fill-opacity=\"1\" stroke=\"#000000\" stroke-opacity=\"1\" stroke-width=\"3.2\"/>\n",
       "<circle clip-path=\"url(#clip5502)\" cx=\"1866.49\" cy=\"464.253\" r=\"14\" fill=\"#e26f46\" fill-rule=\"evenodd\" fill-opacity=\"1\" stroke=\"#000000\" stroke-opacity=\"1\" stroke-width=\"3.2\"/>\n",
       "<circle clip-path=\"url(#clip5502)\" cx=\"1866.49\" cy=\"464.253\" r=\"14\" fill=\"#e26f46\" fill-rule=\"evenodd\" fill-opacity=\"1\" stroke=\"#000000\" stroke-opacity=\"1\" stroke-width=\"3.2\"/>\n",
       "<circle clip-path=\"url(#clip5502)\" cx=\"1866.49\" cy=\"464.253\" r=\"14\" fill=\"#e26f46\" fill-rule=\"evenodd\" fill-opacity=\"1\" stroke=\"#000000\" stroke-opacity=\"1\" stroke-width=\"3.2\"/>\n",
       "<circle clip-path=\"url(#clip5502)\" cx=\"1866.49\" cy=\"464.253\" r=\"14\" fill=\"#e26f46\" fill-rule=\"evenodd\" fill-opacity=\"1\" stroke=\"#000000\" stroke-opacity=\"1\" stroke-width=\"3.2\"/>\n",
       "<circle clip-path=\"url(#clip5502)\" cx=\"1866.49\" cy=\"464.253\" r=\"14\" fill=\"#e26f46\" fill-rule=\"evenodd\" fill-opacity=\"1\" stroke=\"#000000\" stroke-opacity=\"1\" stroke-width=\"3.2\"/>\n",
       "<circle clip-path=\"url(#clip5502)\" cx=\"1866.49\" cy=\"464.253\" r=\"14\" fill=\"#e26f46\" fill-rule=\"evenodd\" fill-opacity=\"1\" stroke=\"#000000\" stroke-opacity=\"1\" stroke-width=\"3.2\"/>\n",
       "<circle clip-path=\"url(#clip5502)\" cx=\"1866.49\" cy=\"464.253\" r=\"14\" fill=\"#e26f46\" fill-rule=\"evenodd\" fill-opacity=\"1\" stroke=\"#000000\" stroke-opacity=\"1\" stroke-width=\"3.2\"/>\n",
       "<circle clip-path=\"url(#clip5502)\" cx=\"1866.49\" cy=\"464.253\" r=\"14\" fill=\"#e26f46\" fill-rule=\"evenodd\" fill-opacity=\"1\" stroke=\"#000000\" stroke-opacity=\"1\" stroke-width=\"3.2\"/>\n",
       "<circle clip-path=\"url(#clip5502)\" cx=\"1866.49\" cy=\"464.253\" r=\"14\" fill=\"#e26f46\" fill-rule=\"evenodd\" fill-opacity=\"1\" stroke=\"#000000\" stroke-opacity=\"1\" stroke-width=\"3.2\"/>\n",
       "<circle clip-path=\"url(#clip5502)\" cx=\"1866.49\" cy=\"464.253\" r=\"14\" fill=\"#e26f46\" fill-rule=\"evenodd\" fill-opacity=\"1\" stroke=\"#000000\" stroke-opacity=\"1\" stroke-width=\"3.2\"/>\n",
       "<circle clip-path=\"url(#clip5502)\" cx=\"1866.49\" cy=\"464.253\" r=\"14\" fill=\"#e26f46\" fill-rule=\"evenodd\" fill-opacity=\"1\" stroke=\"#000000\" stroke-opacity=\"1\" stroke-width=\"3.2\"/>\n",
       "<circle clip-path=\"url(#clip5502)\" cx=\"1866.49\" cy=\"464.253\" r=\"14\" fill=\"#e26f46\" fill-rule=\"evenodd\" fill-opacity=\"1\" stroke=\"#000000\" stroke-opacity=\"1\" stroke-width=\"3.2\"/>\n",
       "<circle clip-path=\"url(#clip5502)\" cx=\"1866.49\" cy=\"464.253\" r=\"14\" fill=\"#e26f46\" fill-rule=\"evenodd\" fill-opacity=\"1\" stroke=\"#000000\" stroke-opacity=\"1\" stroke-width=\"3.2\"/>\n",
       "<circle clip-path=\"url(#clip5502)\" cx=\"1866.49\" cy=\"464.253\" r=\"14\" fill=\"#e26f46\" fill-rule=\"evenodd\" fill-opacity=\"1\" stroke=\"#000000\" stroke-opacity=\"1\" stroke-width=\"3.2\"/>\n",
       "<circle clip-path=\"url(#clip5502)\" cx=\"1866.49\" cy=\"464.253\" r=\"14\" fill=\"#e26f46\" fill-rule=\"evenodd\" fill-opacity=\"1\" stroke=\"#000000\" stroke-opacity=\"1\" stroke-width=\"3.2\"/>\n",
       "<circle clip-path=\"url(#clip5502)\" cx=\"1866.49\" cy=\"464.253\" r=\"14\" fill=\"#e26f46\" fill-rule=\"evenodd\" fill-opacity=\"1\" stroke=\"#000000\" stroke-opacity=\"1\" stroke-width=\"3.2\"/>\n",
       "<circle clip-path=\"url(#clip5502)\" cx=\"1866.49\" cy=\"464.253\" r=\"14\" fill=\"#e26f46\" fill-rule=\"evenodd\" fill-opacity=\"1\" stroke=\"#000000\" stroke-opacity=\"1\" stroke-width=\"3.2\"/>\n",
       "<circle clip-path=\"url(#clip5502)\" cx=\"1866.49\" cy=\"464.253\" r=\"14\" fill=\"#e26f46\" fill-rule=\"evenodd\" fill-opacity=\"1\" stroke=\"#000000\" stroke-opacity=\"1\" stroke-width=\"3.2\"/>\n",
       "<circle clip-path=\"url(#clip5502)\" cx=\"1866.49\" cy=\"464.253\" r=\"14\" fill=\"#e26f46\" fill-rule=\"evenodd\" fill-opacity=\"1\" stroke=\"#000000\" stroke-opacity=\"1\" stroke-width=\"3.2\"/>\n",
       "<circle clip-path=\"url(#clip5502)\" cx=\"1866.49\" cy=\"464.253\" r=\"14\" fill=\"#e26f46\" fill-rule=\"evenodd\" fill-opacity=\"1\" stroke=\"#000000\" stroke-opacity=\"1\" stroke-width=\"3.2\"/>\n",
       "<circle clip-path=\"url(#clip5502)\" cx=\"1866.49\" cy=\"464.253\" r=\"14\" fill=\"#e26f46\" fill-rule=\"evenodd\" fill-opacity=\"1\" stroke=\"#000000\" stroke-opacity=\"1\" stroke-width=\"3.2\"/>\n",
       "<circle clip-path=\"url(#clip5502)\" cx=\"1866.49\" cy=\"464.253\" r=\"14\" fill=\"#e26f46\" fill-rule=\"evenodd\" fill-opacity=\"1\" stroke=\"#000000\" stroke-opacity=\"1\" stroke-width=\"3.2\"/>\n",
       "<circle clip-path=\"url(#clip5502)\" cx=\"1866.49\" cy=\"464.253\" r=\"14\" fill=\"#e26f46\" fill-rule=\"evenodd\" fill-opacity=\"1\" stroke=\"#000000\" stroke-opacity=\"1\" stroke-width=\"3.2\"/>\n",
       "<circle clip-path=\"url(#clip5502)\" cx=\"1866.49\" cy=\"464.253\" r=\"14\" fill=\"#e26f46\" fill-rule=\"evenodd\" fill-opacity=\"1\" stroke=\"#000000\" stroke-opacity=\"1\" stroke-width=\"3.2\"/>\n",
       "<circle clip-path=\"url(#clip5502)\" cx=\"1866.49\" cy=\"464.253\" r=\"14\" fill=\"#e26f46\" fill-rule=\"evenodd\" fill-opacity=\"1\" stroke=\"#000000\" stroke-opacity=\"1\" stroke-width=\"3.2\"/>\n",
       "<circle clip-path=\"url(#clip5502)\" cx=\"1866.49\" cy=\"464.253\" r=\"14\" fill=\"#e26f46\" fill-rule=\"evenodd\" fill-opacity=\"1\" stroke=\"#000000\" stroke-opacity=\"1\" stroke-width=\"3.2\"/>\n",
       "<circle clip-path=\"url(#clip5502)\" cx=\"1866.49\" cy=\"464.253\" r=\"14\" fill=\"#e26f46\" fill-rule=\"evenodd\" fill-opacity=\"1\" stroke=\"#000000\" stroke-opacity=\"1\" stroke-width=\"3.2\"/>\n",
       "<circle clip-path=\"url(#clip5502)\" cx=\"1866.49\" cy=\"464.253\" r=\"14\" fill=\"#e26f46\" fill-rule=\"evenodd\" fill-opacity=\"1\" stroke=\"#000000\" stroke-opacity=\"1\" stroke-width=\"3.2\"/>\n",
       "<circle clip-path=\"url(#clip5502)\" cx=\"1861.16\" cy=\"442\" r=\"14\" fill=\"#e26f46\" fill-rule=\"evenodd\" fill-opacity=\"1\" stroke=\"#000000\" stroke-opacity=\"1\" stroke-width=\"3.2\"/>\n",
       "<circle clip-path=\"url(#clip5502)\" cx=\"1861.16\" cy=\"442\" r=\"14\" fill=\"#e26f46\" fill-rule=\"evenodd\" fill-opacity=\"1\" stroke=\"#000000\" stroke-opacity=\"1\" stroke-width=\"3.2\"/>\n",
       "<circle clip-path=\"url(#clip5502)\" cx=\"1849.43\" cy=\"428.863\" r=\"14\" fill=\"#e26f46\" fill-rule=\"evenodd\" fill-opacity=\"1\" stroke=\"#000000\" stroke-opacity=\"1\" stroke-width=\"3.2\"/>\n",
       "<circle clip-path=\"url(#clip5502)\" cx=\"1849.43\" cy=\"428.863\" r=\"14\" fill=\"#e26f46\" fill-rule=\"evenodd\" fill-opacity=\"1\" stroke=\"#000000\" stroke-opacity=\"1\" stroke-width=\"3.2\"/>\n",
       "<circle clip-path=\"url(#clip5502)\" cx=\"1834.75\" cy=\"426.383\" r=\"14\" fill=\"#e26f46\" fill-rule=\"evenodd\" fill-opacity=\"1\" stroke=\"#000000\" stroke-opacity=\"1\" stroke-width=\"3.2\"/>\n",
       "<circle clip-path=\"url(#clip5502)\" cx=\"1834.75\" cy=\"426.383\" r=\"14\" fill=\"#e26f46\" fill-rule=\"evenodd\" fill-opacity=\"1\" stroke=\"#000000\" stroke-opacity=\"1\" stroke-width=\"3.2\"/>\n",
       "<circle clip-path=\"url(#clip5502)\" cx=\"1834.75\" cy=\"426.383\" r=\"14\" fill=\"#e26f46\" fill-rule=\"evenodd\" fill-opacity=\"1\" stroke=\"#000000\" stroke-opacity=\"1\" stroke-width=\"3.2\"/>\n",
       "<circle clip-path=\"url(#clip5502)\" cx=\"1832.21\" cy=\"406.924\" r=\"14\" fill=\"#e26f46\" fill-rule=\"evenodd\" fill-opacity=\"1\" stroke=\"#000000\" stroke-opacity=\"1\" stroke-width=\"3.2\"/>\n",
       "<circle clip-path=\"url(#clip5502)\" cx=\"1832.21\" cy=\"406.924\" r=\"14\" fill=\"#e26f46\" fill-rule=\"evenodd\" fill-opacity=\"1\" stroke=\"#000000\" stroke-opacity=\"1\" stroke-width=\"3.2\"/>\n",
       "<circle clip-path=\"url(#clip5502)\" cx=\"1832.21\" cy=\"406.924\" r=\"14\" fill=\"#e26f46\" fill-rule=\"evenodd\" fill-opacity=\"1\" stroke=\"#000000\" stroke-opacity=\"1\" stroke-width=\"3.2\"/>\n",
       "<circle clip-path=\"url(#clip5502)\" cx=\"1866.49\" cy=\"464.253\" r=\"14\" fill=\"#e26f46\" fill-rule=\"evenodd\" fill-opacity=\"1\" stroke=\"#000000\" stroke-opacity=\"1\" stroke-width=\"3.2\"/>\n",
       "<circle clip-path=\"url(#clip5502)\" cx=\"1866.49\" cy=\"464.253\" r=\"14\" fill=\"#e26f46\" fill-rule=\"evenodd\" fill-opacity=\"1\" stroke=\"#000000\" stroke-opacity=\"1\" stroke-width=\"3.2\"/>\n",
       "<circle clip-path=\"url(#clip5502)\" cx=\"1866.49\" cy=\"464.253\" r=\"14\" fill=\"#e26f46\" fill-rule=\"evenodd\" fill-opacity=\"1\" stroke=\"#000000\" stroke-opacity=\"1\" stroke-width=\"3.2\"/>\n",
       "<circle clip-path=\"url(#clip5502)\" cx=\"1866.49\" cy=\"464.253\" r=\"14\" fill=\"#e26f46\" fill-rule=\"evenodd\" fill-opacity=\"1\" stroke=\"#000000\" stroke-opacity=\"1\" stroke-width=\"3.2\"/>\n",
       "<circle clip-path=\"url(#clip5502)\" cx=\"1866.49\" cy=\"464.253\" r=\"14\" fill=\"#e26f46\" fill-rule=\"evenodd\" fill-opacity=\"1\" stroke=\"#000000\" stroke-opacity=\"1\" stroke-width=\"3.2\"/>\n",
       "<circle clip-path=\"url(#clip5502)\" cx=\"1866.49\" cy=\"464.253\" r=\"14\" fill=\"#e26f46\" fill-rule=\"evenodd\" fill-opacity=\"1\" stroke=\"#000000\" stroke-opacity=\"1\" stroke-width=\"3.2\"/>\n",
       "<circle clip-path=\"url(#clip5502)\" cx=\"1866.49\" cy=\"464.253\" r=\"14\" fill=\"#e26f46\" fill-rule=\"evenodd\" fill-opacity=\"1\" stroke=\"#000000\" stroke-opacity=\"1\" stroke-width=\"3.2\"/>\n",
       "<circle clip-path=\"url(#clip5502)\" cx=\"1866.49\" cy=\"464.253\" r=\"14\" fill=\"#e26f46\" fill-rule=\"evenodd\" fill-opacity=\"1\" stroke=\"#000000\" stroke-opacity=\"1\" stroke-width=\"3.2\"/>\n",
       "<circle clip-path=\"url(#clip5502)\" cx=\"1866.49\" cy=\"464.253\" r=\"14\" fill=\"#e26f46\" fill-rule=\"evenodd\" fill-opacity=\"1\" stroke=\"#000000\" stroke-opacity=\"1\" stroke-width=\"3.2\"/>\n",
       "<circle clip-path=\"url(#clip5502)\" cx=\"1866.49\" cy=\"464.253\" r=\"14\" fill=\"#e26f46\" fill-rule=\"evenodd\" fill-opacity=\"1\" stroke=\"#000000\" stroke-opacity=\"1\" stroke-width=\"3.2\"/>\n",
       "<circle clip-path=\"url(#clip5502)\" cx=\"1866.49\" cy=\"464.253\" r=\"14\" fill=\"#e26f46\" fill-rule=\"evenodd\" fill-opacity=\"1\" stroke=\"#000000\" stroke-opacity=\"1\" stroke-width=\"3.2\"/>\n",
       "<circle clip-path=\"url(#clip5502)\" cx=\"1866.49\" cy=\"464.253\" r=\"14\" fill=\"#e26f46\" fill-rule=\"evenodd\" fill-opacity=\"1\" stroke=\"#000000\" stroke-opacity=\"1\" stroke-width=\"3.2\"/>\n",
       "<circle clip-path=\"url(#clip5502)\" cx=\"1866.49\" cy=\"464.253\" r=\"14\" fill=\"#e26f46\" fill-rule=\"evenodd\" fill-opacity=\"1\" stroke=\"#000000\" stroke-opacity=\"1\" stroke-width=\"3.2\"/>\n",
       "<circle clip-path=\"url(#clip5502)\" cx=\"1866.49\" cy=\"464.253\" r=\"14\" fill=\"#e26f46\" fill-rule=\"evenodd\" fill-opacity=\"1\" stroke=\"#000000\" stroke-opacity=\"1\" stroke-width=\"3.2\"/>\n",
       "<circle clip-path=\"url(#clip5502)\" cx=\"1866.49\" cy=\"464.253\" r=\"14\" fill=\"#e26f46\" fill-rule=\"evenodd\" fill-opacity=\"1\" stroke=\"#000000\" stroke-opacity=\"1\" stroke-width=\"3.2\"/>\n",
       "<circle clip-path=\"url(#clip5502)\" cx=\"1866.49\" cy=\"464.253\" r=\"14\" fill=\"#e26f46\" fill-rule=\"evenodd\" fill-opacity=\"1\" stroke=\"#000000\" stroke-opacity=\"1\" stroke-width=\"3.2\"/>\n",
       "<circle clip-path=\"url(#clip5502)\" cx=\"1866.49\" cy=\"464.253\" r=\"14\" fill=\"#e26f46\" fill-rule=\"evenodd\" fill-opacity=\"1\" stroke=\"#000000\" stroke-opacity=\"1\" stroke-width=\"3.2\"/>\n",
       "<circle clip-path=\"url(#clip5502)\" cx=\"1866.49\" cy=\"464.253\" r=\"14\" fill=\"#e26f46\" fill-rule=\"evenodd\" fill-opacity=\"1\" stroke=\"#000000\" stroke-opacity=\"1\" stroke-width=\"3.2\"/>\n",
       "<circle clip-path=\"url(#clip5502)\" cx=\"1866.49\" cy=\"464.253\" r=\"14\" fill=\"#e26f46\" fill-rule=\"evenodd\" fill-opacity=\"1\" stroke=\"#000000\" stroke-opacity=\"1\" stroke-width=\"3.2\"/>\n",
       "<circle clip-path=\"url(#clip5502)\" cx=\"1866.49\" cy=\"464.253\" r=\"14\" fill=\"#e26f46\" fill-rule=\"evenodd\" fill-opacity=\"1\" stroke=\"#000000\" stroke-opacity=\"1\" stroke-width=\"3.2\"/>\n",
       "<circle clip-path=\"url(#clip5502)\" cx=\"1866.49\" cy=\"464.253\" r=\"14\" fill=\"#e26f46\" fill-rule=\"evenodd\" fill-opacity=\"1\" stroke=\"#000000\" stroke-opacity=\"1\" stroke-width=\"3.2\"/>\n",
       "<circle clip-path=\"url(#clip5502)\" cx=\"1866.49\" cy=\"464.253\" r=\"14\" fill=\"#e26f46\" fill-rule=\"evenodd\" fill-opacity=\"1\" stroke=\"#000000\" stroke-opacity=\"1\" stroke-width=\"3.2\"/>\n",
       "<circle clip-path=\"url(#clip5502)\" cx=\"1866.49\" cy=\"464.253\" r=\"14\" fill=\"#e26f46\" fill-rule=\"evenodd\" fill-opacity=\"1\" stroke=\"#000000\" stroke-opacity=\"1\" stroke-width=\"3.2\"/>\n",
       "<circle clip-path=\"url(#clip5502)\" cx=\"1866.49\" cy=\"464.253\" r=\"14\" fill=\"#e26f46\" fill-rule=\"evenodd\" fill-opacity=\"1\" stroke=\"#000000\" stroke-opacity=\"1\" stroke-width=\"3.2\"/>\n",
       "<circle clip-path=\"url(#clip5502)\" cx=\"1866.49\" cy=\"464.253\" r=\"14\" fill=\"#e26f46\" fill-rule=\"evenodd\" fill-opacity=\"1\" stroke=\"#000000\" stroke-opacity=\"1\" stroke-width=\"3.2\"/>\n",
       "<circle clip-path=\"url(#clip5502)\" cx=\"1866.49\" cy=\"464.253\" r=\"14\" fill=\"#e26f46\" fill-rule=\"evenodd\" fill-opacity=\"1\" stroke=\"#000000\" stroke-opacity=\"1\" stroke-width=\"3.2\"/>\n",
       "<circle clip-path=\"url(#clip5502)\" cx=\"1866.49\" cy=\"464.253\" r=\"14\" fill=\"#e26f46\" fill-rule=\"evenodd\" fill-opacity=\"1\" stroke=\"#000000\" stroke-opacity=\"1\" stroke-width=\"3.2\"/>\n",
       "<circle clip-path=\"url(#clip5502)\" cx=\"1866.49\" cy=\"464.253\" r=\"14\" fill=\"#e26f46\" fill-rule=\"evenodd\" fill-opacity=\"1\" stroke=\"#000000\" stroke-opacity=\"1\" stroke-width=\"3.2\"/>\n",
       "<circle clip-path=\"url(#clip5502)\" cx=\"1866.49\" cy=\"464.253\" r=\"14\" fill=\"#e26f46\" fill-rule=\"evenodd\" fill-opacity=\"1\" stroke=\"#000000\" stroke-opacity=\"1\" stroke-width=\"3.2\"/>\n",
       "<circle clip-path=\"url(#clip5502)\" cx=\"1866.49\" cy=\"464.253\" r=\"14\" fill=\"#e26f46\" fill-rule=\"evenodd\" fill-opacity=\"1\" stroke=\"#000000\" stroke-opacity=\"1\" stroke-width=\"3.2\"/>\n",
       "<circle clip-path=\"url(#clip5502)\" cx=\"1866.49\" cy=\"464.253\" r=\"14\" fill=\"#e26f46\" fill-rule=\"evenodd\" fill-opacity=\"1\" stroke=\"#000000\" stroke-opacity=\"1\" stroke-width=\"3.2\"/>\n",
       "<circle clip-path=\"url(#clip5502)\" cx=\"1866.49\" cy=\"464.253\" r=\"14\" fill=\"#e26f46\" fill-rule=\"evenodd\" fill-opacity=\"1\" stroke=\"#000000\" stroke-opacity=\"1\" stroke-width=\"3.2\"/>\n",
       "<circle clip-path=\"url(#clip5502)\" cx=\"1866.49\" cy=\"464.253\" r=\"14\" fill=\"#e26f46\" fill-rule=\"evenodd\" fill-opacity=\"1\" stroke=\"#000000\" stroke-opacity=\"1\" stroke-width=\"3.2\"/>\n",
       "<circle clip-path=\"url(#clip5502)\" cx=\"1866.49\" cy=\"464.253\" r=\"14\" fill=\"#e26f46\" fill-rule=\"evenodd\" fill-opacity=\"1\" stroke=\"#000000\" stroke-opacity=\"1\" stroke-width=\"3.2\"/>\n",
       "<circle clip-path=\"url(#clip5502)\" cx=\"1866.49\" cy=\"464.253\" r=\"14\" fill=\"#e26f46\" fill-rule=\"evenodd\" fill-opacity=\"1\" stroke=\"#000000\" stroke-opacity=\"1\" stroke-width=\"3.2\"/>\n",
       "<circle clip-path=\"url(#clip5502)\" cx=\"1866.49\" cy=\"464.253\" r=\"14\" fill=\"#e26f46\" fill-rule=\"evenodd\" fill-opacity=\"1\" stroke=\"#000000\" stroke-opacity=\"1\" stroke-width=\"3.2\"/>\n",
       "<circle clip-path=\"url(#clip5502)\" cx=\"1866.49\" cy=\"464.253\" r=\"14\" fill=\"#e26f46\" fill-rule=\"evenodd\" fill-opacity=\"1\" stroke=\"#000000\" stroke-opacity=\"1\" stroke-width=\"3.2\"/>\n",
       "<circle clip-path=\"url(#clip5502)\" cx=\"1735.05\" cy=\"402.847\" r=\"14\" fill=\"#e26f46\" fill-rule=\"evenodd\" fill-opacity=\"1\" stroke=\"#000000\" stroke-opacity=\"1\" stroke-width=\"3.2\"/>\n",
       "<circle clip-path=\"url(#clip5502)\" cx=\"1866.49\" cy=\"464.253\" r=\"14\" fill=\"#e26f46\" fill-rule=\"evenodd\" fill-opacity=\"1\" stroke=\"#000000\" stroke-opacity=\"1\" stroke-width=\"3.2\"/>\n",
       "<circle clip-path=\"url(#clip5502)\" cx=\"1866.49\" cy=\"464.253\" r=\"14\" fill=\"#e26f46\" fill-rule=\"evenodd\" fill-opacity=\"1\" stroke=\"#000000\" stroke-opacity=\"1\" stroke-width=\"3.2\"/>\n",
       "<circle clip-path=\"url(#clip5502)\" cx=\"1866.49\" cy=\"464.253\" r=\"14\" fill=\"#e26f46\" fill-rule=\"evenodd\" fill-opacity=\"1\" stroke=\"#000000\" stroke-opacity=\"1\" stroke-width=\"3.2\"/>\n",
       "<circle clip-path=\"url(#clip5502)\" cx=\"1866.49\" cy=\"464.253\" r=\"14\" fill=\"#e26f46\" fill-rule=\"evenodd\" fill-opacity=\"1\" stroke=\"#000000\" stroke-opacity=\"1\" stroke-width=\"3.2\"/>\n",
       "<circle clip-path=\"url(#clip5502)\" cx=\"1866.49\" cy=\"464.253\" r=\"14\" fill=\"#e26f46\" fill-rule=\"evenodd\" fill-opacity=\"1\" stroke=\"#000000\" stroke-opacity=\"1\" stroke-width=\"3.2\"/>\n",
       "<circle clip-path=\"url(#clip5502)\" cx=\"1866.49\" cy=\"464.253\" r=\"14\" fill=\"#e26f46\" fill-rule=\"evenodd\" fill-opacity=\"1\" stroke=\"#000000\" stroke-opacity=\"1\" stroke-width=\"3.2\"/>\n",
       "</svg>\n"
      ]
     },
     "metadata": {},
     "output_type": "display_data"
    }
   ],
   "source": [
    "function plot_pop(P)\n",
    "    scatter([i.y[1] for i in P], [i.y[2] for i in P], xlims=(0.0, 1.0), ylims=(0.0, 1.0), legend=:none)\n",
    "    ND = filter(indiv -> indiv.rank == 1, P)\n",
    "    scatter!([i.y[1] for i in ND], [i.y[2] for i in ND], legend=:none)\n",
    "end\n",
    "\n",
    "nsga_max(popsize, nbgen, objective, init, fCV=constraint, fplot=plot_pop, plotevery=1, showprogress=false);"
   ]
  },
  {
   "cell_type": "markdown",
   "metadata": {
    "slideshow": {
     "slide_type": "slide"
    }
   },
   "source": [
    "This type of visualization, plotting one objective function as X and another as Y, allows us to see the Pareto front for 2 dimensions easily. However, once we increase the number of objectives, this plot is much less useful as we'll always be constrained to looking at 2 dimensions, or at best 3."
   ]
  },
  {
   "cell_type": "markdown",
   "metadata": {
    "slideshow": {
     "slide_type": "fragment"
    }
   },
   "source": [
    "<div class=\"alert alert-success\">\n",
    "    <b>Exercise 3</b>\n",
    "    <br/>\n",
    "    Change the number of objectives to 3. Then use a <tt>scatter3d</tt> plot instead of a <tt>scatter</tt> plot to plot the evolution over 3 objectives.\n",
    "    <br/>\n",
    "    <ul>\n",
    "        <li>Can you still observe the Pareto front?</li>\n",
    "        <li>Can you identify non-dominated individuals easily</li>\n",
    "        <li>Do you see the performance for each objective</li>\n",
    "    </ul>\n",
    "    <br/>\n",
    "</div>"
   ]
  },
  {
   "cell_type": "markdown",
   "metadata": {
    "slideshow": {
     "slide_type": "slide"
    }
   },
   "source": [
    "Another way to look at the different objectives is to plot the different objectives on the `x` axis and the fitness values on the `y` axis. Each individual in a population is then represented as a line. Let's try this method, increasing the number of objectives to 10."
   ]
  },
  {
   "cell_type": "code",
   "execution_count": 20,
   "metadata": {
    "slideshow": {
     "slide_type": "fragment"
    }
   },
   "outputs": [
    {
     "data": {
      "text/plain": [
       "init (generic function with 1 method)"
      ]
     },
     "execution_count": 20,
     "metadata": {},
     "output_type": "execute_result"
    }
   ],
   "source": [
    "n = 100\n",
    "n_objectives = 10\n",
    "values = rand(n, n_objectives)\n",
    "values = values ./ sum(values, dims=1)\n",
    "weights = rand(n)\n",
    "weights = weights ./ sum(weights)\n",
    "max_weight = 0.5\n",
    "popsize = 100\n",
    "nbgen = 50\n",
    "init() = bitrand(n)"
   ]
  },
  {
   "cell_type": "code",
   "execution_count": 21,
   "metadata": {
    "slideshow": {
     "slide_type": "slide"
    }
   },
   "outputs": [
    {
     "data": {
      "image/svg+xml": [
       "<?xml version=\"1.0\" encoding=\"utf-8\"?>\n",
       "<svg xmlns=\"http://www.w3.org/2000/svg\" xmlns:xlink=\"http://www.w3.org/1999/xlink\" width=\"600\" height=\"400\" viewBox=\"0 0 2400 1600\">\n",
       "<defs>\n",
       "  <clipPath id=\"clip7900\">\n",
       "    <rect x=\"0\" y=\"0\" width=\"2400\" height=\"1600\"/>\n",
       "  </clipPath>\n",
       "</defs>\n",
       "<path clip-path=\"url(#clip7900)\" d=\"\n",
       "M0 1600 L2400 1600 L2400 0 L0 0  Z\n",
       "  \" fill=\"#ffffff\" fill-rule=\"evenodd\" fill-opacity=\"1\"/>\n",
       "<defs>\n",
       "  <clipPath id=\"clip7901\">\n",
       "    <rect x=\"480\" y=\"0\" width=\"1681\" height=\"1600\"/>\n",
       "  </clipPath>\n",
       "</defs>\n",
       "<path clip-path=\"url(#clip7900)\" d=\"\n",
       "M148.334 1486.45 L2352.76 1486.45 L2352.76 47.2441 L148.334 47.2441  Z\n",
       "  \" fill=\"#ffffff\" fill-rule=\"evenodd\" fill-opacity=\"1\"/>\n",
       "<defs>\n",
       "  <clipPath id=\"clip7902\">\n",
       "    <rect x=\"148\" y=\"47\" width=\"2205\" height=\"1440\"/>\n",
       "  </clipPath>\n",
       "</defs>\n",
       "<polyline clip-path=\"url(#clip7902)\" style=\"stroke:#000000; stroke-width:2; stroke-opacity:0.1; fill:none\" points=\"\n",
       "  393.27,1486.45 393.27,47.2441 \n",
       "  \"/>\n",
       "<polyline clip-path=\"url(#clip7902)\" style=\"stroke:#000000; stroke-width:2; stroke-opacity:0.1; fill:none\" points=\"\n",
       "  883.142,1486.45 883.142,47.2441 \n",
       "  \"/>\n",
       "<polyline clip-path=\"url(#clip7902)\" style=\"stroke:#000000; stroke-width:2; stroke-opacity:0.1; fill:none\" points=\"\n",
       "  1373.01,1486.45 1373.01,47.2441 \n",
       "  \"/>\n",
       "<polyline clip-path=\"url(#clip7902)\" style=\"stroke:#000000; stroke-width:2; stroke-opacity:0.1; fill:none\" points=\"\n",
       "  1862.88,1486.45 1862.88,47.2441 \n",
       "  \"/>\n",
       "<polyline clip-path=\"url(#clip7902)\" style=\"stroke:#000000; stroke-width:2; stroke-opacity:0.1; fill:none\" points=\"\n",
       "  2352.76,1486.45 2352.76,47.2441 \n",
       "  \"/>\n",
       "<polyline clip-path=\"url(#clip7902)\" style=\"stroke:#000000; stroke-width:2; stroke-opacity:0.1; fill:none\" points=\"\n",
       "  148.334,1349.67 2352.76,1349.67 \n",
       "  \"/>\n",
       "<polyline clip-path=\"url(#clip7902)\" style=\"stroke:#000000; stroke-width:2; stroke-opacity:0.1; fill:none\" points=\"\n",
       "  148.334,930.385 2352.76,930.385 \n",
       "  \"/>\n",
       "<polyline clip-path=\"url(#clip7902)\" style=\"stroke:#000000; stroke-width:2; stroke-opacity:0.1; fill:none\" points=\"\n",
       "  148.334,511.104 2352.76,511.104 \n",
       "  \"/>\n",
       "<polyline clip-path=\"url(#clip7902)\" style=\"stroke:#000000; stroke-width:2; stroke-opacity:0.1; fill:none\" points=\"\n",
       "  148.334,91.8224 2352.76,91.8224 \n",
       "  \"/>\n",
       "<polyline clip-path=\"url(#clip7900)\" style=\"stroke:#000000; stroke-width:4; stroke-opacity:1; fill:none\" points=\"\n",
       "  148.334,1486.45 2352.76,1486.45 \n",
       "  \"/>\n",
       "<polyline clip-path=\"url(#clip7900)\" style=\"stroke:#000000; stroke-width:4; stroke-opacity:1; fill:none\" points=\"\n",
       "  148.334,1486.45 148.334,47.2441 \n",
       "  \"/>\n",
       "<polyline clip-path=\"url(#clip7900)\" style=\"stroke:#000000; stroke-width:4; stroke-opacity:1; fill:none\" points=\"\n",
       "  393.27,1486.45 393.27,1469.18 \n",
       "  \"/>\n",
       "<polyline clip-path=\"url(#clip7900)\" style=\"stroke:#000000; stroke-width:4; stroke-opacity:1; fill:none\" points=\"\n",
       "  883.142,1486.45 883.142,1469.18 \n",
       "  \"/>\n",
       "<polyline clip-path=\"url(#clip7900)\" style=\"stroke:#000000; stroke-width:4; stroke-opacity:1; fill:none\" points=\"\n",
       "  1373.01,1486.45 1373.01,1469.18 \n",
       "  \"/>\n",
       "<polyline clip-path=\"url(#clip7900)\" style=\"stroke:#000000; stroke-width:4; stroke-opacity:1; fill:none\" points=\"\n",
       "  1862.88,1486.45 1862.88,1469.18 \n",
       "  \"/>\n",
       "<polyline clip-path=\"url(#clip7900)\" style=\"stroke:#000000; stroke-width:4; stroke-opacity:1; fill:none\" points=\"\n",
       "  2352.76,1486.45 2352.76,1469.18 \n",
       "  \"/>\n",
       "<polyline clip-path=\"url(#clip7900)\" style=\"stroke:#000000; stroke-width:4; stroke-opacity:1; fill:none\" points=\"\n",
       "  148.334,1349.67 174.787,1349.67 \n",
       "  \"/>\n",
       "<polyline clip-path=\"url(#clip7900)\" style=\"stroke:#000000; stroke-width:4; stroke-opacity:1; fill:none\" points=\"\n",
       "  148.334,930.385 174.787,930.385 \n",
       "  \"/>\n",
       "<polyline clip-path=\"url(#clip7900)\" style=\"stroke:#000000; stroke-width:4; stroke-opacity:1; fill:none\" points=\"\n",
       "  148.334,511.104 174.787,511.104 \n",
       "  \"/>\n",
       "<polyline clip-path=\"url(#clip7900)\" style=\"stroke:#000000; stroke-width:4; stroke-opacity:1; fill:none\" points=\"\n",
       "  148.334,91.8224 174.787,91.8224 \n",
       "  \"/>\n",
       "<path clip-path=\"url(#clip7900)\" d=\"M 0 0 M387.923 1535.98 L404.242 1535.98 L404.242 1539.92 L382.298 1539.92 L382.298 1535.98 Q384.96 1533.23 389.543 1528.6 Q394.15 1523.95 395.33 1522.61 Q397.576 1520.08 398.455 1518.35 Q399.358 1516.59 399.358 1514.9 Q399.358 1512.14 397.414 1510.41 Q395.492 1508.67 392.39 1508.67 Q390.191 1508.67 387.738 1509.43 Q385.307 1510.2 382.529 1511.75 L382.529 1507.03 Q385.353 1505.89 387.807 1505.31 Q390.261 1504.73 392.298 1504.73 Q397.668 1504.73 400.863 1507.42 Q404.057 1510.11 404.057 1514.6 Q404.057 1516.73 403.247 1518.65 Q402.46 1520.54 400.353 1523.14 Q399.775 1523.81 396.673 1527.03 Q393.571 1530.22 387.923 1535.98 Z\" fill=\"#000000\" fill-rule=\"evenodd\" fill-opacity=\"1\" /><path clip-path=\"url(#clip7900)\" d=\"M 0 0 M886.151 1509.43 L874.345 1527.88 L886.151 1527.88 L886.151 1509.43 M884.924 1505.36 L890.804 1505.36 L890.804 1527.88 L895.734 1527.88 L895.734 1531.77 L890.804 1531.77 L890.804 1539.92 L886.151 1539.92 L886.151 1531.77 L870.549 1531.77 L870.549 1527.26 L884.924 1505.36 Z\" fill=\"#000000\" fill-rule=\"evenodd\" fill-opacity=\"1\" /><path clip-path=\"url(#clip7900)\" d=\"M 0 0 M1373.42 1520.78 Q1370.27 1520.78 1368.42 1522.93 Q1366.59 1525.08 1366.59 1528.83 Q1366.59 1532.56 1368.42 1534.73 Q1370.27 1536.89 1373.42 1536.89 Q1376.57 1536.89 1378.39 1534.73 Q1380.25 1532.56 1380.25 1528.83 Q1380.25 1525.08 1378.39 1522.93 Q1376.57 1520.78 1373.42 1520.78 M1382.7 1506.12 L1382.7 1510.38 Q1380.94 1509.55 1379.14 1509.11 Q1377.35 1508.67 1375.59 1508.67 Q1370.96 1508.67 1368.51 1511.8 Q1366.08 1514.92 1365.73 1521.24 Q1367.1 1519.23 1369.16 1518.16 Q1371.22 1517.07 1373.7 1517.07 Q1378.9 1517.07 1381.91 1520.24 Q1384.95 1523.39 1384.95 1528.83 Q1384.95 1534.16 1381.8 1537.37 Q1378.65 1540.59 1373.42 1540.59 Q1367.42 1540.59 1364.25 1536.01 Q1361.08 1531.4 1361.08 1522.67 Q1361.08 1514.48 1364.97 1509.62 Q1368.86 1504.73 1375.41 1504.73 Q1377.17 1504.73 1378.95 1505.08 Q1380.76 1505.43 1382.7 1506.12 Z\" fill=\"#000000\" fill-rule=\"evenodd\" fill-opacity=\"1\" /><path clip-path=\"url(#clip7900)\" d=\"M 0 0 M1862.88 1523.51 Q1859.55 1523.51 1857.63 1525.29 Q1855.73 1527.07 1855.73 1530.2 Q1855.73 1533.32 1857.63 1535.11 Q1859.55 1536.89 1862.88 1536.89 Q1866.22 1536.89 1868.14 1535.11 Q1870.06 1533.3 1870.06 1530.2 Q1870.06 1527.07 1868.14 1525.29 Q1866.24 1523.51 1862.88 1523.51 M1858.21 1521.52 Q1855.2 1520.78 1853.51 1518.72 Q1851.84 1516.66 1851.84 1513.69 Q1851.84 1509.55 1854.78 1507.14 Q1857.75 1504.73 1862.88 1504.73 Q1868.05 1504.73 1870.99 1507.14 Q1873.93 1509.55 1873.93 1513.69 Q1873.93 1516.66 1872.24 1518.72 Q1870.57 1520.78 1867.58 1521.52 Q1870.96 1522.3 1872.84 1524.6 Q1874.74 1526.89 1874.74 1530.2 Q1874.74 1535.22 1871.66 1537.91 Q1868.6 1540.59 1862.88 1540.59 Q1857.17 1540.59 1854.09 1537.91 Q1851.03 1535.22 1851.03 1530.2 Q1851.03 1526.89 1852.93 1524.6 Q1854.83 1522.3 1858.21 1521.52 M1856.5 1514.13 Q1856.5 1516.82 1858.16 1518.32 Q1859.85 1519.83 1862.88 1519.83 Q1865.89 1519.83 1867.58 1518.32 Q1869.3 1516.82 1869.3 1514.13 Q1869.3 1511.45 1867.58 1509.94 Q1865.89 1508.44 1862.88 1508.44 Q1859.85 1508.44 1858.16 1509.94 Q1856.5 1511.45 1856.5 1514.13 Z\" fill=\"#000000\" fill-rule=\"evenodd\" fill-opacity=\"1\" /><path clip-path=\"url(#clip7900)\" d=\"M 0 0 M2329.63 1535.98 L2337.27 1535.98 L2337.27 1509.62 L2328.96 1511.29 L2328.96 1507.03 L2337.22 1505.36 L2341.9 1505.36 L2341.9 1535.98 L2349.54 1535.98 L2349.54 1539.92 L2329.63 1539.92 L2329.63 1535.98 Z\" fill=\"#000000\" fill-rule=\"evenodd\" fill-opacity=\"1\" /><path clip-path=\"url(#clip7900)\" d=\"M 0 0 M2364.61 1508.44 Q2361 1508.44 2359.17 1512 Q2357.36 1515.55 2357.36 1522.67 Q2357.36 1529.78 2359.17 1533.35 Q2361 1536.89 2364.61 1536.89 Q2368.24 1536.89 2370.05 1533.35 Q2371.88 1529.78 2371.88 1522.67 Q2371.88 1515.55 2370.05 1512 Q2368.24 1508.44 2364.61 1508.44 M2364.61 1504.73 Q2370.42 1504.73 2373.47 1509.34 Q2376.55 1513.92 2376.55 1522.67 Q2376.55 1531.4 2373.47 1536.01 Q2370.42 1540.59 2364.61 1540.59 Q2358.8 1540.59 2355.72 1536.01 Q2352.66 1531.4 2352.66 1522.67 Q2352.66 1513.92 2355.72 1509.34 Q2358.8 1504.73 2364.61 1504.73 Z\" fill=\"#000000\" fill-rule=\"evenodd\" fill-opacity=\"1\" /><path clip-path=\"url(#clip7900)\" d=\"M 0 0 M74.9365 1335.46 Q71.3254 1335.46 69.4967 1339.03 Q67.6912 1342.57 67.6912 1349.7 Q67.6912 1356.81 69.4967 1360.37 Q71.3254 1363.91 74.9365 1363.91 Q78.5707 1363.91 80.3763 1360.37 Q82.205 1356.81 82.205 1349.7 Q82.205 1342.57 80.3763 1339.03 Q78.5707 1335.46 74.9365 1335.46 M74.9365 1331.76 Q80.7467 1331.76 83.8022 1336.37 Q86.8809 1340.95 86.8809 1349.7 Q86.8809 1358.43 83.8022 1363.03 Q80.7467 1367.62 74.9365 1367.62 Q69.1264 1367.62 66.0477 1363.03 Q62.9921 1358.43 62.9921 1349.7 Q62.9921 1340.95 66.0477 1336.37 Q69.1264 1331.76 74.9365 1331.76 Z\" fill=\"#000000\" fill-rule=\"evenodd\" fill-opacity=\"1\" /><path clip-path=\"url(#clip7900)\" d=\"M 0 0 M91.9503 1361.07 L96.8345 1361.07 L96.8345 1366.95 L91.9503 1366.95 L91.9503 1361.07 Z\" fill=\"#000000\" fill-rule=\"evenodd\" fill-opacity=\"1\" /><path clip-path=\"url(#clip7900)\" d=\"M 0 0 M114.751 1336.46 L102.946 1354.91 L114.751 1354.91 L114.751 1336.46 M113.524 1332.39 L119.404 1332.39 L119.404 1354.91 L124.334 1354.91 L124.334 1358.8 L119.404 1358.8 L119.404 1366.95 L114.751 1366.95 L114.751 1358.8 L99.1493 1358.8 L99.1493 1354.28 L113.524 1332.39 Z\" fill=\"#000000\" fill-rule=\"evenodd\" fill-opacity=\"1\" /><path clip-path=\"url(#clip7900)\" d=\"M 0 0 M76.418 916.183 Q72.8069 916.183 70.9782 919.748 Q69.1726 923.29 69.1726 930.42 Q69.1726 937.526 70.9782 941.091 Q72.8069 944.632 76.418 944.632 Q80.0522 944.632 81.8578 941.091 Q83.6865 937.526 83.6865 930.42 Q83.6865 923.29 81.8578 919.748 Q80.0522 916.183 76.418 916.183 M76.418 912.48 Q82.2281 912.48 85.2837 917.086 Q88.3624 921.67 88.3624 930.42 Q88.3624 939.146 85.2837 943.753 Q82.2281 948.336 76.418 948.336 Q70.6078 948.336 67.5291 943.753 Q64.4736 939.146 64.4736 930.42 Q64.4736 921.67 67.5291 917.086 Q70.6078 912.48 76.418 912.48 Z\" fill=\"#000000\" fill-rule=\"evenodd\" fill-opacity=\"1\" /><path clip-path=\"url(#clip7900)\" d=\"M 0 0 M93.4318 941.785 L98.316 941.785 L98.316 947.665 L93.4318 947.665 L93.4318 941.785 Z\" fill=\"#000000\" fill-rule=\"evenodd\" fill-opacity=\"1\" /><path clip-path=\"url(#clip7900)\" d=\"M 0 0 M103.432 913.105 L121.788 913.105 L121.788 917.04 L107.714 917.04 L107.714 925.512 Q108.733 925.165 109.751 925.003 Q110.77 924.818 111.788 924.818 Q117.575 924.818 120.955 927.989 Q124.334 931.16 124.334 936.577 Q124.334 942.156 120.862 945.257 Q117.39 948.336 111.071 948.336 Q108.895 948.336 106.626 947.966 Q104.381 947.595 101.973 946.855 L101.973 942.156 Q104.057 943.29 106.279 943.845 Q108.501 944.401 110.978 944.401 Q114.983 944.401 117.321 942.294 Q119.658 940.188 119.658 936.577 Q119.658 932.966 117.321 930.859 Q114.983 928.753 110.978 928.753 Q109.103 928.753 107.228 929.17 Q105.376 929.586 103.432 930.466 L103.432 913.105 Z\" fill=\"#000000\" fill-rule=\"evenodd\" fill-opacity=\"1\" /><path clip-path=\"url(#clip7900)\" d=\"M 0 0 M75.2606 496.902 Q71.6495 496.902 69.8208 500.467 Q68.0152 504.009 68.0152 511.138 Q68.0152 518.245 69.8208 521.81 Q71.6495 525.351 75.2606 525.351 Q78.8948 525.351 80.7004 521.81 Q82.5291 518.245 82.5291 511.138 Q82.5291 504.009 80.7004 500.467 Q78.8948 496.902 75.2606 496.902 M75.2606 493.199 Q81.0707 493.199 84.1263 497.805 Q87.205 502.388 87.205 511.138 Q87.205 519.865 84.1263 524.472 Q81.0707 529.055 75.2606 529.055 Q69.4504 529.055 66.3717 524.472 Q63.3162 519.865 63.3162 511.138 Q63.3162 502.388 66.3717 497.805 Q69.4504 493.199 75.2606 493.199 Z\" fill=\"#000000\" fill-rule=\"evenodd\" fill-opacity=\"1\" /><path clip-path=\"url(#clip7900)\" d=\"M 0 0 M92.2744 522.504 L97.1586 522.504 L97.1586 528.384 L92.2744 528.384 L92.2744 522.504 Z\" fill=\"#000000\" fill-rule=\"evenodd\" fill-opacity=\"1\" /><path clip-path=\"url(#clip7900)\" d=\"M 0 0 M112.807 509.24 Q109.659 509.24 107.807 511.393 Q105.978 513.546 105.978 517.296 Q105.978 521.023 107.807 523.198 Q109.659 525.351 112.807 525.351 Q115.955 525.351 117.783 523.198 Q119.635 521.023 119.635 517.296 Q119.635 513.546 117.783 511.393 Q115.955 509.24 112.807 509.24 M122.089 494.587 L122.089 498.847 Q120.33 498.013 118.524 497.574 Q116.742 497.134 114.983 497.134 Q110.353 497.134 107.899 500.259 Q105.469 503.384 105.122 509.703 Q106.487 507.689 108.547 506.624 Q110.608 505.537 113.084 505.537 Q118.293 505.537 121.302 508.708 Q124.334 511.856 124.334 517.296 Q124.334 522.62 121.186 525.837 Q118.038 529.055 112.807 529.055 Q106.811 529.055 103.64 524.472 Q100.469 519.865 100.469 511.138 Q100.469 502.944 104.358 498.083 Q108.247 493.199 114.797 493.199 Q116.557 493.199 118.339 493.546 Q120.145 493.893 122.089 494.587 Z\" fill=\"#000000\" fill-rule=\"evenodd\" fill-opacity=\"1\" /><path clip-path=\"url(#clip7900)\" d=\"M 0 0 M76.3254 77.6211 Q72.7143 77.6211 70.8856 81.1859 Q69.0801 84.7276 69.0801 91.8571 Q69.0801 98.9636 70.8856 102.528 Q72.7143 106.07 76.3254 106.07 Q79.9596 106.07 81.7652 102.528 Q83.5939 98.9636 83.5939 91.8571 Q83.5939 84.7276 81.7652 81.1859 Q79.9596 77.6211 76.3254 77.6211 M76.3254 73.9174 Q82.1355 73.9174 85.1911 78.5239 Q88.2698 83.1072 88.2698 91.8571 Q88.2698 100.584 85.1911 105.19 Q82.1355 109.774 76.3254 109.774 Q70.5152 109.774 67.4365 105.19 Q64.381 100.584 64.381 91.8571 Q64.381 83.1072 67.4365 78.5239 Q70.5152 73.9174 76.3254 73.9174 Z\" fill=\"#000000\" fill-rule=\"evenodd\" fill-opacity=\"1\" /><path clip-path=\"url(#clip7900)\" d=\"M 0 0 M93.3392 103.223 L98.2234 103.223 L98.2234 109.102 L93.3392 109.102 L93.3392 103.223 Z\" fill=\"#000000\" fill-rule=\"evenodd\" fill-opacity=\"1\" /><path clip-path=\"url(#clip7900)\" d=\"M 0 0 M102.112 74.5424 L124.334 74.5424 L124.334 76.5332 L111.788 109.102 L106.904 109.102 L118.709 78.4776 L102.112 78.4776 L102.112 74.5424 Z\" fill=\"#000000\" fill-rule=\"evenodd\" fill-opacity=\"1\" /><polyline clip-path=\"url(#clip7902)\" style=\"stroke:#0000ff; stroke-width:4; stroke-opacity:1; fill:none\" points=\"\n",
       "  148.334,532.722 393.27,448.808 638.206,614.227 883.142,207.07 1128.08,795.579 1373.01,563.517 1617.95,783.79 1862.88,620.934 2107.82,323.979 2352.76,781.458 \n",
       "  \n",
       "  \"/>\n",
       "<polyline clip-path=\"url(#clip7902)\" style=\"stroke:#0000ff; stroke-width:4; stroke-opacity:1; fill:none\" points=\"\n",
       "  148.334,292.978 393.27,541.314 638.206,476.277 883.142,431.094 1128.08,551.342 1373.01,453.812 1617.95,650.927 1862.88,528.085 2107.82,579.858 2352.76,612.854 \n",
       "  \n",
       "  \"/>\n",
       "<polyline clip-path=\"url(#clip7902)\" style=\"stroke:#0000ff; stroke-width:4; stroke-opacity:1; fill:none\" points=\"\n",
       "  148.334,589.494 393.27,599.488 638.206,519.477 883.142,206.816 1128.08,708.709 1373.01,345.584 1617.95,660.145 1862.88,589.34 2107.82,537.103 2352.76,699.288 \n",
       "  \n",
       "  \"/>\n",
       "<polyline clip-path=\"url(#clip7902)\" style=\"stroke:#0000ff; stroke-width:4; stroke-opacity:1; fill:none\" points=\"\n",
       "  148.334,524.551 393.27,320.332 638.206,736.066 883.142,189.338 1128.08,642.846 1373.01,635.482 1617.95,556.273 1862.88,511.112 2107.82,488.8 2352.76,581.139 \n",
       "  \n",
       "  \"/>\n",
       "<polyline clip-path=\"url(#clip7902)\" style=\"stroke:#0000ff; stroke-width:4; stroke-opacity:1; fill:none\" points=\"\n",
       "  148.334,356.203 393.27,271.386 638.206,565.055 883.142,444.541 1128.08,640.706 1373.01,335.962 1617.95,559.752 1862.88,646.249 2107.82,437.419 2352.76,715.003 \n",
       "  \n",
       "  \"/>\n",
       "<polyline clip-path=\"url(#clip7902)\" style=\"stroke:#0000ff; stroke-width:4; stroke-opacity:1; fill:none\" points=\"\n",
       "  148.334,151.061 393.27,469.711 638.206,591.399 883.142,574.371 1128.08,602.21 1373.01,252.518 1617.95,513.856 1862.88,587.842 2107.82,470.071 2352.76,603.312 \n",
       "  \n",
       "  \"/>\n",
       "<polyline clip-path=\"url(#clip7902)\" style=\"stroke:#0000ff; stroke-width:4; stroke-opacity:1; fill:none\" points=\"\n",
       "  148.334,494.211 393.27,483.086 638.206,570.986 883.142,764.517 1128.08,561.292 1373.01,314.242 1617.95,639.92 1862.88,609.682 2107.82,668.504 2352.76,618.896 \n",
       "  \n",
       "  \"/>\n",
       "<polyline clip-path=\"url(#clip7902)\" style=\"stroke:#0000ff; stroke-width:4; stroke-opacity:1; fill:none\" points=\"\n",
       "  148.334,425.418 393.27,449.334 638.206,586.946 883.142,258.593 1128.08,687.435 1373.01,458.035 1617.95,699.953 1862.88,562.498 2107.82,445.318 2352.76,669.845 \n",
       "  \n",
       "  \"/>\n",
       "<polyline clip-path=\"url(#clip7902)\" style=\"stroke:#0000ff; stroke-width:4; stroke-opacity:1; fill:none\" points=\"\n",
       "  148.334,97.449 393.27,448.033 638.206,490.364 883.142,474.428 1128.08,466.113 1373.01,302.081 1617.95,453.236 1862.88,473.109 2107.82,499.533 2352.76,631.804 \n",
       "  \n",
       "  \"/>\n",
       "<polyline clip-path=\"url(#clip7902)\" style=\"stroke:#0000ff; stroke-width:4; stroke-opacity:1; fill:none\" points=\"\n",
       "  148.334,577.081 393.27,435.378 638.206,514.761 883.142,187.678 1128.08,667.86 1373.01,490.222 1617.95,616.85 1862.88,694.819 2107.82,334.308 2352.76,553.482 \n",
       "  \n",
       "  \"/>\n",
       "<polyline clip-path=\"url(#clip7902)\" style=\"stroke:#0000ff; stroke-width:4; stroke-opacity:1; fill:none\" points=\"\n",
       "  148.334,414.178 393.27,438.403 638.206,618.386 883.142,480.484 1128.08,693.009 1373.01,460.094 1617.95,653.806 1862.88,486.516 2107.82,743.661 2352.76,583.54 \n",
       "  \n",
       "  \"/>\n",
       "<polyline clip-path=\"url(#clip7902)\" style=\"stroke:#0000ff; stroke-width:4; stroke-opacity:1; fill:none\" points=\"\n",
       "  148.334,526.783 393.27,460.411 638.206,629.897 883.142,520.807 1128.08,615.622 1373.01,591.341 1617.95,721.817 1862.88,684.74 2107.82,646.146 2352.76,515.822 \n",
       "  \n",
       "  \"/>\n",
       "<polyline clip-path=\"url(#clip7902)\" style=\"stroke:#0000ff; stroke-width:4; stroke-opacity:1; fill:none\" points=\"\n",
       "  148.334,579.052 393.27,505.805 638.206,641.546 883.142,480.104 1128.08,687.206 1373.01,253.315 1617.95,668.521 1862.88,598.73 2107.82,307.885 2352.76,562.692 \n",
       "  \n",
       "  \"/>\n",
       "<polyline clip-path=\"url(#clip7902)\" style=\"stroke:#0000ff; stroke-width:4; stroke-opacity:1; fill:none\" points=\"\n",
       "  148.334,344.622 393.27,398.006 638.206,460.026 883.142,443.816 1128.08,607.555 1373.01,336.465 1617.95,344.015 1862.88,477.743 2107.82,489.453 2352.76,638.194 \n",
       "  \n",
       "  \"/>\n",
       "<polyline clip-path=\"url(#clip7902)\" style=\"stroke:#0000ff; stroke-width:4; stroke-opacity:1; fill:none\" points=\"\n",
       "  148.334,546.704 393.27,572.317 638.206,461.311 883.142,208.432 1128.08,858.257 1373.01,489.116 1617.95,514.588 1862.88,444.212 2107.82,543.405 2352.76,717.081 \n",
       "  \n",
       "  \"/>\n",
       "<polyline clip-path=\"url(#clip7902)\" style=\"stroke:#0000ff; stroke-width:4; stroke-opacity:1; fill:none\" points=\"\n",
       "  148.334,785.545 393.27,375.535 638.206,595.181 883.142,247.216 1128.08,706.767 1373.01,474.326 1617.95,628.446 1862.88,752.543 2107.82,402.345 2352.76,716.367 \n",
       "  \n",
       "  \"/>\n",
       "<polyline clip-path=\"url(#clip7902)\" style=\"stroke:#0000ff; stroke-width:4; stroke-opacity:1; fill:none\" points=\"\n",
       "  148.334,766.368 393.27,441.108 638.206,523.689 883.142,255.778 1128.08,642.196 1373.01,436.368 1617.95,652.394 1862.88,682.083 2107.82,416.746 2352.76,689.044 \n",
       "  \n",
       "  \"/>\n",
       "<polyline clip-path=\"url(#clip7902)\" style=\"stroke:#0000ff; stroke-width:4; stroke-opacity:1; fill:none\" points=\"\n",
       "  148.334,402.373 393.27,261.801 638.206,517.479 883.142,396.849 1128.08,721.885 1373.01,492.229 1617.95,555.827 1862.88,567.127 2107.82,362.25 2352.76,458.713 \n",
       "  \n",
       "  \"/>\n",
       "<polyline clip-path=\"url(#clip7902)\" style=\"stroke:#0000ff; stroke-width:4; stroke-opacity:1; fill:none\" points=\"\n",
       "  148.334,524.551 393.27,320.332 638.206,736.066 883.142,189.338 1128.08,642.846 1373.01,635.482 1617.95,556.273 1862.88,511.112 2107.82,488.8 2352.76,581.139 \n",
       "  \n",
       "  \"/>\n",
       "<polyline clip-path=\"url(#clip7902)\" style=\"stroke:#0000ff; stroke-width:4; stroke-opacity:1; fill:none\" points=\"\n",
       "  148.334,547.781 393.27,393.246 638.206,782.157 883.142,359.515 1128.08,707.192 1373.01,590.317 1617.95,528.544 1862.88,698.654 2107.82,496.226 2352.76,596.318 \n",
       "  \n",
       "  \"/>\n",
       "<polyline clip-path=\"url(#clip7902)\" style=\"stroke:#0000ff; stroke-width:4; stroke-opacity:1; fill:none\" points=\"\n",
       "  148.334,702.687 393.27,279.565 638.206,662.495 883.142,403.691 1128.08,716.108 1373.01,595.723 1617.95,509.195 1862.88,706.815 2107.82,490.048 2352.76,701.929 \n",
       "  \n",
       "  \"/>\n",
       "<polyline clip-path=\"url(#clip7902)\" style=\"stroke:#0000ff; stroke-width:4; stroke-opacity:1; fill:none\" points=\"\n",
       "  148.334,619.734 393.27,456.035 638.206,511.461 883.142,296.785 1128.08,641.726 1373.01,429.989 1617.95,621.882 1862.88,574.678 2107.82,512.897 2352.76,576.026 \n",
       "  \n",
       "  \"/>\n",
       "<polyline clip-path=\"url(#clip7902)\" style=\"stroke:#0000ff; stroke-width:4; stroke-opacity:1; fill:none\" points=\"\n",
       "  148.334,654.229 393.27,538.82 638.206,541.952 883.142,267.611 1128.08,756.654 1373.01,371.865 1617.95,587.846 1862.88,589.258 2107.82,388.292 2352.76,581.194 \n",
       "  \n",
       "  \"/>\n",
       "<polyline clip-path=\"url(#clip7902)\" style=\"stroke:#0000ff; stroke-width:4; stroke-opacity:1; fill:none\" points=\"\n",
       "  148.334,379.674 393.27,309.004 638.206,509.667 883.142,346.38 1128.08,426.575 1373.01,563.943 1617.95,459.341 1862.88,474.248 2107.82,469.412 2352.76,612.872 \n",
       "  \n",
       "  \"/>\n",
       "<polyline clip-path=\"url(#clip7902)\" style=\"stroke:#0000ff; stroke-width:4; stroke-opacity:1; fill:none\" points=\"\n",
       "  148.334,273.44 393.27,555.667 638.206,450.182 883.142,607.112 1128.08,646.846 1373.01,300.48 1617.95,482.207 1862.88,551.523 2107.82,563.19 2352.76,588.52 \n",
       "  \n",
       "  \"/>\n",
       "<polyline clip-path=\"url(#clip7902)\" style=\"stroke:#0000ff; stroke-width:4; stroke-opacity:1; fill:none\" points=\"\n",
       "  148.334,454.281 393.27,351.391 638.206,665.945 883.142,1045.36 1128.08,560.945 1373.01,570.49 1617.95,350.149 1862.88,581.317 2107.82,717.515 2352.76,526.547 \n",
       "  \n",
       "  \"/>\n",
       "<polyline clip-path=\"url(#clip7902)\" style=\"stroke:#0000ff; stroke-width:4; stroke-opacity:1; fill:none\" points=\"\n",
       "  148.334,643.561 393.27,597.577 638.206,486.227 883.142,208.897 1128.08,649.146 1373.01,417.21 1617.95,594.959 1862.88,751.208 2107.82,640.199 2352.76,794.904 \n",
       "  \n",
       "  \"/>\n",
       "<polyline clip-path=\"url(#clip7902)\" style=\"stroke:#0000ff; stroke-width:4; stroke-opacity:1; fill:none\" points=\"\n",
       "  148.334,498.01 393.27,371.008 638.206,639.025 883.142,825.459 1128.08,571.08 1373.01,546.142 1617.95,505.942 1862.88,729.597 2107.82,801.328 2352.76,539.168 \n",
       "  \n",
       "  \"/>\n",
       "<polyline clip-path=\"url(#clip7902)\" style=\"stroke:#0000ff; stroke-width:4; stroke-opacity:1; fill:none\" points=\"\n",
       "  148.334,435.748 393.27,388.99 638.206,429.21 883.142,782.347 1128.08,461.948 1373.01,399.018 1617.95,536.903 1862.88,593.587 2107.82,733.076 2352.76,537.583 \n",
       "  \n",
       "  \"/>\n",
       "<polyline clip-path=\"url(#clip7902)\" style=\"stroke:#0000ff; stroke-width:4; stroke-opacity:1; fill:none\" points=\"\n",
       "  148.334,599.419 393.27,339.647 638.206,750.495 883.142,474.878 1128.08,468.45 1373.01,589.525 1617.95,495.841 1862.88,549.414 2107.82,715.155 2352.76,731.64 \n",
       "  \n",
       "  \"/>\n",
       "<polyline clip-path=\"url(#clip7902)\" style=\"stroke:#0000ff; stroke-width:4; stroke-opacity:1; fill:none\" points=\"\n",
       "  148.334,659.268 393.27,501.341 638.206,717.595 883.142,290.063 1128.08,803.021 1373.01,632.978 1617.95,800.045 1862.88,800.06 2107.82,534.412 2352.76,706.963 \n",
       "  \n",
       "  \"/>\n",
       "<polyline clip-path=\"url(#clip7902)\" style=\"stroke:#0000ff; stroke-width:4; stroke-opacity:1; fill:none\" points=\"\n",
       "  148.334,448.211 393.27,468.061 638.206,611.938 883.142,903.172 1128.08,659.11 1373.01,527.24 1617.95,366.976 1862.88,532.366 2107.82,624.34 2352.76,655.47 \n",
       "  \n",
       "  \"/>\n",
       "<polyline clip-path=\"url(#clip7902)\" style=\"stroke:#0000ff; stroke-width:4; stroke-opacity:1; fill:none\" points=\"\n",
       "  148.334,630.65 393.27,648.055 638.206,592.807 883.142,245.552 1128.08,878.43 1373.01,584.752 1617.95,577.434 1862.88,474.417 2107.82,669.088 2352.76,828.239 \n",
       "  \n",
       "  \"/>\n",
       "<polyline clip-path=\"url(#clip7902)\" style=\"stroke:#0000ff; stroke-width:4; stroke-opacity:1; fill:none\" points=\"\n",
       "  148.334,665.436 393.27,649.753 638.206,750.255 883.142,349.655 1128.08,830.421 1373.01,531.293 1617.95,832.887 1862.88,737.631 2107.82,583.054 2352.76,903.066 \n",
       "  \n",
       "  \"/>\n",
       "<polyline clip-path=\"url(#clip7902)\" style=\"stroke:#0000ff; stroke-width:4; stroke-opacity:1; fill:none\" points=\"\n",
       "  148.334,695.042 393.27,621.105 638.206,677.364 883.142,515.632 1128.08,796.334 1373.01,565.705 1617.95,696.209 1862.88,474.312 2107.82,635.795 2352.76,777.447 \n",
       "  \n",
       "  \"/>\n",
       "<polyline clip-path=\"url(#clip7902)\" style=\"stroke:#0000ff; stroke-width:4; stroke-opacity:1; fill:none\" points=\"\n",
       "  148.334,488.31 393.27,348.752 638.206,680.777 883.142,547.088 1128.08,824.848 1373.01,499.906 1617.95,568.935 1862.88,678.667 2107.82,513.338 2352.76,616.313 \n",
       "  \n",
       "  \"/>\n",
       "<polyline clip-path=\"url(#clip7902)\" style=\"stroke:#0000ff; stroke-width:4; stroke-opacity:1; fill:none\" points=\"\n",
       "  148.334,789.786 393.27,466.096 638.206,760.44 883.142,688.817 1128.08,930.522 1373.01,731.475 1617.95,765.948 1862.88,835.965 2107.82,772.68 2352.76,777.88 \n",
       "  \n",
       "  \"/>\n",
       "<polyline clip-path=\"url(#clip7902)\" style=\"stroke:#0000ff; stroke-width:4; stroke-opacity:1; fill:none\" points=\"\n",
       "  148.334,810.607 393.27,369.31 638.206,501.766 883.142,301.14 1128.08,574.312 1373.01,434.544 1617.95,685.022 1862.88,580.427 2107.82,710.039 2352.76,550.762 \n",
       "  \n",
       "  \"/>\n",
       "<polyline clip-path=\"url(#clip7902)\" style=\"stroke:#0000ff; stroke-width:4; stroke-opacity:1; fill:none\" points=\"\n",
       "  148.334,549.492 393.27,472.306 638.206,661.629 883.142,185.33 1128.08,789.48 1373.01,520.127 1617.95,770.974 1862.88,662.33 2107.82,325.809 2352.76,744.791 \n",
       "  \n",
       "  \"/>\n",
       "<polyline clip-path=\"url(#clip7902)\" style=\"stroke:#0000ff; stroke-width:4; stroke-opacity:1; fill:none\" points=\"\n",
       "  148.334,716.625 393.27,539.586 638.206,568.786 883.142,782.783 1128.08,702.431 1373.01,426.892 1617.95,642.267 1862.88,721.513 2107.82,917.719 2352.76,769.405 \n",
       "  \n",
       "  \"/>\n",
       "<polyline clip-path=\"url(#clip7902)\" style=\"stroke:#0000ff; stroke-width:4; stroke-opacity:1; fill:none\" points=\"\n",
       "  148.334,724.192 393.27,511.152 638.206,655.323 883.142,145.375 1128.08,727.326 1373.01,469.129 1617.95,735.708 1862.88,727.112 2107.82,443.155 2352.76,803.845 \n",
       "  \n",
       "  \"/>\n",
       "<polyline clip-path=\"url(#clip7902)\" style=\"stroke:#0000ff; stroke-width:4; stroke-opacity:1; fill:none\" points=\"\n",
       "  148.334,339.091 393.27,67.5385 638.206,313.717 883.142,404.551 1128.08,270.143 1373.01,359.695 1617.95,342.373 1862.88,413.041 2107.82,436.049 2352.76,476.054 \n",
       "  \n",
       "  \"/>\n",
       "<polyline clip-path=\"url(#clip7902)\" style=\"stroke:#0000ff; stroke-width:4; stroke-opacity:1; fill:none\" points=\"\n",
       "  148.334,511.967 393.27,272.303 638.206,654.693 883.142,214.507 1128.08,552.845 1373.01,520.91 1617.95,451.561 1862.88,554.72 2107.82,437.02 2352.76,571.98 \n",
       "  \n",
       "  \"/>\n",
       "<polyline clip-path=\"url(#clip7902)\" style=\"stroke:#0000ff; stroke-width:4; stroke-opacity:1; fill:none\" points=\"\n",
       "  148.334,457.075 393.27,318.928 638.206,399.899 883.142,580.462 1128.08,620.733 1373.01,477.907 1617.95,546.914 1862.88,366.935 2107.82,741.577 2352.76,453.147 \n",
       "  \n",
       "  \"/>\n",
       "<polyline clip-path=\"url(#clip7902)\" style=\"stroke:#0000ff; stroke-width:4; stroke-opacity:1; fill:none\" points=\"\n",
       "  148.334,676.062 393.27,340.598 638.206,460.035 883.142,243.227 1128.08,603.87 1373.01,479.112 1617.95,606.785 1862.88,720.404 2107.82,380.592 2352.76,696.194 \n",
       "  \n",
       "  \"/>\n",
       "<polyline clip-path=\"url(#clip7902)\" style=\"stroke:#0000ff; stroke-width:4; stroke-opacity:1; fill:none\" points=\"\n",
       "  148.334,350.24 393.27,516.188 638.206,394.885 883.142,505.12 1128.08,552.813 1373.01,551.132 1617.95,478.928 1862.88,320.887 2107.82,528.264 2352.76,621.741 \n",
       "  \n",
       "  \"/>\n",
       "<polyline clip-path=\"url(#clip7902)\" style=\"stroke:#0000ff; stroke-width:4; stroke-opacity:1; fill:none\" points=\"\n",
       "  148.334,179.126 393.27,353.839 638.206,427.003 883.142,324.81 1128.08,357.183 1373.01,215.051 1617.95,449.515 1862.88,374.348 2107.82,454.467 2352.76,600.894 \n",
       "  \n",
       "  \"/>\n",
       "<polyline clip-path=\"url(#clip7902)\" style=\"stroke:#0000ff; stroke-width:4; stroke-opacity:1; fill:none\" points=\"\n",
       "  148.334,630.743 393.27,209.398 638.206,457.95 883.142,216.927 1128.08,461.857 1373.01,488.909 1617.95,290.914 1862.88,452.522 2107.82,430.892 2352.76,562.645 \n",
       "  \n",
       "  \"/>\n",
       "<polyline clip-path=\"url(#clip7902)\" style=\"stroke:#0000ff; stroke-width:4; stroke-opacity:1; fill:none\" points=\"\n",
       "  148.334,407.402 393.27,580.787 638.206,578.082 883.142,285.761 1128.08,592.676 1373.01,288.765 1617.95,595.477 1862.88,551.308 2107.82,602.021 2352.76,709.519 \n",
       "  \n",
       "  \"/>\n",
       "<polyline clip-path=\"url(#clip7902)\" style=\"stroke:#0000ff; stroke-width:4; stroke-opacity:1; fill:none\" points=\"\n",
       "  148.334,454.301 393.27,213.57 638.206,682.531 883.142,889.746 1128.08,546.532 1373.01,382.173 1617.95,374.679 1862.88,622.211 2107.82,506.003 2352.76,414.171 \n",
       "  \n",
       "  \"/>\n",
       "<polyline clip-path=\"url(#clip7902)\" style=\"stroke:#0000ff; stroke-width:4; stroke-opacity:1; fill:none\" points=\"\n",
       "  148.334,729.296 393.27,629.582 638.206,567.151 883.142,175.532 1128.08,765.531 1373.01,530.719 1617.95,798.987 1862.88,762.449 2107.82,549.037 2352.76,764.263 \n",
       "  \n",
       "  \"/>\n",
       "<polyline clip-path=\"url(#clip7902)\" style=\"stroke:#0000ff; stroke-width:4; stroke-opacity:1; fill:none\" points=\"\n",
       "  148.334,674.748 393.27,428.918 638.206,661.871 883.142,138.07 1128.08,608.829 1373.01,632.765 1617.95,485.316 1862.88,512.007 2107.82,522.829 2352.76,572.031 \n",
       "  \n",
       "  \"/>\n",
       "<polyline clip-path=\"url(#clip7902)\" style=\"stroke:#0000ff; stroke-width:4; stroke-opacity:1; fill:none\" points=\"\n",
       "  148.334,277.126 393.27,327.501 638.206,574.309 883.142,641.954 1128.08,487.83 1373.01,105.421 1617.95,439.5 1862.88,625.367 2107.82,417.404 2352.76,482.958 \n",
       "  \n",
       "  \"/>\n",
       "<polyline clip-path=\"url(#clip7902)\" style=\"stroke:#0000ff; stroke-width:4; stroke-opacity:1; fill:none\" points=\"\n",
       "  148.334,465.211 393.27,388.848 638.206,554.199 883.142,242.277 1128.08,590.51 1373.01,306.705 1617.95,612.542 1862.88,891.304 2107.82,490.656 2352.76,564.966 \n",
       "  \n",
       "  \"/>\n",
       "<polyline clip-path=\"url(#clip7902)\" style=\"stroke:#0000ff; stroke-width:4; stroke-opacity:1; fill:none\" points=\"\n",
       "  148.334,274.256 393.27,495.072 638.206,626.776 883.142,465.229 1128.08,574.89 1373.01,509.09 1617.95,584.761 1862.88,334.996 2107.82,501.842 2352.76,714.073 \n",
       "  \n",
       "  \"/>\n",
       "<polyline clip-path=\"url(#clip7902)\" style=\"stroke:#0000ff; stroke-width:4; stroke-opacity:1; fill:none\" points=\"\n",
       "  148.334,511.453 393.27,291.128 638.206,507.715 883.142,503.266 1128.08,520.44 1373.01,506.614 1617.95,499.491 1862.88,428.969 2107.82,647.315 2352.76,297.155 \n",
       "  \n",
       "  \"/>\n",
       "<polyline clip-path=\"url(#clip7902)\" style=\"stroke:#0000ff; stroke-width:4; stroke-opacity:1; fill:none\" points=\"\n",
       "  148.334,623.531 393.27,533.634 638.206,562.312 883.142,279.822 1128.08,658.601 1373.01,399.742 1617.95,498.876 1862.88,664.711 2107.82,474.33 2352.76,747.327 \n",
       "  \n",
       "  \"/>\n",
       "<polyline clip-path=\"url(#clip7902)\" style=\"stroke:#0000ff; stroke-width:4; stroke-opacity:1; fill:none\" points=\"\n",
       "  148.334,320.346 393.27,390.276 638.206,523.332 883.142,328.332 1128.08,359.866 1373.01,386.839 1617.95,416.732 1862.88,417.751 2107.82,494.549 2352.76,543.505 \n",
       "  \n",
       "  \"/>\n",
       "<polyline clip-path=\"url(#clip7902)\" style=\"stroke:#0000ff; stroke-width:4; stroke-opacity:1; fill:none\" points=\"\n",
       "  148.334,746.865 393.27,364.474 638.206,491.916 883.142,490.978 1128.08,611.959 1373.01,467.308 1617.95,419.411 1862.88,469.142 2107.82,689.092 2352.76,388.802 \n",
       "  \n",
       "  \"/>\n",
       "<polyline clip-path=\"url(#clip7902)\" style=\"stroke:#0000ff; stroke-width:4; stroke-opacity:1; fill:none\" points=\"\n",
       "  148.334,454.301 393.27,213.57 638.206,682.531 883.142,889.746 1128.08,546.532 1373.01,382.173 1617.95,374.679 1862.88,622.211 2107.82,506.003 2352.76,414.171 \n",
       "  \n",
       "  \"/>\n",
       "<polyline clip-path=\"url(#clip7902)\" style=\"stroke:#0000ff; stroke-width:4; stroke-opacity:1; fill:none\" points=\"\n",
       "  148.334,521.555 393.27,302.094 638.206,421.914 883.142,728.222 1128.08,422.528 1373.01,460.796 1617.95,374.831 1862.88,395.9 2107.82,570.203 2352.76,308.323 \n",
       "  \n",
       "  \"/>\n",
       "<polyline clip-path=\"url(#clip7902)\" style=\"stroke:#0000ff; stroke-width:4; stroke-opacity:1; fill:none\" points=\"\n",
       "  148.334,606.524 393.27,535.45 638.206,634.111 883.142,353.98 1128.08,662.339 1373.01,285.894 1617.95,743.787 1862.88,584.725 2107.82,328.889 2352.76,566.704 \n",
       "  \n",
       "  \"/>\n",
       "<polyline clip-path=\"url(#clip7902)\" style=\"stroke:#0000ff; stroke-width:4; stroke-opacity:1; fill:none\" points=\"\n",
       "  148.334,545.881 393.27,549.654 638.206,615.648 883.142,352.017 1128.08,822.45 1373.01,400.446 1617.95,544.667 1862.88,683.011 2107.82,647.318 2352.76,604.016 \n",
       "  \n",
       "  \"/>\n",
       "<polyline clip-path=\"url(#clip7902)\" style=\"stroke:#0000ff; stroke-width:4; stroke-opacity:1; fill:none\" points=\"\n",
       "  148.334,496.792 393.27,194.941 638.206,327.084 883.142,393.563 1128.08,273.234 1373.01,448.533 1617.95,337.368 1862.88,398.462 2107.82,511.484 2352.76,488.78 \n",
       "  \n",
       "  \"/>\n",
       "<polyline clip-path=\"url(#clip7902)\" style=\"stroke:#0000ff; stroke-width:4; stroke-opacity:1; fill:none\" points=\"\n",
       "  148.334,532.722 393.27,448.808 638.206,614.227 883.142,207.07 1128.08,795.579 1373.01,563.517 1617.95,783.79 1862.88,620.934 2107.82,323.979 2352.76,781.458 \n",
       "  \n",
       "  \"/>\n",
       "<polyline clip-path=\"url(#clip7902)\" style=\"stroke:#0000ff; stroke-width:4; stroke-opacity:1; fill:none\" points=\"\n",
       "  148.334,563.506 393.27,376.39 638.206,726.797 883.142,1053.92 1128.08,589.781 1373.01,523.766 1617.95,371.716 1862.88,727.517 2107.82,614.429 2352.76,497.424 \n",
       "  \n",
       "  \"/>\n",
       "<polyline clip-path=\"url(#clip7902)\" style=\"stroke:#0000ff; stroke-width:4; stroke-opacity:1; fill:none\" points=\"\n",
       "  148.334,486.584 393.27,368.631 638.206,491.353 883.142,502.885 1128.08,421.262 1373.01,499.99 1617.95,526.542 1862.88,496.575 2107.82,552.621 2352.76,471.539 \n",
       "  \n",
       "  \"/>\n",
       "<polyline clip-path=\"url(#clip7902)\" style=\"stroke:#0000ff; stroke-width:4; stroke-opacity:1; fill:none\" points=\"\n",
       "  148.334,427.276 393.27,487.021 638.206,472.535 883.142,630.308 1128.08,571.193 1373.01,443.685 1617.95,492.957 1862.88,433.343 2107.82,859.431 2352.76,459.222 \n",
       "  \n",
       "  \"/>\n",
       "<polyline clip-path=\"url(#clip7902)\" style=\"stroke:#0000ff; stroke-width:4; stroke-opacity:1; fill:none\" points=\"\n",
       "  148.334,439.379 393.27,399.405 638.206,343.144 883.142,564.075 1128.08,548.306 1373.01,310.49 1617.95,498.186 1862.88,496.466 2107.82,937.328 2352.76,384.71 \n",
       "  \n",
       "  \"/>\n",
       "<polyline clip-path=\"url(#clip7902)\" style=\"stroke:#0000ff; stroke-width:4; stroke-opacity:1; fill:none\" points=\"\n",
       "  148.334,454.301 393.27,213.57 638.206,682.531 883.142,889.746 1128.08,546.532 1373.01,382.173 1617.95,374.679 1862.88,622.211 2107.82,506.003 2352.76,414.171 \n",
       "  \n",
       "  \"/>\n",
       "<polyline clip-path=\"url(#clip7902)\" style=\"stroke:#0000ff; stroke-width:4; stroke-opacity:1; fill:none\" points=\"\n",
       "  148.334,465.937 393.27,175.183 638.206,490.114 883.142,428.739 1128.08,320.894 1373.01,406.725 1617.95,358.236 1862.88,569.856 2107.82,520.958 2352.76,513.199 \n",
       "  \n",
       "  \"/>\n",
       "<polyline clip-path=\"url(#clip7902)\" style=\"stroke:#ffa500; stroke-width:4; stroke-opacity:1; fill:none\" points=\"\n",
       "  148.334,281.431 393.27,499.118 638.206,429.784 883.142,365.384 1128.08,618.895 1373.01,498.188 1617.95,520.128 1862.88,264.244 2107.82,637.891 2352.76,629.98 \n",
       "  \n",
       "  \"/>\n",
       "<polyline clip-path=\"url(#clip7902)\" style=\"stroke:#ffa500; stroke-width:4; stroke-opacity:1; fill:none\" points=\"\n",
       "  148.334,305.159 393.27,220.785 638.206,190.555 883.142,487.232 1128.08,396.273 1373.01,288.799 1617.95,420.548 1862.88,451.555 2107.82,665.837 2352.76,337.721 \n",
       "  \n",
       "  \"/>\n",
       "<polyline clip-path=\"url(#clip7902)\" style=\"stroke:#ffa500; stroke-width:4; stroke-opacity:1; fill:none\" points=\"\n",
       "  148.334,398.228 393.27,359.488 638.206,328.882 883.142,557.698 1128.08,427.555 1373.01,283.501 1617.95,412.272 1862.88,359.767 2107.82,846.593 2352.76,388.344 \n",
       "  \n",
       "  \"/>\n",
       "<polyline clip-path=\"url(#clip7902)\" style=\"stroke:#ffa500; stroke-width:4; stroke-opacity:1; fill:none\" points=\"\n",
       "  148.334,362.701 393.27,225.767 638.206,550.088 883.142,968.922 1128.08,441.717 1373.01,431.944 1617.95,240.335 1862.88,586.244 2107.82,513.632 2352.76,392.137 \n",
       "  \n",
       "  \"/>\n",
       "<polyline clip-path=\"url(#clip7902)\" style=\"stroke:#ffa500; stroke-width:4; stroke-opacity:1; fill:none\" points=\"\n",
       "  148.334,486.888 393.27,198.043 638.206,466.775 883.142,300.166 1128.08,632.057 1373.01,323.484 1617.95,534.171 1862.88,533.09 2107.82,132.993 2352.76,420.036 \n",
       "  \n",
       "  \"/>\n",
       "<polyline clip-path=\"url(#clip7902)\" style=\"stroke:#ffa500; stroke-width:4; stroke-opacity:1; fill:none\" points=\"\n",
       "  148.334,415.842 393.27,333.165 638.206,550.099 883.142,370.882 1128.08,585.607 1373.01,315.029 1617.95,481.206 1862.88,832.141 2107.82,353.708 2352.76,420.85 \n",
       "  \n",
       "  \"/>\n",
       "<polyline clip-path=\"url(#clip7902)\" style=\"stroke:#ffa500; stroke-width:4; stroke-opacity:1; fill:none\" points=\"\n",
       "  148.334,339.091 393.27,67.5385 638.206,313.717 883.142,404.551 1128.08,270.143 1373.01,359.695 1617.95,342.373 1862.88,413.041 2107.82,436.049 2352.76,476.054 \n",
       "  \n",
       "  \"/>\n",
       "<polyline clip-path=\"url(#clip7902)\" style=\"stroke:#ffa500; stroke-width:4; stroke-opacity:1; fill:none\" points=\"\n",
       "  148.334,476.013 393.27,284.865 638.206,505.857 883.142,458.143 1128.08,298.51 1373.01,54.4295 1617.95,450.08 1862.88,580.041 2107.82,374.221 2352.76,491.02 \n",
       "  \n",
       "  \"/>\n",
       "<polyline clip-path=\"url(#clip7902)\" style=\"stroke:#ffa500; stroke-width:4; stroke-opacity:1; fill:none\" points=\"\n",
       "  148.334,715.874 393.27,353.21 638.206,627.974 883.142,185.304 1128.08,651.416 1373.01,667.982 1617.95,374.77 1862.88,514.674 2107.82,355.46 2352.76,493.36 \n",
       "  \n",
       "  \"/>\n",
       "<polyline clip-path=\"url(#clip7902)\" style=\"stroke:#ffa500; stroke-width:4; stroke-opacity:1; fill:none\" points=\"\n",
       "  148.334,218.578 393.27,294.488 638.206,470.791 883.142,468.04 1128.08,380.424 1373.01,299.449 1617.95,132.565 1862.88,502.445 2107.82,316.915 2352.76,503.656 \n",
       "  \n",
       "  \"/>\n",
       "<polyline clip-path=\"url(#clip7902)\" style=\"stroke:#ffa500; stroke-width:4; stroke-opacity:1; fill:none\" points=\"\n",
       "  148.334,736.181 393.27,507.67 638.206,539.18 883.142,139.466 1128.08,707.629 1373.01,417.26 1617.95,611.32 1862.88,726.428 2107.82,494.905 2352.76,807.631 \n",
       "  \n",
       "  \"/>\n",
       "<polyline clip-path=\"url(#clip7902)\" style=\"stroke:#ffa500; stroke-width:4; stroke-opacity:1; fill:none\" points=\"\n",
       "  148.334,74.7692 393.27,411.883 638.206,461.85 883.142,393.759 1128.08,461.657 1373.01,215.409 1617.95,416.364 1862.88,425.731 2107.82,421.827 2352.76,559.774 \n",
       "  \n",
       "  \"/>\n",
       "<polyline clip-path=\"url(#clip7902)\" style=\"stroke:#ffa500; stroke-width:4; stroke-opacity:1; fill:none\" points=\"\n",
       "  148.334,377.421 393.27,163.965 638.206,346.181 883.142,435.881 1128.08,195.408 1373.01,348.613 1617.95,334.81 1862.88,481.61 2107.82,506.917 2352.76,564.054 \n",
       "  \n",
       "  \"/>\n",
       "<polyline clip-path=\"url(#clip7902)\" style=\"stroke:#ffa500; stroke-width:4; stroke-opacity:1; fill:none\" points=\"\n",
       "  148.334,791.457 393.27,487.798 638.206,621.924 883.142,273.426 1128.08,876.199 1373.01,383.196 1617.95,699.223 1862.88,703.265 2107.82,297.113 2352.76,596.016 \n",
       "  \n",
       "  \"/>\n",
       "<polyline clip-path=\"url(#clip7902)\" style=\"stroke:#ffa500; stroke-width:4; stroke-opacity:1; fill:none\" points=\"\n",
       "  148.334,616.891 393.27,392.102 638.206,615.267 883.142,47.2441 1128.08,673.829 1373.01,578.426 1617.95,602.053 1862.88,511.498 2107.82,460.031 2352.76,608.366 \n",
       "  \n",
       "  \"/>\n",
       "<polyline clip-path=\"url(#clip7902)\" style=\"stroke:#ffa500; stroke-width:4; stroke-opacity:1; fill:none\" points=\"\n",
       "  148.334,486.169 393.27,200.995 638.206,548.371 883.142,503.023 1128.08,544.647 1373.01,465.705 1617.95,474.328 1862.88,442.068 2107.82,633.828 2352.76,217.605 \n",
       "  \n",
       "  \"/>\n",
       "<polyline clip-path=\"url(#clip7902)\" style=\"stroke:#ffa500; stroke-width:4; stroke-opacity:1; fill:none\" points=\"\n",
       "  148.334,509.136 393.27,398.318 638.206,564.298 883.142,154.999 1128.08,738.161 1373.01,541.936 1617.95,752.539 1862.88,608.082 2107.82,322.294 2352.76,734.928 \n",
       "  \n",
       "  \"/>\n",
       "<polyline clip-path=\"url(#clip7902)\" style=\"stroke:#ffa500; stroke-width:4; stroke-opacity:1; fill:none\" points=\"\n",
       "  148.334,398.038 393.27,109.97 638.206,387.448 883.142,747.841 1128.08,522.388 1373.01,442.879 1617.95,339.999 1862.88,492.146 2107.82,347.032 2352.76,258.899 \n",
       "  \n",
       "  \"/>\n",
       "<polyline clip-path=\"url(#clip7902)\" style=\"stroke:#ffa500; stroke-width:4; stroke-opacity:1; fill:none\" points=\"\n",
       "  148.334,594.271 393.27,414.342 638.206,509.805 883.142,161.82 1128.08,606.473 1373.01,270.358 1617.95,514.018 1862.88,768.544 2107.82,435.816 2352.76,691.348 \n",
       "  \n",
       "  \"/>\n",
       "<polyline clip-path=\"url(#clip7902)\" style=\"stroke:#ffa500; stroke-width:4; stroke-opacity:1; fill:none\" points=\"\n",
       "  148.334,490.81 393.27,464.429 638.206,631.302 883.142,133.198 1128.08,587.628 1373.01,494.024 1617.95,586.135 1862.88,685.672 2107.82,441.597 2352.76,675.788 \n",
       "  \n",
       "  \"/>\n",
       "<polyline clip-path=\"url(#clip7902)\" style=\"stroke:#ffa500; stroke-width:4; stroke-opacity:1; fill:none\" points=\"\n",
       "  148.334,586.268 393.27,588.775 638.206,512.82 883.142,169.688 1128.08,616.604 1373.01,305.746 1617.95,676.587 1862.88,802.012 2107.82,614.354 2352.76,669.175 \n",
       "  \n",
       "  \"/>\n",
       "<polyline clip-path=\"url(#clip7902)\" style=\"stroke:#ffa500; stroke-width:4; stroke-opacity:1; fill:none\" points=\"\n",
       "  148.334,315.248 393.27,149.075 638.206,453.322 883.142,606.704 1128.08,379.391 1373.01,413.706 1617.95,300.857 1862.88,467.773 2107.82,558.842 2352.76,289.97 \n",
       "  \n",
       "  \"/>\n",
       "<polyline clip-path=\"url(#clip7902)\" style=\"stroke:#ffa500; stroke-width:4; stroke-opacity:1; fill:none\" points=\"\n",
       "  148.334,632.196 393.27,480.549 638.206,515.326 883.142,105.013 1128.08,795.04 1373.01,400.765 1617.95,583.961 1862.88,595.046 2107.82,336.299 2352.76,660.393 \n",
       "  \n",
       "  \"/>\n",
       "<polyline clip-path=\"url(#clip7902)\" style=\"stroke:#ffa500; stroke-width:4; stroke-opacity:1; fill:none\" points=\"\n",
       "  148.334,353.273 393.27,237.915 638.206,383.863 883.142,674.1 1128.08,487.677 1373.01,471.937 1617.95,444.362 1862.88,434.159 2107.82,755.289 2352.76,305.65 \n",
       "  \n",
       "  \"/>\n",
       "<polyline clip-path=\"url(#clip7902)\" style=\"stroke:#ffa500; stroke-width:4; stroke-opacity:1; fill:none\" points=\"\n",
       "  148.334,521.555 393.27,302.094 638.206,421.914 883.142,728.222 1128.08,422.528 1373.01,460.796 1617.95,374.831 1862.88,395.9 2107.82,570.203 2352.76,308.323 \n",
       "  \n",
       "  \"/>\n",
       "<polyline clip-path=\"url(#clip7902)\" style=\"stroke:#ffa500; stroke-width:4; stroke-opacity:1; fill:none\" points=\"\n",
       "  148.334,413.281 393.27,233.124 638.206,482.021 883.142,680.783 1128.08,308.554 1373.01,385.73 1617.95,290.065 1862.88,324.678 2107.82,567.955 2352.76,320.993 \n",
       "  \n",
       "  \"/>\n",
       "<polyline clip-path=\"url(#clip7902)\" style=\"stroke:#ffa500; stroke-width:4; stroke-opacity:1; fill:none\" points=\"\n",
       "  148.334,661.121 393.27,527.148 638.206,540.986 883.142,160.598 1128.08,845.936 1373.01,407.242 1617.95,622.907 1862.88,648.75 2107.82,371.406 2352.76,641.585 \n",
       "  \n",
       "  \"/>\n",
       "<polyline clip-path=\"url(#clip7902)\" style=\"stroke:#ffa500; stroke-width:4; stroke-opacity:1; fill:none\" points=\"\n",
       "  148.334,607.882 393.27,507.88 638.206,557.208 883.142,159.124 1128.08,650.564 1373.01,448.249 1617.95,647.741 1862.88,572.363 2107.82,364.547 2352.76,640.937 \n",
       "  \n",
       "  \"/>\n",
       "<polyline clip-path=\"url(#clip7902)\" style=\"stroke:#ffa500; stroke-width:4; stroke-opacity:1; fill:none\" points=\"\n",
       "  148.334,378.561 393.27,478.711 638.206,708.079 883.142,328.781 1128.08,734.112 1373.01,418.544 1617.95,731.32 1862.88,658.181 2107.82,339.761 2352.76,779.311 \n",
       "  \n",
       "  \"/>\n",
       "<polyline clip-path=\"url(#clip7902)\" style=\"stroke:#ffa500; stroke-width:4; stroke-opacity:1; fill:none\" points=\"\n",
       "  148.334,693.219 393.27,517.628 638.206,622.096 883.142,70.0826 1128.08,752.892 1373.01,500.432 1617.95,741.599 1862.88,691.742 2107.82,391.022 2352.76,701.733 \n",
       "  \n",
       "  \"/>\n",
       "<polyline clip-path=\"url(#clip7902)\" style=\"stroke:#ffa500; stroke-width:4; stroke-opacity:1; fill:none\" points=\"\n",
       "  148.334,249.996 393.27,449.588 638.206,439.303 883.142,350.196 1128.08,611.916 1373.01,476.061 1617.95,450.162 1862.88,276.86 2107.82,581.481 2352.76,623.506 \n",
       "  \n",
       "  \"/>\n",
       "<polyline clip-path=\"url(#clip7902)\" style=\"stroke:#ffa500; stroke-width:4; stroke-opacity:1; fill:none\" points=\"\n",
       "  148.334,485.334 393.27,160.547 638.206,291.448 883.142,387.933 1128.08,258.149 1373.01,312.524 1617.95,333.712 1862.88,631.544 2107.82,360.88 2352.76,612.782 \n",
       "  \n",
       "  \"/>\n",
       "<polyline clip-path=\"url(#clip7902)\" style=\"stroke:#ffa500; stroke-width:4; stroke-opacity:1; fill:none\" points=\"\n",
       "  148.334,543.256 393.27,494.023 638.206,512.907 883.142,167.703 1128.08,676.108 1373.01,310.818 1617.95,605.396 1862.88,784.56 2107.82,384.416 2352.76,612.337 \n",
       "  \n",
       "  \"/>\n",
       "<polyline clip-path=\"url(#clip7902)\" style=\"stroke:#ffa500; stroke-width:4; stroke-opacity:1; fill:none\" points=\"\n",
       "  148.334,201.334 393.27,231.464 638.206,431.365 883.142,421.062 1128.08,217.536 1373.01,264.825 1617.95,200.711 1862.88,386.046 2107.82,415.566 2352.76,343.543 \n",
       "  \n",
       "  \"/>\n",
       "<polyline clip-path=\"url(#clip7902)\" style=\"stroke:#ffa500; stroke-width:4; stroke-opacity:1; fill:none\" points=\"\n",
       "  148.334,616.891 393.27,392.102 638.206,615.267 883.142,47.2441 1128.08,673.829 1373.01,578.426 1617.95,602.053 1862.88,511.498 2107.82,460.031 2352.76,608.366 \n",
       "  \n",
       "  \"/>\n",
       "<polyline clip-path=\"url(#clip7902)\" style=\"stroke:#ffa500; stroke-width:4; stroke-opacity:1; fill:none\" points=\"\n",
       "  148.334,667.855 393.27,389.859 638.206,582.134 883.142,262.304 1128.08,768.772 1373.01,447.842 1617.95,694.876 1862.88,792.386 2107.82,355.355 2352.76,704.487 \n",
       "  \n",
       "  \"/>\n",
       "<polyline clip-path=\"url(#clip7902)\" style=\"stroke:#ffa500; stroke-width:4; stroke-opacity:1; fill:none\" points=\"\n",
       "  148.334,403.17 393.27,249.059 638.206,489.422 883.142,403.76 1128.08,581.331 1373.01,239.583 1617.95,481.585 1862.88,487.507 2107.82,256.017 2352.76,354.952 \n",
       "  \n",
       "  \"/>\n",
       "<polyline clip-path=\"url(#clip7902)\" style=\"stroke:#ffa500; stroke-width:4; stroke-opacity:1; fill:none\" points=\"\n",
       "  148.334,621.374 393.27,473.37 638.206,309.928 883.142,209.463 1128.08,537.342 1373.01,281.888 1617.95,582.472 1862.88,594.669 2107.82,530.805 2352.76,708.034 \n",
       "  \n",
       "  \"/>\n",
       "<polyline clip-path=\"url(#clip7902)\" style=\"stroke:#ffa500; stroke-width:4; stroke-opacity:1; fill:none\" points=\"\n",
       "  148.334,508.426 393.27,149.497 638.206,337.143 883.142,501.661 1128.08,428.367 1373.01,501.702 1617.95,189.104 1862.88,483.525 2107.82,412.701 2352.76,362.999 \n",
       "  \n",
       "  \"/>\n",
       "<polyline clip-path=\"url(#clip7902)\" style=\"stroke:#ffa500; stroke-width:4; stroke-opacity:1; fill:none\" points=\"\n",
       "  148.334,500.073 393.27,114.932 638.206,387.219 883.142,576.307 1128.08,303.032 1373.01,390.422 1617.95,331.891 1862.88,411.023 2107.82,488.298 2352.76,375.11 \n",
       "  \n",
       "  \"/>\n",
       "<polyline clip-path=\"url(#clip7902)\" style=\"stroke:#ffa500; stroke-width:4; stroke-opacity:1; fill:none\" points=\"\n",
       "  148.334,342.11 393.27,305.797 638.206,230.249 883.142,507.134 1128.08,612.88 1373.01,424.863 1617.95,526.539 1862.88,438.6 2107.82,682.31 2352.76,381.196 \n",
       "  \n",
       "  \"/>\n",
       "<polyline clip-path=\"url(#clip7902)\" style=\"stroke:#ffa500; stroke-width:4; stroke-opacity:1; fill:none\" points=\"\n",
       "  148.334,240.036 393.27,190.599 638.206,372.676 883.142,268.413 1128.08,375.93 1373.01,337.838 1617.95,329.049 1862.88,499.12 2107.82,376.007 2352.76,384.714 \n",
       "  \n",
       "  \"/>\n",
       "<polyline clip-path=\"url(#clip7902)\" style=\"stroke:#ffa500; stroke-width:4; stroke-opacity:1; fill:none\" points=\"\n",
       "  148.334,607.572 393.27,557.154 638.206,575.317 883.142,143.105 1128.08,708.596 1373.01,371.588 1617.95,663.97 1862.88,756.646 2107.82,477.05 2352.76,768.627 \n",
       "  \n",
       "  \"/>\n",
       "<polyline clip-path=\"url(#clip7902)\" style=\"stroke:#ffa500; stroke-width:4; stroke-opacity:1; fill:none\" points=\"\n",
       "  148.334,362.701 393.27,225.767 638.206,550.088 883.142,968.922 1128.08,441.717 1373.01,431.944 1617.95,240.335 1862.88,586.244 2107.82,513.632 2352.76,392.137 \n",
       "  \n",
       "  \"/>\n",
       "<polyline clip-path=\"url(#clip7902)\" style=\"stroke:#ffa500; stroke-width:4; stroke-opacity:1; fill:none\" points=\"\n",
       "  148.334,621.573 393.27,540.566 638.206,613.682 883.142,129.148 1128.08,796.255 1373.01,487.758 1617.95,740.548 1862.88,700.748 2107.82,409.309 2352.76,767.431 \n",
       "  \n",
       "  \"/>\n",
       "<polyline clip-path=\"url(#clip7902)\" style=\"stroke:#ffa500; stroke-width:4; stroke-opacity:1; fill:none\" points=\"\n",
       "  148.334,355.982 393.27,428.668 638.206,358.228 883.142,692.361 1128.08,455.235 1373.01,321.123 1617.95,535.596 1862.88,449.874 2107.82,744.389 2352.76,412.631 \n",
       "  \n",
       "  \"/>\n",
       "<polyline clip-path=\"url(#clip7902)\" style=\"stroke:#ffa500; stroke-width:4; stroke-opacity:1; fill:none\" points=\"\n",
       "  148.334,700.606 393.27,460.662 638.206,605.395 883.142,93.3038 1128.08,669.908 1373.01,447.548 1617.95,704.457 1862.88,714.26 2107.82,441.471 2352.76,757.315 \n",
       "  \n",
       "  \"/>\n",
       "<polyline clip-path=\"url(#clip7902)\" style=\"stroke:#ffa500; stroke-width:4; stroke-opacity:1; fill:none\" points=\"\n",
       "  148.334,623.627 393.27,618.41 638.206,473.414 883.142,119.962 1128.08,768.509 1373.01,497.218 1617.95,707.004 1862.88,587.307 2107.82,493.301 2352.76,756.852 \n",
       "  \n",
       "  \"/>\n",
       "<polyline clip-path=\"url(#clip7902)\" style=\"stroke:#ffa500; stroke-width:4; stroke-opacity:1; fill:none\" points=\"\n",
       "  148.334,681.742 393.27,334.289 638.206,674.037 883.142,272.158 1128.08,591.616 1373.01,516.347 1617.95,327.912 1862.88,516.707 2107.82,399.262 2352.76,435.795 \n",
       "  \n",
       "  \"/>\n",
       "<polyline clip-path=\"url(#clip7902)\" style=\"stroke:#ffa500; stroke-width:4; stroke-opacity:1; fill:none\" points=\"\n",
       "  148.334,582.394 393.27,540.556 638.206,425.884 883.142,150.362 1128.08,627.829 1373.01,286.837 1617.95,614.498 1862.88,707.142 2107.82,553.284 2352.76,712.746 \n",
       "  \n",
       "  \"/>\n",
       "<polyline clip-path=\"url(#clip7902)\" style=\"stroke:#ffa500; stroke-width:4; stroke-opacity:1; fill:none\" points=\"\n",
       "  148.334,565.585 393.27,380.33 638.206,243.122 883.142,480.622 1128.08,495.953 1373.01,291.428 1617.95,555.063 1862.88,403.137 2107.82,838.375 2352.76,438.169 \n",
       "  \n",
       "  \"/>\n",
       "<polyline clip-path=\"url(#clip7902)\" style=\"stroke:#ffa500; stroke-width:4; stroke-opacity:1; fill:none\" points=\"\n",
       "  148.334,442.141 393.27,369.787 638.206,506.692 883.142,390.493 1128.08,551.401 1373.01,321.042 1617.95,508.625 1862.88,806.337 2107.82,334.425 2352.76,451.349 \n",
       "  \n",
       "  \"/>\n",
       "<polyline clip-path=\"url(#clip7902)\" style=\"stroke:#ffa500; stroke-width:4; stroke-opacity:1; fill:none\" points=\"\n",
       "  148.334,711.236 393.27,545.313 638.206,591.761 883.142,110.973 1128.08,699.653 1373.01,468.599 1617.95,738.508 1862.88,746.299 2107.82,397.793 2352.76,718.841 \n",
       "  \n",
       "  \"/>\n",
       "<polyline clip-path=\"url(#clip7902)\" style=\"stroke:#ffa500; stroke-width:4; stroke-opacity:1; fill:none\" points=\"\n",
       "  148.334,435.245 393.27,162.815 638.206,211.733 883.142,376.843 1128.08,212.119 1373.01,206.582 1617.95,286.632 1862.88,526.667 2107.82,345.679 2352.76,558.178 \n",
       "  \n",
       "  \"/>\n",
       "<polyline clip-path=\"url(#clip7902)\" style=\"stroke:#ffa500; stroke-width:4; stroke-opacity:1; fill:none\" points=\"\n",
       "  148.334,378.978 393.27,348.667 638.206,366.818 883.142,180.023 1128.08,201.42 1373.01,231.141 1617.95,422.524 1862.88,453.923 2107.82,416.911 2352.76,554.908 \n",
       "  \n",
       "  \"/>\n",
       "<polyline clip-path=\"url(#clip7902)\" style=\"stroke:#ffa500; stroke-width:4; stroke-opacity:1; fill:none\" points=\"\n",
       "  148.334,500.913 393.27,436.761 638.206,361.049 883.142,436.64 1128.08,581.422 1373.01,309.959 1617.95,520.613 1862.88,431.034 2107.82,825.052 2352.76,553.195 \n",
       "  \n",
       "  \"/>\n",
       "<polyline clip-path=\"url(#clip7902)\" style=\"stroke:#ffa500; stroke-width:4; stroke-opacity:1; fill:none\" points=\"\n",
       "  148.334,400.273 393.27,264.469 638.206,288.367 883.142,434.138 1128.08,342.304 1373.01,277.174 1617.95,405.791 1862.88,655.697 2107.82,364.422 2352.76,538.71 \n",
       "  \n",
       "  \"/>\n",
       "<polyline clip-path=\"url(#clip7902)\" style=\"stroke:#ffa500; stroke-width:4; stroke-opacity:1; fill:none\" points=\"\n",
       "  148.334,212.141 393.27,132.192 638.206,298.997 883.142,618.307 1128.08,368.258 1373.01,180.004 1617.95,310.381 1862.88,520.117 2107.82,312.237 2352.76,532.673 \n",
       "  \n",
       "  \"/>\n",
       "<polyline clip-path=\"url(#clip7902)\" style=\"stroke:#ffa500; stroke-width:4; stroke-opacity:1; fill:none\" points=\"\n",
       "  148.334,269.246 393.27,230.71 638.206,273.283 883.142,481.078 1128.08,405.816 1373.01,410.359 1617.95,222.055 1862.88,372.198 2107.82,419.031 2352.76,458.334 \n",
       "  \n",
       "  \"/>\n",
       "<polyline clip-path=\"url(#clip7902)\" style=\"stroke:#ffa500; stroke-width:4; stroke-opacity:1; fill:none\" points=\"\n",
       "  148.334,188.76 393.27,216.612 638.206,346.458 883.142,574.445 1128.08,440.274 1373.01,243.769 1617.95,407.484 1862.88,473.067 2107.82,334.616 2352.76,464.5 \n",
       "  \n",
       "  \"/>\n",
       "<polyline clip-path=\"url(#clip7902)\" style=\"stroke:#ffa500; stroke-width:4; stroke-opacity:1; fill:none\" points=\"\n",
       "  148.334,420.668 393.27,167.888 638.206,614.103 883.142,223.772 1128.08,521.75 1373.01,545.295 1617.95,378.769 1862.88,467.093 2107.82,319 2352.76,468.458 \n",
       "  \n",
       "  \"/>\n",
       "<polyline clip-path=\"url(#clip7902)\" style=\"stroke:#ffa500; stroke-width:4; stroke-opacity:1; fill:none\" points=\"\n",
       "  148.334,563.687 393.27,617.244 638.206,497.065 883.142,233.793 1128.08,774.168 1373.01,386.311 1617.95,536.552 1862.88,451.89 2107.82,642.657 2352.76,754.596 \n",
       "  \n",
       "  \"/>\n",
       "<polyline clip-path=\"url(#clip7902)\" style=\"stroke:#ffa500; stroke-width:4; stroke-opacity:1; fill:none\" points=\"\n",
       "  148.334,277.126 393.27,327.501 638.206,574.309 883.142,641.954 1128.08,487.83 1373.01,105.421 1617.95,439.5 1862.88,625.367 2107.82,417.404 2352.76,482.958 \n",
       "  \n",
       "  \"/>\n",
       "<polyline clip-path=\"url(#clip7902)\" style=\"stroke:#ffa500; stroke-width:4; stroke-opacity:1; fill:none\" points=\"\n",
       "  148.334,773.26 393.27,429.436 638.206,522.723 883.142,148.765 1128.08,731.477 1373.01,471.745 1617.95,687.455 1862.88,741.576 2107.82,399.859 2352.76,749.435 \n",
       "  \n",
       "  \"/>\n",
       "<polyline clip-path=\"url(#clip7902)\" style=\"stroke:#ffa500; stroke-width:4; stroke-opacity:1; fill:none\" points=\"\n",
       "  148.334,601.634 393.27,587.068 638.206,558.016 883.142,135.092 1128.08,696.609 1373.01,429.851 1617.95,698.091 1862.88,767.949 2107.82,467.483 2352.76,722.314 \n",
       "  \n",
       "  \"/>\n",
       "<polyline clip-path=\"url(#clip7902)\" style=\"stroke:#ffa500; stroke-width:4; stroke-opacity:1; fill:none\" points=\"\n",
       "  148.334,395.009 393.27,369.263 638.206,389.346 883.142,738.276 1128.08,385.744 1373.01,326.196 1617.95,467.058 1862.88,548.003 2107.82,704.167 2352.76,524.743 \n",
       "  \n",
       "  \"/>\n",
       "<polyline clip-path=\"url(#clip7902)\" style=\"stroke:#ffa500; stroke-width:4; stroke-opacity:1; fill:none\" points=\"\n",
       "  148.334,154.505 393.27,328.689 638.206,409.248 883.142,438.682 1128.08,397.019 1373.01,199.487 1617.95,402.081 1862.88,414.55 2107.82,564.557 2352.76,517.621 \n",
       "  \n",
       "  \"/>\n",
       "<polyline clip-path=\"url(#clip7902)\" style=\"stroke:#ffa500; stroke-width:4; stroke-opacity:1; fill:none\" points=\"\n",
       "  148.334,549.492 393.27,472.306 638.206,661.629 883.142,185.33 1128.08,789.48 1373.01,520.127 1617.95,770.974 1862.88,662.33 2107.82,325.809 2352.76,744.791 \n",
       "  \n",
       "  \"/>\n",
       "<polyline clip-path=\"url(#clip7902)\" style=\"stroke:#ffa500; stroke-width:4; stroke-opacity:1; fill:none\" points=\"\n",
       "  148.334,417.941 393.27,92.1807 638.206,293.241 883.142,406.79 1128.08,326.726 1373.01,429.608 1617.95,249.373 1862.88,467.478 2107.82,360.172 2352.76,494.141 \n",
       "  \n",
       "  \"/>\n",
       "<polyline clip-path=\"url(#clip7902)\" style=\"stroke:#ffa500; stroke-width:4; stroke-opacity:1; fill:none\" points=\"\n",
       "  148.334,557.045 393.27,450.846 638.206,586.881 883.142,464.122 1128.08,630.334 1373.01,207.243 1617.95,626.392 1862.88,593.841 2107.82,238.124 2352.76,502.499 \n",
       "  \n",
       "  \"/>\n",
       "<polyline clip-path=\"url(#clip7902)\" style=\"stroke:#ffa500; stroke-width:4; stroke-opacity:1; fill:none\" points=\"\n",
       "  148.334,529.002 393.27,355.471 638.206,653.464 883.142,175.483 1128.08,631.609 1373.01,397.945 1617.95,701.644 1862.88,752.158 2107.82,419.048 2352.76,699.907 \n",
       "  \n",
       "  \"/>\n",
       "<polyline clip-path=\"url(#clip7902)\" style=\"stroke:#ffa500; stroke-width:4; stroke-opacity:1; fill:none\" points=\"\n",
       "  148.334,146.827 393.27,327.844 638.206,400.084 883.142,349.127 1128.08,505.98 1373.01,371.437 1617.95,427.877 1862.88,330.271 2107.82,507.593 2352.76,438.378 \n",
       "  \n",
       "  \"/>\n",
       "<polyline clip-path=\"url(#clip7902)\" style=\"stroke:#ffa500; stroke-width:4; stroke-opacity:1; fill:none\" points=\"\n",
       "  148.334,336.759 393.27,288.714 638.206,381.461 883.142,692.208 1128.08,530.836 1373.01,375.07 1617.95,270.331 1862.88,515.896 2107.82,574.475 2352.76,506.492 \n",
       "  \n",
       "  \"/>\n",
       "<polyline clip-path=\"url(#clip7902)\" style=\"stroke:#ffa500; stroke-width:4; stroke-opacity:1; fill:none\" points=\"\n",
       "  148.334,419.82 393.27,182.986 638.206,514.852 883.142,746.973 1128.08,464.78 1373.01,429.413 1617.95,360.692 1862.88,512.713 2107.82,342.078 2352.76,241.121 \n",
       "  \n",
       "  \"/>\n",
       "<polyline clip-path=\"url(#clip7902)\" style=\"stroke:#ffa500; stroke-width:4; stroke-opacity:1; fill:none\" points=\"\n",
       "  148.334,450.195 393.27,321.878 638.206,497.332 883.142,305.445 1128.08,640.712 1373.01,292.636 1617.95,574.623 1862.88,650.641 2107.82,334.641 2352.76,663.7 \n",
       "  \n",
       "  \"/>\n",
       "<polyline clip-path=\"url(#clip7902)\" style=\"stroke:#ffa500; stroke-width:4; stroke-opacity:1; fill:none\" points=\"\n",
       "  148.334,226.929 393.27,463.491 638.206,682.436 883.142,405.337 1128.08,575.636 1373.01,415.424 1617.95,510.709 1862.88,335.6 2107.82,450.798 2352.76,651.121 \n",
       "  \n",
       "  \"/>\n",
       "<polyline clip-path=\"url(#clip7902)\" style=\"stroke:#ffa500; stroke-width:4; stroke-opacity:1; fill:none\" points=\"\n",
       "  148.334,398.785 393.27,148.94 638.206,341.398 883.142,351.932 1128.08,319.214 1373.01,483.977 1617.95,230.982 1862.88,404.065 2107.82,456.921 2352.76,338.368 \n",
       "  \n",
       "  \"/>\n",
       "<polyline clip-path=\"url(#clip7902)\" style=\"stroke:#ffa500; stroke-width:4; stroke-opacity:1; fill:none\" points=\"\n",
       "  148.334,265.24 393.27,226.478 638.206,557.204 883.142,497.677 1128.08,519.863 1373.01,113.95 1617.95,512.872 1862.88,482.081 2107.82,175.837 2352.76,376.44 \n",
       "  \n",
       "  \"/>\n",
       "<polyline clip-path=\"url(#clip7902)\" style=\"stroke:#ffa500; stroke-width:4; stroke-opacity:1; fill:none\" points=\"\n",
       "  148.334,413.824 393.27,394.175 638.206,397.678 883.142,454.565 1128.08,651.049 1373.01,343.352 1617.95,416.163 1862.88,425.856 2107.82,765.125 2352.76,586.371 \n",
       "  \n",
       "  \"/>\n",
       "<polyline clip-path=\"url(#clip7902)\" style=\"stroke:#ffa500; stroke-width:4; stroke-opacity:1; fill:none\" points=\"\n",
       "  148.334,284.746 393.27,288.522 638.206,399.468 883.142,300.85 1128.08,481.413 1373.01,514.745 1617.95,432.901 1862.88,302.156 2107.82,502.734 2352.76,577.354 \n",
       "  \n",
       "  \"/>\n",
       "<polyline clip-path=\"url(#clip7902)\" style=\"stroke:#ffa500; stroke-width:4; stroke-opacity:1; fill:none\" points=\"\n",
       "  148.334,393.321 393.27,237.43 638.206,253.196 883.142,324.348 1128.08,326.84 1373.01,354.734 1617.95,354.889 1862.88,468.915 2107.82,647.684 2352.76,385 \n",
       "  \n",
       "  \"/>\n",
       "<polyline clip-path=\"url(#clip7902)\" style=\"stroke:#ffa500; stroke-width:4; stroke-opacity:1; fill:none\" points=\"\n",
       "  148.334,218.578 393.27,294.488 638.206,470.791 883.142,468.04 1128.08,380.424 1373.01,299.449 1617.95,132.565 1862.88,502.445 2107.82,316.915 2352.76,503.656 \n",
       "  \n",
       "  \"/>\n",
       "<polyline clip-path=\"url(#clip7902)\" style=\"stroke:#ffa500; stroke-width:4; stroke-opacity:1; fill:none\" points=\"\n",
       "  148.334,398.292 393.27,171.798 638.206,262.146 883.142,632.891 1128.08,347.547 1373.01,403.209 1617.95,279.399 1862.88,443.935 2107.82,508.332 2352.76,471.939 \n",
       "  \n",
       "  \"/>\n",
       "<polyline clip-path=\"url(#clip7902)\" style=\"stroke:#ffa500; stroke-width:4; stroke-opacity:1; fill:none\" points=\"\n",
       "  148.334,339.258 393.27,117.583 638.206,364.116 883.142,187.243 1128.08,387.3 1373.01,449.873 1617.95,401.091 1862.88,391.069 2107.82,303.679 2352.76,399.289 \n",
       "  \n",
       "  \"/>\n",
       "<polyline clip-path=\"url(#clip7902)\" style=\"stroke:#ffa500; stroke-width:4; stroke-opacity:1; fill:none\" points=\"\n",
       "  148.334,292.997 393.27,321.904 638.206,254.411 883.142,333.552 1128.08,463.143 1373.01,230.398 1617.95,462.637 1862.88,633.523 2107.82,629.99 2352.76,530.322 \n",
       "  \n",
       "  \"/>\n",
       "<polyline clip-path=\"url(#clip7902)\" style=\"stroke:#ffa500; stroke-width:4; stroke-opacity:1; fill:none\" points=\"\n",
       "  148.334,410.062 393.27,237.387 638.206,488.456 883.142,296.748 1128.08,670.612 1373.01,274.96 1617.95,516.646 1862.88,547 2107.82,239.13 2352.76,415.343 \n",
       "  \n",
       "  \"/>\n",
       "<polyline clip-path=\"url(#clip7902)\" style=\"stroke:#ffa500; stroke-width:4; stroke-opacity:1; fill:none\" points=\"\n",
       "  148.334,418.4 393.27,391.581 638.206,536.175 883.142,423.358 1128.08,600.462 1373.01,409.049 1617.95,511.193 1862.88,296.311 2107.82,468.976 2352.76,568.859 \n",
       "  \n",
       "  \"/>\n",
       "<polyline clip-path=\"url(#clip7902)\" style=\"stroke:#ffa500; stroke-width:4; stroke-opacity:1; fill:none\" points=\"\n",
       "  148.334,179.471 393.27,364.065 638.206,460.998 883.142,515.347 1128.08,466.112 1373.01,188.761 1617.95,433.621 1862.88,488.487 2107.82,569.61 2352.76,563.641 \n",
       "  \n",
       "  \"/>\n",
       "<polyline clip-path=\"url(#clip7902)\" style=\"stroke:#ffa500; stroke-width:4; stroke-opacity:1; fill:none\" points=\"\n",
       "  148.334,393.151 393.27,431.134 638.206,448.675 883.142,428.549 1128.08,426.206 1373.01,361.912 1617.95,395.404 1862.88,318.459 2107.82,680.294 2352.76,527.323 \n",
       "  \n",
       "  \"/>\n",
       "<polyline clip-path=\"url(#clip7902)\" style=\"stroke:#ffa500; stroke-width:4; stroke-opacity:1; fill:none\" points=\"\n",
       "  148.334,523.758 393.27,427.111 638.206,460.323 883.142,404.304 1128.08,526.822 1373.01,170.189 1617.95,591.025 1862.88,559.144 2107.82,299.289 2352.76,485.876 \n",
       "  \n",
       "  \"/>\n",
       "<polyline clip-path=\"url(#clip7902)\" style=\"stroke:#ffa500; stroke-width:4; stroke-opacity:1; fill:none\" points=\"\n",
       "  148.334,292.779 393.27,244.207 638.206,306.862 883.142,473.648 1128.08,450.43 1373.01,163.403 1617.95,388.493 1862.88,332.748 2107.82,671.889 2352.76,452.249 \n",
       "  \n",
       "  \"/>\n",
       "<polyline clip-path=\"url(#clip7902)\" style=\"stroke:#ffa500; stroke-width:4; stroke-opacity:1; fill:none\" points=\"\n",
       "  148.334,555.198 393.27,399.579 638.206,569.951 883.142,95.9151 1128.08,616.092 1373.01,478.592 1617.95,630.002 1862.88,575.74 2107.82,433.342 2352.76,646.029 \n",
       "  \n",
       "  \"/>\n",
       "<polyline clip-path=\"url(#clip7902)\" style=\"stroke:#ffa500; stroke-width:4; stroke-opacity:1; fill:none\" points=\"\n",
       "  148.334,593.882 393.27,524.469 638.206,518.844 883.142,173.081 1128.08,562.906 1373.01,332.078 1617.95,571.162 1862.88,628.261 2107.82,432.288 2352.76,642.133 \n",
       "  \n",
       "  \"/>\n",
       "<polyline clip-path=\"url(#clip7902)\" style=\"stroke:#ffa500; stroke-width:4; stroke-opacity:1; fill:none\" points=\"\n",
       "  148.334,127.469 393.27,374.373 638.206,442.804 883.142,405.041 1128.08,577.793 1373.01,364.743 1617.95,463.048 1862.88,353.216 2107.82,467.249 2352.76,609.5 \n",
       "  \n",
       "  \"/>\n",
       "<polyline clip-path=\"url(#clip7902)\" style=\"stroke:#ffa500; stroke-width:4; stroke-opacity:1; fill:none\" points=\"\n",
       "  148.334,277.032 393.27,403.903 638.206,405.746 883.142,383.837 1128.08,431.141 1373.01,310.804 1617.95,389.195 1862.88,338.193 2107.82,678.788 2352.76,531.627 \n",
       "  \n",
       "  \"/>\n",
       "<polyline clip-path=\"url(#clip7902)\" style=\"stroke:#ffa500; stroke-width:4; stroke-opacity:1; fill:none\" points=\"\n",
       "  148.334,179.126 393.27,353.839 638.206,427.003 883.142,324.81 1128.08,357.183 1373.01,215.051 1617.95,449.515 1862.88,374.348 2107.82,454.467 2352.76,600.894 \n",
       "  \n",
       "  \"/>\n",
       "<polyline clip-path=\"url(#clip7902)\" style=\"stroke:#ffa500; stroke-width:4; stroke-opacity:1; fill:none\" points=\"\n",
       "  148.334,265.24 393.27,226.478 638.206,557.204 883.142,497.677 1128.08,519.863 1373.01,113.95 1617.95,512.872 1862.88,482.081 2107.82,175.837 2352.76,376.44 \n",
       "  \n",
       "  \"/>\n",
       "<polyline clip-path=\"url(#clip7902)\" style=\"stroke:#ffa500; stroke-width:4; stroke-opacity:1; fill:none\" points=\"\n",
       "  148.334,74.7692 393.27,411.883 638.206,461.85 883.142,393.759 1128.08,461.657 1373.01,215.409 1617.95,416.364 1862.88,425.731 2107.82,421.827 2352.76,559.774 \n",
       "  \n",
       "  \"/>\n",
       "<polyline clip-path=\"url(#clip7902)\" style=\"stroke:#ffa500; stroke-width:4; stroke-opacity:1; fill:none\" points=\"\n",
       "  148.334,279.902 393.27,182.08 638.206,340.561 883.142,576.283 1128.08,409.737 1373.01,307.331 1617.95,366.469 1862.88,609.709 2107.82,316.824 2352.76,572.998 \n",
       "  \n",
       "  \"/>\n",
       "<polyline clip-path=\"url(#clip7902)\" style=\"stroke:#ffa500; stroke-width:4; stroke-opacity:1; fill:none\" points=\"\n",
       "  148.334,382.919 393.27,502.109 638.206,469.12 883.142,315.28 1128.08,615.799 1373.01,442.791 1617.95,592.026 1862.88,388.241 2107.82,646.021 2352.76,567.088 \n",
       "  \n",
       "  \"/>\n",
       "<polyline clip-path=\"url(#clip7902)\" style=\"stroke:#ffa500; stroke-width:4; stroke-opacity:1; fill:none\" points=\"\n",
       "  148.334,600.025 393.27,137.3 638.206,469.586 883.142,422.485 1128.08,533.182 1373.01,451.931 1617.95,323.448 1862.88,519.491 2107.82,405.073 2352.76,385.032 \n",
       "  \n",
       "  \"/>\n",
       "<polyline clip-path=\"url(#clip7902)\" style=\"stroke:#ffa500; stroke-width:4; stroke-opacity:1; fill:none\" points=\"\n",
       "  148.334,256.525 393.27,247.255 638.206,290.338 883.142,610.917 1128.08,460.551 1373.01,297.518 1617.95,458.719 1862.88,350.763 2107.82,644.216 2352.76,285.236 \n",
       "  \n",
       "  \"/>\n",
       "<polyline clip-path=\"url(#clip7902)\" style=\"stroke:#ffa500; stroke-width:4; stroke-opacity:1; fill:none\" points=\"\n",
       "  148.334,109.547 393.27,369.932 638.206,470.636 883.142,543.989 1128.08,488.664 1373.01,122.201 1617.95,431.555 1862.88,519.882 2107.82,396.41 2352.76,489.526 \n",
       "  \n",
       "  \"/>\n",
       "<polyline clip-path=\"url(#clip7902)\" style=\"stroke:#ffa500; stroke-width:4; stroke-opacity:1; fill:none\" points=\"\n",
       "  148.334,567.587 393.27,369.128 638.206,621.584 883.142,125.367 1128.08,627.784 1373.01,387.096 1617.95,685.81 1862.88,716.805 2107.82,377.998 2352.76,698.032 \n",
       "  \n",
       "  \"/>\n",
       "<polyline clip-path=\"url(#clip7902)\" style=\"stroke:#ffa500; stroke-width:4; stroke-opacity:1; fill:none\" points=\"\n",
       "  148.334,495.699 393.27,396.83 638.206,304.966 883.142,469.753 1128.08,563.89 1373.01,253.619 1617.95,474.361 1862.88,391.423 2107.82,790.518 2352.76,529.438 \n",
       "  \n",
       "  \"/>\n",
       "<polyline clip-path=\"url(#clip7902)\" style=\"stroke:#ffa500; stroke-width:4; stroke-opacity:1; fill:none\" points=\"\n",
       "  148.334,109.547 393.27,369.932 638.206,470.636 883.142,543.989 1128.08,488.664 1373.01,122.201 1617.95,431.555 1862.88,519.882 2107.82,396.41 2352.76,489.526 \n",
       "  \n",
       "  \"/>\n",
       "<polyline clip-path=\"url(#clip7902)\" style=\"stroke:#ffa500; stroke-width:4; stroke-opacity:1; fill:none\" points=\"\n",
       "  148.334,527.424 393.27,127.118 638.206,428.387 883.142,410.779 1128.08,429.623 1373.01,424.822 1617.95,271.034 1862.88,499.618 2107.82,381.925 2352.76,514.314 \n",
       "  \n",
       "  \"/>\n",
       "<polyline clip-path=\"url(#clip7902)\" style=\"stroke:#ffa500; stroke-width:4; stroke-opacity:1; fill:none\" points=\"\n",
       "  148.334,326.143 393.27,379.58 638.206,692.38 883.142,547.865 1128.08,570.221 1373.01,421.242 1617.95,510.288 1862.88,375.398 2107.82,345.101 2352.76,587.139 \n",
       "  \n",
       "  \"/>\n",
       "<polyline clip-path=\"url(#clip7902)\" style=\"stroke:#ffa500; stroke-width:4; stroke-opacity:1; fill:none\" points=\"\n",
       "  148.334,423.675 393.27,75.4706 638.206,425.486 883.142,344.513 1128.08,479.13 1373.01,424.128 1617.95,204.419 1862.88,502.08 2107.82,392.731 2352.76,572.381 \n",
       "  \n",
       "  \"/>\n",
       "<polyline clip-path=\"url(#clip7902)\" style=\"stroke:#ffa500; stroke-width:4; stroke-opacity:1; fill:none\" points=\"\n",
       "  148.334,423.675 393.27,75.4706 638.206,425.486 883.142,344.513 1128.08,479.13 1373.01,424.128 1617.95,204.419 1862.88,502.08 2107.82,392.731 2352.76,572.381 \n",
       "  \n",
       "  \"/>\n",
       "<polyline clip-path=\"url(#clip7902)\" style=\"stroke:#ffa500; stroke-width:4; stroke-opacity:1; fill:none\" points=\"\n",
       "  148.334,418.347 393.27,294.378 638.206,484.649 883.142,402.164 1128.08,467.732 1373.01,458.032 1617.95,279.378 1862.88,536.318 2107.82,395.739 2352.76,341.581 \n",
       "  \n",
       "  \"/>\n",
       "<polyline clip-path=\"url(#clip7902)\" style=\"stroke:#ffa500; stroke-width:4; stroke-opacity:1; fill:none\" points=\"\n",
       "  148.334,570.042 393.27,440.42 638.206,572.773 883.142,239.961 1128.08,791.443 1373.01,341.536 1617.95,708.586 1862.88,536.128 2107.82,352.705 2352.76,529.086 \n",
       "  \n",
       "  \"/>\n",
       "<polyline clip-path=\"url(#clip7902)\" style=\"stroke:#ffa500; stroke-width:4; stroke-opacity:1; fill:none\" points=\"\n",
       "  148.334,281.431 393.27,499.118 638.206,429.784 883.142,365.384 1128.08,618.895 1373.01,498.188 1617.95,520.128 1862.88,264.244 2107.82,637.891 2352.76,629.98 \n",
       "  \n",
       "  \"/>\n",
       "<polyline clip-path=\"url(#clip7902)\" style=\"stroke:#ffa500; stroke-width:4; stroke-opacity:1; fill:none\" points=\"\n",
       "  148.334,525.596 393.27,441.033 638.206,627.039 883.142,230.359 1128.08,781.291 1373.01,308.772 1617.95,629.21 1862.88,701.413 2107.82,282.169 2352.76,575.271 \n",
       "  \n",
       "  \"/>\n",
       "<polyline clip-path=\"url(#clip7902)\" style=\"stroke:#ffa500; stroke-width:4; stroke-opacity:1; fill:none\" points=\"\n",
       "  148.334,335.218 393.27,317.468 638.206,231.215 883.142,614.146 1128.08,523.599 1373.01,389.486 1617.95,491.478 1862.88,379.107 2107.82,699.196 2352.76,320.805 \n",
       "  \n",
       "  \"/>\n",
       "<polyline clip-path=\"url(#clip7902)\" style=\"stroke:#ffa500; stroke-width:4; stroke-opacity:1; fill:none\" points=\"\n",
       "  148.334,335.218 393.27,317.468 638.206,231.215 883.142,614.146 1128.08,523.599 1373.01,389.486 1617.95,491.478 1862.88,379.107 2107.82,699.196 2352.76,320.805 \n",
       "  \n",
       "  \"/>\n",
       "<polyline clip-path=\"url(#clip7902)\" style=\"stroke:#ffa500; stroke-width:4; stroke-opacity:1; fill:none\" points=\"\n",
       "  148.334,248.559 393.27,196.82 638.206,261.638 883.142,457.813 1128.08,555.583 1373.01,405.747 1617.95,409.805 1862.88,478.629 2107.82,475.558 2352.76,318.362 \n",
       "  \n",
       "  \"/>\n",
       "<polyline clip-path=\"url(#clip7902)\" style=\"stroke:#ffa500; stroke-width:4; stroke-opacity:1; fill:none\" points=\"\n",
       "  148.334,322.948 393.27,306.575 638.206,459.259 883.142,241.306 1128.08,404.785 1373.01,324.986 1617.95,520.87 1862.88,530.541 2107.82,356.697 2352.76,477.778 \n",
       "  \n",
       "  \"/>\n",
       "<polyline clip-path=\"url(#clip7902)\" style=\"stroke:#ffa500; stroke-width:4; stroke-opacity:1; fill:none\" points=\"\n",
       "  148.334,411.864 393.27,247.236 638.206,259.195 883.142,332.98 1128.08,284.135 1373.01,270.347 1617.95,383.736 1862.88,479.617 2107.82,368.057 2352.76,490.006 \n",
       "  \n",
       "  \"/>\n",
       "<polyline clip-path=\"url(#clip7902)\" style=\"stroke:#ffa500; stroke-width:4; stroke-opacity:1; fill:none\" points=\"\n",
       "  148.334,418.376 393.27,308.731 638.206,443.032 883.142,499.177 1128.08,530.058 1373.01,172.849 1617.95,445.985 1862.88,319.163 2107.82,465.027 2352.76,297.484 \n",
       "  \n",
       "  \"/>\n",
       "<polyline clip-path=\"url(#clip7902)\" style=\"stroke:#ffa500; stroke-width:4; stroke-opacity:1; fill:none\" points=\"\n",
       "  148.334,335.776 393.27,278.135 638.206,344.032 883.142,469.085 1128.08,407.625 1373.01,343.138 1617.95,429.6 1862.88,375.129 2107.82,571.206 2352.76,528.68 \n",
       "  \n",
       "  \"/>\n",
       "<polyline clip-path=\"url(#clip7902)\" style=\"stroke:#ffa500; stroke-width:4; stroke-opacity:1; fill:none\" points=\"\n",
       "  148.334,495.699 393.27,396.83 638.206,304.966 883.142,469.753 1128.08,563.89 1373.01,253.619 1617.95,474.361 1862.88,391.423 2107.82,790.518 2352.76,529.438 \n",
       "  \n",
       "  \"/>\n",
       "<polyline clip-path=\"url(#clip7902)\" style=\"stroke:#ffa500; stroke-width:4; stroke-opacity:1; fill:none\" points=\"\n",
       "  148.334,462.262 393.27,205.899 638.206,334.876 883.142,549.487 1128.08,421.301 1373.01,327.221 1617.95,474.786 1862.88,524.821 2107.82,730.849 2352.76,283.492 \n",
       "  \n",
       "  \"/>\n",
       "<polyline clip-path=\"url(#clip7902)\" style=\"stroke:#ffa500; stroke-width:4; stroke-opacity:1; fill:none\" points=\"\n",
       "  148.334,462.262 393.27,205.899 638.206,334.876 883.142,549.487 1128.08,421.301 1373.01,327.221 1617.95,474.786 1862.88,524.821 2107.82,730.849 2352.76,283.492 \n",
       "  \n",
       "  \"/>\n",
       "<polyline clip-path=\"url(#clip7902)\" style=\"stroke:#ffa500; stroke-width:4; stroke-opacity:1; fill:none\" points=\"\n",
       "  148.334,457.652 393.27,286.461 638.206,300.061 883.142,562.778 1128.08,419.814 1373.01,332.133 1617.95,524.354 1862.88,502.759 2107.82,740.827 2352.76,282.91 \n",
       "  \n",
       "  \"/>\n",
       "<polyline clip-path=\"url(#clip7902)\" style=\"stroke:#ffa500; stroke-width:4; stroke-opacity:1; fill:none\" points=\"\n",
       "  148.334,457.652 393.27,286.461 638.206,300.061 883.142,562.778 1128.08,419.814 1373.01,332.133 1617.95,524.354 1862.88,502.759 2107.82,740.827 2352.76,282.91 \n",
       "  \n",
       "  \"/>\n",
       "<polyline clip-path=\"url(#clip7902)\" style=\"stroke:#ffa500; stroke-width:4; stroke-opacity:1; fill:none\" points=\"\n",
       "  148.334,525.596 393.27,441.033 638.206,627.039 883.142,230.359 1128.08,781.291 1373.01,308.772 1617.95,629.21 1862.88,701.413 2107.82,282.169 2352.76,575.271 \n",
       "  \n",
       "  \"/>\n",
       "<polyline clip-path=\"url(#clip7902)\" style=\"stroke:#ffa500; stroke-width:4; stroke-opacity:1; fill:none\" points=\"\n",
       "  148.334,326.143 393.27,379.58 638.206,692.38 883.142,547.865 1128.08,570.221 1373.01,421.242 1617.95,510.288 1862.88,375.398 2107.82,345.101 2352.76,587.139 \n",
       "  \n",
       "  \"/>\n",
       "<polyline clip-path=\"url(#clip7902)\" style=\"stroke:#ffa500; stroke-width:4; stroke-opacity:1; fill:none\" points=\"\n",
       "  148.334,292.779 393.27,244.207 638.206,306.862 883.142,473.648 1128.08,450.43 1373.01,163.403 1617.95,388.493 1862.88,332.748 2107.82,671.889 2352.76,452.249 \n",
       "  \n",
       "  \"/>\n",
       "</svg>\n"
      ]
     },
     "metadata": {},
     "output_type": "display_data"
    }
   ],
   "source": [
    "ymin = Inf\n",
    "ymax = -Inf\n",
    "function plot_pop(P)\n",
    "    global ymin = min(ymin, minimum([minimum(i.y) for i in P]))\n",
    "    global ymax = max(ymax, maximum([maximum(i.y) for i in P]))\n",
    "    plot(xlims=(1, n_objectives), ylims=(ymin, ymax))\n",
    "    ND = filter(indiv -> indiv.rank == 1, P)\n",
    "    dominated = filter(indiv->indiv.rank != 1, P)\n",
    "    for i in dominated\n",
    "        plot!(1:n_objectives, collect(i.y), legend=:none, color=:blue)\n",
    "    end\n",
    "    for i in ND\n",
    "        plot!(1:n_objectives, collect(i.y), legend=:none, color=:orange)\n",
    "    end\n",
    "    sleep(2.0)\n",
    "end\n",
    "\n",
    "non_dominated = nsga_max(popsize, 50, objective, init, fCV=constraint,\n",
    "    fplot=plot_pop, plotevery=10, showprogress=false);"
   ]
  },
  {
   "cell_type": "markdown",
   "metadata": {
    "slideshow": {
     "slide_type": "slide"
    }
   },
   "source": [
    "<div class=\"alert alert-success\">\n",
    "    <b>Exercise 4</b>\n",
    "    <br/>\n",
    "Gradually increase $K$, the number of objectives, and watch the number of non-dominated individuals in the population over evolution. What do you notice as $K$ increases?\n",
    "    <br/>\n",
    "</div>"
   ]
  }
 ],
 "metadata": {
  "celltoolbar": "Slideshow",
  "kernelspec": {
   "display_name": "Julia 1.6.0",
   "language": "julia",
   "name": "julia-1.6"
  },
  "language_info": {
   "file_extension": ".jl",
   "mimetype": "application/julia",
   "name": "julia",
   "version": "1.6.0"
  }
 },
 "nbformat": 4,
 "nbformat_minor": 2
}
