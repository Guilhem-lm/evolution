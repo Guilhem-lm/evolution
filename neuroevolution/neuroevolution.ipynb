{
 "cells": [
  {
   "cell_type": "markdown",
   "id": "aa744f2c",
   "metadata": {
    "slideshow": {
     "slide_type": "slide"
    }
   },
   "source": [
    "# <center> EVOLUTIONARY COMPUTATION \n",
    "## <center> EVOLUTION OF NEURAL NETWORKS\n",
    "<center>\n",
    "<img src=\"../imgs/logo.png\" width=\"30%\"></center>"
   ]
  },
  {
   "cell_type": "markdown",
   "id": "4b85de1f",
   "metadata": {},
   "source": [
    "<center> Paul Templier - paul.templier@isae-supaero.fr"
   ]
  },
  {
   "cell_type": "markdown",
   "id": "broken-charleston",
   "metadata": {
    "slideshow": {
     "slide_type": "slide"
    }
   },
   "source": [
    "## Motivation"
   ]
  },
  {
   "cell_type": "markdown",
   "id": "polish-validation",
   "metadata": {
    "cell_style": "center"
   },
   "source": [
    "<center><img src=\"../imgs/agent_representations.png\" width=\"50%\">\n",
    "\n",
    "<!-- $\\pi: s\\rightarrow a$ -->"
   ]
  },
  {
   "cell_type": "markdown",
   "id": "amended-cologne",
   "metadata": {
    "cell_style": "center",
    "slideshow": {
     "slide_type": "subslide"
    }
   },
   "source": [
    "## Evolution of neural networks\n",
    "\n",
    "<center><img src=\"../imgs/intro_neuroevolution.png\" width=\"50%\">\n",
    "\n",
    "*Miikkulainen, Risto. \"Evolution of neural networks.\" Proceedings of the Genetic and Evolutionary Computation Conference Companion. 2017*"
   ]
  },
  {
   "cell_type": "markdown",
   "id": "gross-lafayette",
   "metadata": {
    "slideshow": {
     "slide_type": "slide"
    }
   },
   "source": [
    "## Neural Networks"
   ]
  },
  {
   "cell_type": "markdown",
   "id": "legal-prototype",
   "metadata": {},
   "source": [
    "### Neuron model\n",
    "<center><img src=\"../imgs/neuron.jpg\" width=\"50%\">\n"
   ]
  },
  {
   "cell_type": "markdown",
   "id": "miniature-township",
   "metadata": {
    "slideshow": {
     "slide_type": "subslide"
    }
   },
   "source": [
    "### Artificial neuron\n",
    "\n",
    "<center><img src=\"../imgs/neuron_model.jpeg\" width=\"50%\">\n",
    "\n",
    "<center>cs231n.github.io\n",
    "\n",
    "<!-- $f(\\sum_{i}{w_i x_i} +b)$ -->\n",
    "\n",
    "$w_i$: weights  \n",
    "$x_i$: output of previous neurons  \n",
    "$b$: bias  \n",
    "$f$: activation function to break linearity \n",
    "\n",
    "\n"
   ]
  },
  {
   "cell_type": "markdown",
   "id": "2832487f",
   "metadata": {
    "slideshow": {
     "slide_type": "subslide"
    }
   },
   "source": [
    "### Artificial Neural Network\n",
    "<center><img src=\"../imgs/neural_network.png\" width=\"50%\">\n",
    "    \n",
    "    \n",
    "$(y_1 ... y_n) = F(x_1 ... x_m)$\n",
    "    \n",
    "    \n",
    "*Source: https://medium.com/swlh/neural-networks-4b6f719f9d75*"
   ]
  },
  {
   "cell_type": "markdown",
   "id": "initial-railway",
   "metadata": {
    "cell_style": "center",
    "slideshow": {
     "slide_type": "slide"
    }
   },
   "source": [
    "## <center> Exercise </center>\n",
    "<br>  \n",
    "<center> Break into groups and discuss: </center>\n",
    "<br>\n",
    "<center>What do we need in the genome to optimize a neural network? How would you encode it? </center>\n",
    "<br>\n",
    "<center>Can you find mutation and crossover operators on your encoding?</center>"
   ]
  },
  {
   "cell_type": "markdown",
   "id": "structured-winning",
   "metadata": {
    "slideshow": {
     "slide_type": "slide"
    }
   },
   "source": [
    "# <center> NEUROEVOLUTION </center>"
   ]
  },
  {
   "cell_type": "markdown",
   "id": "closing-australia",
   "metadata": {
    "cell_style": "split",
    "slideshow": {
     "slide_type": "-"
    }
   },
   "source": [
    "<center><img src=\"../imgs/cellular_encoding.png\" width=\"60%\">\n",
    "\n",
    "Gruau, Frederic, and Darrell Whitley. \"Adding learning to the cellular development of neural networks: Evolution and the Baldwin effect.\" Evolutionary computation 1.3 (1993): 213-233. "
   ]
  },
  {
   "cell_type": "markdown",
   "id": "weird-conspiracy",
   "metadata": {
    "cell_style": "split"
   },
   "source": [
    "<center><img src=\"../imgs/barr.png\" width=\"50%\">\n",
    "\n",
    "Fleischer, Kurt, and Alan H. Barr. \"A simulation testbed for the study of multicellular development: The multiple mechanisms of morphogenesis.\" 1994 "
   ]
  },
  {
   "cell_type": "markdown",
   "id": "reliable-abortion",
   "metadata": {
    "slideshow": {
     "slide_type": "subslide"
    }
   },
   "source": [
    "# <center> NeuroEvolution of Augmenting Topologies (NEAT) </center>"
   ]
  },
  {
   "cell_type": "markdown",
   "id": "final-hybrid",
   "metadata": {
    "cell_style": "center"
   },
   "source": [
    "<center><img src=\"../imgs/neat_encoding.png\" width=\"60%\">\n",
    "        \n",
    "Stanley, Kenneth O., and Risto Miikkulainen. \"Evolving neural networks through augmenting topologies.\" Evolutionary computation 10.2 (2002): 99-127 "
   ]
  },
  {
   "cell_type": "markdown",
   "id": "silver-infection",
   "metadata": {},
   "source": [
    "    \n",
    "Stanley, Kenneth O., and Risto Miikkulainen. \"Evolving neural networks through augmenting topologies.\" Evolutionary computation 10.2 (2002): 99-127 "
   ]
  },
  {
   "cell_type": "markdown",
   "id": "fitted-centre",
   "metadata": {
    "slideshow": {
     "slide_type": "subslide"
    }
   },
   "source": [
    "# <center> NEUROEVOLUTION: FIXED ARCHITECTURE </center>\n",
    "\n",
    "<center><img src=\"../imgs/ne_basics.png\" width=\"50%\">\n",
    "\n",
    "Miikkulainen, Risto. \"Evolution of neural networks.\" Proceedings of the Genetic and Evolutionary Computation Conference Companion. 2017. "
   ]
  },
  {
   "cell_type": "markdown",
   "id": "7f7cc9dc",
   "metadata": {
    "slideshow": {
     "slide_type": "subslide"
    }
   },
   "source": [
    "# <center> PROBLEMS WITH NEUROEVOLUTION </center>\n",
    "\n",
    "<center><img src=\"../imgs/ne_problems.png\" width=\"40%\">\n",
    "\n",
    "Miikkulainen, Risto. \"Evolution of neural networks.\" Proceedings of the Genetic and Evolutionary Computation Conference Companion. 2017. "
   ]
  },
  {
   "cell_type": "markdown",
   "id": "5dc2e085",
   "metadata": {
    "slideshow": {
     "slide_type": "slide"
    }
   },
   "source": [
    "# <center> INDIRECT ENCODING </center>\n",
    "\n",
    "<center><img src=\"../imgs/encoding.png\" width=\"50%\">\n",
    "    \n"
   ]
  },
  {
   "cell_type": "markdown",
   "id": "27eb7a98",
   "metadata": {
    "slideshow": {
     "slide_type": "subslide"
    }
   },
   "source": [
    "# <center> HyperNEAT </center>\n",
    "\n",
    "<center><img src=\"../imgs/indirect_hyperneat.png\" width=\"50%\">\n",
    "\n",
    "<center><img src=\"../imgs/hyperneat.png\" width=\"50%\">\n",
    "    \n",
    "Stanley, Kenneth O.; D'Ambrosio, David B.; Gauci, Jason (2009-01-14). \"A Hypercube-Based Encoding for Evolving Large-Scale Neural Networks\". Artificial Life journal 15(2), Cambridge, MA: MIT Press, 2009"
   ]
  },
  {
   "cell_type": "markdown",
   "id": "c1b3a847",
   "metadata": {
    "slideshow": {
     "slide_type": "subslide"
    }
   },
   "source": [
    "# <center> GENE: Geometric Encoding for NeuroEvolution </center>\n",
    "\n",
    "<center><img src=\"../imgs/indirect_transform.png\" width=\"50%\">\n",
    "   "
   ]
  },
  {
   "cell_type": "markdown",
   "id": "50dfcf11",
   "metadata": {
    "cell_style": "split"
   },
   "source": [
    "<center><img src=\"../imgs/coordsnet_coordinates.png\" width=\"40%\">"
   ]
  },
  {
   "cell_type": "markdown",
   "id": "a6bff363",
   "metadata": {
    "cell_style": "split"
   },
   "source": [
    "<center><img src=\"../imgs/coordsnet_graph.png\" width=\"50%\">"
   ]
  },
  {
   "cell_type": "markdown",
   "id": "89a296ae",
   "metadata": {},
   "source": [
    "*Paul Templier, Emmanuel Rachelson, and Dennis G. Wilson. 2021. A Geometric Encoding for Neural Network Evolution. In 2021 Genetic and Evolutionary Computation Conference (GECCO ’21), July 10–14, 2021, Lille, France. ACM, New York, NY, USA, 9 pages. https://doi.org/10.1145/3449639.3459361*"
   ]
  },
  {
   "cell_type": "markdown",
   "id": "803f40bd",
   "metadata": {
    "slideshow": {
     "slide_type": "slide"
    }
   },
   "source": [
    "# Notebook"
   ]
  },
  {
   "cell_type": "code",
   "execution_count": 25,
   "id": "legislative-touch",
   "metadata": {
    "slideshow": {
     "slide_type": "-"
    }
   },
   "outputs": [
    {
     "name": "stderr",
     "output_type": "stream",
     "text": [
      "\u001b[32m\u001b[1m   Resolving\u001b[22m\u001b[39m package versions...\n",
      "\u001b[32m\u001b[1m  No Changes\u001b[22m\u001b[39m to `~/.julia/environments/v1.6/Project.toml`\n",
      "\u001b[32m\u001b[1m  No Changes\u001b[22m\u001b[39m to `~/.julia/environments/v1.6/Manifest.toml`\n"
     ]
    }
   ],
   "source": [
    "using Pkg\n",
    "pkg\"add PyCall Flux Plots Random Statistics ArcadeLearningEnvironment Reel Images ImageView\""
   ]
  },
  {
   "cell_type": "code",
   "execution_count": 26,
   "id": "center-exposure",
   "metadata": {
    "slideshow": {
     "slide_type": "-"
    }
   },
   "outputs": [],
   "source": [
    "using PyCall\n",
    "using Flux\n",
    "using Plots\n",
    "using Random\n",
    "using Statistics"
   ]
  },
  {
   "cell_type": "code",
   "execution_count": 27,
   "id": "portable-future",
   "metadata": {},
   "outputs": [
    {
     "data": {
      "text/plain": [
       "PyObject <module 'gym' from '/home/guilhem/.local/lib/python3.6/site-packages/gym/__init__.py'>"
      ]
     },
     "execution_count": 27,
     "metadata": {},
     "output_type": "execute_result"
    }
   ],
   "source": [
    "gym = pyimport(\"gym\")"
   ]
  },
  {
   "cell_type": "markdown",
   "id": "friendly-staff",
   "metadata": {
    "slideshow": {
     "slide_type": "subslide"
    }
   },
   "source": [
    "## Gym CartPole\n",
    "\n",
    "<img src=\"../imgs/cartpole.gif\" width=\"50%\">\n",
    "\n",
    "https://github.com/adibyte95/CartPole-OpenAI-GYM/blob/master/gif%20images/reinforcement-gif.gif"
   ]
  },
  {
   "cell_type": "code",
   "execution_count": 28,
   "id": "happy-method",
   "metadata": {
    "cell_style": "center",
    "slideshow": {
     "slide_type": "subslide"
    }
   },
   "outputs": [
    {
     "data": {
      "text/plain": [
       "Individual"
      ]
     },
     "execution_count": 28,
     "metadata": {},
     "output_type": "execute_result"
    }
   ],
   "source": [
    "mutable struct Individual\n",
    "    genes::Array{Float64}\n",
    "    fitness::Float64\n",
    "    layers::Array{Int64}\n",
    "    model\n",
    "end\n",
    "\n",
    "function Individual(layers::Array, genes::Array{Float64})\n",
    "    model = make_network(layers)\n",
    "    \n",
    "    ind = Individual(genes, -Inf, layers, model)\n",
    "    \n",
    "    set_weights!(ind) \n",
    "    ind\n",
    "end\n",
    "\n",
    "function Individual(layers::Array)\n",
    "    model = make_network(layers)\n",
    "    \n",
    "    param_lengths = [length(p) for p in params(model)]\n",
    "    genes = rand(sum(param_lengths))\n",
    "    \n",
    "    ind = Individual(genes, -Inf, layers, model)\n",
    "    set_weights!(ind)  \n",
    "    ind\n",
    "end"
   ]
  },
  {
   "cell_type": "code",
   "execution_count": 42,
   "id": "voluntary-communist",
   "metadata": {
    "cell_style": "center",
    "slideshow": {
     "slide_type": "subslide"
    }
   },
   "outputs": [
    {
     "data": {
      "text/plain": [
       "mutate (generic function with 1 method)"
      ]
     },
     "execution_count": 42,
     "metadata": {},
     "output_type": "execute_result"
    }
   ],
   "source": [
    "function set_weights!(ind::Individual)    \n",
    "    start = 1\n",
    "    for p in params(ind.model)\n",
    "        p = reshape(ind.genes[start:(start+length(p)-1)], size(p))\n",
    "        start += length(p)\n",
    "    end\n",
    "    ind\n",
    "end\n",
    "\n",
    "function make_network(layers::Array)\n",
    "    l = []\n",
    "    for i in 1:length(layers)-1\n",
    "        d = Dense(layers[i], layers[i+1], Flux.relu)\n",
    "        push!(l, d)\n",
    "    end\n",
    "    Chain(l...)\n",
    "end\n",
    "\n",
    "function mutate(ind::Individual; \n",
    "    mutation_rate::Float64=1.0/length(ind.genes))\n",
    "    new_genes = copy(ind.genes)\n",
    "    for i in eachindex(new_genes)\n",
    "        if rand() < mutation_rate\n",
    "            new_genes[i] = rand()\n",
    "        end\n",
    "    end\n",
    "    Individual(ind.layers, new_genes)\n",
    "end"
   ]
  },
  {
   "cell_type": "markdown",
   "id": "phantom-amino",
   "metadata": {
    "slideshow": {
     "slide_type": "subslide"
    }
   },
   "source": [
    "## Cartpole"
   ]
  },
  {
   "cell_type": "code",
   "execution_count": 43,
   "id": "included-merit",
   "metadata": {},
   "outputs": [
    {
     "data": {
      "text/plain": [
       "evaluate! (generic function with 1 method)"
      ]
     },
     "execution_count": 43,
     "metadata": {},
     "output_type": "execute_result"
    }
   ],
   "source": [
    "function play_cartpole(ind::Individual, render=false)\n",
    "    env_name=\"CartPole-v1\"\n",
    "    env = gym.make(env_name)\n",
    "    env.seed(0)\n",
    "    obs = env.reset()\n",
    "    total_reward = 0.0\n",
    "    done = false\n",
    "    for i in 1:200\n",
    "        action = ind.model(obs)\n",
    "        action = argmax(action) - 1\n",
    "        \n",
    "        obs, reward, done, _ = env.step(action)\n",
    "        if render\n",
    "            env.render(mode=\"human\")\n",
    "        end\n",
    "        total_reward += reward\n",
    "    end\n",
    "    env.close()\n",
    "    total_reward\n",
    "end\n",
    "\n",
    "function evaluate!(ind::Individual, objective::Function)\n",
    "    ind.fitness = objective(ind)\n",
    "end"
   ]
  },
  {
   "cell_type": "code",
   "execution_count": 44,
   "id": "acting-windows",
   "metadata": {
    "slideshow": {
     "slide_type": "-"
    }
   },
   "outputs": [
    {
     "data": {
      "text/plain": [
       "2299"
      ]
     },
     "execution_count": 44,
     "metadata": {},
     "output_type": "execute_result"
    }
   ],
   "source": [
    "layers = [4, 16, 16, 2]\n",
    "ind = Individual(layers)\n",
    "n = length(ind.genes)\n",
    "n_gens = Int(round(n * log(n)))"
   ]
  },
  {
   "cell_type": "code",
   "execution_count": 49,
   "id": "durable-means",
   "metadata": {
    "scrolled": false,
    "slideshow": {
     "slide_type": "subslide"
    }
   },
   "outputs": [
    {
     "ename": "LoadError",
     "evalue": "UndefVarError: one_plus_one not defined",
     "output_type": "error",
     "traceback": [
      "UndefVarError: one_plus_one not defined",
      "",
      "Stacktrace:",
      " [1] top-level scope",
      "   @ In[49]:1",
      " [2] eval",
      "   @ ./boot.jl:360 [inlined]",
      " [3] include_string(mapexpr::typeof(REPL.softscope), mod::Module, code::String, filename::String)",
      "   @ Base ./loading.jl:1094"
     ]
    }
   ],
   "source": [
    "fits, parent = one_plus_one(layers, n_gens, play_cartpole)\n",
    "plot(fits)"
   ]
  },
  {
   "cell_type": "markdown",
   "id": "animal-silicon",
   "metadata": {
    "slideshow": {
     "slide_type": "subslide"
    }
   },
   "source": [
    "## 1+$\\lambda$ EA"
   ]
  },
  {
   "cell_type": "code",
   "execution_count": 46,
   "id": "32d7d5d4",
   "metadata": {},
   "outputs": [
    {
     "data": {
      "text/plain": [
       "one_plus_lambda (generic function with 1 method)"
      ]
     },
     "execution_count": 46,
     "metadata": {},
     "output_type": "execute_result"
    }
   ],
   "source": [
    "function one_plus_lambda(layers::Array, num_generations::Int, f::Function, 𝜆::Int)\n",
    "\n",
    "    fits = zeros(num_generations)\n",
    "    expert = Individual(layers::Array)\n",
    "    evaluate!(expert, f)\n",
    "\n",
    "    for i in eachindex(fits)\n",
    "        population = Array{Individual}(undef, 𝜆)\n",
    "        best = 1\n",
    "        for j in eachindex(population)\n",
    "            population[j] = mutate(expert)\n",
    "            evaluate!(population[j], f)\n",
    "            if population[j].fitness > population[best].fitness\n",
    "                best = j\n",
    "            end\n",
    "        end\n",
    "\n",
    "        if population[best].fitness >= expert.fitness\n",
    "            expert = population[best]\n",
    "        end\n",
    "\n",
    "        fits[i] = expert.fitness\n",
    "        print(i, \"/\",  num_generations, \" > \", expert.fitness, \"\\t\\t\\r\")\n",
    "    end\n",
    "    fits, expert\n",
    "end\n"
   ]
  },
  {
   "cell_type": "code",
   "execution_count": 47,
   "id": "41365571",
   "metadata": {
    "scrolled": true,
    "slideshow": {
     "slide_type": "subslide"
    }
   },
   "outputs": [
    {
     "data": {
      "text/plain": [
       "460"
      ]
     },
     "execution_count": 47,
     "metadata": {},
     "output_type": "execute_result"
    }
   ],
   "source": [
    "𝜆=5\n",
    "layers = [4, 16, 16, 2]\n",
    "ind = Individual(layers)\n",
    "n = length(ind.genes)\n",
    "n_gens = Int(round(n * log(n) / 𝜆))"
   ]
  },
  {
   "cell_type": "code",
   "execution_count": 50,
   "id": "clinical-illinois",
   "metadata": {
    "slideshow": {
     "slide_type": "-"
    }
   },
   "outputs": [
    {
     "name": "stdout",
     "output_type": "stream",
     "text": [
      "460/460 > 200.0\t\t\r"
     ]
    },
    {
     "data": {
      "image/svg+xml": [
       "<?xml version=\"1.0\" encoding=\"utf-8\"?>\n",
       "<svg xmlns=\"http://www.w3.org/2000/svg\" xmlns:xlink=\"http://www.w3.org/1999/xlink\" width=\"600\" height=\"400\" viewBox=\"0 0 2400 1600\">\n",
       "<defs>\n",
       "  <clipPath id=\"clip5900\">\n",
       "    <rect x=\"0\" y=\"0\" width=\"2400\" height=\"1600\"/>\n",
       "  </clipPath>\n",
       "</defs>\n",
       "<path clip-path=\"url(#clip5900)\" d=\"\n",
       "M0 1600 L2400 1600 L2400 0 L0 0  Z\n",
       "  \" fill=\"#ffffff\" fill-rule=\"evenodd\" fill-opacity=\"1\"/>\n",
       "<defs>\n",
       "  <clipPath id=\"clip5901\">\n",
       "    <rect x=\"480\" y=\"0\" width=\"1681\" height=\"1600\"/>\n",
       "  </clipPath>\n",
       "</defs>\n",
       "<path clip-path=\"url(#clip5900)\" d=\"\n",
       "M161.506 1486.45 L2352.76 1486.45 L2352.76 47.2441 L161.506 47.2441  Z\n",
       "  \" fill=\"#ffffff\" fill-rule=\"evenodd\" fill-opacity=\"1\"/>\n",
       "<defs>\n",
       "  <clipPath id=\"clip5902\">\n",
       "    <rect x=\"161\" y=\"47\" width=\"2192\" height=\"1440\"/>\n",
       "  </clipPath>\n",
       "</defs>\n",
       "<polyline clip-path=\"url(#clip5902)\" style=\"stroke:#000000; stroke-width:2; stroke-opacity:0.1; fill:none\" points=\"\n",
       "  219.018,1486.45 219.018,47.2441 \n",
       "  \"/>\n",
       "<polyline clip-path=\"url(#clip5902)\" style=\"stroke:#000000; stroke-width:2; stroke-opacity:0.1; fill:none\" points=\"\n",
       "  669.393,1486.45 669.393,47.2441 \n",
       "  \"/>\n",
       "<polyline clip-path=\"url(#clip5902)\" style=\"stroke:#000000; stroke-width:2; stroke-opacity:0.1; fill:none\" points=\"\n",
       "  1119.77,1486.45 1119.77,47.2441 \n",
       "  \"/>\n",
       "<polyline clip-path=\"url(#clip5902)\" style=\"stroke:#000000; stroke-width:2; stroke-opacity:0.1; fill:none\" points=\"\n",
       "  1570.14,1486.45 1570.14,47.2441 \n",
       "  \"/>\n",
       "<polyline clip-path=\"url(#clip5902)\" style=\"stroke:#000000; stroke-width:2; stroke-opacity:0.1; fill:none\" points=\"\n",
       "  2020.51,1486.45 2020.51,47.2441 \n",
       "  \"/>\n",
       "<polyline clip-path=\"url(#clip5902)\" style=\"stroke:#000000; stroke-width:2; stroke-opacity:0.1; fill:none\" points=\"\n",
       "  161.506,1245.74 2352.76,1245.74 \n",
       "  \"/>\n",
       "<polyline clip-path=\"url(#clip5902)\" style=\"stroke:#000000; stroke-width:2; stroke-opacity:0.1; fill:none\" points=\"\n",
       "  161.506,929.985 2352.76,929.985 \n",
       "  \"/>\n",
       "<polyline clip-path=\"url(#clip5902)\" style=\"stroke:#000000; stroke-width:2; stroke-opacity:0.1; fill:none\" points=\"\n",
       "  161.506,614.232 2352.76,614.232 \n",
       "  \"/>\n",
       "<polyline clip-path=\"url(#clip5902)\" style=\"stroke:#000000; stroke-width:2; stroke-opacity:0.1; fill:none\" points=\"\n",
       "  161.506,298.479 2352.76,298.479 \n",
       "  \"/>\n",
       "<polyline clip-path=\"url(#clip5900)\" style=\"stroke:#000000; stroke-width:4; stroke-opacity:1; fill:none\" points=\"\n",
       "  161.506,1486.45 2352.76,1486.45 \n",
       "  \"/>\n",
       "<polyline clip-path=\"url(#clip5900)\" style=\"stroke:#000000; stroke-width:4; stroke-opacity:1; fill:none\" points=\"\n",
       "  161.506,1486.45 161.506,47.2441 \n",
       "  \"/>\n",
       "<polyline clip-path=\"url(#clip5900)\" style=\"stroke:#000000; stroke-width:4; stroke-opacity:1; fill:none\" points=\"\n",
       "  219.018,1486.45 219.018,1469.18 \n",
       "  \"/>\n",
       "<polyline clip-path=\"url(#clip5900)\" style=\"stroke:#000000; stroke-width:4; stroke-opacity:1; fill:none\" points=\"\n",
       "  669.393,1486.45 669.393,1469.18 \n",
       "  \"/>\n",
       "<polyline clip-path=\"url(#clip5900)\" style=\"stroke:#000000; stroke-width:4; stroke-opacity:1; fill:none\" points=\"\n",
       "  1119.77,1486.45 1119.77,1469.18 \n",
       "  \"/>\n",
       "<polyline clip-path=\"url(#clip5900)\" style=\"stroke:#000000; stroke-width:4; stroke-opacity:1; fill:none\" points=\"\n",
       "  1570.14,1486.45 1570.14,1469.18 \n",
       "  \"/>\n",
       "<polyline clip-path=\"url(#clip5900)\" style=\"stroke:#000000; stroke-width:4; stroke-opacity:1; fill:none\" points=\"\n",
       "  2020.51,1486.45 2020.51,1469.18 \n",
       "  \"/>\n",
       "<polyline clip-path=\"url(#clip5900)\" style=\"stroke:#000000; stroke-width:4; stroke-opacity:1; fill:none\" points=\"\n",
       "  161.506,1245.74 187.801,1245.74 \n",
       "  \"/>\n",
       "<polyline clip-path=\"url(#clip5900)\" style=\"stroke:#000000; stroke-width:4; stroke-opacity:1; fill:none\" points=\"\n",
       "  161.506,929.985 187.801,929.985 \n",
       "  \"/>\n",
       "<polyline clip-path=\"url(#clip5900)\" style=\"stroke:#000000; stroke-width:4; stroke-opacity:1; fill:none\" points=\"\n",
       "  161.506,614.232 187.801,614.232 \n",
       "  \"/>\n",
       "<polyline clip-path=\"url(#clip5900)\" style=\"stroke:#000000; stroke-width:4; stroke-opacity:1; fill:none\" points=\"\n",
       "  161.506,298.479 187.801,298.479 \n",
       "  \"/>\n",
       "<path clip-path=\"url(#clip5900)\" d=\"M 0 0 M219.018 1508.44 Q215.407 1508.44 213.579 1512 Q211.773 1515.55 211.773 1522.67 Q211.773 1529.78 213.579 1533.35 Q215.407 1536.89 219.018 1536.89 Q222.653 1536.89 224.458 1533.35 Q226.287 1529.78 226.287 1522.67 Q226.287 1515.55 224.458 1512 Q222.653 1508.44 219.018 1508.44 M219.018 1504.73 Q224.829 1504.73 227.884 1509.34 Q230.963 1513.92 230.963 1522.67 Q230.963 1531.4 227.884 1536.01 Q224.829 1540.59 219.018 1540.59 Q213.208 1540.59 210.13 1536.01 Q207.074 1531.4 207.074 1522.67 Q207.074 1513.92 210.13 1509.34 Q213.208 1504.73 219.018 1504.73 Z\" fill=\"#000000\" fill-rule=\"evenodd\" fill-opacity=\"1\" /><path clip-path=\"url(#clip5900)\" d=\"M 0 0 M632.761 1535.98 L640.4 1535.98 L640.4 1509.62 L632.089 1511.29 L632.089 1507.03 L640.353 1505.36 L645.029 1505.36 L645.029 1535.98 L652.668 1535.98 L652.668 1539.92 L632.761 1539.92 L632.761 1535.98 Z\" fill=\"#000000\" fill-rule=\"evenodd\" fill-opacity=\"1\" /><path clip-path=\"url(#clip5900)\" d=\"M 0 0 M667.737 1508.44 Q664.126 1508.44 662.298 1512 Q660.492 1515.55 660.492 1522.67 Q660.492 1529.78 662.298 1533.35 Q664.126 1536.89 667.737 1536.89 Q671.372 1536.89 673.177 1533.35 Q675.006 1529.78 675.006 1522.67 Q675.006 1515.55 673.177 1512 Q671.372 1508.44 667.737 1508.44 M667.737 1504.73 Q673.548 1504.73 676.603 1509.34 Q679.682 1513.92 679.682 1522.67 Q679.682 1531.4 676.603 1536.01 Q673.548 1540.59 667.737 1540.59 Q661.927 1540.59 658.849 1536.01 Q655.793 1531.4 655.793 1522.67 Q655.793 1513.92 658.849 1509.34 Q661.927 1504.73 667.737 1504.73 Z\" fill=\"#000000\" fill-rule=\"evenodd\" fill-opacity=\"1\" /><path clip-path=\"url(#clip5900)\" d=\"M 0 0 M694.751 1508.44 Q691.14 1508.44 689.311 1512 Q687.506 1515.55 687.506 1522.67 Q687.506 1529.78 689.311 1533.35 Q691.14 1536.89 694.751 1536.89 Q698.385 1536.89 700.191 1533.35 Q702.02 1529.78 702.02 1522.67 Q702.02 1515.55 700.191 1512 Q698.385 1508.44 694.751 1508.44 M694.751 1504.73 Q700.561 1504.73 703.617 1509.34 Q706.696 1513.92 706.696 1522.67 Q706.696 1531.4 703.617 1536.01 Q700.561 1540.59 694.751 1540.59 Q688.941 1540.59 685.862 1536.01 Q682.807 1531.4 682.807 1522.67 Q682.807 1513.92 685.862 1509.34 Q688.941 1504.73 694.751 1504.73 Z\" fill=\"#000000\" fill-rule=\"evenodd\" fill-opacity=\"1\" /><path clip-path=\"url(#clip5900)\" d=\"M 0 0 M1087.41 1535.98 L1103.73 1535.98 L1103.73 1539.92 L1081.78 1539.92 L1081.78 1535.98 Q1084.44 1533.23 1089.03 1528.6 Q1093.63 1523.95 1094.81 1522.61 Q1097.06 1520.08 1097.94 1518.35 Q1098.84 1516.59 1098.84 1514.9 Q1098.84 1512.14 1096.9 1510.41 Q1094.98 1508.67 1091.87 1508.67 Q1089.67 1508.67 1087.22 1509.43 Q1084.79 1510.2 1082.01 1511.75 L1082.01 1507.03 Q1084.84 1505.89 1087.29 1505.31 Q1089.74 1504.73 1091.78 1504.73 Q1097.15 1504.73 1100.35 1507.42 Q1103.54 1510.11 1103.54 1514.6 Q1103.54 1516.73 1102.73 1518.65 Q1101.94 1520.54 1099.84 1523.14 Q1099.26 1523.81 1096.16 1527.03 Q1093.05 1530.22 1087.41 1535.98 Z\" fill=\"#000000\" fill-rule=\"evenodd\" fill-opacity=\"1\" /><path clip-path=\"url(#clip5900)\" d=\"M 0 0 M1118.79 1508.44 Q1115.18 1508.44 1113.35 1512 Q1111.55 1515.55 1111.55 1522.67 Q1111.55 1529.78 1113.35 1533.35 Q1115.18 1536.89 1118.79 1536.89 Q1122.43 1536.89 1124.23 1533.35 Q1126.06 1529.78 1126.06 1522.67 Q1126.06 1515.55 1124.23 1512 Q1122.43 1508.44 1118.79 1508.44 M1118.79 1504.73 Q1124.6 1504.73 1127.66 1509.34 Q1130.74 1513.92 1130.74 1522.67 Q1130.74 1531.4 1127.66 1536.01 Q1124.6 1540.59 1118.79 1540.59 Q1112.98 1540.59 1109.91 1536.01 Q1106.85 1531.4 1106.85 1522.67 Q1106.85 1513.92 1109.91 1509.34 Q1112.98 1504.73 1118.79 1504.73 Z\" fill=\"#000000\" fill-rule=\"evenodd\" fill-opacity=\"1\" /><path clip-path=\"url(#clip5900)\" d=\"M 0 0 M1145.81 1508.44 Q1142.2 1508.44 1140.37 1512 Q1138.56 1515.55 1138.56 1522.67 Q1138.56 1529.78 1140.37 1533.35 Q1142.2 1536.89 1145.81 1536.89 Q1149.44 1536.89 1151.25 1533.35 Q1153.08 1529.78 1153.08 1522.67 Q1153.08 1515.55 1151.25 1512 Q1149.44 1508.44 1145.81 1508.44 M1145.81 1504.73 Q1151.62 1504.73 1154.67 1509.34 Q1157.75 1513.92 1157.75 1522.67 Q1157.75 1531.4 1154.67 1536.01 Q1151.62 1540.59 1145.81 1540.59 Q1140 1540.59 1136.92 1536.01 Q1133.86 1531.4 1133.86 1522.67 Q1133.86 1513.92 1136.92 1509.34 Q1140 1504.73 1145.81 1504.73 Z\" fill=\"#000000\" fill-rule=\"evenodd\" fill-opacity=\"1\" /><path clip-path=\"url(#clip5900)\" d=\"M 0 0 M1547.37 1521.29 Q1550.73 1522 1552.61 1524.27 Q1554.5 1526.54 1554.5 1529.87 Q1554.5 1534.99 1550.99 1537.79 Q1547.47 1540.59 1540.99 1540.59 Q1538.81 1540.59 1536.5 1540.15 Q1534.2 1539.73 1531.75 1538.88 L1531.75 1534.36 Q1533.69 1535.5 1536.01 1536.08 Q1538.32 1536.66 1540.85 1536.66 Q1545.25 1536.66 1547.54 1534.92 Q1549.85 1533.18 1549.85 1529.87 Q1549.85 1526.82 1547.7 1525.11 Q1545.57 1523.37 1541.75 1523.37 L1537.72 1523.37 L1537.72 1519.53 L1541.93 1519.53 Q1545.38 1519.53 1547.21 1518.16 Q1549.04 1516.77 1549.04 1514.18 Q1549.04 1511.52 1547.14 1510.11 Q1545.27 1508.67 1541.75 1508.67 Q1539.83 1508.67 1537.63 1509.09 Q1535.43 1509.5 1532.79 1510.38 L1532.79 1506.22 Q1535.45 1505.48 1537.77 1505.11 Q1540.11 1504.73 1542.17 1504.73 Q1547.49 1504.73 1550.59 1507.17 Q1553.69 1509.57 1553.69 1513.69 Q1553.69 1516.56 1552.05 1518.55 Q1550.41 1520.52 1547.37 1521.29 Z\" fill=\"#000000\" fill-rule=\"evenodd\" fill-opacity=\"1\" /><path clip-path=\"url(#clip5900)\" d=\"M 0 0 M1569.57 1508.44 Q1565.96 1508.44 1564.13 1512 Q1562.33 1515.55 1562.33 1522.67 Q1562.33 1529.78 1564.13 1533.35 Q1565.96 1536.89 1569.57 1536.89 Q1573.21 1536.89 1575.01 1533.35 Q1576.84 1529.78 1576.84 1522.67 Q1576.84 1515.55 1575.01 1512 Q1573.21 1508.44 1569.57 1508.44 M1569.57 1504.73 Q1575.38 1504.73 1578.44 1509.34 Q1581.52 1513.92 1581.52 1522.67 Q1581.52 1531.4 1578.44 1536.01 Q1575.38 1540.59 1569.57 1540.59 Q1563.76 1540.59 1560.68 1536.01 Q1557.63 1531.4 1557.63 1522.67 Q1557.63 1513.92 1560.68 1509.34 Q1563.76 1504.73 1569.57 1504.73 Z\" fill=\"#000000\" fill-rule=\"evenodd\" fill-opacity=\"1\" /><path clip-path=\"url(#clip5900)\" d=\"M 0 0 M1596.59 1508.44 Q1592.98 1508.44 1591.15 1512 Q1589.34 1515.55 1589.34 1522.67 Q1589.34 1529.78 1591.15 1533.35 Q1592.98 1536.89 1596.59 1536.89 Q1600.22 1536.89 1602.03 1533.35 Q1603.86 1529.78 1603.86 1522.67 Q1603.86 1515.55 1602.03 1512 Q1600.22 1508.44 1596.59 1508.44 M1596.59 1504.73 Q1602.4 1504.73 1605.45 1509.34 Q1608.53 1513.92 1608.53 1522.67 Q1608.53 1531.4 1605.45 1536.01 Q1602.4 1540.59 1596.59 1540.59 Q1590.78 1540.59 1587.7 1536.01 Q1584.64 1531.4 1584.64 1522.67 Q1584.64 1513.92 1587.7 1509.34 Q1590.78 1504.73 1596.59 1504.73 Z\" fill=\"#000000\" fill-rule=\"evenodd\" fill-opacity=\"1\" /><path clip-path=\"url(#clip5900)\" d=\"M 0 0 M1996.51 1509.43 L1984.7 1527.88 L1996.51 1527.88 L1996.51 1509.43 M1995.28 1505.36 L2001.16 1505.36 L2001.16 1527.88 L2006.09 1527.88 L2006.09 1531.77 L2001.16 1531.77 L2001.16 1539.92 L1996.51 1539.92 L1996.51 1531.77 L1980.91 1531.77 L1980.91 1527.26 L1995.28 1505.36 Z\" fill=\"#000000\" fill-rule=\"evenodd\" fill-opacity=\"1\" /><path clip-path=\"url(#clip5900)\" d=\"M 0 0 M2021.16 1508.44 Q2017.55 1508.44 2015.72 1512 Q2013.92 1515.55 2013.92 1522.67 Q2013.92 1529.78 2015.72 1533.35 Q2017.55 1536.89 2021.16 1536.89 Q2024.8 1536.89 2026.6 1533.35 Q2028.43 1529.78 2028.43 1522.67 Q2028.43 1515.55 2026.6 1512 Q2024.8 1508.44 2021.16 1508.44 M2021.16 1504.73 Q2026.97 1504.73 2030.03 1509.34 Q2033.11 1513.92 2033.11 1522.67 Q2033.11 1531.4 2030.03 1536.01 Q2026.97 1540.59 2021.16 1540.59 Q2015.35 1540.59 2012.27 1536.01 Q2009.22 1531.4 2009.22 1522.67 Q2009.22 1513.92 2012.27 1509.34 Q2015.35 1504.73 2021.16 1504.73 Z\" fill=\"#000000\" fill-rule=\"evenodd\" fill-opacity=\"1\" /><path clip-path=\"url(#clip5900)\" d=\"M 0 0 M2048.18 1508.44 Q2044.57 1508.44 2042.74 1512 Q2040.93 1515.55 2040.93 1522.67 Q2040.93 1529.78 2042.74 1533.35 Q2044.57 1536.89 2048.18 1536.89 Q2051.81 1536.89 2053.62 1533.35 Q2055.45 1529.78 2055.45 1522.67 Q2055.45 1515.55 2053.62 1512 Q2051.81 1508.44 2048.18 1508.44 M2048.18 1504.73 Q2053.99 1504.73 2057.04 1509.34 Q2060.12 1513.92 2060.12 1522.67 Q2060.12 1531.4 2057.04 1536.01 Q2053.99 1540.59 2048.18 1540.59 Q2042.37 1540.59 2039.29 1536.01 Q2036.23 1531.4 2036.23 1522.67 Q2036.23 1513.92 2039.29 1509.34 Q2042.37 1504.73 2048.18 1504.73 Z\" fill=\"#000000\" fill-rule=\"evenodd\" fill-opacity=\"1\" /><path clip-path=\"url(#clip5900)\" d=\"M 0 0 M88.8716 1262.3 L88.8716 1258.04 Q90.6309 1258.88 92.4364 1259.31 Q94.242 1259.75 95.9781 1259.75 Q100.608 1259.75 103.038 1256.65 Q105.492 1253.53 105.839 1247.19 Q104.497 1249.18 102.436 1250.24 Q100.376 1251.31 97.8762 1251.31 Q92.691 1251.31 89.6586 1248.18 Q86.6494 1245.03 86.6494 1239.59 Q86.6494 1234.27 89.7975 1231.05 Q92.9457 1227.83 98.1771 1227.83 Q104.172 1227.83 107.321 1232.44 Q110.492 1237.02 110.492 1245.77 Q110.492 1253.94 106.603 1258.83 Q102.737 1263.69 96.1864 1263.69 Q94.4271 1263.69 92.6216 1263.34 Q90.8161 1263 88.8716 1262.3 M98.1771 1247.65 Q101.325 1247.65 103.154 1245.5 Q105.006 1243.34 105.006 1239.59 Q105.006 1235.87 103.154 1233.71 Q101.325 1231.54 98.1771 1231.54 Q95.029 1231.54 93.1771 1233.71 Q91.3485 1235.87 91.3485 1239.59 Q91.3485 1243.34 93.1771 1245.5 Q95.029 1247.65 98.1771 1247.65 Z\" fill=\"#000000\" fill-rule=\"evenodd\" fill-opacity=\"1\" /><path clip-path=\"url(#clip5900)\" d=\"M 0 0 M125.561 1231.54 Q121.95 1231.54 120.121 1235.1 Q118.316 1238.64 118.316 1245.77 Q118.316 1252.88 120.121 1256.44 Q121.95 1259.99 125.561 1259.99 Q129.195 1259.99 131.001 1256.44 Q132.83 1252.88 132.83 1245.77 Q132.83 1238.64 131.001 1235.1 Q129.195 1231.54 125.561 1231.54 M125.561 1227.83 Q131.371 1227.83 134.427 1232.44 Q137.506 1237.02 137.506 1245.77 Q137.506 1254.5 134.427 1259.11 Q131.371 1263.69 125.561 1263.69 Q119.751 1263.69 116.672 1259.11 Q113.617 1254.5 113.617 1245.77 Q113.617 1237.02 116.672 1232.44 Q119.751 1227.83 125.561 1227.83 Z\" fill=\"#000000\" fill-rule=\"evenodd\" fill-opacity=\"1\" /><path clip-path=\"url(#clip5900)\" d=\"M 0 0 M65.168 943.33 L72.8069 943.33 L72.8069 916.964 L64.4967 918.631 L64.4967 914.372 L72.7606 912.705 L77.4365 912.705 L77.4365 943.33 L85.0753 943.33 L85.0753 947.265 L65.168 947.265 L65.168 943.33 Z\" fill=\"#000000\" fill-rule=\"evenodd\" fill-opacity=\"1\" /><path clip-path=\"url(#clip5900)\" d=\"M 0 0 M94.1725 943.33 L110.492 943.33 L110.492 947.265 L88.5475 947.265 L88.5475 943.33 Q91.2096 940.575 95.7929 935.946 Q100.399 931.293 101.58 929.95 Q103.825 927.427 104.705 925.691 Q105.608 923.932 105.608 922.242 Q105.608 919.488 103.663 917.751 Q101.742 916.015 98.6401 916.015 Q96.441 916.015 93.9873 916.779 Q91.5568 917.543 88.779 919.094 L88.779 914.372 Q91.6031 913.238 94.0568 912.659 Q96.5105 912.08 98.5475 912.08 Q103.918 912.08 107.112 914.765 Q110.307 917.451 110.307 921.941 Q110.307 924.071 109.497 925.992 Q108.709 927.89 106.603 930.483 Q106.024 931.154 102.922 934.372 Q99.8206 937.566 94.1725 943.33 Z\" fill=\"#000000\" fill-rule=\"evenodd\" fill-opacity=\"1\" /><path clip-path=\"url(#clip5900)\" d=\"M 0 0 M125.561 915.784 Q121.95 915.784 120.121 919.349 Q118.316 922.89 118.316 930.02 Q118.316 937.126 120.121 940.691 Q121.95 944.233 125.561 944.233 Q129.195 944.233 131.001 940.691 Q132.83 937.126 132.83 930.02 Q132.83 922.89 131.001 919.349 Q129.195 915.784 125.561 915.784 M125.561 912.08 Q131.371 912.08 134.427 916.687 Q137.506 921.27 137.506 930.02 Q137.506 938.747 134.427 943.353 Q131.371 947.937 125.561 947.937 Q119.751 947.937 116.672 943.353 Q113.617 938.747 113.617 930.02 Q113.617 921.27 116.672 916.687 Q119.751 912.08 125.561 912.08 Z\" fill=\"#000000\" fill-rule=\"evenodd\" fill-opacity=\"1\" /><path clip-path=\"url(#clip5900)\" d=\"M 0 0 M64.5662 627.577 L72.205 627.577 L72.205 601.211 L63.8949 602.878 L63.8949 598.619 L72.1587 596.952 L76.8346 596.952 L76.8346 627.577 L84.4735 627.577 L84.4735 631.512 L64.5662 631.512 L64.5662 627.577 Z\" fill=\"#000000\" fill-rule=\"evenodd\" fill-opacity=\"1\" /><path clip-path=\"url(#clip5900)\" d=\"M 0 0 M89.5892 596.952 L107.946 596.952 L107.946 600.887 L93.8716 600.887 L93.8716 609.359 Q94.8901 609.012 95.9086 608.85 Q96.9271 608.665 97.9456 608.665 Q103.733 608.665 107.112 611.836 Q110.492 615.007 110.492 620.424 Q110.492 626.003 107.02 629.104 Q103.547 632.183 97.2281 632.183 Q95.0521 632.183 92.7836 631.813 Q90.5383 631.442 88.1309 630.702 L88.1309 626.003 Q90.2142 627.137 92.4364 627.692 Q94.6586 628.248 97.1355 628.248 Q101.14 628.248 103.478 626.142 Q105.816 624.035 105.816 620.424 Q105.816 616.813 103.478 614.706 Q101.14 612.6 97.1355 612.6 Q95.2605 612.6 93.3855 613.017 Q91.5336 613.433 89.5892 614.313 L89.5892 596.952 Z\" fill=\"#000000\" fill-rule=\"evenodd\" fill-opacity=\"1\" /><path clip-path=\"url(#clip5900)\" d=\"M 0 0 M125.561 600.031 Q121.95 600.031 120.121 603.595 Q118.316 607.137 118.316 614.267 Q118.316 621.373 120.121 624.938 Q121.95 628.479 125.561 628.479 Q129.195 628.479 131.001 624.938 Q132.83 621.373 132.83 614.267 Q132.83 607.137 131.001 603.595 Q129.195 600.031 125.561 600.031 M125.561 596.327 Q131.371 596.327 134.427 600.933 Q137.506 605.517 137.506 614.267 Q137.506 622.993 134.427 627.6 Q131.371 632.183 125.561 632.183 Q119.751 632.183 116.672 627.6 Q113.617 622.993 113.617 614.267 Q113.617 605.517 116.672 600.933 Q119.751 596.327 125.561 596.327 Z\" fill=\"#000000\" fill-rule=\"evenodd\" fill-opacity=\"1\" /><path clip-path=\"url(#clip5900)\" d=\"M 0 0 M63.6634 311.823 L71.3023 311.823 L71.3023 285.458 L62.9921 287.124 L62.9921 282.865 L71.256 281.199 L75.9319 281.199 L75.9319 311.823 L83.5707 311.823 L83.5707 315.759 L63.6634 315.759 L63.6634 311.823 Z\" fill=\"#000000\" fill-rule=\"evenodd\" fill-opacity=\"1\" /><path clip-path=\"url(#clip5900)\" d=\"M 0 0 M98.6401 299.347 Q95.3068 299.347 93.3855 301.129 Q91.4873 302.911 91.4873 306.036 Q91.4873 309.161 93.3855 310.944 Q95.3068 312.726 98.6401 312.726 Q101.973 312.726 103.895 310.944 Q105.816 309.138 105.816 306.036 Q105.816 302.911 103.895 301.129 Q101.997 299.347 98.6401 299.347 M93.9642 297.356 Q90.9549 296.615 89.2651 294.555 Q87.5985 292.495 87.5985 289.532 Q87.5985 285.388 90.5383 282.981 Q93.5012 280.574 98.6401 280.574 Q103.802 280.574 106.742 282.981 Q109.682 285.388 109.682 289.532 Q109.682 292.495 107.992 294.555 Q106.325 296.615 103.339 297.356 Q106.719 298.143 108.594 300.435 Q110.492 302.726 110.492 306.036 Q110.492 311.059 107.413 313.745 Q104.358 316.43 98.6401 316.43 Q92.9225 316.43 89.8438 313.745 Q86.7883 311.059 86.7883 306.036 Q86.7883 302.726 88.6864 300.435 Q90.5846 298.143 93.9642 297.356 M92.2512 289.972 Q92.2512 292.657 93.9179 294.161 Q95.6077 295.666 98.6401 295.666 Q101.649 295.666 103.339 294.161 Q105.052 292.657 105.052 289.972 Q105.052 287.286 103.339 285.782 Q101.649 284.277 98.6401 284.277 Q95.6077 284.277 93.9179 285.782 Q92.2512 287.286 92.2512 289.972 Z\" fill=\"#000000\" fill-rule=\"evenodd\" fill-opacity=\"1\" /><path clip-path=\"url(#clip5900)\" d=\"M 0 0 M125.561 284.277 Q121.95 284.277 120.121 287.842 Q118.316 291.384 118.316 298.513 Q118.316 305.62 120.121 309.184 Q121.95 312.726 125.561 312.726 Q129.195 312.726 131.001 309.184 Q132.83 305.62 132.83 298.513 Q132.83 291.384 131.001 287.842 Q129.195 284.277 125.561 284.277 M125.561 280.574 Q131.371 280.574 134.427 285.18 Q137.506 289.763 137.506 298.513 Q137.506 307.24 134.427 311.846 Q131.371 316.43 125.561 316.43 Q119.751 316.43 116.672 311.846 Q113.617 307.24 113.617 298.513 Q113.617 289.763 116.672 285.18 Q119.751 280.574 125.561 280.574 Z\" fill=\"#000000\" fill-rule=\"evenodd\" fill-opacity=\"1\" /><polyline clip-path=\"url(#clip5902)\" style=\"stroke:#009af9; stroke-width:4; stroke-opacity:1; fill:none\" points=\"\n",
       "  223.522,1445.72 228.026,319.529 232.53,319.529 237.033,319.529 241.537,319.529 246.041,319.529 250.545,319.529 255.048,319.529 259.552,319.529 264.056,319.529 \n",
       "  268.56,319.529 273.063,319.529 277.567,319.529 282.071,319.529 286.575,319.529 291.078,319.529 295.582,319.529 300.086,319.529 304.589,319.529 309.093,319.529 \n",
       "  313.597,87.9763 318.101,87.9763 322.604,87.9763 327.108,87.9763 331.612,87.9763 336.116,87.9763 340.619,87.9763 345.123,87.9763 349.627,87.9763 354.131,87.9763 \n",
       "  358.634,87.9763 363.138,87.9763 367.642,87.9763 372.146,87.9763 376.649,87.9763 381.153,87.9763 385.657,87.9763 390.161,87.9763 394.664,87.9763 399.168,87.9763 \n",
       "  403.672,87.9763 408.176,87.9763 412.679,87.9763 417.183,87.9763 421.687,87.9763 426.19,87.9763 430.694,87.9763 435.198,87.9763 439.702,87.9763 444.205,87.9763 \n",
       "  448.709,87.9763 453.213,87.9763 457.717,87.9763 462.22,87.9763 466.724,87.9763 471.228,87.9763 475.732,87.9763 480.235,87.9763 484.739,87.9763 489.243,87.9763 \n",
       "  493.747,87.9763 498.25,87.9763 502.754,87.9763 507.258,87.9763 511.762,87.9763 516.265,87.9763 520.769,87.9763 525.273,87.9763 529.777,87.9763 534.28,87.9763 \n",
       "  538.784,87.9763 543.288,87.9763 547.792,87.9763 552.295,87.9763 556.799,87.9763 561.303,87.9763 565.806,87.9763 570.31,87.9763 574.814,87.9763 579.318,87.9763 \n",
       "  583.821,87.9763 588.325,87.9763 592.829,87.9763 597.333,87.9763 601.836,87.9763 606.34,87.9763 610.844,87.9763 615.348,87.9763 619.851,87.9763 624.355,87.9763 \n",
       "  628.859,87.9763 633.363,87.9763 637.866,87.9763 642.37,87.9763 646.874,87.9763 651.378,87.9763 655.881,87.9763 660.385,87.9763 664.889,87.9763 669.393,87.9763 \n",
       "  673.896,87.9763 678.4,87.9763 682.904,87.9763 687.407,87.9763 691.911,87.9763 696.415,87.9763 700.919,87.9763 705.422,87.9763 709.926,87.9763 714.43,87.9763 \n",
       "  718.934,87.9763 723.437,87.9763 727.941,87.9763 732.445,87.9763 736.949,87.9763 741.452,87.9763 745.956,87.9763 750.46,87.9763 754.964,87.9763 759.467,87.9763 \n",
       "  763.971,87.9763 768.475,87.9763 772.979,87.9763 777.482,87.9763 781.986,87.9763 786.49,87.9763 790.994,87.9763 795.497,87.9763 800.001,87.9763 804.505,87.9763 \n",
       "  809.009,87.9763 813.512,87.9763 818.016,87.9763 822.52,87.9763 827.023,87.9763 831.527,87.9763 836.031,87.9763 840.535,87.9763 845.038,87.9763 849.542,87.9763 \n",
       "  854.046,87.9763 858.55,87.9763 863.053,87.9763 867.557,87.9763 872.061,87.9763 876.565,87.9763 881.068,87.9763 885.572,87.9763 890.076,87.9763 894.58,87.9763 \n",
       "  899.083,87.9763 903.587,87.9763 908.091,87.9763 912.595,87.9763 917.098,87.9763 921.602,87.9763 926.106,87.9763 930.61,87.9763 935.113,87.9763 939.617,87.9763 \n",
       "  944.121,87.9763 948.624,87.9763 953.128,87.9763 957.632,87.9763 962.136,87.9763 966.639,87.9763 971.143,87.9763 975.647,87.9763 980.151,87.9763 984.654,87.9763 \n",
       "  989.158,87.9763 993.662,87.9763 998.166,87.9763 1002.67,87.9763 1007.17,87.9763 1011.68,87.9763 1016.18,87.9763 1020.68,87.9763 1025.19,87.9763 1029.69,87.9763 \n",
       "  1034.2,87.9763 1038.7,87.9763 1043.2,87.9763 1047.71,87.9763 1052.21,87.9763 1056.71,87.9763 1061.22,87.9763 1065.72,87.9763 1070.23,87.9763 1074.73,87.9763 \n",
       "  1079.23,87.9763 1083.74,87.9763 1088.24,87.9763 1092.74,87.9763 1097.25,87.9763 1101.75,87.9763 1106.26,87.9763 1110.76,87.9763 1115.26,87.9763 1119.77,87.9763 \n",
       "  1124.27,87.9763 1128.77,87.9763 1133.28,87.9763 1137.78,87.9763 1142.29,87.9763 1146.79,87.9763 1151.29,87.9763 1155.8,87.9763 1160.3,87.9763 1164.8,87.9763 \n",
       "  1169.31,87.9763 1173.81,87.9763 1178.32,87.9763 1182.82,87.9763 1187.32,87.9763 1191.83,87.9763 1196.33,87.9763 1200.83,87.9763 1205.34,87.9763 1209.84,87.9763 \n",
       "  1214.35,87.9763 1218.85,87.9763 1223.35,87.9763 1227.86,87.9763 1232.36,87.9763 1236.86,87.9763 1241.37,87.9763 1245.87,87.9763 1250.38,87.9763 1254.88,87.9763 \n",
       "  1259.38,87.9763 1263.89,87.9763 1268.39,87.9763 1272.89,87.9763 1277.4,87.9763 1281.9,87.9763 1286.41,87.9763 1290.91,87.9763 1295.41,87.9763 1299.92,87.9763 \n",
       "  1304.42,87.9763 1308.92,87.9763 1313.43,87.9763 1317.93,87.9763 1322.44,87.9763 1326.94,87.9763 1331.44,87.9763 1335.95,87.9763 1340.45,87.9763 1344.95,87.9763 \n",
       "  1349.46,87.9763 1353.96,87.9763 1358.46,87.9763 1362.97,87.9763 1367.47,87.9763 1371.98,87.9763 1376.48,87.9763 1380.98,87.9763 1385.49,87.9763 1389.99,87.9763 \n",
       "  1394.49,87.9763 1399,87.9763 1403.5,87.9763 1408.01,87.9763 1412.51,87.9763 1417.01,87.9763 1421.52,87.9763 1426.02,87.9763 1430.52,87.9763 1435.03,87.9763 \n",
       "  1439.53,87.9763 1444.04,87.9763 1448.54,87.9763 1453.04,87.9763 1457.55,87.9763 1462.05,87.9763 1466.55,87.9763 1471.06,87.9763 1475.56,87.9763 1480.07,87.9763 \n",
       "  1484.57,87.9763 1489.07,87.9763 1493.58,87.9763 1498.08,87.9763 1502.58,87.9763 1507.09,87.9763 1511.59,87.9763 1516.1,87.9763 1520.6,87.9763 1525.1,87.9763 \n",
       "  1529.61,87.9763 1534.11,87.9763 1538.61,87.9763 1543.12,87.9763 1547.62,87.9763 1552.13,87.9763 1556.63,87.9763 1561.13,87.9763 1565.64,87.9763 1570.14,87.9763 \n",
       "  1574.64,87.9763 1579.15,87.9763 1583.65,87.9763 1588.16,87.9763 1592.66,87.9763 1597.16,87.9763 1601.67,87.9763 1606.17,87.9763 1610.67,87.9763 1615.18,87.9763 \n",
       "  1619.68,87.9763 1624.19,87.9763 1628.69,87.9763 1633.19,87.9763 1637.7,87.9763 1642.2,87.9763 1646.7,87.9763 1651.21,87.9763 1655.71,87.9763 1660.22,87.9763 \n",
       "  1664.72,87.9763 1669.22,87.9763 1673.73,87.9763 1678.23,87.9763 1682.73,87.9763 1687.24,87.9763 1691.74,87.9763 1696.25,87.9763 1700.75,87.9763 1705.25,87.9763 \n",
       "  1709.76,87.9763 1714.26,87.9763 1718.76,87.9763 1723.27,87.9763 1727.77,87.9763 1732.28,87.9763 1736.78,87.9763 1741.28,87.9763 1745.79,87.9763 1750.29,87.9763 \n",
       "  1754.79,87.9763 1759.3,87.9763 1763.8,87.9763 1768.31,87.9763 1772.81,87.9763 1777.31,87.9763 1781.82,87.9763 1786.32,87.9763 1790.82,87.9763 1795.33,87.9763 \n",
       "  1799.83,87.9763 1804.34,87.9763 1808.84,87.9763 1813.34,87.9763 1817.85,87.9763 1822.35,87.9763 1826.85,87.9763 1831.36,87.9763 1835.86,87.9763 1840.37,87.9763 \n",
       "  1844.87,87.9763 1849.37,87.9763 1853.88,87.9763 1858.38,87.9763 1862.88,87.9763 1867.39,87.9763 1871.89,87.9763 1876.4,87.9763 1880.9,87.9763 1885.4,87.9763 \n",
       "  1889.91,87.9763 1894.41,87.9763 1898.91,87.9763 1903.42,87.9763 1907.92,87.9763 1912.43,87.9763 1916.93,87.9763 1921.43,87.9763 1925.94,87.9763 1930.44,87.9763 \n",
       "  1934.94,87.9763 1939.45,87.9763 1943.95,87.9763 1948.46,87.9763 1952.96,87.9763 1957.46,87.9763 1961.97,87.9763 1966.47,87.9763 1970.97,87.9763 1975.48,87.9763 \n",
       "  1979.98,87.9763 1984.48,87.9763 1988.99,87.9763 1993.49,87.9763 1998,87.9763 2002.5,87.9763 2007,87.9763 2011.51,87.9763 2016.01,87.9763 2020.51,87.9763 \n",
       "  2025.02,87.9763 2029.52,87.9763 2034.03,87.9763 2038.53,87.9763 2043.03,87.9763 2047.54,87.9763 2052.04,87.9763 2056.54,87.9763 2061.05,87.9763 2065.55,87.9763 \n",
       "  2070.06,87.9763 2074.56,87.9763 2079.06,87.9763 2083.57,87.9763 2088.07,87.9763 2092.57,87.9763 2097.08,87.9763 2101.58,87.9763 2106.09,87.9763 2110.59,87.9763 \n",
       "  2115.09,87.9763 2119.6,87.9763 2124.1,87.9763 2128.6,87.9763 2133.11,87.9763 2137.61,87.9763 2142.12,87.9763 2146.62,87.9763 2151.12,87.9763 2155.63,87.9763 \n",
       "  2160.13,87.9763 2164.63,87.9763 2169.14,87.9763 2173.64,87.9763 2178.15,87.9763 2182.65,87.9763 2187.15,87.9763 2191.66,87.9763 2196.16,87.9763 2200.66,87.9763 \n",
       "  2205.17,87.9763 2209.67,87.9763 2214.18,87.9763 2218.68,87.9763 2223.18,87.9763 2227.69,87.9763 2232.19,87.9763 2236.69,87.9763 2241.2,87.9763 2245.7,87.9763 \n",
       "  2250.21,87.9763 2254.71,87.9763 2259.21,87.9763 2263.72,87.9763 2268.22,87.9763 2272.72,87.9763 2277.23,87.9763 2281.73,87.9763 2286.24,87.9763 2290.74,87.9763 \n",
       "  \n",
       "  \"/>\n",
       "<path clip-path=\"url(#clip5900)\" d=\"\n",
       "M1989.74 251.724 L2280.76 251.724 L2280.76 130.764 L1989.74 130.764  Z\n",
       "  \" fill=\"#ffffff\" fill-rule=\"evenodd\" fill-opacity=\"1\"/>\n",
       "<polyline clip-path=\"url(#clip5900)\" style=\"stroke:#000000; stroke-width:4; stroke-opacity:1; fill:none\" points=\"\n",
       "  1989.74,251.724 2280.76,251.724 2280.76,130.764 1989.74,130.764 1989.74,251.724 \n",
       "  \"/>\n",
       "<polyline clip-path=\"url(#clip5900)\" style=\"stroke:#009af9; stroke-width:4; stroke-opacity:1; fill:none\" points=\"\n",
       "  2013.74,191.244 2157.74,191.244 \n",
       "  \"/>\n",
       "<path clip-path=\"url(#clip5900)\" d=\"M 0 0 M2195.58 210.931 Q2193.77 215.561 2192.06 216.973 Q2190.35 218.385 2187.48 218.385 L2184.08 218.385 L2184.08 214.82 L2186.58 214.82 Q2188.33 214.82 2189.31 213.987 Q2190.28 213.154 2191.46 210.052 L2192.22 208.107 L2181.74 182.598 L2186.25 182.598 L2194.35 202.876 L2202.46 182.598 L2206.97 182.598 L2195.58 210.931 Z\" fill=\"#000000\" fill-rule=\"evenodd\" fill-opacity=\"1\" /><path clip-path=\"url(#clip5900)\" d=\"M 0 0 M2212.85 204.589 L2220.49 204.589 L2220.49 178.223 L2212.18 179.89 L2212.18 175.631 L2220.44 173.964 L2225.12 173.964 L2225.12 204.589 L2232.76 204.589 L2232.76 208.524 L2212.85 208.524 L2212.85 204.589 Z\" fill=\"#000000\" fill-rule=\"evenodd\" fill-opacity=\"1\" /></svg>\n"
      ]
     },
     "execution_count": 50,
     "metadata": {},
     "output_type": "execute_result"
    }
   ],
   "source": [
    "fits, expert = one_plus_lambda(layers, n_gens, play_cartpole, 𝜆)\n",
    "plot(fits)"
   ]
  },
  {
   "cell_type": "markdown",
   "id": "marked-monthly",
   "metadata": {
    "slideshow": {
     "slide_type": "slide"
    }
   },
   "source": [
    "## Evolutionary Strategies"
   ]
  },
  {
   "cell_type": "code",
   "execution_count": 51,
   "id": "pressing-counter",
   "metadata": {},
   "outputs": [
    {
     "data": {
      "text/plain": [
       "ES (generic function with 4 methods)"
      ]
     },
     "execution_count": 51,
     "metadata": {},
     "output_type": "execute_result"
    }
   ],
   "source": [
    "using Statistics\n",
    "using LinearAlgebra\n",
    "\n",
    "function ES(layers::Array, num_generations::Int, f::Function, npop::Int=50, sigma=0.5, alpha=0.01)\n",
    "    µ = Individual(layers::Array) # Center\n",
    "    n = length(µ.genes)\n",
    "    evaluate!(µ, f)\n",
    "\n",
    "    expert = µ # Best individual so far\n",
    "\n",
    "    fits = zeros(num_generations)\n",
    "\n",
    "    for i in eachindex(fits)\n",
    "        population = Array{Individual}(undef, 𝜆)\n",
    "        best = 1\n",
    "        for j in eachindex(population)\n",
    "            new_genes = expert.genes + randn(n) .* sigma\n",
    "            population[j] = Individual(layers, new_genes)\n",
    "            evaluate!(population[j], f)\n",
    "            if population[j].fitness > population[best].fitness\n",
    "                best = j\n",
    "            end\n",
    "        end\n",
    "\n",
    "        if population[best].fitness >= expert.fitness\n",
    "            expert = population[best]\n",
    "        end\n",
    "\n",
    "        fits[i] = expert.fitness\n",
    "\n",
    "        # TODO: µ update\n",
    "\n",
    "        print(i, \"/\",  num_generations, \" > \", expert.fitness, \"\\t\\t\\r\")\n",
    "    end\n",
    "    fits, expert\n",
    "end\n"
   ]
  },
  {
   "cell_type": "code",
   "execution_count": 5,
   "id": "c90b71d0",
   "metadata": {},
   "outputs": [],
   "source": [
    "## Uncomment and run the next line to load a solution \n",
    "# IJulia.load(\"solutions/es.jl\") "
   ]
  },
  {
   "cell_type": "code",
   "execution_count": 27,
   "id": "superb-sequence",
   "metadata": {
    "slideshow": {
     "slide_type": "subslide"
    }
   },
   "outputs": [
    {
     "data": {
      "text/plain": [
       "386"
      ]
     },
     "execution_count": 27,
     "metadata": {},
     "output_type": "execute_result"
    }
   ],
   "source": [
    "layers = [4, 16, 16, 2]\n",
    "ind = Individual(layers)\n",
    "n = length(ind.genes)"
   ]
  },
  {
   "cell_type": "code",
   "execution_count": 28,
   "id": "personalized-future",
   "metadata": {},
   "outputs": [
    {
     "name": "stdout",
     "output_type": "stream",
     "text": [
      "50/50 > 200.0\t\t\r"
     ]
    },
    {
     "data": {
      "image/svg+xml": [
       "<?xml version=\"1.0\" encoding=\"utf-8\"?>\n",
       "<svg xmlns=\"http://www.w3.org/2000/svg\" xmlns:xlink=\"http://www.w3.org/1999/xlink\" width=\"600\" height=\"400\" viewBox=\"0 0 2400 1600\">\n",
       "<defs>\n",
       "  <clipPath id=\"clip930\">\n",
       "    <rect x=\"0\" y=\"0\" width=\"2400\" height=\"1600\"/>\n",
       "  </clipPath>\n",
       "</defs>\n",
       "<path clip-path=\"url(#clip930)\" d=\"\n",
       "M0 1600 L2400 1600 L2400 0 L0 0  Z\n",
       "  \" fill=\"#ffffff\" fill-rule=\"evenodd\" fill-opacity=\"1\"/>\n",
       "<defs>\n",
       "  <clipPath id=\"clip931\">\n",
       "    <rect x=\"480\" y=\"0\" width=\"1681\" height=\"1600\"/>\n",
       "  </clipPath>\n",
       "</defs>\n",
       "<path clip-path=\"url(#clip930)\" d=\"\n",
       "M169.121 1486.45 L2352.76 1486.45 L2352.76 47.2441 L169.121 47.2441  Z\n",
       "  \" fill=\"#ffffff\" fill-rule=\"evenodd\" fill-opacity=\"1\"/>\n",
       "<defs>\n",
       "  <clipPath id=\"clip932\">\n",
       "    <rect x=\"169\" y=\"47\" width=\"2185\" height=\"1440\"/>\n",
       "  </clipPath>\n",
       "</defs>\n",
       "<polyline clip-path=\"url(#clip932)\" style=\"stroke:#000000; stroke-width:2; stroke-opacity:0.1; fill:none\" points=\"\n",
       "  188.881,1486.45 188.881,47.2441 \n",
       "  \"/>\n",
       "<polyline clip-path=\"url(#clip932)\" style=\"stroke:#000000; stroke-width:2; stroke-opacity:0.1; fill:none\" points=\"\n",
       "  609.296,1486.45 609.296,47.2441 \n",
       "  \"/>\n",
       "<polyline clip-path=\"url(#clip932)\" style=\"stroke:#000000; stroke-width:2; stroke-opacity:0.1; fill:none\" points=\"\n",
       "  1029.71,1486.45 1029.71,47.2441 \n",
       "  \"/>\n",
       "<polyline clip-path=\"url(#clip932)\" style=\"stroke:#000000; stroke-width:2; stroke-opacity:0.1; fill:none\" points=\"\n",
       "  1450.13,1486.45 1450.13,47.2441 \n",
       "  \"/>\n",
       "<polyline clip-path=\"url(#clip932)\" style=\"stroke:#000000; stroke-width:2; stroke-opacity:0.1; fill:none\" points=\"\n",
       "  1870.54,1486.45 1870.54,47.2441 \n",
       "  \"/>\n",
       "<polyline clip-path=\"url(#clip932)\" style=\"stroke:#000000; stroke-width:2; stroke-opacity:0.1; fill:none\" points=\"\n",
       "  2290.95,1486.45 2290.95,47.2441 \n",
       "  \"/>\n",
       "<polyline clip-path=\"url(#clip930)\" style=\"stroke:#000000; stroke-width:4; stroke-opacity:1; fill:none\" points=\"\n",
       "  169.121,1486.45 2352.76,1486.45 \n",
       "  \"/>\n",
       "<polyline clip-path=\"url(#clip930)\" style=\"stroke:#000000; stroke-width:4; stroke-opacity:1; fill:none\" points=\"\n",
       "  188.881,1486.45 188.881,1469.18 \n",
       "  \"/>\n",
       "<polyline clip-path=\"url(#clip930)\" style=\"stroke:#000000; stroke-width:4; stroke-opacity:1; fill:none\" points=\"\n",
       "  609.296,1486.45 609.296,1469.18 \n",
       "  \"/>\n",
       "<polyline clip-path=\"url(#clip930)\" style=\"stroke:#000000; stroke-width:4; stroke-opacity:1; fill:none\" points=\"\n",
       "  1029.71,1486.45 1029.71,1469.18 \n",
       "  \"/>\n",
       "<polyline clip-path=\"url(#clip930)\" style=\"stroke:#000000; stroke-width:4; stroke-opacity:1; fill:none\" points=\"\n",
       "  1450.13,1486.45 1450.13,1469.18 \n",
       "  \"/>\n",
       "<polyline clip-path=\"url(#clip930)\" style=\"stroke:#000000; stroke-width:4; stroke-opacity:1; fill:none\" points=\"\n",
       "  1870.54,1486.45 1870.54,1469.18 \n",
       "  \"/>\n",
       "<polyline clip-path=\"url(#clip930)\" style=\"stroke:#000000; stroke-width:4; stroke-opacity:1; fill:none\" points=\"\n",
       "  2290.95,1486.45 2290.95,1469.18 \n",
       "  \"/>\n",
       "<path clip-path=\"url(#clip930)\" d=\"M 0 0 M188.881 1515.64 Q185.27 1515.64 183.441 1519.2 Q181.635 1522.75 181.635 1529.87 Q181.635 1536.98 183.441 1540.55 Q185.27 1544.09 188.881 1544.09 Q192.515 1544.09 194.321 1540.55 Q196.149 1536.98 196.149 1529.87 Q196.149 1522.75 194.321 1519.2 Q192.515 1515.64 188.881 1515.64 M188.881 1511.93 Q194.691 1511.93 197.747 1516.54 Q200.825 1521.12 200.825 1529.87 Q200.825 1538.6 197.747 1543.21 Q194.691 1547.79 188.881 1547.79 Q183.071 1547.79 179.992 1543.21 Q176.936 1538.6 176.936 1529.87 Q176.936 1521.12 179.992 1516.54 Q183.071 1511.93 188.881 1511.93 Z\" fill=\"#000000\" fill-rule=\"evenodd\" fill-opacity=\"1\" /><path clip-path=\"url(#clip930)\" d=\"M 0 0 M583.983 1543.18 L591.622 1543.18 L591.622 1516.82 L583.312 1518.49 L583.312 1514.23 L591.576 1512.56 L596.252 1512.56 L596.252 1543.18 L603.891 1543.18 L603.891 1547.12 L583.983 1547.12 L583.983 1543.18 Z\" fill=\"#000000\" fill-rule=\"evenodd\" fill-opacity=\"1\" /><path clip-path=\"url(#clip930)\" d=\"M 0 0 M623.335 1515.64 Q619.724 1515.64 617.895 1519.2 Q616.09 1522.75 616.09 1529.87 Q616.09 1536.98 617.895 1540.55 Q619.724 1544.09 623.335 1544.09 Q626.969 1544.09 628.775 1540.55 Q630.603 1536.98 630.603 1529.87 Q630.603 1522.75 628.775 1519.2 Q626.969 1515.64 623.335 1515.64 M623.335 1511.93 Q629.145 1511.93 632.201 1516.54 Q635.279 1521.12 635.279 1529.87 Q635.279 1538.6 632.201 1543.21 Q629.145 1547.79 623.335 1547.79 Q617.525 1547.79 614.446 1543.21 Q611.391 1538.6 611.391 1529.87 Q611.391 1521.12 614.446 1516.54 Q617.525 1511.93 623.335 1511.93 Z\" fill=\"#000000\" fill-rule=\"evenodd\" fill-opacity=\"1\" /><path clip-path=\"url(#clip930)\" d=\"M 0 0 M1008.48 1543.18 L1024.8 1543.18 L1024.8 1547.12 L1002.86 1547.12 L1002.86 1543.18 Q1005.52 1540.43 1010.1 1535.8 Q1014.71 1531.15 1015.89 1529.81 Q1018.14 1527.28 1019.02 1525.55 Q1019.92 1523.79 1019.92 1522.1 Q1019.92 1519.34 1017.97 1517.61 Q1016.05 1515.87 1012.95 1515.87 Q1010.75 1515.87 1008.3 1516.63 Q1005.87 1517.4 1003.09 1518.95 L1003.09 1514.23 Q1005.91 1513.09 1008.37 1512.51 Q1010.82 1511.93 1012.86 1511.93 Q1018.23 1511.93 1021.42 1514.62 Q1024.62 1517.31 1024.62 1521.8 Q1024.62 1523.93 1023.81 1525.85 Q1023.02 1527.74 1020.91 1530.34 Q1020.34 1531.01 1017.23 1534.23 Q1014.13 1537.42 1008.48 1543.18 Z\" fill=\"#000000\" fill-rule=\"evenodd\" fill-opacity=\"1\" /><path clip-path=\"url(#clip930)\" d=\"M 0 0 M1044.62 1515.64 Q1041.01 1515.64 1039.18 1519.2 Q1037.37 1522.75 1037.37 1529.87 Q1037.37 1536.98 1039.18 1540.55 Q1041.01 1544.09 1044.62 1544.09 Q1048.25 1544.09 1050.06 1540.55 Q1051.89 1536.98 1051.89 1529.87 Q1051.89 1522.75 1050.06 1519.2 Q1048.25 1515.64 1044.62 1515.64 M1044.62 1511.93 Q1050.43 1511.93 1053.48 1516.54 Q1056.56 1521.12 1056.56 1529.87 Q1056.56 1538.6 1053.48 1543.21 Q1050.43 1547.79 1044.62 1547.79 Q1038.81 1547.79 1035.73 1543.21 Q1032.67 1538.6 1032.67 1529.87 Q1032.67 1521.12 1035.73 1516.54 Q1038.81 1511.93 1044.62 1511.93 Z\" fill=\"#000000\" fill-rule=\"evenodd\" fill-opacity=\"1\" /><path clip-path=\"url(#clip930)\" d=\"M 0 0 M1438.97 1528.49 Q1442.32 1529.2 1444.2 1531.47 Q1446.1 1533.74 1446.1 1537.07 Q1446.1 1542.19 1442.58 1544.99 Q1439.06 1547.79 1432.58 1547.79 Q1430.4 1547.79 1428.09 1547.35 Q1425.8 1546.93 1423.34 1546.08 L1423.34 1541.56 Q1425.29 1542.7 1427.6 1543.28 Q1429.92 1543.86 1432.44 1543.86 Q1436.84 1543.86 1439.13 1542.12 Q1441.44 1540.38 1441.44 1537.07 Q1441.44 1534.02 1439.29 1532.31 Q1437.16 1530.57 1433.34 1530.57 L1429.32 1530.57 L1429.32 1526.73 L1433.53 1526.73 Q1436.98 1526.73 1438.81 1525.36 Q1440.63 1523.97 1440.63 1521.38 Q1440.63 1518.72 1438.74 1517.31 Q1436.86 1515.87 1433.34 1515.87 Q1431.42 1515.87 1429.22 1516.29 Q1427.02 1516.7 1424.38 1517.58 L1424.38 1513.42 Q1427.05 1512.68 1429.36 1512.31 Q1431.7 1511.93 1433.76 1511.93 Q1439.08 1511.93 1442.19 1514.37 Q1445.29 1516.77 1445.29 1520.89 Q1445.29 1523.76 1443.64 1525.75 Q1442 1527.72 1438.97 1528.49 Z\" fill=\"#000000\" fill-rule=\"evenodd\" fill-opacity=\"1\" /><path clip-path=\"url(#clip930)\" d=\"M 0 0 M1464.96 1515.64 Q1461.35 1515.64 1459.52 1519.2 Q1457.72 1522.75 1457.72 1529.87 Q1457.72 1536.98 1459.52 1540.55 Q1461.35 1544.09 1464.96 1544.09 Q1468.6 1544.09 1470.4 1540.55 Q1472.23 1536.98 1472.23 1529.87 Q1472.23 1522.75 1470.4 1519.2 Q1468.6 1515.64 1464.96 1515.64 M1464.96 1511.93 Q1470.77 1511.93 1473.83 1516.54 Q1476.91 1521.12 1476.91 1529.87 Q1476.91 1538.6 1473.83 1543.21 Q1470.77 1547.79 1464.96 1547.79 Q1459.15 1547.79 1456.07 1543.21 Q1453.02 1538.6 1453.02 1529.87 Q1453.02 1521.12 1456.07 1516.54 Q1459.15 1511.93 1464.96 1511.93 Z\" fill=\"#000000\" fill-rule=\"evenodd\" fill-opacity=\"1\" /><path clip-path=\"url(#clip930)\" d=\"M 0 0 M1858.71 1516.63 L1846.91 1535.08 L1858.71 1535.08 L1858.71 1516.63 M1857.48 1512.56 L1863.36 1512.56 L1863.36 1535.08 L1868.29 1535.08 L1868.29 1538.97 L1863.36 1538.97 L1863.36 1547.12 L1858.71 1547.12 L1858.71 1538.97 L1843.11 1538.97 L1843.11 1534.46 L1857.48 1512.56 Z\" fill=\"#000000\" fill-rule=\"evenodd\" fill-opacity=\"1\" /><path clip-path=\"url(#clip930)\" d=\"M 0 0 M1886.03 1515.64 Q1882.42 1515.64 1880.59 1519.2 Q1878.78 1522.75 1878.78 1529.87 Q1878.78 1536.98 1880.59 1540.55 Q1882.42 1544.09 1886.03 1544.09 Q1889.66 1544.09 1891.47 1540.55 Q1893.29 1536.98 1893.29 1529.87 Q1893.29 1522.75 1891.47 1519.2 Q1889.66 1515.64 1886.03 1515.64 M1886.03 1511.93 Q1891.84 1511.93 1894.89 1516.54 Q1897.97 1521.12 1897.97 1529.87 Q1897.97 1538.6 1894.89 1543.21 Q1891.84 1547.79 1886.03 1547.79 Q1880.22 1547.79 1877.14 1543.21 Q1874.08 1538.6 1874.08 1529.87 Q1874.08 1521.12 1877.14 1516.54 Q1880.22 1511.93 1886.03 1511.93 Z\" fill=\"#000000\" fill-rule=\"evenodd\" fill-opacity=\"1\" /><path clip-path=\"url(#clip930)\" d=\"M 0 0 M2265.65 1512.56 L2284.01 1512.56 L2284.01 1516.5 L2269.94 1516.5 L2269.94 1524.97 Q2270.96 1524.62 2271.97 1524.46 Q2272.99 1524.27 2274.01 1524.27 Q2279.8 1524.27 2283.18 1527.44 Q2286.56 1530.62 2286.56 1536.03 Q2286.56 1541.61 2283.08 1544.71 Q2279.61 1547.79 2273.29 1547.79 Q2271.12 1547.79 2268.85 1547.42 Q2266.6 1547.05 2264.2 1546.31 L2264.2 1541.61 Q2266.28 1542.74 2268.5 1543.3 Q2270.72 1543.86 2273.2 1543.86 Q2277.21 1543.86 2279.54 1541.75 Q2281.88 1539.64 2281.88 1536.03 Q2281.88 1532.42 2279.54 1530.31 Q2277.21 1528.21 2273.2 1528.21 Q2271.33 1528.21 2269.45 1528.62 Q2267.6 1529.04 2265.65 1529.92 L2265.65 1512.56 Z\" fill=\"#000000\" fill-rule=\"evenodd\" fill-opacity=\"1\" /><path clip-path=\"url(#clip930)\" d=\"M 0 0 M2305.77 1515.64 Q2302.16 1515.64 2300.33 1519.2 Q2298.52 1522.75 2298.52 1529.87 Q2298.52 1536.98 2300.33 1540.55 Q2302.16 1544.09 2305.77 1544.09 Q2309.4 1544.09 2311.21 1540.55 Q2313.04 1536.98 2313.04 1529.87 Q2313.04 1522.75 2311.21 1519.2 Q2309.4 1515.64 2305.77 1515.64 M2305.77 1511.93 Q2311.58 1511.93 2314.64 1516.54 Q2317.71 1521.12 2317.71 1529.87 Q2317.71 1538.6 2314.64 1543.21 Q2311.58 1547.79 2305.77 1547.79 Q2299.96 1547.79 2296.88 1543.21 Q2293.83 1538.6 2293.83 1529.87 Q2293.83 1521.12 2296.88 1516.54 Q2299.96 1511.93 2305.77 1511.93 Z\" fill=\"#000000\" fill-rule=\"evenodd\" fill-opacity=\"1\" /><polyline clip-path=\"url(#clip932)\" style=\"stroke:#000000; stroke-width:2; stroke-opacity:0.1; fill:none\" points=\"\n",
       "  169.121,1398.9 2352.76,1398.9 \n",
       "  \"/>\n",
       "<polyline clip-path=\"url(#clip932)\" style=\"stroke:#000000; stroke-width:2; stroke-opacity:0.1; fill:none\" points=\"\n",
       "  169.121,1117.99 2352.76,1117.99 \n",
       "  \"/>\n",
       "<polyline clip-path=\"url(#clip932)\" style=\"stroke:#000000; stroke-width:2; stroke-opacity:0.1; fill:none\" points=\"\n",
       "  169.121,837.074 2352.76,837.074 \n",
       "  \"/>\n",
       "<polyline clip-path=\"url(#clip932)\" style=\"stroke:#000000; stroke-width:2; stroke-opacity:0.1; fill:none\" points=\"\n",
       "  169.121,556.162 2352.76,556.162 \n",
       "  \"/>\n",
       "<polyline clip-path=\"url(#clip932)\" style=\"stroke:#000000; stroke-width:2; stroke-opacity:0.1; fill:none\" points=\"\n",
       "  169.121,275.251 2352.76,275.251 \n",
       "  \"/>\n",
       "<polyline clip-path=\"url(#clip930)\" style=\"stroke:#000000; stroke-width:4; stroke-opacity:1; fill:none\" points=\"\n",
       "  169.121,1486.45 169.121,47.2441 \n",
       "  \"/>\n",
       "<polyline clip-path=\"url(#clip930)\" style=\"stroke:#000000; stroke-width:4; stroke-opacity:1; fill:none\" points=\"\n",
       "  169.121,1398.9 195.325,1398.9 \n",
       "  \"/>\n",
       "<polyline clip-path=\"url(#clip930)\" style=\"stroke:#000000; stroke-width:4; stroke-opacity:1; fill:none\" points=\"\n",
       "  169.121,1117.99 195.325,1117.99 \n",
       "  \"/>\n",
       "<polyline clip-path=\"url(#clip930)\" style=\"stroke:#000000; stroke-width:4; stroke-opacity:1; fill:none\" points=\"\n",
       "  169.121,837.074 195.325,837.074 \n",
       "  \"/>\n",
       "<polyline clip-path=\"url(#clip930)\" style=\"stroke:#000000; stroke-width:4; stroke-opacity:1; fill:none\" points=\"\n",
       "  169.121,556.162 195.325,556.162 \n",
       "  \"/>\n",
       "<polyline clip-path=\"url(#clip930)\" style=\"stroke:#000000; stroke-width:4; stroke-opacity:1; fill:none\" points=\"\n",
       "  169.121,275.251 195.325,275.251 \n",
       "  \"/>\n",
       "<path clip-path=\"url(#clip930)\" d=\"M 0 0 M91.5938 1397.03 Q88.4456 1397.03 86.5938 1399.19 Q84.7651 1401.34 84.7651 1405.09 Q84.7651 1408.82 86.5938 1410.99 Q88.4456 1413.14 91.5938 1413.14 Q94.7419 1413.14 96.5706 1410.99 Q98.4224 1408.82 98.4224 1405.09 Q98.4224 1401.34 96.5706 1399.19 Q94.7419 1397.03 91.5938 1397.03 M100.876 1382.38 L100.876 1386.64 Q99.1169 1385.81 97.3113 1385.37 Q95.5289 1384.93 93.7697 1384.93 Q89.1401 1384.93 86.6864 1388.05 Q84.2558 1391.18 83.9086 1397.5 Q85.2743 1395.48 87.3345 1394.42 Q89.3947 1393.33 91.8715 1393.33 Q97.0798 1393.33 100.089 1396.5 Q103.121 1399.65 103.121 1405.09 Q103.121 1410.41 99.9733 1413.63 Q96.8252 1416.85 91.5938 1416.85 Q85.5984 1416.85 82.4271 1412.27 Q79.2559 1407.66 79.2559 1398.93 Q79.2559 1390.74 83.1447 1385.88 Q87.0336 1380.99 93.5845 1380.99 Q95.3437 1380.99 97.1261 1381.34 Q98.9317 1381.69 100.876 1382.38 Z\" fill=\"#000000\" fill-rule=\"evenodd\" fill-opacity=\"1\" /><path clip-path=\"url(#clip930)\" d=\"M 0 0 M121.177 1384.7 Q117.566 1384.7 115.737 1388.26 Q113.932 1391.8 113.932 1398.93 Q113.932 1406.04 115.737 1409.6 Q117.566 1413.14 121.177 1413.14 Q124.811 1413.14 126.617 1409.6 Q128.445 1406.04 128.445 1398.93 Q128.445 1391.8 126.617 1388.26 Q124.811 1384.7 121.177 1384.7 M121.177 1380.99 Q126.987 1380.99 130.043 1385.6 Q133.121 1390.18 133.121 1398.93 Q133.121 1407.66 130.043 1412.27 Q126.987 1416.85 121.177 1416.85 Q115.367 1416.85 112.288 1412.27 Q109.233 1407.66 109.233 1398.93 Q109.233 1390.18 112.288 1385.6 Q115.367 1380.99 121.177 1380.99 Z\" fill=\"#000000\" fill-rule=\"evenodd\" fill-opacity=\"1\" /><path clip-path=\"url(#clip930)\" d=\"M 0 0 M81.154 1134.55 L81.154 1130.29 Q82.9133 1131.12 84.7188 1131.56 Q86.5243 1132 88.2604 1132 Q92.89 1132 95.3206 1128.9 Q97.7743 1125.77 98.1215 1119.43 Q96.7789 1121.42 94.7187 1122.49 Q92.6586 1123.55 90.1586 1123.55 Q84.9734 1123.55 81.941 1120.43 Q78.9318 1117.28 78.9318 1111.84 Q78.9318 1106.52 82.0799 1103.3 Q85.2281 1100.08 90.4595 1100.08 Q96.4548 1100.08 99.603 1104.69 Q102.774 1109.27 102.774 1118.02 Q102.774 1126.19 98.8854 1131.08 Q95.0197 1135.94 88.4688 1135.94 Q86.7095 1135.94 84.904 1135.59 Q83.0984 1135.24 81.154 1134.55 M90.4595 1119.9 Q93.6076 1119.9 95.4363 1117.74 Q97.2882 1115.59 97.2882 1111.84 Q97.2882 1108.11 95.4363 1105.96 Q93.6076 1103.78 90.4595 1103.78 Q87.3114 1103.78 85.4595 1105.96 Q83.6308 1108.11 83.6308 1111.84 Q83.6308 1115.59 85.4595 1117.74 Q87.3114 1119.9 90.4595 1119.9 Z\" fill=\"#000000\" fill-rule=\"evenodd\" fill-opacity=\"1\" /><path clip-path=\"url(#clip930)\" d=\"M 0 0 M121.177 1103.78 Q117.566 1103.78 115.737 1107.35 Q113.932 1110.89 113.932 1118.02 Q113.932 1125.13 115.737 1128.69 Q117.566 1132.23 121.177 1132.23 Q124.811 1132.23 126.617 1128.69 Q128.445 1125.13 128.445 1118.02 Q128.445 1110.89 126.617 1107.35 Q124.811 1103.78 121.177 1103.78 M121.177 1100.08 Q126.987 1100.08 130.043 1104.69 Q133.121 1109.27 133.121 1118.02 Q133.121 1126.75 130.043 1131.35 Q126.987 1135.94 121.177 1135.94 Q115.367 1135.94 112.288 1131.35 Q109.233 1126.75 109.233 1118.02 Q109.233 1109.27 112.288 1104.69 Q115.367 1100.08 121.177 1100.08 Z\" fill=\"#000000\" fill-rule=\"evenodd\" fill-opacity=\"1\" /><path clip-path=\"url(#clip930)\" d=\"M 0 0 M51.6634 850.419 L59.3023 850.419 L59.3023 824.053 L50.9921 825.72 L50.9921 821.461 L59.256 819.794 L63.9319 819.794 L63.9319 850.419 L71.5707 850.419 L71.5707 854.354 L51.6634 854.354 L51.6634 850.419 Z\" fill=\"#000000\" fill-rule=\"evenodd\" fill-opacity=\"1\" /><path clip-path=\"url(#clip930)\" d=\"M 0 0 M85.0429 850.419 L101.362 850.419 L101.362 854.354 L79.4179 854.354 L79.4179 850.419 Q82.0799 847.664 86.6632 843.035 Q91.2697 838.382 92.4502 837.039 Q94.6956 834.516 95.5752 832.78 Q96.478 831.021 96.478 829.331 Q96.478 826.576 94.5336 824.84 Q92.6123 823.104 89.5104 823.104 Q87.3114 823.104 84.8577 823.868 Q82.4271 824.632 79.6494 826.183 L79.6494 821.461 Q82.4734 820.326 84.9271 819.748 Q87.3808 819.169 89.4178 819.169 Q94.7882 819.169 97.9826 821.854 Q101.177 824.539 101.177 829.03 Q101.177 831.16 100.367 833.081 Q99.5798 834.979 97.4734 837.572 Q96.8947 838.243 93.7928 841.46 Q90.691 844.655 85.0429 850.419 Z\" fill=\"#000000\" fill-rule=\"evenodd\" fill-opacity=\"1\" /><path clip-path=\"url(#clip930)\" d=\"M 0 0 M121.177 822.873 Q117.566 822.873 115.737 826.437 Q113.932 829.979 113.932 837.109 Q113.932 844.215 115.737 847.78 Q117.566 851.321 121.177 851.321 Q124.811 851.321 126.617 847.78 Q128.445 844.215 128.445 837.109 Q128.445 829.979 126.617 826.437 Q124.811 822.873 121.177 822.873 M121.177 819.169 Q126.987 819.169 130.043 823.775 Q133.121 828.359 133.121 837.109 Q133.121 845.835 130.043 850.442 Q126.987 855.025 121.177 855.025 Q115.367 855.025 112.288 850.442 Q109.233 845.835 109.233 837.109 Q109.233 828.359 112.288 823.775 Q115.367 819.169 121.177 819.169 Z\" fill=\"#000000\" fill-rule=\"evenodd\" fill-opacity=\"1\" /><path clip-path=\"url(#clip930)\" d=\"M 0 0 M51.6634 569.507 L59.3023 569.507 L59.3023 543.142 L50.9921 544.808 L50.9921 540.549 L59.256 538.882 L63.9319 538.882 L63.9319 569.507 L71.5707 569.507 L71.5707 573.442 L51.6634 573.442 L51.6634 569.507 Z\" fill=\"#000000\" fill-rule=\"evenodd\" fill-opacity=\"1\" /><path clip-path=\"url(#clip930)\" d=\"M 0 0 M81.0614 538.882 L99.4178 538.882 L99.4178 542.817 L85.3438 542.817 L85.3438 551.29 Q86.3623 550.942 87.3808 550.78 Q88.3993 550.595 89.4178 550.595 Q95.2049 550.595 98.5845 553.766 Q101.964 556.938 101.964 562.354 Q101.964 567.933 98.4919 571.035 Q95.0197 574.114 88.7003 574.114 Q86.5243 574.114 84.2558 573.743 Q82.0105 573.373 79.6031 572.632 L79.6031 567.933 Q81.6864 569.067 83.9086 569.623 Q86.1308 570.178 88.6077 570.178 Q92.6123 570.178 94.9502 568.072 Q97.2882 565.965 97.2882 562.354 Q97.2882 558.743 94.9502 556.637 Q92.6123 554.53 88.6077 554.53 Q86.7327 554.53 84.8577 554.947 Q83.0058 555.364 81.0614 556.243 L81.0614 538.882 Z\" fill=\"#000000\" fill-rule=\"evenodd\" fill-opacity=\"1\" /><path clip-path=\"url(#clip930)\" d=\"M 0 0 M121.177 541.961 Q117.566 541.961 115.737 545.526 Q113.932 549.067 113.932 556.197 Q113.932 563.303 115.737 566.868 Q117.566 570.41 121.177 570.41 Q124.811 570.41 126.617 566.868 Q128.445 563.303 128.445 556.197 Q128.445 549.067 126.617 545.526 Q124.811 541.961 121.177 541.961 M121.177 538.257 Q126.987 538.257 130.043 542.864 Q133.121 547.447 133.121 556.197 Q133.121 564.924 130.043 569.53 Q126.987 574.114 121.177 574.114 Q115.367 574.114 112.288 569.53 Q109.233 564.924 109.233 556.197 Q109.233 547.447 112.288 542.864 Q115.367 538.257 121.177 538.257 Z\" fill=\"#000000\" fill-rule=\"evenodd\" fill-opacity=\"1\" /><path clip-path=\"url(#clip930)\" d=\"M 0 0 M51.6634 288.596 L59.3023 288.596 L59.3023 262.23 L50.9921 263.897 L50.9921 259.637 L59.256 257.971 L63.9319 257.971 L63.9319 288.596 L71.5707 288.596 L71.5707 292.531 L51.6634 292.531 L51.6634 288.596 Z\" fill=\"#000000\" fill-rule=\"evenodd\" fill-opacity=\"1\" /><path clip-path=\"url(#clip930)\" d=\"M 0 0 M91.0151 276.119 Q87.6817 276.119 85.7605 277.901 Q83.8623 279.684 83.8623 282.809 Q83.8623 285.933 85.7605 287.716 Q87.6817 289.498 91.0151 289.498 Q94.3484 289.498 96.2697 287.716 Q98.1909 285.91 98.1909 282.809 Q98.1909 279.684 96.2697 277.901 Q94.3715 276.119 91.0151 276.119 M86.3392 274.128 Q83.3299 273.387 81.6401 271.327 Q79.9735 269.267 79.9735 266.304 Q79.9735 262.16 82.9133 259.753 Q85.8762 257.346 91.0151 257.346 Q96.1771 257.346 99.1169 259.753 Q102.057 262.16 102.057 266.304 Q102.057 269.267 100.367 271.327 Q98.7002 273.387 95.7141 274.128 Q99.0937 274.915 100.969 277.207 Q102.867 279.498 102.867 282.809 Q102.867 287.832 99.7882 290.517 Q96.7326 293.202 91.0151 293.202 Q85.2975 293.202 82.2188 290.517 Q79.1633 287.832 79.1633 282.809 Q79.1633 279.498 81.0614 277.207 Q82.9595 274.915 86.3392 274.128 M84.6262 266.744 Q84.6262 269.429 86.2929 270.934 Q87.9827 272.438 91.0151 272.438 Q94.0243 272.438 95.7141 270.934 Q97.4271 269.429 97.4271 266.744 Q97.4271 264.059 95.7141 262.554 Q94.0243 261.049 91.0151 261.049 Q87.9827 261.049 86.2929 262.554 Q84.6262 264.059 84.6262 266.744 Z\" fill=\"#000000\" fill-rule=\"evenodd\" fill-opacity=\"1\" /><path clip-path=\"url(#clip930)\" d=\"M 0 0 M121.177 261.049 Q117.566 261.049 115.737 264.614 Q113.932 268.156 113.932 275.285 Q113.932 282.392 115.737 285.957 Q117.566 289.498 121.177 289.498 Q124.811 289.498 126.617 285.957 Q128.445 282.392 128.445 275.285 Q128.445 268.156 126.617 264.614 Q124.811 261.049 121.177 261.049 M121.177 257.346 Q126.987 257.346 130.043 261.952 Q133.121 266.535 133.121 275.285 Q133.121 284.012 130.043 288.619 Q126.987 293.202 121.177 293.202 Q115.367 293.202 112.288 288.619 Q109.233 284.012 109.233 275.285 Q109.233 266.535 112.288 261.952 Q115.367 257.346 121.177 257.346 Z\" fill=\"#000000\" fill-rule=\"evenodd\" fill-opacity=\"1\" /><polyline clip-path=\"url(#clip932)\" style=\"stroke:#009af9; stroke-width:4; stroke-opacity:1; fill:none\" points=\"\n",
       "  230.922,1445.72 272.964,1146.08 315.005,1146.08 357.047,1146.08 399.088,284.614 441.13,284.614 483.171,87.9763 525.213,87.9763 567.254,87.9763 609.296,87.9763 \n",
       "  651.337,87.9763 693.379,87.9763 735.42,87.9763 777.462,87.9763 819.503,87.9763 861.545,87.9763 903.586,87.9763 945.627,87.9763 987.669,87.9763 1029.71,87.9763 \n",
       "  1071.75,87.9763 1113.79,87.9763 1155.83,87.9763 1197.88,87.9763 1239.92,87.9763 1281.96,87.9763 1324,87.9763 1366.04,87.9763 1408.08,87.9763 1450.13,87.9763 \n",
       "  1492.17,87.9763 1534.21,87.9763 1576.25,87.9763 1618.29,87.9763 1660.33,87.9763 1702.37,87.9763 1744.42,87.9763 1786.46,87.9763 1828.5,87.9763 1870.54,87.9763 \n",
       "  1912.58,87.9763 1954.62,87.9763 1996.66,87.9763 2038.71,87.9763 2080.75,87.9763 2122.79,87.9763 2164.83,87.9763 2206.87,87.9763 2248.91,87.9763 2290.95,87.9763 \n",
       "  \n",
       "  \"/>\n",
       "<path clip-path=\"url(#clip930)\" d=\"\n",
       "M1984.91 216.178 L2279.97 216.178 L2279.97 95.2176 L1984.91 95.2176  Z\n",
       "  \" fill=\"#ffffff\" fill-rule=\"evenodd\" fill-opacity=\"1\"/>\n",
       "<polyline clip-path=\"url(#clip930)\" style=\"stroke:#000000; stroke-width:4; stroke-opacity:1; fill:none\" points=\"\n",
       "  1984.91,216.178 2279.97,216.178 2279.97,95.2176 1984.91,95.2176 1984.91,216.178 \n",
       "  \"/>\n",
       "<polyline clip-path=\"url(#clip930)\" style=\"stroke:#009af9; stroke-width:4; stroke-opacity:1; fill:none\" points=\"\n",
       "  2009.17,155.698 2154.75,155.698 \n",
       "  \"/>\n",
       "<path clip-path=\"url(#clip930)\" d=\"M 0 0 M2192.86 175.385 Q2191.05 180.015 2189.34 181.427 Q2187.62 182.839 2184.75 182.839 L2181.35 182.839 L2181.35 179.274 L2183.85 179.274 Q2185.61 179.274 2186.58 178.44 Q2187.55 177.607 2188.73 174.505 L2189.5 172.561 L2179.01 147.052 L2183.53 147.052 L2191.63 167.329 L2199.73 147.052 L2204.24 147.052 L2192.86 175.385 Z\" fill=\"#000000\" fill-rule=\"evenodd\" fill-opacity=\"1\" /><path clip-path=\"url(#clip930)\" d=\"M 0 0 M2211.54 169.042 L2219.17 169.042 L2219.17 142.677 L2210.86 144.343 L2210.86 140.084 L2219.13 138.418 L2223.8 138.418 L2223.8 169.042 L2231.44 169.042 L2231.44 172.978 L2211.54 172.978 L2211.54 169.042 Z\" fill=\"#000000\" fill-rule=\"evenodd\" fill-opacity=\"1\" /></svg>\n"
      ]
     },
     "execution_count": 28,
     "metadata": {},
     "output_type": "execute_result"
    }
   ],
   "source": [
    "fits, expert = ES(layers, 50, play_cartpole, 5)\n",
    "plot(fits)"
   ]
  },
  {
   "cell_type": "code",
   "execution_count": 98,
   "id": "5e3faf9b",
   "metadata": {},
   "outputs": [
    {
     "data": {
      "text/plain": [
       "200.0"
      ]
     },
     "execution_count": 98,
     "metadata": {},
     "output_type": "execute_result"
    }
   ],
   "source": [
    "play_cartpole(expert, true)"
   ]
  }
 ],
 "metadata": {
  "celltoolbar": "Diaporama",
  "kernelspec": {
   "display_name": "Julia 1.6.0",
   "language": "julia",
   "name": "julia-1.6"
  },
  "language_info": {
   "file_extension": ".jl",
   "mimetype": "application/julia",
   "name": "julia",
   "version": "1.6.0"
  }
 },
 "nbformat": 4,
 "nbformat_minor": 5
}
