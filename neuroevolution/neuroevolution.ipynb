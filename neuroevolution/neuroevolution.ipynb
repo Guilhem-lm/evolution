{
 "cells": [
  {
   "cell_type": "markdown",
   "id": "aa744f2c",
   "metadata": {
    "slideshow": {
     "slide_type": "slide"
    }
   },
   "source": [
    "# <center> EVOLUTIONARY COMPUTATION \n",
    "## <center> EVOLUTION OF NEURAL NETWORKS\n",
    "<center>\n",
    "<img src=\"../imgs/logo.png\" width=\"30%\"></center>"
   ]
  },
  {
   "cell_type": "markdown",
   "id": "4b85de1f",
   "metadata": {},
   "source": [
    "<center> Paul Templier - paul.templier@isae-supaero.fr"
   ]
  },
  {
   "cell_type": "markdown",
   "id": "broken-charleston",
   "metadata": {
    "slideshow": {
     "slide_type": "slide"
    }
   },
   "source": [
    "## Motivation"
   ]
  },
  {
   "cell_type": "markdown",
   "id": "polish-validation",
   "metadata": {
    "cell_style": "center"
   },
   "source": [
    "<center><img src=\"../imgs/agent_representations.png\" width=\"50%\">\n",
    "\n",
    "<!-- $\\pi: s\\rightarrow a$ -->"
   ]
  },
  {
   "cell_type": "markdown",
   "id": "amended-cologne",
   "metadata": {
    "cell_style": "center",
    "slideshow": {
     "slide_type": "subslide"
    }
   },
   "source": [
    "## Evolution of neural networks\n",
    "\n",
    "<center><img src=\"../imgs/intro_neuroevolution.png\" width=\"50%\">\n",
    "\n",
    "*Miikkulainen, Risto. \"Evolution of neural networks.\" Proceedings of the Genetic and Evolutionary Computation Conference Companion. 2017*"
   ]
  },
  {
   "cell_type": "markdown",
   "id": "gross-lafayette",
   "metadata": {
    "slideshow": {
     "slide_type": "slide"
    }
   },
   "source": [
    "## Neural Networks"
   ]
  },
  {
   "cell_type": "markdown",
   "id": "legal-prototype",
   "metadata": {},
   "source": [
    "### Neuron model\n",
    "<center><img src=\"../imgs/neuron.jpg\" width=\"50%\">\n"
   ]
  },
  {
   "cell_type": "markdown",
   "id": "miniature-township",
   "metadata": {
    "slideshow": {
     "slide_type": "subslide"
    }
   },
   "source": [
    "### Artificial neuron\n",
    "\n",
    "<center><img src=\"../imgs/neuron_model.jpeg\" width=\"50%\">\n",
    "\n",
    "<center>cs231n.github.io\n",
    "\n",
    "<!-- $f(\\sum_{i}{w_i x_i} +b)$ -->\n",
    "\n",
    "$w_i$: weights  \n",
    "$x_i$: output of previous neurons  \n",
    "$b$: bias  \n",
    "$f$: activation function to break linearity \n",
    "\n",
    "\n"
   ]
  },
  {
   "cell_type": "markdown",
   "id": "2832487f",
   "metadata": {
    "slideshow": {
     "slide_type": "subslide"
    }
   },
   "source": [
    "### Artificial Neural Network\n",
    "<center><img src=\"../imgs/neural_network.png\" width=\"50%\">\n",
    "    \n",
    "    \n",
    "$(y_1 ... y_n) = F(x_1 ... x_m)$\n",
    "    \n",
    "    \n",
    "*Source: https://medium.com/swlh/neural-networks-4b6f719f9d75*"
   ]
  },
  {
   "cell_type": "markdown",
   "id": "initial-railway",
   "metadata": {
    "cell_style": "center",
    "slideshow": {
     "slide_type": "slide"
    }
   },
   "source": [
    "## <center> Exercise </center>\n",
    "<br>  \n",
    "<center> Break into groups and discuss: </center>\n",
    "<br>\n",
    "<center>What do we need in the genome to optimize a neural network? How would you encode it? </center>\n",
    "<br>\n",
    "<center>Can you find mutation and crossover operators on your encoding?</center>"
   ]
  },
  {
   "cell_type": "markdown",
   "id": "structured-winning",
   "metadata": {
    "slideshow": {
     "slide_type": "slide"
    }
   },
   "source": [
    "# <center> NEUROEVOLUTION </center>"
   ]
  },
  {
   "cell_type": "markdown",
   "id": "closing-australia",
   "metadata": {
    "cell_style": "split",
    "slideshow": {
     "slide_type": "-"
    }
   },
   "source": [
    "<center><img src=\"../imgs/cellular_encoding.png\" width=\"60%\">\n",
    "\n",
    "Gruau, Frederic, and Darrell Whitley. \"Adding learning to the cellular development of neural networks: Evolution and the Baldwin effect.\" Evolutionary computation 1.3 (1993): 213-233. "
   ]
  },
  {
   "cell_type": "markdown",
   "id": "weird-conspiracy",
   "metadata": {
    "cell_style": "split"
   },
   "source": [
    "<center><img src=\"../imgs/barr.png\" width=\"50%\">\n",
    "\n",
    "Fleischer, Kurt, and Alan H. Barr. \"A simulation testbed for the study of multicellular development: The multiple mechanisms of morphogenesis.\" 1994 "
   ]
  },
  {
   "cell_type": "markdown",
   "id": "reliable-abortion",
   "metadata": {
    "slideshow": {
     "slide_type": "subslide"
    }
   },
   "source": [
    "# <center> NeuroEvolution of Augmenting Topologies (NEAT) </center>"
   ]
  },
  {
   "cell_type": "markdown",
   "id": "final-hybrid",
   "metadata": {
    "cell_style": "center"
   },
   "source": [
    "<center><img src=\"../imgs/neat_encoding.png\" width=\"60%\">\n",
    "        \n",
    "Stanley, Kenneth O., and Risto Miikkulainen. \"Evolving neural networks through augmenting topologies.\" Evolutionary computation 10.2 (2002): 99-127 "
   ]
  },
  {
   "cell_type": "markdown",
   "id": "silver-infection",
   "metadata": {},
   "source": [
    "    \n",
    "Stanley, Kenneth O., and Risto Miikkulainen. \"Evolving neural networks through augmenting topologies.\" Evolutionary computation 10.2 (2002): 99-127 "
   ]
  },
  {
   "cell_type": "markdown",
   "id": "fitted-centre",
   "metadata": {
    "slideshow": {
     "slide_type": "subslide"
    }
   },
   "source": [
    "# <center> NEUROEVOLUTION: FIXED ARCHITECTURE </center>\n",
    "\n",
    "<center><img src=\"../imgs/ne_basics.png\" width=\"50%\">\n",
    "\n",
    "Miikkulainen, Risto. \"Evolution of neural networks.\" Proceedings of the Genetic and Evolutionary Computation Conference Companion. 2017. "
   ]
  },
  {
   "cell_type": "markdown",
   "id": "7f7cc9dc",
   "metadata": {
    "slideshow": {
     "slide_type": "subslide"
    }
   },
   "source": [
    "# <center> PROBLEMS WITH NEUROEVOLUTION </center>\n",
    "\n",
    "<center><img src=\"../imgs/ne_problems.png\" width=\"40%\">\n",
    "\n",
    "Miikkulainen, Risto. \"Evolution of neural networks.\" Proceedings of the Genetic and Evolutionary Computation Conference Companion. 2017. "
   ]
  },
  {
   "cell_type": "markdown",
   "id": "5dc2e085",
   "metadata": {
    "slideshow": {
     "slide_type": "slide"
    }
   },
   "source": [
    "# <center> INDIRECT ENCODING </center>\n",
    "\n",
    "<center><img src=\"../imgs/encoding.png\" width=\"50%\">\n",
    "    \n"
   ]
  },
  {
   "cell_type": "markdown",
   "id": "27eb7a98",
   "metadata": {
    "slideshow": {
     "slide_type": "subslide"
    }
   },
   "source": [
    "# <center> HyperNEAT </center>\n",
    "\n",
    "<center><img src=\"../imgs/indirect_hyperneat.png\" width=\"50%\">\n",
    "\n",
    "<center><img src=\"../imgs/hyperneat.png\" width=\"50%\">\n",
    "    \n",
    "Stanley, Kenneth O.; D'Ambrosio, David B.; Gauci, Jason (2009-01-14). \"A Hypercube-Based Encoding for Evolving Large-Scale Neural Networks\". Artificial Life journal 15(2), Cambridge, MA: MIT Press, 2009"
   ]
  },
  {
   "cell_type": "markdown",
   "id": "c1b3a847",
   "metadata": {
    "slideshow": {
     "slide_type": "subslide"
    }
   },
   "source": [
    "# <center> GENE: Geometric Encoding for NeuroEvolution </center>\n",
    "\n",
    "<center><img src=\"../imgs/indirect_transform.png\" width=\"50%\">\n",
    "   "
   ]
  },
  {
   "cell_type": "markdown",
   "id": "50dfcf11",
   "metadata": {
    "cell_style": "split"
   },
   "source": [
    "<center><img src=\"../imgs/coordsnet_coordinates.png\" width=\"40%\">"
   ]
  },
  {
   "cell_type": "markdown",
   "id": "a6bff363",
   "metadata": {
    "cell_style": "split"
   },
   "source": [
    "<center><img src=\"../imgs/coordsnet_graph.png\" width=\"50%\">"
   ]
  },
  {
   "cell_type": "markdown",
   "id": "89a296ae",
   "metadata": {},
   "source": [
    "*Paul Templier, Emmanuel Rachelson, and Dennis G. Wilson. 2021. A Geometric Encoding for Neural Network Evolution. In 2021 Genetic and Evolutionary Computation Conference (GECCO ’21), July 10–14, 2021, Lille, France. ACM, New York, NY, USA, 9 pages. https://doi.org/10.1145/3449639.3459361*"
   ]
  },
  {
   "cell_type": "markdown",
   "id": "803f40bd",
   "metadata": {
    "slideshow": {
     "slide_type": "slide"
    }
   },
   "source": [
    "# Notebook"
   ]
  },
  {
   "cell_type": "code",
   "execution_count": 4,
   "id": "legislative-touch",
   "metadata": {
    "slideshow": {
     "slide_type": "-"
    }
   },
   "outputs": [
    {
     "name": "stderr",
     "output_type": "stream",
     "text": [
      "\u001b[32m\u001b[1m   Resolving\u001b[22m\u001b[39m package versions...\n",
      "\u001b[32m\u001b[1m  No Changes\u001b[22m\u001b[39m to `~/.julia/environments/v1.6/Project.toml`\n",
      "\u001b[32m\u001b[1m  No Changes\u001b[22m\u001b[39m to `~/.julia/environments/v1.6/Manifest.toml`\n"
     ]
    }
   ],
   "source": [
    "using Pkg\n",
    "pkg\"add PyCall Flux Plots Random Statistics ArcadeLearningEnvironment Reel Images ImageView\""
   ]
  },
  {
   "cell_type": "code",
   "execution_count": 5,
   "id": "center-exposure",
   "metadata": {
    "slideshow": {
     "slide_type": "-"
    }
   },
   "outputs": [],
   "source": [
    "using PyCall\n",
    "using Flux\n",
    "using Plots\n",
    "using Random\n",
    "using Statistics"
   ]
  },
  {
   "cell_type": "code",
   "execution_count": 6,
   "id": "portable-future",
   "metadata": {},
   "outputs": [
    {
     "data": {
      "text/plain": [
       "PyObject <module 'gym' from '/home/guilhem/.local/lib/python3.6/site-packages/gym/__init__.py'>"
      ]
     },
     "execution_count": 6,
     "metadata": {},
     "output_type": "execute_result"
    }
   ],
   "source": [
    "gym = pyimport(\"gym\")"
   ]
  },
  {
   "cell_type": "markdown",
   "id": "friendly-staff",
   "metadata": {
    "slideshow": {
     "slide_type": "subslide"
    }
   },
   "source": [
    "## Gym CartPole\n",
    "\n",
    "<img src=\"../imgs/cartpole.gif\" width=\"50%\">\n",
    "\n",
    "https://github.com/adibyte95/CartPole-OpenAI-GYM/blob/master/gif%20images/reinforcement-gif.gif"
   ]
  },
  {
   "cell_type": "code",
   "execution_count": 7,
   "id": "happy-method",
   "metadata": {
    "cell_style": "center",
    "slideshow": {
     "slide_type": "subslide"
    }
   },
   "outputs": [
    {
     "data": {
      "text/plain": [
       "Individual"
      ]
     },
     "execution_count": 7,
     "metadata": {},
     "output_type": "execute_result"
    }
   ],
   "source": [
    "mutable struct Individual\n",
    "    genes::Array{Float64}\n",
    "    fitness::Float64\n",
    "    layers::Array{Int64}\n",
    "    model\n",
    "end\n",
    "\n",
    "function Individual(layers::Array, genes::Array{Float64})\n",
    "    model = make_network(layers)\n",
    "    \n",
    "    ind = Individual(genes, -Inf, layers, model)\n",
    "    \n",
    "    set_weights!(ind) \n",
    "    ind\n",
    "end\n",
    "\n",
    "function Individual(layers::Array)\n",
    "    model = make_network(layers)\n",
    "    \n",
    "    param_lengths = [length(p) for p in params(model)]\n",
    "    genes = rand(sum(param_lengths))\n",
    "    \n",
    "    ind = Individual(genes, -Inf, layers, model)\n",
    "    set_weights!(ind)  \n",
    "    ind\n",
    "end"
   ]
  },
  {
   "cell_type": "code",
   "execution_count": 8,
   "id": "voluntary-communist",
   "metadata": {
    "cell_style": "center",
    "slideshow": {
     "slide_type": "subslide"
    }
   },
   "outputs": [
    {
     "data": {
      "text/plain": [
       "mutate (generic function with 1 method)"
      ]
     },
     "execution_count": 8,
     "metadata": {},
     "output_type": "execute_result"
    }
   ],
   "source": [
    "function set_weights!(ind::Individual)    \n",
    "    start = 1\n",
    "    for p in params(ind.model)\n",
    "        p = reshape(ind.genes[start:(start+length(p)-1)], size(p))\n",
    "        start += length(p)\n",
    "    end\n",
    "    ind\n",
    "end\n",
    "\n",
    "function make_network(layers::Array)\n",
    "    l = []\n",
    "    for i in 1:length(layers)-1\n",
    "        d = Dense(layers[i], layers[i+1], Flux.relu)\n",
    "        push!(l, d)\n",
    "    end\n",
    "    Chain(l...)\n",
    "end\n",
    "\n",
    "function mutate(ind::Individual; \n",
    "    mutation_rate::Float64=1.0/length(ind.genes))\n",
    "    new_genes = copy(ind.genes)\n",
    "    for i in eachindex(new_genes)\n",
    "        if rand() < mutation_rate\n",
    "            new_genes[i] = rand()\n",
    "        end\n",
    "    end\n",
    "    Individual(ind.layers, new_genes)\n",
    "end"
   ]
  },
  {
   "cell_type": "markdown",
   "id": "phantom-amino",
   "metadata": {
    "slideshow": {
     "slide_type": "subslide"
    }
   },
   "source": [
    "## Cartpole"
   ]
  },
  {
   "cell_type": "code",
   "execution_count": 9,
   "id": "included-merit",
   "metadata": {},
   "outputs": [
    {
     "data": {
      "text/plain": [
       "evaluate! (generic function with 1 method)"
      ]
     },
     "execution_count": 9,
     "metadata": {},
     "output_type": "execute_result"
    }
   ],
   "source": [
    "function play_cartpole(ind::Individual, render=false)\n",
    "    env_name=\"CartPole-v1\"\n",
    "    env = gym.make(env_name)\n",
    "    env.seed(0)\n",
    "    obs = env.reset()\n",
    "    total_reward = 0.0\n",
    "    done = false\n",
    "    for i in 1:200\n",
    "        action = ind.model(obs)\n",
    "        action = argmax(action) - 1\n",
    "        \n",
    "        obs, reward, done, _ = env.step(action)\n",
    "        if render\n",
    "            env.render(mode=\"human\")\n",
    "        end\n",
    "        total_reward += reward\n",
    "    end\n",
    "    env.close()\n",
    "    total_reward\n",
    "end\n",
    "\n",
    "function evaluate!(ind::Individual, objective::Function)\n",
    "    ind.fitness = objective(ind)\n",
    "end"
   ]
  },
  {
   "cell_type": "code",
   "execution_count": 10,
   "id": "acting-windows",
   "metadata": {
    "slideshow": {
     "slide_type": "-"
    }
   },
   "outputs": [
    {
     "data": {
      "text/plain": [
       "2299"
      ]
     },
     "execution_count": 10,
     "metadata": {},
     "output_type": "execute_result"
    }
   ],
   "source": [
    "layers = [4, 16, 16, 2]\n",
    "ind = Individual(layers)\n",
    "n = length(ind.genes)\n",
    "n_gens = Int(round(n * log(n)))"
   ]
  },
  {
   "cell_type": "code",
   "execution_count": 11,
   "id": "durable-means",
   "metadata": {
    "scrolled": false,
    "slideshow": {
     "slide_type": "subslide"
    }
   },
   "outputs": [
    {
     "ename": "LoadError",
     "evalue": "UndefVarError: one_plus_one not defined",
     "output_type": "error",
     "traceback": [
      "UndefVarError: one_plus_one not defined",
      "",
      "Stacktrace:",
      " [1] top-level scope",
      "   @ In[11]:1",
      " [2] eval",
      "   @ ./boot.jl:360 [inlined]",
      " [3] include_string(mapexpr::typeof(REPL.softscope), mod::Module, code::String, filename::String)",
      "   @ Base ./loading.jl:1094"
     ]
    }
   ],
   "source": [
    "fits, parent = one_plus_one(layers, n_gens, play_cartpole)\n",
    "plot(fits)"
   ]
  },
  {
   "cell_type": "markdown",
   "id": "animal-silicon",
   "metadata": {
    "slideshow": {
     "slide_type": "subslide"
    }
   },
   "source": [
    "## 1+$\\lambda$ EA"
   ]
  },
  {
   "cell_type": "code",
   "execution_count": 12,
   "id": "32d7d5d4",
   "metadata": {},
   "outputs": [
    {
     "data": {
      "text/plain": [
       "one_plus_lambda (generic function with 1 method)"
      ]
     },
     "execution_count": 12,
     "metadata": {},
     "output_type": "execute_result"
    }
   ],
   "source": [
    "function one_plus_lambda(layers::Array, num_generations::Int, f::Function, 𝜆::Int)\n",
    "\n",
    "    fits = zeros(num_generations)\n",
    "    expert = Individual(layers::Array)\n",
    "    evaluate!(expert, f)\n",
    "\n",
    "    for i in eachindex(fits)\n",
    "        population = Array{Individual}(undef, 𝜆)\n",
    "        best = 1\n",
    "        for j in eachindex(population)\n",
    "            population[j] = mutate(expert)\n",
    "            evaluate!(population[j], f)\n",
    "            if population[j].fitness > population[best].fitness\n",
    "                best = j\n",
    "            end\n",
    "        end\n",
    "\n",
    "        if population[best].fitness >= expert.fitness\n",
    "            expert = population[best]\n",
    "        end\n",
    "\n",
    "        fits[i] = expert.fitness\n",
    "        print(i, \"/\",  num_generations, \" > \", expert.fitness, \"\\t\\t\\r\")\n",
    "    end\n",
    "    fits, expert\n",
    "end\n"
   ]
  },
  {
   "cell_type": "code",
   "execution_count": 13,
   "id": "41365571",
   "metadata": {
    "scrolled": true,
    "slideshow": {
     "slide_type": "subslide"
    }
   },
   "outputs": [
    {
     "data": {
      "text/plain": [
       "460"
      ]
     },
     "execution_count": 13,
     "metadata": {},
     "output_type": "execute_result"
    }
   ],
   "source": [
    "𝜆=5\n",
    "layers = [4, 16, 16, 2]\n",
    "ind = Individual(layers)\n",
    "n = length(ind.genes)\n",
    "n_gens = Int(round(n * log(n) / 𝜆))"
   ]
  },
  {
   "cell_type": "code",
   "execution_count": 17,
   "id": "clinical-illinois",
   "metadata": {
    "slideshow": {
     "slide_type": "-"
    }
   },
   "outputs": [
    {
     "name": "stdout",
     "output_type": "stream",
     "text": [
      "460/460 > 200.0\t\t\r"
     ]
    },
    {
     "data": {
      "image/svg+xml": [
       "<?xml version=\"1.0\" encoding=\"utf-8\"?>\n",
       "<svg xmlns=\"http://www.w3.org/2000/svg\" xmlns:xlink=\"http://www.w3.org/1999/xlink\" width=\"600\" height=\"400\" viewBox=\"0 0 2400 1600\">\n",
       "<defs>\n",
       "  <clipPath id=\"clip3400\">\n",
       "    <rect x=\"0\" y=\"0\" width=\"2400\" height=\"1600\"/>\n",
       "  </clipPath>\n",
       "</defs>\n",
       "<path clip-path=\"url(#clip3400)\" d=\"\n",
       "M0 1600 L2400 1600 L2400 0 L0 0  Z\n",
       "  \" fill=\"#ffffff\" fill-rule=\"evenodd\" fill-opacity=\"1\"/>\n",
       "<defs>\n",
       "  <clipPath id=\"clip3401\">\n",
       "    <rect x=\"480\" y=\"0\" width=\"1681\" height=\"1600\"/>\n",
       "  </clipPath>\n",
       "</defs>\n",
       "<path clip-path=\"url(#clip3400)\" d=\"\n",
       "M162.964 1486.45 L2352.76 1486.45 L2352.76 47.2441 L162.964 47.2441  Z\n",
       "  \" fill=\"#ffffff\" fill-rule=\"evenodd\" fill-opacity=\"1\"/>\n",
       "<defs>\n",
       "  <clipPath id=\"clip3402\">\n",
       "    <rect x=\"162\" y=\"47\" width=\"2191\" height=\"1440\"/>\n",
       "  </clipPath>\n",
       "</defs>\n",
       "<polyline clip-path=\"url(#clip3402)\" style=\"stroke:#000000; stroke-width:2; stroke-opacity:0.1; fill:none\" points=\"\n",
       "  220.438,1486.45 220.438,47.2441 \n",
       "  \"/>\n",
       "<polyline clip-path=\"url(#clip3402)\" style=\"stroke:#000000; stroke-width:2; stroke-opacity:0.1; fill:none\" points=\"\n",
       "  670.513,1486.45 670.513,47.2441 \n",
       "  \"/>\n",
       "<polyline clip-path=\"url(#clip3402)\" style=\"stroke:#000000; stroke-width:2; stroke-opacity:0.1; fill:none\" points=\"\n",
       "  1120.59,1486.45 1120.59,47.2441 \n",
       "  \"/>\n",
       "<polyline clip-path=\"url(#clip3402)\" style=\"stroke:#000000; stroke-width:2; stroke-opacity:0.1; fill:none\" points=\"\n",
       "  1570.66,1486.45 1570.66,47.2441 \n",
       "  \"/>\n",
       "<polyline clip-path=\"url(#clip3402)\" style=\"stroke:#000000; stroke-width:2; stroke-opacity:0.1; fill:none\" points=\"\n",
       "  2020.74,1486.45 2020.74,47.2441 \n",
       "  \"/>\n",
       "<polyline clip-path=\"url(#clip3402)\" style=\"stroke:#000000; stroke-width:2; stroke-opacity:0.1; fill:none\" points=\"\n",
       "  162.964,1171.28 2352.76,1171.28 \n",
       "  \"/>\n",
       "<polyline clip-path=\"url(#clip3402)\" style=\"stroke:#000000; stroke-width:2; stroke-opacity:0.1; fill:none\" points=\"\n",
       "  162.964,810.178 2352.76,810.178 \n",
       "  \"/>\n",
       "<polyline clip-path=\"url(#clip3402)\" style=\"stroke:#000000; stroke-width:2; stroke-opacity:0.1; fill:none\" points=\"\n",
       "  162.964,449.077 2352.76,449.077 \n",
       "  \"/>\n",
       "<polyline clip-path=\"url(#clip3402)\" style=\"stroke:#000000; stroke-width:2; stroke-opacity:0.1; fill:none\" points=\"\n",
       "  162.964,87.9763 2352.76,87.9763 \n",
       "  \"/>\n",
       "<polyline clip-path=\"url(#clip3400)\" style=\"stroke:#000000; stroke-width:4; stroke-opacity:1; fill:none\" points=\"\n",
       "  162.964,1486.45 2352.76,1486.45 \n",
       "  \"/>\n",
       "<polyline clip-path=\"url(#clip3400)\" style=\"stroke:#000000; stroke-width:4; stroke-opacity:1; fill:none\" points=\"\n",
       "  162.964,1486.45 162.964,47.2441 \n",
       "  \"/>\n",
       "<polyline clip-path=\"url(#clip3400)\" style=\"stroke:#000000; stroke-width:4; stroke-opacity:1; fill:none\" points=\"\n",
       "  220.438,1486.45 220.438,1469.18 \n",
       "  \"/>\n",
       "<polyline clip-path=\"url(#clip3400)\" style=\"stroke:#000000; stroke-width:4; stroke-opacity:1; fill:none\" points=\"\n",
       "  670.513,1486.45 670.513,1469.18 \n",
       "  \"/>\n",
       "<polyline clip-path=\"url(#clip3400)\" style=\"stroke:#000000; stroke-width:4; stroke-opacity:1; fill:none\" points=\"\n",
       "  1120.59,1486.45 1120.59,1469.18 \n",
       "  \"/>\n",
       "<polyline clip-path=\"url(#clip3400)\" style=\"stroke:#000000; stroke-width:4; stroke-opacity:1; fill:none\" points=\"\n",
       "  1570.66,1486.45 1570.66,1469.18 \n",
       "  \"/>\n",
       "<polyline clip-path=\"url(#clip3400)\" style=\"stroke:#000000; stroke-width:4; stroke-opacity:1; fill:none\" points=\"\n",
       "  2020.74,1486.45 2020.74,1469.18 \n",
       "  \"/>\n",
       "<polyline clip-path=\"url(#clip3400)\" style=\"stroke:#000000; stroke-width:4; stroke-opacity:1; fill:none\" points=\"\n",
       "  162.964,1171.28 189.241,1171.28 \n",
       "  \"/>\n",
       "<polyline clip-path=\"url(#clip3400)\" style=\"stroke:#000000; stroke-width:4; stroke-opacity:1; fill:none\" points=\"\n",
       "  162.964,810.178 189.241,810.178 \n",
       "  \"/>\n",
       "<polyline clip-path=\"url(#clip3400)\" style=\"stroke:#000000; stroke-width:4; stroke-opacity:1; fill:none\" points=\"\n",
       "  162.964,449.077 189.241,449.077 \n",
       "  \"/>\n",
       "<polyline clip-path=\"url(#clip3400)\" style=\"stroke:#000000; stroke-width:4; stroke-opacity:1; fill:none\" points=\"\n",
       "  162.964,87.9763 189.241,87.9763 \n",
       "  \"/>\n",
       "<path clip-path=\"url(#clip3400)\" d=\"M 0 0 M220.438 1508.44 Q216.827 1508.44 214.999 1512 Q213.193 1515.55 213.193 1522.67 Q213.193 1529.78 214.999 1533.35 Q216.827 1536.89 220.438 1536.89 Q224.073 1536.89 225.878 1533.35 Q227.707 1529.78 227.707 1522.67 Q227.707 1515.55 225.878 1512 Q224.073 1508.44 220.438 1508.44 M220.438 1504.73 Q226.249 1504.73 229.304 1509.34 Q232.383 1513.92 232.383 1522.67 Q232.383 1531.4 229.304 1536.01 Q226.249 1540.59 220.438 1540.59 Q214.628 1540.59 211.55 1536.01 Q208.494 1531.4 208.494 1522.67 Q208.494 1513.92 211.55 1509.34 Q214.628 1504.73 220.438 1504.73 Z\" fill=\"#000000\" fill-rule=\"evenodd\" fill-opacity=\"1\" /><path clip-path=\"url(#clip3400)\" d=\"M 0 0 M633.881 1535.98 L641.52 1535.98 L641.52 1509.62 L633.21 1511.29 L633.21 1507.03 L641.474 1505.36 L646.15 1505.36 L646.15 1535.98 L653.788 1535.98 L653.788 1539.92 L633.881 1539.92 L633.881 1535.98 Z\" fill=\"#000000\" fill-rule=\"evenodd\" fill-opacity=\"1\" /><path clip-path=\"url(#clip3400)\" d=\"M 0 0 M668.858 1508.44 Q665.247 1508.44 663.418 1512 Q661.612 1515.55 661.612 1522.67 Q661.612 1529.78 663.418 1533.35 Q665.247 1536.89 668.858 1536.89 Q672.492 1536.89 674.298 1533.35 Q676.126 1529.78 676.126 1522.67 Q676.126 1515.55 674.298 1512 Q672.492 1508.44 668.858 1508.44 M668.858 1504.73 Q674.668 1504.73 677.723 1509.34 Q680.802 1513.92 680.802 1522.67 Q680.802 1531.4 677.723 1536.01 Q674.668 1540.59 668.858 1540.59 Q663.048 1540.59 659.969 1536.01 Q656.913 1531.4 656.913 1522.67 Q656.913 1513.92 659.969 1509.34 Q663.048 1504.73 668.858 1504.73 Z\" fill=\"#000000\" fill-rule=\"evenodd\" fill-opacity=\"1\" /><path clip-path=\"url(#clip3400)\" d=\"M 0 0 M695.871 1508.44 Q692.26 1508.44 690.432 1512 Q688.626 1515.55 688.626 1522.67 Q688.626 1529.78 690.432 1533.35 Q692.26 1536.89 695.871 1536.89 Q699.506 1536.89 701.311 1533.35 Q703.14 1529.78 703.14 1522.67 Q703.14 1515.55 701.311 1512 Q699.506 1508.44 695.871 1508.44 M695.871 1504.73 Q701.682 1504.73 704.737 1509.34 Q707.816 1513.92 707.816 1522.67 Q707.816 1531.4 704.737 1536.01 Q701.682 1540.59 695.871 1540.59 Q690.061 1540.59 686.983 1536.01 Q683.927 1531.4 683.927 1522.67 Q683.927 1513.92 686.983 1509.34 Q690.061 1504.73 695.871 1504.73 Z\" fill=\"#000000\" fill-rule=\"evenodd\" fill-opacity=\"1\" /><path clip-path=\"url(#clip3400)\" d=\"M 0 0 M1088.23 1535.98 L1104.55 1535.98 L1104.55 1539.92 L1082.6 1539.92 L1082.6 1535.98 Q1085.26 1533.23 1089.85 1528.6 Q1094.45 1523.95 1095.63 1522.61 Q1097.88 1520.08 1098.76 1518.35 Q1099.66 1516.59 1099.66 1514.9 Q1099.66 1512.14 1097.72 1510.41 Q1095.8 1508.67 1092.69 1508.67 Q1090.49 1508.67 1088.04 1509.43 Q1085.61 1510.2 1082.83 1511.75 L1082.83 1507.03 Q1085.66 1505.89 1088.11 1505.31 Q1090.56 1504.73 1092.6 1504.73 Q1097.97 1504.73 1101.17 1507.42 Q1104.36 1510.11 1104.36 1514.6 Q1104.36 1516.73 1103.55 1518.65 Q1102.76 1520.54 1100.66 1523.14 Q1100.08 1523.81 1096.98 1527.03 Q1093.87 1530.22 1088.23 1535.98 Z\" fill=\"#000000\" fill-rule=\"evenodd\" fill-opacity=\"1\" /><path clip-path=\"url(#clip3400)\" d=\"M 0 0 M1119.62 1508.44 Q1116 1508.44 1114.18 1512 Q1112.37 1515.55 1112.37 1522.67 Q1112.37 1529.78 1114.18 1533.35 Q1116 1536.89 1119.62 1536.89 Q1123.25 1536.89 1125.05 1533.35 Q1126.88 1529.78 1126.88 1522.67 Q1126.88 1515.55 1125.05 1512 Q1123.25 1508.44 1119.62 1508.44 M1119.62 1504.73 Q1125.43 1504.73 1128.48 1509.34 Q1131.56 1513.92 1131.56 1522.67 Q1131.56 1531.4 1128.48 1536.01 Q1125.43 1540.59 1119.62 1540.59 Q1113.8 1540.59 1110.73 1536.01 Q1107.67 1531.4 1107.67 1522.67 Q1107.67 1513.92 1110.73 1509.34 Q1113.8 1504.73 1119.62 1504.73 Z\" fill=\"#000000\" fill-rule=\"evenodd\" fill-opacity=\"1\" /><path clip-path=\"url(#clip3400)\" d=\"M 0 0 M1146.63 1508.44 Q1143.02 1508.44 1141.19 1512 Q1139.38 1515.55 1139.38 1522.67 Q1139.38 1529.78 1141.19 1533.35 Q1143.02 1536.89 1146.63 1536.89 Q1150.26 1536.89 1152.07 1533.35 Q1153.9 1529.78 1153.9 1522.67 Q1153.9 1515.55 1152.07 1512 Q1150.26 1508.44 1146.63 1508.44 M1146.63 1504.73 Q1152.44 1504.73 1155.49 1509.34 Q1158.57 1513.92 1158.57 1522.67 Q1158.57 1531.4 1155.49 1536.01 Q1152.44 1540.59 1146.63 1540.59 Q1140.82 1540.59 1137.74 1536.01 Q1134.68 1531.4 1134.68 1522.67 Q1134.68 1513.92 1137.74 1509.34 Q1140.82 1504.73 1146.63 1504.73 Z\" fill=\"#000000\" fill-rule=\"evenodd\" fill-opacity=\"1\" /><path clip-path=\"url(#clip3400)\" d=\"M 0 0 M1547.9 1521.29 Q1551.25 1522 1553.13 1524.27 Q1555.03 1526.54 1555.03 1529.87 Q1555.03 1534.99 1551.51 1537.79 Q1547.99 1540.59 1541.51 1540.59 Q1539.33 1540.59 1537.02 1540.15 Q1534.72 1539.73 1532.27 1538.88 L1532.27 1534.36 Q1534.22 1535.5 1536.53 1536.08 Q1538.84 1536.66 1541.37 1536.66 Q1545.77 1536.66 1548.06 1534.92 Q1550.37 1533.18 1550.37 1529.87 Q1550.37 1526.82 1548.22 1525.11 Q1546.09 1523.37 1542.27 1523.37 L1538.24 1523.37 L1538.24 1519.53 L1542.46 1519.53 Q1545.9 1519.53 1547.73 1518.16 Q1549.56 1516.77 1549.56 1514.18 Q1549.56 1511.52 1547.66 1510.11 Q1545.79 1508.67 1542.27 1508.67 Q1540.35 1508.67 1538.15 1509.09 Q1535.95 1509.5 1533.31 1510.38 L1533.31 1506.22 Q1535.97 1505.48 1538.29 1505.11 Q1540.63 1504.73 1542.69 1504.73 Q1548.01 1504.73 1551.11 1507.17 Q1554.21 1509.57 1554.21 1513.69 Q1554.21 1516.56 1552.57 1518.55 Q1550.93 1520.52 1547.9 1521.29 Z\" fill=\"#000000\" fill-rule=\"evenodd\" fill-opacity=\"1\" /><path clip-path=\"url(#clip3400)\" d=\"M 0 0 M1570.09 1508.44 Q1566.48 1508.44 1564.65 1512 Q1562.85 1515.55 1562.85 1522.67 Q1562.85 1529.78 1564.65 1533.35 Q1566.48 1536.89 1570.09 1536.89 Q1573.73 1536.89 1575.53 1533.35 Q1577.36 1529.78 1577.36 1522.67 Q1577.36 1515.55 1575.53 1512 Q1573.73 1508.44 1570.09 1508.44 M1570.09 1504.73 Q1575.9 1504.73 1578.96 1509.34 Q1582.04 1513.92 1582.04 1522.67 Q1582.04 1531.4 1578.96 1536.01 Q1575.9 1540.59 1570.09 1540.59 Q1564.28 1540.59 1561.21 1536.01 Q1558.15 1531.4 1558.15 1522.67 Q1558.15 1513.92 1561.21 1509.34 Q1564.28 1504.73 1570.09 1504.73 Z\" fill=\"#000000\" fill-rule=\"evenodd\" fill-opacity=\"1\" /><path clip-path=\"url(#clip3400)\" d=\"M 0 0 M1597.11 1508.44 Q1593.5 1508.44 1591.67 1512 Q1589.86 1515.55 1589.86 1522.67 Q1589.86 1529.78 1591.67 1533.35 Q1593.5 1536.89 1597.11 1536.89 Q1600.74 1536.89 1602.55 1533.35 Q1604.38 1529.78 1604.38 1522.67 Q1604.38 1515.55 1602.55 1512 Q1600.74 1508.44 1597.11 1508.44 M1597.11 1504.73 Q1602.92 1504.73 1605.97 1509.34 Q1609.05 1513.92 1609.05 1522.67 Q1609.05 1531.4 1605.97 1536.01 Q1602.92 1540.59 1597.11 1540.59 Q1591.3 1540.59 1588.22 1536.01 Q1585.16 1531.4 1585.16 1522.67 Q1585.16 1513.92 1588.22 1509.34 Q1591.3 1504.73 1597.11 1504.73 Z\" fill=\"#000000\" fill-rule=\"evenodd\" fill-opacity=\"1\" /><path clip-path=\"url(#clip3400)\" d=\"M 0 0 M1996.73 1509.43 L1984.93 1527.88 L1996.73 1527.88 L1996.73 1509.43 M1995.5 1505.36 L2001.38 1505.36 L2001.38 1527.88 L2006.31 1527.88 L2006.31 1531.77 L2001.38 1531.77 L2001.38 1539.92 L1996.73 1539.92 L1996.73 1531.77 L1981.13 1531.77 L1981.13 1527.26 L1995.5 1505.36 Z\" fill=\"#000000\" fill-rule=\"evenodd\" fill-opacity=\"1\" /><path clip-path=\"url(#clip3400)\" d=\"M 0 0 M2021.38 1508.44 Q2017.77 1508.44 2015.94 1512 Q2014.14 1515.55 2014.14 1522.67 Q2014.14 1529.78 2015.94 1533.35 Q2017.77 1536.89 2021.38 1536.89 Q2025.02 1536.89 2026.82 1533.35 Q2028.65 1529.78 2028.65 1522.67 Q2028.65 1515.55 2026.82 1512 Q2025.02 1508.44 2021.38 1508.44 M2021.38 1504.73 Q2027.19 1504.73 2030.25 1509.34 Q2033.33 1513.92 2033.33 1522.67 Q2033.33 1531.4 2030.25 1536.01 Q2027.19 1540.59 2021.38 1540.59 Q2015.57 1540.59 2012.5 1536.01 Q2009.44 1531.4 2009.44 1522.67 Q2009.44 1513.92 2012.5 1509.34 Q2015.57 1504.73 2021.38 1504.73 Z\" fill=\"#000000\" fill-rule=\"evenodd\" fill-opacity=\"1\" /><path clip-path=\"url(#clip3400)\" d=\"M 0 0 M2048.4 1508.44 Q2044.79 1508.44 2042.96 1512 Q2041.15 1515.55 2041.15 1522.67 Q2041.15 1529.78 2042.96 1533.35 Q2044.79 1536.89 2048.4 1536.89 Q2052.03 1536.89 2053.84 1533.35 Q2055.67 1529.78 2055.67 1522.67 Q2055.67 1515.55 2053.84 1512 Q2052.03 1508.44 2048.4 1508.44 M2048.4 1504.73 Q2054.21 1504.73 2057.26 1509.34 Q2060.34 1513.92 2060.34 1522.67 Q2060.34 1531.4 2057.26 1536.01 Q2054.21 1540.59 2048.4 1540.59 Q2042.59 1540.59 2039.51 1536.01 Q2036.45 1531.4 2036.45 1522.67 Q2036.45 1513.92 2039.51 1509.34 Q2042.59 1504.73 2048.4 1504.73 Z\" fill=\"#000000\" fill-rule=\"evenodd\" fill-opacity=\"1\" /><path clip-path=\"url(#clip3400)\" d=\"M 0 0 M91.0475 1154 L109.404 1154 L109.404 1157.93 L95.3299 1157.93 L95.3299 1166.41 Q96.3484 1166.06 97.3669 1165.9 Q98.3855 1165.71 99.404 1165.71 Q105.191 1165.71 108.571 1168.88 Q111.95 1172.05 111.95 1177.47 Q111.95 1183.05 108.478 1186.15 Q105.006 1189.23 98.6864 1189.23 Q96.5105 1189.23 94.242 1188.86 Q91.9966 1188.49 89.5892 1187.75 L89.5892 1183.05 Q91.6725 1184.18 93.8947 1184.74 Q96.1169 1185.3 98.5938 1185.3 Q102.598 1185.3 104.936 1183.19 Q107.274 1181.08 107.274 1177.47 Q107.274 1173.86 104.936 1171.75 Q102.598 1169.65 98.5938 1169.65 Q96.7188 1169.65 94.8438 1170.06 Q92.992 1170.48 91.0475 1171.36 L91.0475 1154 Z\" fill=\"#000000\" fill-rule=\"evenodd\" fill-opacity=\"1\" /><path clip-path=\"url(#clip3400)\" d=\"M 0 0 M127.02 1157.08 Q123.408 1157.08 121.58 1160.64 Q119.774 1164.18 119.774 1171.31 Q119.774 1178.42 121.58 1181.98 Q123.408 1185.53 127.02 1185.53 Q130.654 1185.53 132.459 1181.98 Q134.288 1178.42 134.288 1171.31 Q134.288 1164.18 132.459 1160.64 Q130.654 1157.08 127.02 1157.08 M127.02 1153.37 Q132.83 1153.37 135.885 1157.98 Q138.964 1162.56 138.964 1171.31 Q138.964 1180.04 135.885 1184.65 Q132.83 1189.23 127.02 1189.23 Q121.209 1189.23 118.131 1184.65 Q115.075 1180.04 115.075 1171.31 Q115.075 1162.56 118.131 1157.98 Q121.209 1153.37 127.02 1153.37 Z\" fill=\"#000000\" fill-rule=\"evenodd\" fill-opacity=\"1\" /><path clip-path=\"url(#clip3400)\" d=\"M 0 0 M65.0292 823.523 L72.668 823.523 L72.668 797.157 L64.3579 798.824 L64.3579 794.565 L72.6217 792.898 L77.2976 792.898 L77.2976 823.523 L84.9365 823.523 L84.9365 827.458 L65.0292 827.458 L65.0292 823.523 Z\" fill=\"#000000\" fill-rule=\"evenodd\" fill-opacity=\"1\" /><path clip-path=\"url(#clip3400)\" d=\"M 0 0 M100.006 795.977 Q96.3947 795.977 94.566 799.542 Q92.7605 803.083 92.7605 810.213 Q92.7605 817.319 94.566 820.884 Q96.3947 824.426 100.006 824.426 Q103.64 824.426 105.446 820.884 Q107.274 817.319 107.274 810.213 Q107.274 803.083 105.446 799.542 Q103.64 795.977 100.006 795.977 M100.006 792.273 Q105.816 792.273 108.872 796.88 Q111.95 801.463 111.95 810.213 Q111.95 818.94 108.872 823.546 Q105.816 828.129 100.006 828.129 Q94.1957 828.129 91.117 823.546 Q88.0614 818.94 88.0614 810.213 Q88.0614 801.463 91.117 796.88 Q94.1957 792.273 100.006 792.273 Z\" fill=\"#000000\" fill-rule=\"evenodd\" fill-opacity=\"1\" /><path clip-path=\"url(#clip3400)\" d=\"M 0 0 M127.02 795.977 Q123.408 795.977 121.58 799.542 Q119.774 803.083 119.774 810.213 Q119.774 817.319 121.58 820.884 Q123.408 824.426 127.02 824.426 Q130.654 824.426 132.459 820.884 Q134.288 817.319 134.288 810.213 Q134.288 803.083 132.459 799.542 Q130.654 795.977 127.02 795.977 M127.02 792.273 Q132.83 792.273 135.885 796.88 Q138.964 801.463 138.964 810.213 Q138.964 818.94 135.885 823.546 Q132.83 828.129 127.02 828.129 Q121.209 828.129 118.131 823.546 Q115.075 818.94 115.075 810.213 Q115.075 801.463 118.131 796.88 Q121.209 792.273 127.02 792.273 Z\" fill=\"#000000\" fill-rule=\"evenodd\" fill-opacity=\"1\" /><path clip-path=\"url(#clip3400)\" d=\"M 0 0 M66.0245 462.422 L73.6634 462.422 L73.6634 436.056 L65.3532 437.723 L65.3532 433.464 L73.6171 431.797 L78.293 431.797 L78.293 462.422 L85.9318 462.422 L85.9318 466.357 L66.0245 466.357 L66.0245 462.422 Z\" fill=\"#000000\" fill-rule=\"evenodd\" fill-opacity=\"1\" /><path clip-path=\"url(#clip3400)\" d=\"M 0 0 M91.0475 431.797 L109.404 431.797 L109.404 435.732 L95.3299 435.732 L95.3299 444.205 Q96.3484 443.857 97.3669 443.695 Q98.3855 443.51 99.404 443.51 Q105.191 443.51 108.571 446.681 Q111.95 449.853 111.95 455.269 Q111.95 460.848 108.478 463.95 Q105.006 467.028 98.6864 467.028 Q96.5105 467.028 94.242 466.658 Q91.9966 466.288 89.5892 465.547 L89.5892 460.848 Q91.6725 461.982 93.8947 462.538 Q96.1169 463.093 98.5938 463.093 Q102.598 463.093 104.936 460.987 Q107.274 458.88 107.274 455.269 Q107.274 451.658 104.936 449.552 Q102.598 447.445 98.5938 447.445 Q96.7188 447.445 94.8438 447.862 Q92.992 448.279 91.0475 449.158 L91.0475 431.797 Z\" fill=\"#000000\" fill-rule=\"evenodd\" fill-opacity=\"1\" /><path clip-path=\"url(#clip3400)\" d=\"M 0 0 M127.02 434.876 Q123.408 434.876 121.58 438.441 Q119.774 441.982 119.774 449.112 Q119.774 456.218 121.58 459.783 Q123.408 463.325 127.02 463.325 Q130.654 463.325 132.459 459.783 Q134.288 456.218 134.288 449.112 Q134.288 441.982 132.459 438.441 Q130.654 434.876 127.02 434.876 M127.02 431.172 Q132.83 431.172 135.885 435.779 Q138.964 440.362 138.964 449.112 Q138.964 457.839 135.885 462.445 Q132.83 467.028 127.02 467.028 Q121.209 467.028 118.131 462.445 Q115.075 457.839 115.075 449.112 Q115.075 440.362 118.131 435.779 Q121.209 431.172 127.02 431.172 Z\" fill=\"#000000\" fill-rule=\"evenodd\" fill-opacity=\"1\" /><path clip-path=\"url(#clip3400)\" d=\"M 0 0 M68.6171 101.321 L84.9365 101.321 L84.9365 105.256 L62.9921 105.256 L62.9921 101.321 Q65.6541 98.5665 70.2375 93.9369 Q74.8439 89.2841 76.0245 87.9416 Q78.2698 85.4184 79.1494 83.6823 Q80.0522 81.9231 80.0522 80.2333 Q80.0522 77.4786 78.1078 75.7425 Q76.1865 74.0064 73.0847 74.0064 Q70.8856 74.0064 68.4319 74.7703 Q66.0014 75.5342 63.2236 77.0851 L63.2236 72.3629 Q66.0477 71.2287 68.5014 70.65 Q70.955 70.0713 72.9921 70.0713 Q78.3624 70.0713 81.5568 72.7565 Q84.7513 75.4416 84.7513 79.9323 Q84.7513 82.062 83.9411 83.9832 Q83.1541 85.8814 81.0476 88.474 Q80.4689 89.1453 77.367 92.3628 Q74.2652 95.5573 68.6171 101.321 Z\" fill=\"#000000\" fill-rule=\"evenodd\" fill-opacity=\"1\" /><path clip-path=\"url(#clip3400)\" d=\"M 0 0 M100.006 73.775 Q96.3947 73.775 94.566 77.3398 Q92.7605 80.8814 92.7605 88.011 Q92.7605 95.1174 94.566 98.6822 Q96.3947 102.224 100.006 102.224 Q103.64 102.224 105.446 98.6822 Q107.274 95.1174 107.274 88.011 Q107.274 80.8814 105.446 77.3398 Q103.64 73.775 100.006 73.775 M100.006 70.0713 Q105.816 70.0713 108.872 74.6777 Q111.95 79.261 111.95 88.011 Q111.95 96.7378 108.872 101.344 Q105.816 105.928 100.006 105.928 Q94.1957 105.928 91.117 101.344 Q88.0614 96.7378 88.0614 88.011 Q88.0614 79.261 91.117 74.6777 Q94.1957 70.0713 100.006 70.0713 Z\" fill=\"#000000\" fill-rule=\"evenodd\" fill-opacity=\"1\" /><path clip-path=\"url(#clip3400)\" d=\"M 0 0 M127.02 73.775 Q123.408 73.775 121.58 77.3398 Q119.774 80.8814 119.774 88.011 Q119.774 95.1174 121.58 98.6822 Q123.408 102.224 127.02 102.224 Q130.654 102.224 132.459 98.6822 Q134.288 95.1174 134.288 88.011 Q134.288 80.8814 132.459 77.3398 Q130.654 73.775 127.02 73.775 M127.02 70.0713 Q132.83 70.0713 135.885 74.6777 Q138.964 79.261 138.964 88.011 Q138.964 96.7378 135.885 101.344 Q132.83 105.928 127.02 105.928 Q121.209 105.928 118.131 101.344 Q115.075 96.7378 115.075 88.011 Q115.075 79.261 118.131 74.6777 Q121.209 70.0713 127.02 70.0713 Z\" fill=\"#000000\" fill-rule=\"evenodd\" fill-opacity=\"1\" /><polyline clip-path=\"url(#clip3402)\" style=\"stroke:#009af9; stroke-width:4; stroke-opacity:1; fill:none\" points=\"\n",
       "  224.939,1445.72 229.44,1445.72 233.941,1351.83 238.441,1351.83 242.942,947.396 247.443,947.396 251.944,947.396 256.444,87.9763 260.945,87.9763 265.446,87.9763 \n",
       "  269.947,87.9763 274.447,87.9763 278.948,87.9763 283.449,87.9763 287.95,87.9763 292.45,87.9763 296.951,87.9763 301.452,87.9763 305.953,87.9763 310.453,87.9763 \n",
       "  314.954,87.9763 319.455,87.9763 323.956,87.9763 328.456,87.9763 332.957,87.9763 337.458,87.9763 341.959,87.9763 346.459,87.9763 350.96,87.9763 355.461,87.9763 \n",
       "  359.962,87.9763 364.462,87.9763 368.963,87.9763 373.464,87.9763 377.964,87.9763 382.465,87.9763 386.966,87.9763 391.467,87.9763 395.967,87.9763 400.468,87.9763 \n",
       "  404.969,87.9763 409.47,87.9763 413.97,87.9763 418.471,87.9763 422.972,87.9763 427.473,87.9763 431.973,87.9763 436.474,87.9763 440.975,87.9763 445.476,87.9763 \n",
       "  449.976,87.9763 454.477,87.9763 458.978,87.9763 463.479,87.9763 467.979,87.9763 472.48,87.9763 476.981,87.9763 481.482,87.9763 485.982,87.9763 490.483,87.9763 \n",
       "  494.984,87.9763 499.485,87.9763 503.985,87.9763 508.486,87.9763 512.987,87.9763 517.488,87.9763 521.988,87.9763 526.489,87.9763 530.99,87.9763 535.491,87.9763 \n",
       "  539.991,87.9763 544.492,87.9763 548.993,87.9763 553.493,87.9763 557.994,87.9763 562.495,87.9763 566.996,87.9763 571.496,87.9763 575.997,87.9763 580.498,87.9763 \n",
       "  584.999,87.9763 589.499,87.9763 594,87.9763 598.501,87.9763 603.002,87.9763 607.502,87.9763 612.003,87.9763 616.504,87.9763 621.005,87.9763 625.505,87.9763 \n",
       "  630.006,87.9763 634.507,87.9763 639.008,87.9763 643.508,87.9763 648.009,87.9763 652.51,87.9763 657.011,87.9763 661.511,87.9763 666.012,87.9763 670.513,87.9763 \n",
       "  675.014,87.9763 679.514,87.9763 684.015,87.9763 688.516,87.9763 693.017,87.9763 697.517,87.9763 702.018,87.9763 706.519,87.9763 711.02,87.9763 715.52,87.9763 \n",
       "  720.021,87.9763 724.522,87.9763 729.023,87.9763 733.523,87.9763 738.024,87.9763 742.525,87.9763 747.025,87.9763 751.526,87.9763 756.027,87.9763 760.528,87.9763 \n",
       "  765.028,87.9763 769.529,87.9763 774.03,87.9763 778.531,87.9763 783.031,87.9763 787.532,87.9763 792.033,87.9763 796.534,87.9763 801.034,87.9763 805.535,87.9763 \n",
       "  810.036,87.9763 814.537,87.9763 819.037,87.9763 823.538,87.9763 828.039,87.9763 832.54,87.9763 837.04,87.9763 841.541,87.9763 846.042,87.9763 850.543,87.9763 \n",
       "  855.043,87.9763 859.544,87.9763 864.045,87.9763 868.546,87.9763 873.046,87.9763 877.547,87.9763 882.048,87.9763 886.549,87.9763 891.049,87.9763 895.55,87.9763 \n",
       "  900.051,87.9763 904.552,87.9763 909.052,87.9763 913.553,87.9763 918.054,87.9763 922.554,87.9763 927.055,87.9763 931.556,87.9763 936.057,87.9763 940.557,87.9763 \n",
       "  945.058,87.9763 949.559,87.9763 954.06,87.9763 958.56,87.9763 963.061,87.9763 967.562,87.9763 972.063,87.9763 976.563,87.9763 981.064,87.9763 985.565,87.9763 \n",
       "  990.066,87.9763 994.566,87.9763 999.067,87.9763 1003.57,87.9763 1008.07,87.9763 1012.57,87.9763 1017.07,87.9763 1021.57,87.9763 1026.07,87.9763 1030.57,87.9763 \n",
       "  1035.07,87.9763 1039.57,87.9763 1044.07,87.9763 1048.58,87.9763 1053.08,87.9763 1057.58,87.9763 1062.08,87.9763 1066.58,87.9763 1071.08,87.9763 1075.58,87.9763 \n",
       "  1080.08,87.9763 1084.58,87.9763 1089.08,87.9763 1093.58,87.9763 1098.08,87.9763 1102.58,87.9763 1107.09,87.9763 1111.59,87.9763 1116.09,87.9763 1120.59,87.9763 \n",
       "  1125.09,87.9763 1129.59,87.9763 1134.09,87.9763 1138.59,87.9763 1143.09,87.9763 1147.59,87.9763 1152.09,87.9763 1156.59,87.9763 1161.09,87.9763 1165.59,87.9763 \n",
       "  1170.1,87.9763 1174.6,87.9763 1179.1,87.9763 1183.6,87.9763 1188.1,87.9763 1192.6,87.9763 1197.1,87.9763 1201.6,87.9763 1206.1,87.9763 1210.6,87.9763 \n",
       "  1215.1,87.9763 1219.6,87.9763 1224.1,87.9763 1228.61,87.9763 1233.11,87.9763 1237.61,87.9763 1242.11,87.9763 1246.61,87.9763 1251.11,87.9763 1255.61,87.9763 \n",
       "  1260.11,87.9763 1264.61,87.9763 1269.11,87.9763 1273.61,87.9763 1278.11,87.9763 1282.61,87.9763 1287.11,87.9763 1291.62,87.9763 1296.12,87.9763 1300.62,87.9763 \n",
       "  1305.12,87.9763 1309.62,87.9763 1314.12,87.9763 1318.62,87.9763 1323.12,87.9763 1327.62,87.9763 1332.12,87.9763 1336.62,87.9763 1341.12,87.9763 1345.62,87.9763 \n",
       "  1350.13,87.9763 1354.63,87.9763 1359.13,87.9763 1363.63,87.9763 1368.13,87.9763 1372.63,87.9763 1377.13,87.9763 1381.63,87.9763 1386.13,87.9763 1390.63,87.9763 \n",
       "  1395.13,87.9763 1399.63,87.9763 1404.13,87.9763 1408.63,87.9763 1413.14,87.9763 1417.64,87.9763 1422.14,87.9763 1426.64,87.9763 1431.14,87.9763 1435.64,87.9763 \n",
       "  1440.14,87.9763 1444.64,87.9763 1449.14,87.9763 1453.64,87.9763 1458.14,87.9763 1462.64,87.9763 1467.14,87.9763 1471.65,87.9763 1476.15,87.9763 1480.65,87.9763 \n",
       "  1485.15,87.9763 1489.65,87.9763 1494.15,87.9763 1498.65,87.9763 1503.15,87.9763 1507.65,87.9763 1512.15,87.9763 1516.65,87.9763 1521.15,87.9763 1525.65,87.9763 \n",
       "  1530.15,87.9763 1534.66,87.9763 1539.16,87.9763 1543.66,87.9763 1548.16,87.9763 1552.66,87.9763 1557.16,87.9763 1561.66,87.9763 1566.16,87.9763 1570.66,87.9763 \n",
       "  1575.16,87.9763 1579.66,87.9763 1584.16,87.9763 1588.66,87.9763 1593.17,87.9763 1597.67,87.9763 1602.17,87.9763 1606.67,87.9763 1611.17,87.9763 1615.67,87.9763 \n",
       "  1620.17,87.9763 1624.67,87.9763 1629.17,87.9763 1633.67,87.9763 1638.17,87.9763 1642.67,87.9763 1647.17,87.9763 1651.68,87.9763 1656.18,87.9763 1660.68,87.9763 \n",
       "  1665.18,87.9763 1669.68,87.9763 1674.18,87.9763 1678.68,87.9763 1683.18,87.9763 1687.68,87.9763 1692.18,87.9763 1696.68,87.9763 1701.18,87.9763 1705.68,87.9763 \n",
       "  1710.18,87.9763 1714.69,87.9763 1719.19,87.9763 1723.69,87.9763 1728.19,87.9763 1732.69,87.9763 1737.19,87.9763 1741.69,87.9763 1746.19,87.9763 1750.69,87.9763 \n",
       "  1755.19,87.9763 1759.69,87.9763 1764.19,87.9763 1768.69,87.9763 1773.2,87.9763 1777.7,87.9763 1782.2,87.9763 1786.7,87.9763 1791.2,87.9763 1795.7,87.9763 \n",
       "  1800.2,87.9763 1804.7,87.9763 1809.2,87.9763 1813.7,87.9763 1818.2,87.9763 1822.7,87.9763 1827.2,87.9763 1831.7,87.9763 1836.21,87.9763 1840.71,87.9763 \n",
       "  1845.21,87.9763 1849.71,87.9763 1854.21,87.9763 1858.71,87.9763 1863.21,87.9763 1867.71,87.9763 1872.21,87.9763 1876.71,87.9763 1881.21,87.9763 1885.71,87.9763 \n",
       "  1890.21,87.9763 1894.72,87.9763 1899.22,87.9763 1903.72,87.9763 1908.22,87.9763 1912.72,87.9763 1917.22,87.9763 1921.72,87.9763 1926.22,87.9763 1930.72,87.9763 \n",
       "  1935.22,87.9763 1939.72,87.9763 1944.22,87.9763 1948.72,87.9763 1953.22,87.9763 1957.73,87.9763 1962.23,87.9763 1966.73,87.9763 1971.23,87.9763 1975.73,87.9763 \n",
       "  1980.23,87.9763 1984.73,87.9763 1989.23,87.9763 1993.73,87.9763 1998.23,87.9763 2002.73,87.9763 2007.23,87.9763 2011.73,87.9763 2016.24,87.9763 2020.74,87.9763 \n",
       "  2025.24,87.9763 2029.74,87.9763 2034.24,87.9763 2038.74,87.9763 2043.24,87.9763 2047.74,87.9763 2052.24,87.9763 2056.74,87.9763 2061.24,87.9763 2065.74,87.9763 \n",
       "  2070.24,87.9763 2074.74,87.9763 2079.25,87.9763 2083.75,87.9763 2088.25,87.9763 2092.75,87.9763 2097.25,87.9763 2101.75,87.9763 2106.25,87.9763 2110.75,87.9763 \n",
       "  2115.25,87.9763 2119.75,87.9763 2124.25,87.9763 2128.75,87.9763 2133.25,87.9763 2137.76,87.9763 2142.26,87.9763 2146.76,87.9763 2151.26,87.9763 2155.76,87.9763 \n",
       "  2160.26,87.9763 2164.76,87.9763 2169.26,87.9763 2173.76,87.9763 2178.26,87.9763 2182.76,87.9763 2187.26,87.9763 2191.76,87.9763 2196.27,87.9763 2200.77,87.9763 \n",
       "  2205.27,87.9763 2209.77,87.9763 2214.27,87.9763 2218.77,87.9763 2223.27,87.9763 2227.77,87.9763 2232.27,87.9763 2236.77,87.9763 2241.27,87.9763 2245.77,87.9763 \n",
       "  2250.27,87.9763 2254.77,87.9763 2259.28,87.9763 2263.78,87.9763 2268.28,87.9763 2272.78,87.9763 2277.28,87.9763 2281.78,87.9763 2286.28,87.9763 2290.78,87.9763 \n",
       "  \n",
       "  \"/>\n",
       "<path clip-path=\"url(#clip3400)\" d=\"\n",
       "M1989.74 251.724 L2280.76 251.724 L2280.76 130.764 L1989.74 130.764  Z\n",
       "  \" fill=\"#ffffff\" fill-rule=\"evenodd\" fill-opacity=\"1\"/>\n",
       "<polyline clip-path=\"url(#clip3400)\" style=\"stroke:#000000; stroke-width:4; stroke-opacity:1; fill:none\" points=\"\n",
       "  1989.74,251.724 2280.76,251.724 2280.76,130.764 1989.74,130.764 1989.74,251.724 \n",
       "  \"/>\n",
       "<polyline clip-path=\"url(#clip3400)\" style=\"stroke:#009af9; stroke-width:4; stroke-opacity:1; fill:none\" points=\"\n",
       "  2013.74,191.244 2157.74,191.244 \n",
       "  \"/>\n",
       "<path clip-path=\"url(#clip3400)\" d=\"M 0 0 M2195.58 210.931 Q2193.77 215.561 2192.06 216.973 Q2190.35 218.385 2187.48 218.385 L2184.08 218.385 L2184.08 214.82 L2186.58 214.82 Q2188.33 214.82 2189.31 213.987 Q2190.28 213.154 2191.46 210.052 L2192.22 208.107 L2181.74 182.598 L2186.25 182.598 L2194.35 202.876 L2202.46 182.598 L2206.97 182.598 L2195.58 210.931 Z\" fill=\"#000000\" fill-rule=\"evenodd\" fill-opacity=\"1\" /><path clip-path=\"url(#clip3400)\" d=\"M 0 0 M2212.85 204.589 L2220.49 204.589 L2220.49 178.223 L2212.18 179.89 L2212.18 175.631 L2220.44 173.964 L2225.12 173.964 L2225.12 204.589 L2232.76 204.589 L2232.76 208.524 L2212.85 208.524 L2212.85 204.589 Z\" fill=\"#000000\" fill-rule=\"evenodd\" fill-opacity=\"1\" /></svg>\n"
      ]
     },
     "execution_count": 17,
     "metadata": {},
     "output_type": "execute_result"
    }
   ],
   "source": [
    "fits, expert = one_plus_lambda(layers, n_gens, play_cartpole, 𝜆)\n",
    "plot(fits)"
   ]
  },
  {
   "cell_type": "markdown",
   "id": "marked-monthly",
   "metadata": {
    "slideshow": {
     "slide_type": "slide"
    }
   },
   "source": [
    "## Evolutionary Strategies"
   ]
  },
  {
   "cell_type": "code",
   "execution_count": 15,
   "id": "pressing-counter",
   "metadata": {},
   "outputs": [
    {
     "data": {
      "text/plain": [
       "ES (generic function with 4 methods)"
      ]
     },
     "execution_count": 15,
     "metadata": {},
     "output_type": "execute_result"
    }
   ],
   "source": [
    "using Statistics\n",
    "using LinearAlgebra\n",
    "\n",
    "function ES(layers::Array, num_generations::Int, f::Function, npop::Int=50, sigma=0.5, alpha=0.01)\n",
    "    µ = Individual(layers::Array) # Center\n",
    "    n = length(µ.genes)\n",
    "    evaluate!(µ, f)\n",
    "\n",
    "    expert = µ # Best individual so far\n",
    "\n",
    "    fits = zeros(num_generations)\n",
    "\n",
    "    for i in eachindex(fits)\n",
    "        population = Array{Individual}(undef, 𝜆)\n",
    "        best = 1\n",
    "        for j in eachindex(population)\n",
    "            new_genes = expert.genes + randn(n) .* sigma\n",
    "            population[j] = Individual(layers, new_genes)\n",
    "            evaluate!(population[j], f)\n",
    "            if population[j].fitness > population[best].fitness\n",
    "                best = j\n",
    "            end\n",
    "        end\n",
    "\n",
    "        if population[best].fitness >= expert.fitness\n",
    "            expert = population[best]\n",
    "        end\n",
    "\n",
    "        fits[i] = expert.fitness\n",
    "\n",
    "        # TODO: µ update\n",
    "\n",
    "        print(i, \"/\",  num_generations, \" > \", expert.fitness, \"\\t\\t\\r\")\n",
    "    end\n",
    "    fits, expert\n",
    "end\n"
   ]
  },
  {
   "cell_type": "code",
   "execution_count": 16,
   "id": "c90b71d0",
   "metadata": {},
   "outputs": [],
   "source": [
    "## Uncomment and run the next line to load a solution \n",
    "IJulia.load(\"solutions/es.jl\") "
   ]
  },
  {
   "cell_type": "code",
   "execution_count": null,
   "id": "67291783",
   "metadata": {},
   "outputs": [],
   "source": [
    "using Statistics\n",
    "using LinearAlgebra\n",
    "\n",
    "function ES(layers::Array, num_generations::Int, f::Function, npop::Int=50, sigma=0.5, alpha=0.01)\n",
    "    µ = Individual(layers::Array) # Center\n",
    "    n = length(µ.genes)\n",
    "    evaluate!(µ, f)\n",
    "\n",
    "    expert = µ # Best individual so far\n",
    "\n",
    "    fits = zeros(num_generations)\n",
    "\n",
    "    for i in eachindex(fits)\n",
    "        population = Array{Individual}(undef, 𝜆)\n",
    "        best = 1\n",
    "        for j in eachindex(population)\n",
    "            new_genes = expert.genes + randn(n) .* sigma\n",
    "            population[j] = Individual(layers, new_genes)\n",
    "            evaluate!(population[j], f)\n",
    "            if population[j].fitness > population[best].fitness\n",
    "                best = j\n",
    "            end\n",
    "        end\n",
    "\n",
    "        if population[best].fitness >= expert.fitness\n",
    "            expert = population[best]\n",
    "        end\n",
    "\n",
    "        fits[i] = expert.fitness\n",
    "\n",
    "        u = max.(0, log(n/2+1) .- log.(1:n))\n",
    "        u .= u ./ sum(u) .- 1/n\n",
    "\n",
    "        # Sort from highest to lowest fitness\n",
    "        idx = sortperm(population, by=x -> x.fitness, rev=true)\n",
    "\n",
    "        step = zeros(n)\n",
    "        for i in eachindex(population)\n",
    "            step = step.+ u[i] .* population[idx[i]].genes\n",
    "        end\n",
    "\n",
    "        µ.genes = µ.genes .+ step .* alpha\n",
    "\n",
    "        print(i, \"/\",  num_generations, \" > \", expert.fitness, \"\\t\\t\\r\")\n",
    "    end\n",
    "    fits, expert\n",
    "end\n"
   ]
  },
  {
   "cell_type": "code",
   "execution_count": 27,
   "id": "superb-sequence",
   "metadata": {
    "slideshow": {
     "slide_type": "subslide"
    }
   },
   "outputs": [
    {
     "data": {
      "text/plain": [
       "386"
      ]
     },
     "execution_count": 27,
     "metadata": {},
     "output_type": "execute_result"
    }
   ],
   "source": [
    "layers = [4, 16, 16, 2]\n",
    "ind = Individual(layers)\n",
    "n = length(ind.genes)"
   ]
  },
  {
   "cell_type": "code",
   "execution_count": 28,
   "id": "personalized-future",
   "metadata": {},
   "outputs": [
    {
     "name": "stdout",
     "output_type": "stream",
     "text": [
      "50/50 > 200.0\t\t\r"
     ]
    },
    {
     "data": {
      "image/svg+xml": [
       "<?xml version=\"1.0\" encoding=\"utf-8\"?>\n",
       "<svg xmlns=\"http://www.w3.org/2000/svg\" xmlns:xlink=\"http://www.w3.org/1999/xlink\" width=\"600\" height=\"400\" viewBox=\"0 0 2400 1600\">\n",
       "<defs>\n",
       "  <clipPath id=\"clip930\">\n",
       "    <rect x=\"0\" y=\"0\" width=\"2400\" height=\"1600\"/>\n",
       "  </clipPath>\n",
       "</defs>\n",
       "<path clip-path=\"url(#clip930)\" d=\"\n",
       "M0 1600 L2400 1600 L2400 0 L0 0  Z\n",
       "  \" fill=\"#ffffff\" fill-rule=\"evenodd\" fill-opacity=\"1\"/>\n",
       "<defs>\n",
       "  <clipPath id=\"clip931\">\n",
       "    <rect x=\"480\" y=\"0\" width=\"1681\" height=\"1600\"/>\n",
       "  </clipPath>\n",
       "</defs>\n",
       "<path clip-path=\"url(#clip930)\" d=\"\n",
       "M169.121 1486.45 L2352.76 1486.45 L2352.76 47.2441 L169.121 47.2441  Z\n",
       "  \" fill=\"#ffffff\" fill-rule=\"evenodd\" fill-opacity=\"1\"/>\n",
       "<defs>\n",
       "  <clipPath id=\"clip932\">\n",
       "    <rect x=\"169\" y=\"47\" width=\"2185\" height=\"1440\"/>\n",
       "  </clipPath>\n",
       "</defs>\n",
       "<polyline clip-path=\"url(#clip932)\" style=\"stroke:#000000; stroke-width:2; stroke-opacity:0.1; fill:none\" points=\"\n",
       "  188.881,1486.45 188.881,47.2441 \n",
       "  \"/>\n",
       "<polyline clip-path=\"url(#clip932)\" style=\"stroke:#000000; stroke-width:2; stroke-opacity:0.1; fill:none\" points=\"\n",
       "  609.296,1486.45 609.296,47.2441 \n",
       "  \"/>\n",
       "<polyline clip-path=\"url(#clip932)\" style=\"stroke:#000000; stroke-width:2; stroke-opacity:0.1; fill:none\" points=\"\n",
       "  1029.71,1486.45 1029.71,47.2441 \n",
       "  \"/>\n",
       "<polyline clip-path=\"url(#clip932)\" style=\"stroke:#000000; stroke-width:2; stroke-opacity:0.1; fill:none\" points=\"\n",
       "  1450.13,1486.45 1450.13,47.2441 \n",
       "  \"/>\n",
       "<polyline clip-path=\"url(#clip932)\" style=\"stroke:#000000; stroke-width:2; stroke-opacity:0.1; fill:none\" points=\"\n",
       "  1870.54,1486.45 1870.54,47.2441 \n",
       "  \"/>\n",
       "<polyline clip-path=\"url(#clip932)\" style=\"stroke:#000000; stroke-width:2; stroke-opacity:0.1; fill:none\" points=\"\n",
       "  2290.95,1486.45 2290.95,47.2441 \n",
       "  \"/>\n",
       "<polyline clip-path=\"url(#clip930)\" style=\"stroke:#000000; stroke-width:4; stroke-opacity:1; fill:none\" points=\"\n",
       "  169.121,1486.45 2352.76,1486.45 \n",
       "  \"/>\n",
       "<polyline clip-path=\"url(#clip930)\" style=\"stroke:#000000; stroke-width:4; stroke-opacity:1; fill:none\" points=\"\n",
       "  188.881,1486.45 188.881,1469.18 \n",
       "  \"/>\n",
       "<polyline clip-path=\"url(#clip930)\" style=\"stroke:#000000; stroke-width:4; stroke-opacity:1; fill:none\" points=\"\n",
       "  609.296,1486.45 609.296,1469.18 \n",
       "  \"/>\n",
       "<polyline clip-path=\"url(#clip930)\" style=\"stroke:#000000; stroke-width:4; stroke-opacity:1; fill:none\" points=\"\n",
       "  1029.71,1486.45 1029.71,1469.18 \n",
       "  \"/>\n",
       "<polyline clip-path=\"url(#clip930)\" style=\"stroke:#000000; stroke-width:4; stroke-opacity:1; fill:none\" points=\"\n",
       "  1450.13,1486.45 1450.13,1469.18 \n",
       "  \"/>\n",
       "<polyline clip-path=\"url(#clip930)\" style=\"stroke:#000000; stroke-width:4; stroke-opacity:1; fill:none\" points=\"\n",
       "  1870.54,1486.45 1870.54,1469.18 \n",
       "  \"/>\n",
       "<polyline clip-path=\"url(#clip930)\" style=\"stroke:#000000; stroke-width:4; stroke-opacity:1; fill:none\" points=\"\n",
       "  2290.95,1486.45 2290.95,1469.18 \n",
       "  \"/>\n",
       "<path clip-path=\"url(#clip930)\" d=\"M 0 0 M188.881 1515.64 Q185.27 1515.64 183.441 1519.2 Q181.635 1522.75 181.635 1529.87 Q181.635 1536.98 183.441 1540.55 Q185.27 1544.09 188.881 1544.09 Q192.515 1544.09 194.321 1540.55 Q196.149 1536.98 196.149 1529.87 Q196.149 1522.75 194.321 1519.2 Q192.515 1515.64 188.881 1515.64 M188.881 1511.93 Q194.691 1511.93 197.747 1516.54 Q200.825 1521.12 200.825 1529.87 Q200.825 1538.6 197.747 1543.21 Q194.691 1547.79 188.881 1547.79 Q183.071 1547.79 179.992 1543.21 Q176.936 1538.6 176.936 1529.87 Q176.936 1521.12 179.992 1516.54 Q183.071 1511.93 188.881 1511.93 Z\" fill=\"#000000\" fill-rule=\"evenodd\" fill-opacity=\"1\" /><path clip-path=\"url(#clip930)\" d=\"M 0 0 M583.983 1543.18 L591.622 1543.18 L591.622 1516.82 L583.312 1518.49 L583.312 1514.23 L591.576 1512.56 L596.252 1512.56 L596.252 1543.18 L603.891 1543.18 L603.891 1547.12 L583.983 1547.12 L583.983 1543.18 Z\" fill=\"#000000\" fill-rule=\"evenodd\" fill-opacity=\"1\" /><path clip-path=\"url(#clip930)\" d=\"M 0 0 M623.335 1515.64 Q619.724 1515.64 617.895 1519.2 Q616.09 1522.75 616.09 1529.87 Q616.09 1536.98 617.895 1540.55 Q619.724 1544.09 623.335 1544.09 Q626.969 1544.09 628.775 1540.55 Q630.603 1536.98 630.603 1529.87 Q630.603 1522.75 628.775 1519.2 Q626.969 1515.64 623.335 1515.64 M623.335 1511.93 Q629.145 1511.93 632.201 1516.54 Q635.279 1521.12 635.279 1529.87 Q635.279 1538.6 632.201 1543.21 Q629.145 1547.79 623.335 1547.79 Q617.525 1547.79 614.446 1543.21 Q611.391 1538.6 611.391 1529.87 Q611.391 1521.12 614.446 1516.54 Q617.525 1511.93 623.335 1511.93 Z\" fill=\"#000000\" fill-rule=\"evenodd\" fill-opacity=\"1\" /><path clip-path=\"url(#clip930)\" d=\"M 0 0 M1008.48 1543.18 L1024.8 1543.18 L1024.8 1547.12 L1002.86 1547.12 L1002.86 1543.18 Q1005.52 1540.43 1010.1 1535.8 Q1014.71 1531.15 1015.89 1529.81 Q1018.14 1527.28 1019.02 1525.55 Q1019.92 1523.79 1019.92 1522.1 Q1019.92 1519.34 1017.97 1517.61 Q1016.05 1515.87 1012.95 1515.87 Q1010.75 1515.87 1008.3 1516.63 Q1005.87 1517.4 1003.09 1518.95 L1003.09 1514.23 Q1005.91 1513.09 1008.37 1512.51 Q1010.82 1511.93 1012.86 1511.93 Q1018.23 1511.93 1021.42 1514.62 Q1024.62 1517.31 1024.62 1521.8 Q1024.62 1523.93 1023.81 1525.85 Q1023.02 1527.74 1020.91 1530.34 Q1020.34 1531.01 1017.23 1534.23 Q1014.13 1537.42 1008.48 1543.18 Z\" fill=\"#000000\" fill-rule=\"evenodd\" fill-opacity=\"1\" /><path clip-path=\"url(#clip930)\" d=\"M 0 0 M1044.62 1515.64 Q1041.01 1515.64 1039.18 1519.2 Q1037.37 1522.75 1037.37 1529.87 Q1037.37 1536.98 1039.18 1540.55 Q1041.01 1544.09 1044.62 1544.09 Q1048.25 1544.09 1050.06 1540.55 Q1051.89 1536.98 1051.89 1529.87 Q1051.89 1522.75 1050.06 1519.2 Q1048.25 1515.64 1044.62 1515.64 M1044.62 1511.93 Q1050.43 1511.93 1053.48 1516.54 Q1056.56 1521.12 1056.56 1529.87 Q1056.56 1538.6 1053.48 1543.21 Q1050.43 1547.79 1044.62 1547.79 Q1038.81 1547.79 1035.73 1543.21 Q1032.67 1538.6 1032.67 1529.87 Q1032.67 1521.12 1035.73 1516.54 Q1038.81 1511.93 1044.62 1511.93 Z\" fill=\"#000000\" fill-rule=\"evenodd\" fill-opacity=\"1\" /><path clip-path=\"url(#clip930)\" d=\"M 0 0 M1438.97 1528.49 Q1442.32 1529.2 1444.2 1531.47 Q1446.1 1533.74 1446.1 1537.07 Q1446.1 1542.19 1442.58 1544.99 Q1439.06 1547.79 1432.58 1547.79 Q1430.4 1547.79 1428.09 1547.35 Q1425.8 1546.93 1423.34 1546.08 L1423.34 1541.56 Q1425.29 1542.7 1427.6 1543.28 Q1429.92 1543.86 1432.44 1543.86 Q1436.84 1543.86 1439.13 1542.12 Q1441.44 1540.38 1441.44 1537.07 Q1441.44 1534.02 1439.29 1532.31 Q1437.16 1530.57 1433.34 1530.57 L1429.32 1530.57 L1429.32 1526.73 L1433.53 1526.73 Q1436.98 1526.73 1438.81 1525.36 Q1440.63 1523.97 1440.63 1521.38 Q1440.63 1518.72 1438.74 1517.31 Q1436.86 1515.87 1433.34 1515.87 Q1431.42 1515.87 1429.22 1516.29 Q1427.02 1516.7 1424.38 1517.58 L1424.38 1513.42 Q1427.05 1512.68 1429.36 1512.31 Q1431.7 1511.93 1433.76 1511.93 Q1439.08 1511.93 1442.19 1514.37 Q1445.29 1516.77 1445.29 1520.89 Q1445.29 1523.76 1443.64 1525.75 Q1442 1527.72 1438.97 1528.49 Z\" fill=\"#000000\" fill-rule=\"evenodd\" fill-opacity=\"1\" /><path clip-path=\"url(#clip930)\" d=\"M 0 0 M1464.96 1515.64 Q1461.35 1515.64 1459.52 1519.2 Q1457.72 1522.75 1457.72 1529.87 Q1457.72 1536.98 1459.52 1540.55 Q1461.35 1544.09 1464.96 1544.09 Q1468.6 1544.09 1470.4 1540.55 Q1472.23 1536.98 1472.23 1529.87 Q1472.23 1522.75 1470.4 1519.2 Q1468.6 1515.64 1464.96 1515.64 M1464.96 1511.93 Q1470.77 1511.93 1473.83 1516.54 Q1476.91 1521.12 1476.91 1529.87 Q1476.91 1538.6 1473.83 1543.21 Q1470.77 1547.79 1464.96 1547.79 Q1459.15 1547.79 1456.07 1543.21 Q1453.02 1538.6 1453.02 1529.87 Q1453.02 1521.12 1456.07 1516.54 Q1459.15 1511.93 1464.96 1511.93 Z\" fill=\"#000000\" fill-rule=\"evenodd\" fill-opacity=\"1\" /><path clip-path=\"url(#clip930)\" d=\"M 0 0 M1858.71 1516.63 L1846.91 1535.08 L1858.71 1535.08 L1858.71 1516.63 M1857.48 1512.56 L1863.36 1512.56 L1863.36 1535.08 L1868.29 1535.08 L1868.29 1538.97 L1863.36 1538.97 L1863.36 1547.12 L1858.71 1547.12 L1858.71 1538.97 L1843.11 1538.97 L1843.11 1534.46 L1857.48 1512.56 Z\" fill=\"#000000\" fill-rule=\"evenodd\" fill-opacity=\"1\" /><path clip-path=\"url(#clip930)\" d=\"M 0 0 M1886.03 1515.64 Q1882.42 1515.64 1880.59 1519.2 Q1878.78 1522.75 1878.78 1529.87 Q1878.78 1536.98 1880.59 1540.55 Q1882.42 1544.09 1886.03 1544.09 Q1889.66 1544.09 1891.47 1540.55 Q1893.29 1536.98 1893.29 1529.87 Q1893.29 1522.75 1891.47 1519.2 Q1889.66 1515.64 1886.03 1515.64 M1886.03 1511.93 Q1891.84 1511.93 1894.89 1516.54 Q1897.97 1521.12 1897.97 1529.87 Q1897.97 1538.6 1894.89 1543.21 Q1891.84 1547.79 1886.03 1547.79 Q1880.22 1547.79 1877.14 1543.21 Q1874.08 1538.6 1874.08 1529.87 Q1874.08 1521.12 1877.14 1516.54 Q1880.22 1511.93 1886.03 1511.93 Z\" fill=\"#000000\" fill-rule=\"evenodd\" fill-opacity=\"1\" /><path clip-path=\"url(#clip930)\" d=\"M 0 0 M2265.65 1512.56 L2284.01 1512.56 L2284.01 1516.5 L2269.94 1516.5 L2269.94 1524.97 Q2270.96 1524.62 2271.97 1524.46 Q2272.99 1524.27 2274.01 1524.27 Q2279.8 1524.27 2283.18 1527.44 Q2286.56 1530.62 2286.56 1536.03 Q2286.56 1541.61 2283.08 1544.71 Q2279.61 1547.79 2273.29 1547.79 Q2271.12 1547.79 2268.85 1547.42 Q2266.6 1547.05 2264.2 1546.31 L2264.2 1541.61 Q2266.28 1542.74 2268.5 1543.3 Q2270.72 1543.86 2273.2 1543.86 Q2277.21 1543.86 2279.54 1541.75 Q2281.88 1539.64 2281.88 1536.03 Q2281.88 1532.42 2279.54 1530.31 Q2277.21 1528.21 2273.2 1528.21 Q2271.33 1528.21 2269.45 1528.62 Q2267.6 1529.04 2265.65 1529.92 L2265.65 1512.56 Z\" fill=\"#000000\" fill-rule=\"evenodd\" fill-opacity=\"1\" /><path clip-path=\"url(#clip930)\" d=\"M 0 0 M2305.77 1515.64 Q2302.16 1515.64 2300.33 1519.2 Q2298.52 1522.75 2298.52 1529.87 Q2298.52 1536.98 2300.33 1540.55 Q2302.16 1544.09 2305.77 1544.09 Q2309.4 1544.09 2311.21 1540.55 Q2313.04 1536.98 2313.04 1529.87 Q2313.04 1522.75 2311.21 1519.2 Q2309.4 1515.64 2305.77 1515.64 M2305.77 1511.93 Q2311.58 1511.93 2314.64 1516.54 Q2317.71 1521.12 2317.71 1529.87 Q2317.71 1538.6 2314.64 1543.21 Q2311.58 1547.79 2305.77 1547.79 Q2299.96 1547.79 2296.88 1543.21 Q2293.83 1538.6 2293.83 1529.87 Q2293.83 1521.12 2296.88 1516.54 Q2299.96 1511.93 2305.77 1511.93 Z\" fill=\"#000000\" fill-rule=\"evenodd\" fill-opacity=\"1\" /><polyline clip-path=\"url(#clip932)\" style=\"stroke:#000000; stroke-width:2; stroke-opacity:0.1; fill:none\" points=\"\n",
       "  169.121,1398.9 2352.76,1398.9 \n",
       "  \"/>\n",
       "<polyline clip-path=\"url(#clip932)\" style=\"stroke:#000000; stroke-width:2; stroke-opacity:0.1; fill:none\" points=\"\n",
       "  169.121,1117.99 2352.76,1117.99 \n",
       "  \"/>\n",
       "<polyline clip-path=\"url(#clip932)\" style=\"stroke:#000000; stroke-width:2; stroke-opacity:0.1; fill:none\" points=\"\n",
       "  169.121,837.074 2352.76,837.074 \n",
       "  \"/>\n",
       "<polyline clip-path=\"url(#clip932)\" style=\"stroke:#000000; stroke-width:2; stroke-opacity:0.1; fill:none\" points=\"\n",
       "  169.121,556.162 2352.76,556.162 \n",
       "  \"/>\n",
       "<polyline clip-path=\"url(#clip932)\" style=\"stroke:#000000; stroke-width:2; stroke-opacity:0.1; fill:none\" points=\"\n",
       "  169.121,275.251 2352.76,275.251 \n",
       "  \"/>\n",
       "<polyline clip-path=\"url(#clip930)\" style=\"stroke:#000000; stroke-width:4; stroke-opacity:1; fill:none\" points=\"\n",
       "  169.121,1486.45 169.121,47.2441 \n",
       "  \"/>\n",
       "<polyline clip-path=\"url(#clip930)\" style=\"stroke:#000000; stroke-width:4; stroke-opacity:1; fill:none\" points=\"\n",
       "  169.121,1398.9 195.325,1398.9 \n",
       "  \"/>\n",
       "<polyline clip-path=\"url(#clip930)\" style=\"stroke:#000000; stroke-width:4; stroke-opacity:1; fill:none\" points=\"\n",
       "  169.121,1117.99 195.325,1117.99 \n",
       "  \"/>\n",
       "<polyline clip-path=\"url(#clip930)\" style=\"stroke:#000000; stroke-width:4; stroke-opacity:1; fill:none\" points=\"\n",
       "  169.121,837.074 195.325,837.074 \n",
       "  \"/>\n",
       "<polyline clip-path=\"url(#clip930)\" style=\"stroke:#000000; stroke-width:4; stroke-opacity:1; fill:none\" points=\"\n",
       "  169.121,556.162 195.325,556.162 \n",
       "  \"/>\n",
       "<polyline clip-path=\"url(#clip930)\" style=\"stroke:#000000; stroke-width:4; stroke-opacity:1; fill:none\" points=\"\n",
       "  169.121,275.251 195.325,275.251 \n",
       "  \"/>\n",
       "<path clip-path=\"url(#clip930)\" d=\"M 0 0 M91.5938 1397.03 Q88.4456 1397.03 86.5938 1399.19 Q84.7651 1401.34 84.7651 1405.09 Q84.7651 1408.82 86.5938 1410.99 Q88.4456 1413.14 91.5938 1413.14 Q94.7419 1413.14 96.5706 1410.99 Q98.4224 1408.82 98.4224 1405.09 Q98.4224 1401.34 96.5706 1399.19 Q94.7419 1397.03 91.5938 1397.03 M100.876 1382.38 L100.876 1386.64 Q99.1169 1385.81 97.3113 1385.37 Q95.5289 1384.93 93.7697 1384.93 Q89.1401 1384.93 86.6864 1388.05 Q84.2558 1391.18 83.9086 1397.5 Q85.2743 1395.48 87.3345 1394.42 Q89.3947 1393.33 91.8715 1393.33 Q97.0798 1393.33 100.089 1396.5 Q103.121 1399.65 103.121 1405.09 Q103.121 1410.41 99.9733 1413.63 Q96.8252 1416.85 91.5938 1416.85 Q85.5984 1416.85 82.4271 1412.27 Q79.2559 1407.66 79.2559 1398.93 Q79.2559 1390.74 83.1447 1385.88 Q87.0336 1380.99 93.5845 1380.99 Q95.3437 1380.99 97.1261 1381.34 Q98.9317 1381.69 100.876 1382.38 Z\" fill=\"#000000\" fill-rule=\"evenodd\" fill-opacity=\"1\" /><path clip-path=\"url(#clip930)\" d=\"M 0 0 M121.177 1384.7 Q117.566 1384.7 115.737 1388.26 Q113.932 1391.8 113.932 1398.93 Q113.932 1406.04 115.737 1409.6 Q117.566 1413.14 121.177 1413.14 Q124.811 1413.14 126.617 1409.6 Q128.445 1406.04 128.445 1398.93 Q128.445 1391.8 126.617 1388.26 Q124.811 1384.7 121.177 1384.7 M121.177 1380.99 Q126.987 1380.99 130.043 1385.6 Q133.121 1390.18 133.121 1398.93 Q133.121 1407.66 130.043 1412.27 Q126.987 1416.85 121.177 1416.85 Q115.367 1416.85 112.288 1412.27 Q109.233 1407.66 109.233 1398.93 Q109.233 1390.18 112.288 1385.6 Q115.367 1380.99 121.177 1380.99 Z\" fill=\"#000000\" fill-rule=\"evenodd\" fill-opacity=\"1\" /><path clip-path=\"url(#clip930)\" d=\"M 0 0 M81.154 1134.55 L81.154 1130.29 Q82.9133 1131.12 84.7188 1131.56 Q86.5243 1132 88.2604 1132 Q92.89 1132 95.3206 1128.9 Q97.7743 1125.77 98.1215 1119.43 Q96.7789 1121.42 94.7187 1122.49 Q92.6586 1123.55 90.1586 1123.55 Q84.9734 1123.55 81.941 1120.43 Q78.9318 1117.28 78.9318 1111.84 Q78.9318 1106.52 82.0799 1103.3 Q85.2281 1100.08 90.4595 1100.08 Q96.4548 1100.08 99.603 1104.69 Q102.774 1109.27 102.774 1118.02 Q102.774 1126.19 98.8854 1131.08 Q95.0197 1135.94 88.4688 1135.94 Q86.7095 1135.94 84.904 1135.59 Q83.0984 1135.24 81.154 1134.55 M90.4595 1119.9 Q93.6076 1119.9 95.4363 1117.74 Q97.2882 1115.59 97.2882 1111.84 Q97.2882 1108.11 95.4363 1105.96 Q93.6076 1103.78 90.4595 1103.78 Q87.3114 1103.78 85.4595 1105.96 Q83.6308 1108.11 83.6308 1111.84 Q83.6308 1115.59 85.4595 1117.74 Q87.3114 1119.9 90.4595 1119.9 Z\" fill=\"#000000\" fill-rule=\"evenodd\" fill-opacity=\"1\" /><path clip-path=\"url(#clip930)\" d=\"M 0 0 M121.177 1103.78 Q117.566 1103.78 115.737 1107.35 Q113.932 1110.89 113.932 1118.02 Q113.932 1125.13 115.737 1128.69 Q117.566 1132.23 121.177 1132.23 Q124.811 1132.23 126.617 1128.69 Q128.445 1125.13 128.445 1118.02 Q128.445 1110.89 126.617 1107.35 Q124.811 1103.78 121.177 1103.78 M121.177 1100.08 Q126.987 1100.08 130.043 1104.69 Q133.121 1109.27 133.121 1118.02 Q133.121 1126.75 130.043 1131.35 Q126.987 1135.94 121.177 1135.94 Q115.367 1135.94 112.288 1131.35 Q109.233 1126.75 109.233 1118.02 Q109.233 1109.27 112.288 1104.69 Q115.367 1100.08 121.177 1100.08 Z\" fill=\"#000000\" fill-rule=\"evenodd\" fill-opacity=\"1\" /><path clip-path=\"url(#clip930)\" d=\"M 0 0 M51.6634 850.419 L59.3023 850.419 L59.3023 824.053 L50.9921 825.72 L50.9921 821.461 L59.256 819.794 L63.9319 819.794 L63.9319 850.419 L71.5707 850.419 L71.5707 854.354 L51.6634 854.354 L51.6634 850.419 Z\" fill=\"#000000\" fill-rule=\"evenodd\" fill-opacity=\"1\" /><path clip-path=\"url(#clip930)\" d=\"M 0 0 M85.0429 850.419 L101.362 850.419 L101.362 854.354 L79.4179 854.354 L79.4179 850.419 Q82.0799 847.664 86.6632 843.035 Q91.2697 838.382 92.4502 837.039 Q94.6956 834.516 95.5752 832.78 Q96.478 831.021 96.478 829.331 Q96.478 826.576 94.5336 824.84 Q92.6123 823.104 89.5104 823.104 Q87.3114 823.104 84.8577 823.868 Q82.4271 824.632 79.6494 826.183 L79.6494 821.461 Q82.4734 820.326 84.9271 819.748 Q87.3808 819.169 89.4178 819.169 Q94.7882 819.169 97.9826 821.854 Q101.177 824.539 101.177 829.03 Q101.177 831.16 100.367 833.081 Q99.5798 834.979 97.4734 837.572 Q96.8947 838.243 93.7928 841.46 Q90.691 844.655 85.0429 850.419 Z\" fill=\"#000000\" fill-rule=\"evenodd\" fill-opacity=\"1\" /><path clip-path=\"url(#clip930)\" d=\"M 0 0 M121.177 822.873 Q117.566 822.873 115.737 826.437 Q113.932 829.979 113.932 837.109 Q113.932 844.215 115.737 847.78 Q117.566 851.321 121.177 851.321 Q124.811 851.321 126.617 847.78 Q128.445 844.215 128.445 837.109 Q128.445 829.979 126.617 826.437 Q124.811 822.873 121.177 822.873 M121.177 819.169 Q126.987 819.169 130.043 823.775 Q133.121 828.359 133.121 837.109 Q133.121 845.835 130.043 850.442 Q126.987 855.025 121.177 855.025 Q115.367 855.025 112.288 850.442 Q109.233 845.835 109.233 837.109 Q109.233 828.359 112.288 823.775 Q115.367 819.169 121.177 819.169 Z\" fill=\"#000000\" fill-rule=\"evenodd\" fill-opacity=\"1\" /><path clip-path=\"url(#clip930)\" d=\"M 0 0 M51.6634 569.507 L59.3023 569.507 L59.3023 543.142 L50.9921 544.808 L50.9921 540.549 L59.256 538.882 L63.9319 538.882 L63.9319 569.507 L71.5707 569.507 L71.5707 573.442 L51.6634 573.442 L51.6634 569.507 Z\" fill=\"#000000\" fill-rule=\"evenodd\" fill-opacity=\"1\" /><path clip-path=\"url(#clip930)\" d=\"M 0 0 M81.0614 538.882 L99.4178 538.882 L99.4178 542.817 L85.3438 542.817 L85.3438 551.29 Q86.3623 550.942 87.3808 550.78 Q88.3993 550.595 89.4178 550.595 Q95.2049 550.595 98.5845 553.766 Q101.964 556.938 101.964 562.354 Q101.964 567.933 98.4919 571.035 Q95.0197 574.114 88.7003 574.114 Q86.5243 574.114 84.2558 573.743 Q82.0105 573.373 79.6031 572.632 L79.6031 567.933 Q81.6864 569.067 83.9086 569.623 Q86.1308 570.178 88.6077 570.178 Q92.6123 570.178 94.9502 568.072 Q97.2882 565.965 97.2882 562.354 Q97.2882 558.743 94.9502 556.637 Q92.6123 554.53 88.6077 554.53 Q86.7327 554.53 84.8577 554.947 Q83.0058 555.364 81.0614 556.243 L81.0614 538.882 Z\" fill=\"#000000\" fill-rule=\"evenodd\" fill-opacity=\"1\" /><path clip-path=\"url(#clip930)\" d=\"M 0 0 M121.177 541.961 Q117.566 541.961 115.737 545.526 Q113.932 549.067 113.932 556.197 Q113.932 563.303 115.737 566.868 Q117.566 570.41 121.177 570.41 Q124.811 570.41 126.617 566.868 Q128.445 563.303 128.445 556.197 Q128.445 549.067 126.617 545.526 Q124.811 541.961 121.177 541.961 M121.177 538.257 Q126.987 538.257 130.043 542.864 Q133.121 547.447 133.121 556.197 Q133.121 564.924 130.043 569.53 Q126.987 574.114 121.177 574.114 Q115.367 574.114 112.288 569.53 Q109.233 564.924 109.233 556.197 Q109.233 547.447 112.288 542.864 Q115.367 538.257 121.177 538.257 Z\" fill=\"#000000\" fill-rule=\"evenodd\" fill-opacity=\"1\" /><path clip-path=\"url(#clip930)\" d=\"M 0 0 M51.6634 288.596 L59.3023 288.596 L59.3023 262.23 L50.9921 263.897 L50.9921 259.637 L59.256 257.971 L63.9319 257.971 L63.9319 288.596 L71.5707 288.596 L71.5707 292.531 L51.6634 292.531 L51.6634 288.596 Z\" fill=\"#000000\" fill-rule=\"evenodd\" fill-opacity=\"1\" /><path clip-path=\"url(#clip930)\" d=\"M 0 0 M91.0151 276.119 Q87.6817 276.119 85.7605 277.901 Q83.8623 279.684 83.8623 282.809 Q83.8623 285.933 85.7605 287.716 Q87.6817 289.498 91.0151 289.498 Q94.3484 289.498 96.2697 287.716 Q98.1909 285.91 98.1909 282.809 Q98.1909 279.684 96.2697 277.901 Q94.3715 276.119 91.0151 276.119 M86.3392 274.128 Q83.3299 273.387 81.6401 271.327 Q79.9735 269.267 79.9735 266.304 Q79.9735 262.16 82.9133 259.753 Q85.8762 257.346 91.0151 257.346 Q96.1771 257.346 99.1169 259.753 Q102.057 262.16 102.057 266.304 Q102.057 269.267 100.367 271.327 Q98.7002 273.387 95.7141 274.128 Q99.0937 274.915 100.969 277.207 Q102.867 279.498 102.867 282.809 Q102.867 287.832 99.7882 290.517 Q96.7326 293.202 91.0151 293.202 Q85.2975 293.202 82.2188 290.517 Q79.1633 287.832 79.1633 282.809 Q79.1633 279.498 81.0614 277.207 Q82.9595 274.915 86.3392 274.128 M84.6262 266.744 Q84.6262 269.429 86.2929 270.934 Q87.9827 272.438 91.0151 272.438 Q94.0243 272.438 95.7141 270.934 Q97.4271 269.429 97.4271 266.744 Q97.4271 264.059 95.7141 262.554 Q94.0243 261.049 91.0151 261.049 Q87.9827 261.049 86.2929 262.554 Q84.6262 264.059 84.6262 266.744 Z\" fill=\"#000000\" fill-rule=\"evenodd\" fill-opacity=\"1\" /><path clip-path=\"url(#clip930)\" d=\"M 0 0 M121.177 261.049 Q117.566 261.049 115.737 264.614 Q113.932 268.156 113.932 275.285 Q113.932 282.392 115.737 285.957 Q117.566 289.498 121.177 289.498 Q124.811 289.498 126.617 285.957 Q128.445 282.392 128.445 275.285 Q128.445 268.156 126.617 264.614 Q124.811 261.049 121.177 261.049 M121.177 257.346 Q126.987 257.346 130.043 261.952 Q133.121 266.535 133.121 275.285 Q133.121 284.012 130.043 288.619 Q126.987 293.202 121.177 293.202 Q115.367 293.202 112.288 288.619 Q109.233 284.012 109.233 275.285 Q109.233 266.535 112.288 261.952 Q115.367 257.346 121.177 257.346 Z\" fill=\"#000000\" fill-rule=\"evenodd\" fill-opacity=\"1\" /><polyline clip-path=\"url(#clip932)\" style=\"stroke:#009af9; stroke-width:4; stroke-opacity:1; fill:none\" points=\"\n",
       "  230.922,1445.72 272.964,1146.08 315.005,1146.08 357.047,1146.08 399.088,284.614 441.13,284.614 483.171,87.9763 525.213,87.9763 567.254,87.9763 609.296,87.9763 \n",
       "  651.337,87.9763 693.379,87.9763 735.42,87.9763 777.462,87.9763 819.503,87.9763 861.545,87.9763 903.586,87.9763 945.627,87.9763 987.669,87.9763 1029.71,87.9763 \n",
       "  1071.75,87.9763 1113.79,87.9763 1155.83,87.9763 1197.88,87.9763 1239.92,87.9763 1281.96,87.9763 1324,87.9763 1366.04,87.9763 1408.08,87.9763 1450.13,87.9763 \n",
       "  1492.17,87.9763 1534.21,87.9763 1576.25,87.9763 1618.29,87.9763 1660.33,87.9763 1702.37,87.9763 1744.42,87.9763 1786.46,87.9763 1828.5,87.9763 1870.54,87.9763 \n",
       "  1912.58,87.9763 1954.62,87.9763 1996.66,87.9763 2038.71,87.9763 2080.75,87.9763 2122.79,87.9763 2164.83,87.9763 2206.87,87.9763 2248.91,87.9763 2290.95,87.9763 \n",
       "  \n",
       "  \"/>\n",
       "<path clip-path=\"url(#clip930)\" d=\"\n",
       "M1984.91 216.178 L2279.97 216.178 L2279.97 95.2176 L1984.91 95.2176  Z\n",
       "  \" fill=\"#ffffff\" fill-rule=\"evenodd\" fill-opacity=\"1\"/>\n",
       "<polyline clip-path=\"url(#clip930)\" style=\"stroke:#000000; stroke-width:4; stroke-opacity:1; fill:none\" points=\"\n",
       "  1984.91,216.178 2279.97,216.178 2279.97,95.2176 1984.91,95.2176 1984.91,216.178 \n",
       "  \"/>\n",
       "<polyline clip-path=\"url(#clip930)\" style=\"stroke:#009af9; stroke-width:4; stroke-opacity:1; fill:none\" points=\"\n",
       "  2009.17,155.698 2154.75,155.698 \n",
       "  \"/>\n",
       "<path clip-path=\"url(#clip930)\" d=\"M 0 0 M2192.86 175.385 Q2191.05 180.015 2189.34 181.427 Q2187.62 182.839 2184.75 182.839 L2181.35 182.839 L2181.35 179.274 L2183.85 179.274 Q2185.61 179.274 2186.58 178.44 Q2187.55 177.607 2188.73 174.505 L2189.5 172.561 L2179.01 147.052 L2183.53 147.052 L2191.63 167.329 L2199.73 147.052 L2204.24 147.052 L2192.86 175.385 Z\" fill=\"#000000\" fill-rule=\"evenodd\" fill-opacity=\"1\" /><path clip-path=\"url(#clip930)\" d=\"M 0 0 M2211.54 169.042 L2219.17 169.042 L2219.17 142.677 L2210.86 144.343 L2210.86 140.084 L2219.13 138.418 L2223.8 138.418 L2223.8 169.042 L2231.44 169.042 L2231.44 172.978 L2211.54 172.978 L2211.54 169.042 Z\" fill=\"#000000\" fill-rule=\"evenodd\" fill-opacity=\"1\" /></svg>\n"
      ]
     },
     "execution_count": 28,
     "metadata": {},
     "output_type": "execute_result"
    }
   ],
   "source": [
    "fits, expert = ES(layers, 50, play_cartpole, 5)\n",
    "plot(fits)"
   ]
  },
  {
   "cell_type": "code",
   "execution_count": 98,
   "id": "5e3faf9b",
   "metadata": {},
   "outputs": [
    {
     "data": {
      "text/plain": [
       "200.0"
      ]
     },
     "execution_count": 98,
     "metadata": {},
     "output_type": "execute_result"
    }
   ],
   "source": [
    "play_cartpole(expert, true)"
   ]
  }
 ],
 "metadata": {
  "celltoolbar": "Diaporama",
  "kernelspec": {
   "display_name": "Julia 1.6.0",
   "language": "julia",
   "name": "julia-1.6"
  },
  "language_info": {
   "file_extension": ".jl",
   "mimetype": "application/julia",
   "name": "julia",
   "version": "1.6.0"
  }
 },
 "nbformat": 4,
 "nbformat_minor": 5
}
